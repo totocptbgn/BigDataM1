{
 "cells": [
  {
   "cell_type": "markdown",
   "metadata": {
    "format": "text/markdown"
   },
   "source": [
    "\n",
    "\n",
    "# Propaganda, start the `spark` session\n",
    "\n",
    "> For SQL users, Spark SQL provides state-of-the-art SQL performance and maintains compatibility with Shark/Hive. In particular, like Shark, Spark SQL supports all existing Hive data formats, user-defined functions (UDF), and the Hive metastore.\n",
    "\n",
    "> For Spark users, Spark SQL becomes the narrow-waist for manipulating (semi-) structured data as well as ingesting data from sources that provide schema, such as JSON, Parquet, Hive, or EDWs. It truly unifies SQL and sophisticated analysis, allowing users to mix and match SQL and more imperative programming APIs for advanced analytics.\n",
    "\n",
    "> For open source hackers, Spark SQL proposes a novel, elegant way of building query planners. It is incredibly easy to add new optimizations under this framework.\n",
    "\n",
    "> Internally, a structured query is a Catalyst tree of (logical and physical) relational operators and expressions.\n",
    "\n",
    "\n"
   ]
  },
  {
   "cell_type": "code",
   "execution_count": 91,
   "metadata": {
    "ExecuteTime": {
     "end_time": "2022-02-16T12:11:41.676007Z",
     "start_time": "2022-02-16T12:11:41.234381Z"
    },
    "autoscroll": "auto",
    "options": {
     "caption": false,
     "complete": true,
     "display_data": true,
     "display_stream": true,
     "dpi": 200,
     "echo": true,
     "evaluate": false,
     "f_env": null,
     "f_pos": "htpb",
     "f_size": [
      6,
      4
     ],
     "f_spines": true,
     "fig": true,
     "include": true,
     "name": null,
     "option_string": "evaluate=False",
     "results": "verbatim",
     "term": false,
     "wrap": "output"
    }
   },
   "outputs": [],
   "source": [
    "# import the usual suspects\n",
    "import pandas as pd\n",
    "import numpy as np\n",
    "import matplotlib.pyplot as plt\n",
    "import plotly.express as px\n",
    "import os\n",
    "from pathlib import Path\n",
    "import sys\n",
    "import timeit\n",
    "\n",
    "%matplotlib inline\n",
    "import seaborn as sns\n",
    "\n",
    "sns.set_context(\"notebook\", font_scale=1.2)"
   ]
  },
  {
   "cell_type": "markdown",
   "metadata": {
    "format": "text/markdown"
   },
   "source": [
    "During the session, we will use classes and functions exported by `pyspark`\n"
   ]
  },
  {
   "cell_type": "code",
   "execution_count": 2,
   "metadata": {
    "ExecuteTime": {
     "end_time": "2022-02-16T08:27:48.270682Z",
     "start_time": "2022-02-16T08:27:48.090551Z"
    },
    "autoscroll": "auto",
    "options": {
     "caption": false,
     "complete": true,
     "display_data": true,
     "display_stream": true,
     "dpi": 200,
     "echo": true,
     "evaluate": false,
     "f_env": null,
     "f_pos": "htpb",
     "f_size": [
      6,
      4
     ],
     "f_spines": true,
     "fig": true,
     "include": true,
     "name": null,
     "option_string": "evaluate=False",
     "results": "verbatim",
     "term": false,
     "wrap": "output"
    }
   },
   "outputs": [],
   "source": [
    "# spark\n",
    "from pyspark import SparkConf, SparkContext\n",
    "from pyspark.sql import SparkSession\n",
    "from pyspark.sql import Window\n",
    "from pyspark.sql.functions import col\n",
    "import pyspark.sql.functions as fn\n",
    "from pyspark.sql.catalog import Catalog\n",
    "from pyspark.sql.types import StructType, StructField\n",
    "from pyspark.sql.types import IntegerType, StringType"
   ]
  },
  {
   "cell_type": "markdown",
   "metadata": {},
   "source": [
    "Start the `SparkSession`"
   ]
  },
  {
   "cell_type": "code",
   "execution_count": 3,
   "metadata": {
    "ExecuteTime": {
     "end_time": "2022-02-16T08:27:59.132223Z",
     "start_time": "2022-02-16T08:27:48.279132Z"
    },
    "autoscroll": "auto",
    "options": {
     "caption": false,
     "complete": true,
     "display_data": true,
     "display_stream": true,
     "dpi": 200,
     "echo": true,
     "evaluate": false,
     "f_env": null,
     "f_pos": "htpb",
     "f_size": [
      6,
      4
     ],
     "f_spines": true,
     "fig": true,
     "include": true,
     "name": null,
     "option_string": "evaluate=False",
     "results": "verbatim",
     "term": false,
     "wrap": "output"
    }
   },
   "outputs": [],
   "source": [
    "conf = SparkConf().setAppName(\"Spark SQL Illustrations\")\n",
    "sc = SparkContext(conf=conf)\n",
    "\n",
    "spark = (SparkSession\n",
    "    .builder\n",
    "    .appName(\"Spark SQL\")\n",
    "    .getOrCreate()\n",
    ")"
   ]
  },
  {
   "cell_type": "markdown",
   "metadata": {
    "format": "text/markdown"
   },
   "source": [
    "US Baby Names 1880-2017\n",
    "=======================\n",
    "\n",
    "\n",
    "Description\n",
    ": US baby names provided by the SSA. \n",
    "\n",
    "This dataset contains all names used\n",
    "for at least 5 children of either sex during a year. \n",
    "\n",
    "\n",
    "The file is made of `1924665` lines and  4 columns.\n",
    "\n",
    "```\n",
    "|-- name: string (nullable = true)\n",
    "|-- n: integer (nullable = true)\n",
    "|-- sex: string (nullable = true)\n",
    "|-- year: integer (nullable = true)\n",
    "```\n",
    "\n",
    "Each row indicates for a given name, sex, and year the number of babies \n",
    "of the given sex who were given that name during the given year. Names \n",
    "with less than 5 occurrences during the year were note recorded. \n",
    "\n",
    "|    name|  n|sex|year|\n",
    "|:--------|:---:|:---:|:----:|\n",
    "|  Emilia|112|  F|1985|\n",
    "|   Kelsi|112|  F|1985|\n",
    "|  Margot|112|  F|1985|\n",
    "|  Mariam|112|  F|1985|\n",
    "|Scarlett|112|  F|1985|\n",
    "\n",
    "First, we download the data if it's not there yet"
   ]
  },
  {
   "cell_type": "code",
   "execution_count": 4,
   "metadata": {
    "ExecuteTime": {
     "end_time": "2022-02-16T08:27:59.283123Z",
     "start_time": "2022-02-16T08:27:59.134535Z"
    }
   },
   "outputs": [],
   "source": [
    "import requests, zipfile, io\n",
    "from pathlib import Path\n",
    "\n",
    "path = Path('babynames_short.csv')\n",
    "if not path.exists():\n",
    "    url = \"https://stephanegaiffas.github.io/big_data_course/data/babynames_short.csv.zip\"\n",
    "    r = requests.get(url)\n",
    "    z = zipfile.ZipFile(io.BytesIO(r.content))\n",
    "    z.extractall(path='./')"
   ]
  },
  {
   "cell_type": "markdown",
   "metadata": {
    "format": "text/markdown"
   },
   "source": [
    "Load `babynames` from a `csv` file"
   ]
  },
  {
   "cell_type": "code",
   "execution_count": 5,
   "metadata": {
    "ExecuteTime": {
     "end_time": "2022-02-16T08:28:10.562940Z",
     "start_time": "2022-02-16T08:27:59.293408Z"
    },
    "autoscroll": "auto",
    "options": {
     "caption": false,
     "complete": true,
     "display_data": true,
     "display_stream": true,
     "dpi": 200,
     "echo": true,
     "evaluate": false,
     "f_env": null,
     "f_pos": "htpb",
     "f_size": [
      6,
      4
     ],
     "f_spines": true,
     "fig": true,
     "include": true,
     "name": null,
     "option_string": "evaluate=False",
     "results": "verbatim",
     "term": false,
     "wrap": "output"
    },
    "scrolled": false
   },
   "outputs": [
    {
     "name": "stdout",
     "output_type": "stream",
     "text": [
      "root\n",
      " |-- name: string (nullable = true)\n",
      " |-- n: integer (nullable = true)\n",
      " |-- sex: string (nullable = true)\n",
      " |-- year: double (nullable = true)\n",
      "\n"
     ]
    }
   ],
   "source": [
    "df_sp = spark.read\\\n",
    "             .format('csv')\\\n",
    "             .option(\"header\", \"true\")\\\n",
    "             .option(\"mode\", \"FAILFAST\")\\\n",
    "             .option(\"inferSchema\", \"true\")\\\n",
    "             .option(\"sep\", \",\")\\\n",
    "             .load(\"babynames_short.csv\")\n",
    "\n",
    "df_sp.printSchema()"
   ]
  },
  {
   "cell_type": "markdown",
   "metadata": {
    "format": "text/markdown"
   },
   "source": [
    "\n",
    "Ensure that the dataframe has the following schema:\n",
    "\n",
    "    root\n",
    "        |-- name: string (nullable = true)\n",
    "        |-- n: integer (nullable = true)\n",
    "        |-- sex: string (nullable = true)\n",
    "        |-- year: integer (nullable = true)\n",
    "\n",
    "\n"
   ]
  },
  {
   "cell_type": "markdown",
   "metadata": {
    "format": "text/markdown"
   },
   "source": [
    "SQL versus spark-Dataframe API\n",
    "=================================\n",
    "\n",
    ">  Dataset API vs SQL\n",
    "\n",
    "> Spark SQL supports two \"modes\" to write structured queries: Dataset API and SQL. SQL Mode is used to express structured queries using SQL statements using SparkSession.sql operator, expr standard function and spark-sql command-line tool.\n",
    "\n",
    "> Some structured queries can be expressed much easier using Dataset API, but there are some that are only possible in SQL. In other words, you may find mixing Dataset API and SQL modes challenging yet rewarding.\n",
    "\n",
    "> What is important, and one of the reasons why Spark SQL has been so successful, is that there is no performance difference between the modes. Whatever mode you use to write your structured queries, they all end up as a tree of Catalyst relational data structures. And, yes, you could consider writing structured queries using Catalyst directly, but that could quickly become unwieldy for maintenance (i.e. finding Spark SQL developers who could be comfortable with it as well as being fairly low-level and therefore possibly too dependent on a specific Spark SQL version).\n",
    "\n",
    "Warmup:  compute the 10 most popular names given to babies in year 2000.\n",
    "======================================================================\n",
    "\n",
    "## Using `spark.sql()`\n",
    "\n",
    "In order to use mode `sql`, create a temporary view from the `DataFrame`.\n",
    "\n",
    "1. What are temporary views made of?\n",
    "1. Are there other kind of views in spark's world?"
   ]
  },
  {
   "cell_type": "code",
   "execution_count": 6,
   "metadata": {
    "ExecuteTime": {
     "end_time": "2022-02-16T08:28:10.824307Z",
     "start_time": "2022-02-16T08:28:10.568320Z"
    },
    "autoscroll": "auto",
    "options": {
     "caption": false,
     "complete": true,
     "display_data": true,
     "display_stream": true,
     "dpi": 200,
     "echo": true,
     "evaluate": false,
     "f_env": null,
     "f_pos": "htpb",
     "f_size": [
      6,
      4
     ],
     "f_spines": true,
     "fig": true,
     "include": true,
     "name": null,
     "option_string": "evaluate=False",
     "results": "verbatim",
     "term": false,
     "wrap": "output"
    }
   },
   "outputs": [
    {
     "data": {
      "text/plain": [
       "[]"
      ]
     },
     "execution_count": 6,
     "metadata": {},
     "output_type": "execute_result"
    }
   ],
   "source": [
    "Catalog(spark).listTables()"
   ]
  },
  {
   "cell_type": "code",
   "execution_count": 12,
   "metadata": {
    "ExecuteTime": {
     "end_time": "2022-02-16T08:57:10.829150Z",
     "start_time": "2022-02-16T08:57:10.469729Z"
    }
   },
   "outputs": [
    {
     "data": {
      "text/plain": [
       "[Table(name='temp_view', database=None, description=None, tableType='TEMPORARY', isTemporary=True)]"
      ]
     },
     "execution_count": 12,
     "metadata": {},
     "output_type": "execute_result"
    }
   ],
   "source": [
    "df_sp.createOrReplaceTempView(\"temp_view\")\n",
    "Catalog(spark).listTables()"
   ]
  },
  {
   "cell_type": "markdown",
   "metadata": {
    "format": "text/markdown"
   },
   "source": [
    "\n",
    "## A query is a plain SQL query embodied in a string.\n",
    "\n"
   ]
  },
  {
   "cell_type": "code",
   "execution_count": 13,
   "metadata": {
    "ExecuteTime": {
     "end_time": "2022-02-16T08:57:21.420706Z",
     "start_time": "2022-02-16T08:57:21.410984Z"
    },
    "autoscroll": "auto",
    "options": {
     "caption": false,
     "complete": true,
     "display_data": true,
     "display_stream": true,
     "dpi": 200,
     "echo": true,
     "evaluate": false,
     "f_env": null,
     "f_pos": "htpb",
     "f_size": [
      6,
      4
     ],
     "f_spines": true,
     "fig": true,
     "include": true,
     "name": null,
     "option_string": "evaluate=False",
     "results": "verbatim",
     "term": false,
     "wrap": "output"
    }
   },
   "outputs": [],
   "source": [
    "query = \"\"\"TODO: \"\"\"\n",
    "\n",
    "#spark.sql(query)"
   ]
  },
  {
   "cell_type": "markdown",
   "metadata": {
    "format": "text/markdown"
   },
   "source": [
    "\n",
    "> This phrasing is not consistent with the DRY principle. Fix this using formatted strings.\n",
    "\n",
    "## Using the dataframe/dataset API\n",
    "\n",
    "This can also be done using Spark SQL API.\n",
    "\n",
    "### Pedestrian approach\n",
    "\n",
    "1. First select `10` most popular names for girls in year `2000`, define `spark` dataframe\n",
    "`top10_2000_f`.\n",
    "1. Does the definition of `top10_2000_f` involve _transformations_, _actions_ or both?\n",
    "1. What is the type of the result returned by `top10_2000_f.take(2)`? the type of elements of the result?\n",
    "\n"
   ]
  },
  {
   "cell_type": "code",
   "execution_count": 29,
   "metadata": {
    "ExecuteTime": {
     "end_time": "2022-02-16T09:22:07.039111Z",
     "start_time": "2022-02-16T09:22:05.268419Z"
    },
    "autoscroll": "auto",
    "options": {
     "caption": false,
     "complete": true,
     "display_data": true,
     "display_stream": true,
     "dpi": 200,
     "echo": true,
     "evaluate": false,
     "f_env": null,
     "f_pos": "htpb",
     "f_size": [
      6,
      4
     ],
     "f_spines": true,
     "fig": true,
     "include": true,
     "name": null,
     "option_string": "evaluate=False",
     "results": "verbatim",
     "term": false,
     "wrap": "output"
    }
   },
   "outputs": [
    {
     "name": "stdout",
     "output_type": "stream",
     "text": [
      "+---------+-----+---+------+\n",
      "|     name|    n|sex|  year|\n",
      "+---------+-----+---+------+\n",
      "|    Emily|25953|  F|2000.0|\n",
      "|   Hannah|23080|  F|2000.0|\n",
      "|  Madison|19967|  F|2000.0|\n",
      "|   Ashley|17997|  F|2000.0|\n",
      "|    Sarah|17697|  F|2000.0|\n",
      "|   Alexis|17629|  F|2000.0|\n",
      "| Samantha|17266|  F|2000.0|\n",
      "|  Jessica|15709|  F|2000.0|\n",
      "|Elizabeth|15094|  F|2000.0|\n",
      "|   Taylor|15078|  F|2000.0|\n",
      "+---------+-----+---+------+\n",
      "\n"
     ]
    }
   ],
   "source": [
    "top10_2000_f = df_sp.where('year = 2000').where(\"sex == 'F'\").orderBy(df_sp.n.desc()).limit(10)\n",
    "top10_2000_f.show()"
   ]
  },
  {
   "cell_type": "markdown",
   "metadata": {
    "format": "text/markdown"
   },
   "source": [
    "\n",
    "1. Do the same thing for boys.\n",
    "\n"
   ]
  },
  {
   "cell_type": "code",
   "execution_count": 30,
   "metadata": {
    "ExecuteTime": {
     "end_time": "2022-02-16T09:22:08.880460Z",
     "start_time": "2022-02-16T09:22:07.053123Z"
    },
    "autoscroll": "auto",
    "options": {
     "caption": false,
     "complete": true,
     "display_data": true,
     "display_stream": true,
     "dpi": 200,
     "echo": true,
     "evaluate": false,
     "f_env": null,
     "f_pos": "htpb",
     "f_size": [
      6,
      4
     ],
     "f_spines": true,
     "fig": true,
     "include": true,
     "name": null,
     "option_string": "evaluate=False",
     "results": "verbatim",
     "term": false,
     "wrap": "output"
    }
   },
   "outputs": [
    {
     "name": "stdout",
     "output_type": "stream",
     "text": [
      "+-----------+-----+---+------+\n",
      "|       name|    n|sex|  year|\n",
      "+-----------+-----+---+------+\n",
      "|      Jacob|34471|  M|2000.0|\n",
      "|    Michael|32035|  M|2000.0|\n",
      "|    Matthew|28572|  M|2000.0|\n",
      "|     Joshua|27538|  M|2000.0|\n",
      "|Christopher|24931|  M|2000.0|\n",
      "|   Nicholas|24652|  M|2000.0|\n",
      "|     Andrew|23639|  M|2000.0|\n",
      "|     Joseph|22825|  M|2000.0|\n",
      "|     Daniel|22312|  M|2000.0|\n",
      "|      Tyler|21503|  M|2000.0|\n",
      "+-----------+-----+---+------+\n",
      "\n"
     ]
    }
   ],
   "source": [
    "top10_2000_m = df_sp.where('year = 2000').where(\"sex == 'M'\").orderBy(df_sp.n.desc()).limit(10)\n",
    "top10_2000_m.show()"
   ]
  },
  {
   "cell_type": "markdown",
   "metadata": {
    "format": "text/markdown"
   },
   "source": [
    "\n",
    "1. Compute the _union_ of the two spark dataframes. Store the result in\n",
    "dataframe `top10_2000`\n",
    "\n"
   ]
  },
  {
   "cell_type": "code",
   "execution_count": 31,
   "metadata": {
    "ExecuteTime": {
     "end_time": "2022-02-16T09:22:15.745101Z",
     "start_time": "2022-02-16T09:22:12.447898Z"
    },
    "autoscroll": "auto",
    "options": {
     "caption": false,
     "complete": true,
     "display_data": true,
     "display_stream": true,
     "dpi": 200,
     "echo": true,
     "evaluate": false,
     "f_env": null,
     "f_pos": "htpb",
     "f_size": [
      6,
      4
     ],
     "f_spines": true,
     "fig": true,
     "include": true,
     "name": null,
     "option_string": "evaluate=False",
     "results": "verbatim",
     "term": false,
     "wrap": "output"
    }
   },
   "outputs": [
    {
     "name": "stdout",
     "output_type": "stream",
     "text": [
      "+-----------+-----+---+------+\n",
      "|       name|    n|sex|  year|\n",
      "+-----------+-----+---+------+\n",
      "|      Jacob|34471|  M|2000.0|\n",
      "|    Michael|32035|  M|2000.0|\n",
      "|    Matthew|28572|  M|2000.0|\n",
      "|     Joshua|27538|  M|2000.0|\n",
      "|Christopher|24931|  M|2000.0|\n",
      "|   Nicholas|24652|  M|2000.0|\n",
      "|     Andrew|23639|  M|2000.0|\n",
      "|     Joseph|22825|  M|2000.0|\n",
      "|     Daniel|22312|  M|2000.0|\n",
      "|      Tyler|21503|  M|2000.0|\n",
      "|      Emily|25953|  F|2000.0|\n",
      "|     Hannah|23080|  F|2000.0|\n",
      "|    Madison|19967|  F|2000.0|\n",
      "|     Ashley|17997|  F|2000.0|\n",
      "|      Sarah|17697|  F|2000.0|\n",
      "|     Alexis|17629|  F|2000.0|\n",
      "|   Samantha|17266|  F|2000.0|\n",
      "|    Jessica|15709|  F|2000.0|\n",
      "|  Elizabeth|15094|  F|2000.0|\n",
      "|     Taylor|15078|  F|2000.0|\n",
      "+-----------+-----+---+------+\n",
      "\n"
     ]
    }
   ],
   "source": [
    "top10_2000 = top10_2000_m.union(top10_2000_f)\n",
    "top10_2000.show()"
   ]
  },
  {
   "cell_type": "markdown",
   "metadata": {
    "format": "text/markdown"
   },
   "source": [
    "\n",
    "### Do it again, complying  with DRY principle\n",
    "\n"
   ]
  },
  {
   "cell_type": "code",
   "execution_count": 35,
   "metadata": {
    "ExecuteTime": {
     "end_time": "2022-02-16T09:24:34.645754Z",
     "start_time": "2022-02-16T09:24:32.976926Z"
    },
    "autoscroll": "auto",
    "options": {
     "caption": false,
     "complete": true,
     "display_data": true,
     "display_stream": true,
     "dpi": 200,
     "echo": true,
     "evaluate": false,
     "f_env": null,
     "f_pos": "htpb",
     "f_size": [
      6,
      4
     ],
     "f_spines": true,
     "fig": true,
     "include": true,
     "name": null,
     "option_string": "evaluate=False",
     "results": "verbatim",
     "term": false,
     "wrap": "output"
    }
   },
   "outputs": [
    {
     "name": "stdout",
     "output_type": "stream",
     "text": [
      "+---------+-----+---+------+\n",
      "|     name|    n|sex|  year|\n",
      "+---------+-----+---+------+\n",
      "|    Emily|25953|  F|2000.0|\n",
      "|   Hannah|23080|  F|2000.0|\n",
      "|  Madison|19967|  F|2000.0|\n",
      "|   Ashley|17997|  F|2000.0|\n",
      "|    Sarah|17697|  F|2000.0|\n",
      "|   Alexis|17629|  F|2000.0|\n",
      "| Samantha|17266|  F|2000.0|\n",
      "|  Jessica|15709|  F|2000.0|\n",
      "|Elizabeth|15094|  F|2000.0|\n",
      "|   Taylor|15078|  F|2000.0|\n",
      "+---------+-----+---+------+\n",
      "\n"
     ]
    }
   ],
   "source": [
    "query = \"\"\"\n",
    "    SELECT *\n",
    "    FROM temp_view\n",
    "    WHERE year = 2000 AND sex = 'F'\n",
    "    ORDER BY n DESC\n",
    "    LIMIT 10;\n",
    "\"\"\"\n",
    "\n",
    "spark.sql(query).show()"
   ]
  },
  {
   "cell_type": "markdown",
   "metadata": {
    "format": "text/markdown"
   },
   "source": [
    "\n",
    "\n",
    "Name portfolio through ages\n",
    "===========================\n",
    "\n",
    "1. Compute for each year and sex the number of distinct names given that year.\n",
    "\n"
   ]
  },
  {
   "cell_type": "code",
   "execution_count": 41,
   "metadata": {
    "ExecuteTime": {
     "end_time": "2022-02-16T09:46:38.398104Z",
     "start_time": "2022-02-16T09:46:36.196661Z"
    },
    "autoscroll": "auto",
    "options": {
     "caption": false,
     "complete": true,
     "display_data": true,
     "display_stream": true,
     "dpi": 200,
     "echo": true,
     "evaluate": false,
     "f_env": null,
     "f_pos": "htpb",
     "f_size": [
      6,
      4
     ],
     "f_spines": true,
     "fig": true,
     "include": true,
     "name": null,
     "option_string": "evaluate=False",
     "results": "verbatim",
     "term": false,
     "wrap": "output"
    }
   },
   "outputs": [
    {
     "name": "stdout",
     "output_type": "stream",
     "text": [
      "+------+---+-----+\n",
      "|  year|sex|count|\n",
      "+------+---+-----+\n",
      "|1930.0|  M| 4541|\n",
      "|1935.0|  M| 4145|\n",
      "|1903.0|  F| 2083|\n",
      "|1956.0|  F| 6885|\n",
      "|1892.0|  M| 1260|\n",
      "|1995.0|  M|10327|\n",
      "|1966.0|  M| 4536|\n",
      "|2006.0|  M|14032|\n",
      "|1970.0|  F| 9350|\n",
      "|1889.0|  M| 1111|\n",
      "|1924.0|  M| 4970|\n",
      "|1973.0|  M| 5876|\n",
      "|2008.0|  F|20457|\n",
      "|1911.0|  M| 1999|\n",
      "|1951.0|  M| 4251|\n",
      "|1921.0|  M| 4986|\n",
      "|1934.0|  F| 4973|\n",
      "|1898.0|  M| 1289|\n",
      "|1910.0|  M| 1839|\n",
      "|1953.0|  F| 6499|\n",
      "+------+---+-----+\n",
      "only showing top 20 rows\n",
      "\n"
     ]
    }
   ],
   "source": [
    "nb_names_year_sex = df_sp.groupby(df_sp['year'], df_sp['sex']).count()\n",
    "nb_names_year_sex.show()"
   ]
  },
  {
   "cell_type": "markdown",
   "metadata": {
    "format": "text/markdown"
   },
   "source": [
    "\n",
    "1. Plot the evolution of the number of distinct names as a function of `year`.\n",
    "Use some aesthetics to distinguish sexes.\n",
    "\n",
    "\n"
   ]
  },
  {
   "cell_type": "code",
   "execution_count": 97,
   "metadata": {
    "ExecuteTime": {
     "end_time": "2022-02-16T12:14:20.426560Z",
     "start_time": "2022-02-16T12:14:17.820641Z"
    },
    "autoscroll": "auto",
    "options": {
     "caption": false,
     "complete": true,
     "display_data": true,
     "display_stream": true,
     "dpi": 200,
     "echo": true,
     "evaluate": false,
     "f_env": null,
     "f_pos": "htpb",
     "f_size": [
      6,
      4
     ],
     "f_spines": true,
     "fig": true,
     "include": true,
     "name": null,
     "option_string": "evaluate=False",
     "results": "verbatim",
     "term": false,
     "wrap": "output"
    }
   },
   "outputs": [
    {
     "name": "stdout",
     "output_type": "stream",
     "text": [
      "+------+---+-----+\n",
      "|  year|sex|count|\n",
      "+------+---+-----+\n",
      "|1880.0|  M| 1058|\n",
      "|1880.0|  F|  942|\n",
      "|1881.0|  F|  938|\n",
      "|1881.0|  M|  997|\n",
      "|1882.0|  F| 1028|\n",
      "|1882.0|  M| 1099|\n",
      "|1883.0|  M| 1030|\n",
      "|1883.0|  F| 1054|\n",
      "|1884.0|  F| 1172|\n",
      "|1884.0|  M| 1125|\n",
      "|1885.0|  F| 1197|\n",
      "|1885.0|  M| 1097|\n",
      "|1886.0|  F| 1282|\n",
      "|1886.0|  M| 1110|\n",
      "|1887.0|  M| 1067|\n",
      "|1887.0|  F| 1306|\n",
      "|1888.0|  F| 1474|\n",
      "|1888.0|  M| 1177|\n",
      "|1889.0|  M| 1111|\n",
      "|1889.0|  F| 1479|\n",
      "+------+---+-----+\n",
      "only showing top 20 rows\n",
      "\n"
     ]
    }
   ],
   "source": [
    "nb_distinct_name_year = df_sp.groupBy('year', 'sex').count().orderBy('year')"
   ]
  },
  {
   "cell_type": "code",
   "execution_count": 106,
   "metadata": {
    "ExecuteTime": {
     "end_time": "2022-02-18T09:40:08.712807Z",
     "start_time": "2022-02-18T09:40:07.840795Z"
    }
   },
   "outputs": [
    {
     "data": {
      "application/vnd.plotly.v1+json": {
       "config": {
        "plotlyServerURL": "https://plot.ly"
       },
       "data": [
        {
         "hovertemplate": "Sex=F<br>Year=%{x}<br>Number of distinct name=%{y}<extra></extra>",
         "legendgroup": "F",
         "line": {
          "color": "#636efa",
          "dash": "solid"
         },
         "mode": "lines",
         "name": "F",
         "orientation": "v",
         "showlegend": true,
         "type": "scatter",
         "x": [
          1880,
          1881,
          1882,
          1883,
          1884,
          1885,
          1886,
          1887,
          1888,
          1889,
          1890,
          1891,
          1892,
          1893,
          1894,
          1895,
          1896,
          1897,
          1898,
          1899,
          1900,
          1901,
          1902,
          1903,
          1904,
          1905,
          1906,
          1907,
          1908,
          1909,
          1910,
          1911,
          1912,
          1913,
          1914,
          1915,
          1916,
          1917,
          1918,
          1919,
          1920,
          1921,
          1922,
          1923,
          1924,
          1925,
          1926,
          1927,
          1928,
          1929,
          1930,
          1931,
          1932,
          1933,
          1934,
          1935,
          1936,
          1937,
          1938,
          1939,
          1940,
          1941,
          1942,
          1943,
          1944,
          1945,
          1946,
          1947,
          1948,
          1949,
          1950,
          1951,
          1952,
          1953,
          1954,
          1955,
          1956,
          1957,
          1958,
          1959,
          1960,
          1961,
          1962,
          1963,
          1964,
          1965,
          1966,
          1967,
          1968,
          1969,
          1970,
          1971,
          1972,
          1973,
          1974,
          1975,
          1976,
          1977,
          1978,
          1979,
          1980,
          1981,
          1982,
          1983,
          1984,
          1985,
          1986,
          1987,
          1988,
          1989,
          1990,
          1991,
          1992,
          1993,
          1994,
          1995,
          1996,
          1997,
          1998,
          1999,
          2000,
          2001,
          2002,
          2003,
          2004,
          2005,
          2006,
          2007,
          2008,
          2009,
          2010,
          2011,
          2012,
          2013,
          2014,
          2015,
          2016,
          2017
         ],
         "xaxis": "x",
         "y": [
          942,
          938,
          1028,
          1054,
          1172,
          1197,
          1282,
          1306,
          1474,
          1479,
          1534,
          1533,
          1661,
          1652,
          1702,
          1808,
          1825,
          1799,
          1975,
          1842,
          2224,
          1943,
          2042,
          2083,
          2165,
          2234,
          2220,
          2399,
          2434,
          2548,
          2790,
          2868,
          3445,
          3707,
          4206,
          4967,
          5162,
          5312,
          5586,
          5559,
          5765,
          5871,
          5789,
          5739,
          5899,
          5771,
          5621,
          5603,
          5436,
          5275,
          5248,
          4977,
          5100,
          4858,
          4973,
          4892,
          4856,
          4927,
          4994,
          4952,
          5025,
          5085,
          5380,
          5368,
          5245,
          5241,
          5686,
          6103,
          6040,
          6065,
          6111,
          6211,
          6391,
          6499,
          6616,
          6725,
          6885,
          7012,
          7022,
          7196,
          7331,
          7529,
          7583,
          7663,
          7803,
          7533,
          7616,
          7849,
          8194,
          8708,
          9350,
          9638,
          9661,
          9805,
          10239,
          10609,
          10900,
          11324,
          11470,
          11967,
          12157,
          12186,
          12327,
          12065,
          12171,
          12500,
          12823,
          13255,
          13877,
          14546,
          15235,
          15459,
          15611,
          15797,
          15751,
          15753,
          15891,
          16160,
          16598,
          16941,
          17653,
          17970,
          18081,
          18430,
          18826,
          19182,
          20050,
          20560,
          20457,
          20179,
          19811,
          19560,
          19498,
          19231,
          19181,
          19074,
          18817,
          18309
         ],
         "yaxis": "y"
        },
        {
         "hovertemplate": "Sex=M<br>Year=%{x}<br>Number of distinct name=%{y}<extra></extra>",
         "legendgroup": "M",
         "line": {
          "color": "#EF553B",
          "dash": "solid"
         },
         "mode": "lines",
         "name": "M",
         "orientation": "v",
         "showlegend": true,
         "type": "scatter",
         "x": [
          1880,
          1881,
          1882,
          1883,
          1884,
          1885,
          1886,
          1887,
          1888,
          1889,
          1890,
          1891,
          1892,
          1893,
          1894,
          1895,
          1896,
          1897,
          1898,
          1899,
          1900,
          1901,
          1902,
          1903,
          1904,
          1905,
          1906,
          1907,
          1908,
          1909,
          1910,
          1911,
          1912,
          1913,
          1914,
          1915,
          1916,
          1917,
          1918,
          1919,
          1920,
          1921,
          1922,
          1923,
          1924,
          1925,
          1926,
          1927,
          1928,
          1929,
          1930,
          1931,
          1932,
          1933,
          1934,
          1935,
          1936,
          1937,
          1938,
          1939,
          1940,
          1941,
          1942,
          1943,
          1944,
          1945,
          1946,
          1947,
          1948,
          1949,
          1950,
          1951,
          1952,
          1953,
          1954,
          1955,
          1956,
          1957,
          1958,
          1959,
          1960,
          1961,
          1962,
          1963,
          1964,
          1965,
          1966,
          1967,
          1968,
          1969,
          1970,
          1971,
          1972,
          1973,
          1974,
          1975,
          1976,
          1977,
          1978,
          1979,
          1980,
          1981,
          1982,
          1983,
          1984,
          1985,
          1986,
          1987,
          1988,
          1989,
          1990,
          1991,
          1992,
          1993,
          1994,
          1995,
          1996,
          1997,
          1998,
          1999,
          2000,
          2001,
          2002,
          2003,
          2004,
          2005,
          2006,
          2007,
          2008,
          2009,
          2010,
          2011,
          2012,
          2013,
          2014,
          2015,
          2016,
          2017
         ],
         "xaxis": "x",
         "y": [
          1058,
          997,
          1099,
          1030,
          1125,
          1097,
          1110,
          1067,
          1177,
          1111,
          1161,
          1127,
          1260,
          1179,
          1239,
          1241,
          1266,
          1229,
          1289,
          1200,
          1506,
          1210,
          1320,
          1306,
          1395,
          1421,
          1413,
          1549,
          1584,
          1679,
          1839,
          1999,
          2906,
          3261,
          3759,
          4390,
          4534,
          4602,
          4813,
          4810,
          4990,
          4986,
          4967,
          4904,
          4970,
          4867,
          4837,
          4803,
          4724,
          4543,
          4541,
          4320,
          4284,
          4154,
          4207,
          4145,
          4037,
          4019,
          4036,
          3967,
          3936,
          4000,
          4045,
          4040,
          3909,
          3783,
          4019,
          4268,
          4199,
          4203,
          4191,
          4251,
          4257,
          4339,
          4352,
          4388,
          4450,
          4552,
          4499,
          4573,
          4590,
          4652,
          4623,
          4619,
          4593,
          4420,
          4536,
          4550,
          4741,
          5040,
          5430,
          5655,
          5750,
          5876,
          6005,
          6335,
          6491,
          6851,
          6759,
          7071,
          7288,
          7286,
          7364,
          7338,
          7332,
          7581,
          7826,
          8148,
          8487,
          9227,
          9484,
          9646,
          9816,
          10169,
          10244,
          10327,
          10532,
          10811,
          11301,
          11609,
          12116,
          12299,
          12482,
          12753,
          13220,
          13364,
          14032,
          14390,
          14613,
          14523,
          14256,
          14343,
          14234,
          14038,
          14047,
          14024,
          14162,
          14160
         ],
         "yaxis": "y"
        }
       ],
       "layout": {
        "legend": {
         "title": {
          "text": "Sex"
         },
         "tracegroupgap": 0
        },
        "template": {
         "data": {
          "bar": [
           {
            "error_x": {
             "color": "#2a3f5f"
            },
            "error_y": {
             "color": "#2a3f5f"
            },
            "marker": {
             "line": {
              "color": "#E5ECF6",
              "width": 0.5
             }
            },
            "type": "bar"
           }
          ],
          "barpolar": [
           {
            "marker": {
             "line": {
              "color": "#E5ECF6",
              "width": 0.5
             }
            },
            "type": "barpolar"
           }
          ],
          "carpet": [
           {
            "aaxis": {
             "endlinecolor": "#2a3f5f",
             "gridcolor": "white",
             "linecolor": "white",
             "minorgridcolor": "white",
             "startlinecolor": "#2a3f5f"
            },
            "baxis": {
             "endlinecolor": "#2a3f5f",
             "gridcolor": "white",
             "linecolor": "white",
             "minorgridcolor": "white",
             "startlinecolor": "#2a3f5f"
            },
            "type": "carpet"
           }
          ],
          "choropleth": [
           {
            "colorbar": {
             "outlinewidth": 0,
             "ticks": ""
            },
            "type": "choropleth"
           }
          ],
          "contour": [
           {
            "colorbar": {
             "outlinewidth": 0,
             "ticks": ""
            },
            "colorscale": [
             [
              0,
              "#0d0887"
             ],
             [
              0.1111111111111111,
              "#46039f"
             ],
             [
              0.2222222222222222,
              "#7201a8"
             ],
             [
              0.3333333333333333,
              "#9c179e"
             ],
             [
              0.4444444444444444,
              "#bd3786"
             ],
             [
              0.5555555555555556,
              "#d8576b"
             ],
             [
              0.6666666666666666,
              "#ed7953"
             ],
             [
              0.7777777777777778,
              "#fb9f3a"
             ],
             [
              0.8888888888888888,
              "#fdca26"
             ],
             [
              1,
              "#f0f921"
             ]
            ],
            "type": "contour"
           }
          ],
          "contourcarpet": [
           {
            "colorbar": {
             "outlinewidth": 0,
             "ticks": ""
            },
            "type": "contourcarpet"
           }
          ],
          "heatmap": [
           {
            "colorbar": {
             "outlinewidth": 0,
             "ticks": ""
            },
            "colorscale": [
             [
              0,
              "#0d0887"
             ],
             [
              0.1111111111111111,
              "#46039f"
             ],
             [
              0.2222222222222222,
              "#7201a8"
             ],
             [
              0.3333333333333333,
              "#9c179e"
             ],
             [
              0.4444444444444444,
              "#bd3786"
             ],
             [
              0.5555555555555556,
              "#d8576b"
             ],
             [
              0.6666666666666666,
              "#ed7953"
             ],
             [
              0.7777777777777778,
              "#fb9f3a"
             ],
             [
              0.8888888888888888,
              "#fdca26"
             ],
             [
              1,
              "#f0f921"
             ]
            ],
            "type": "heatmap"
           }
          ],
          "heatmapgl": [
           {
            "colorbar": {
             "outlinewidth": 0,
             "ticks": ""
            },
            "colorscale": [
             [
              0,
              "#0d0887"
             ],
             [
              0.1111111111111111,
              "#46039f"
             ],
             [
              0.2222222222222222,
              "#7201a8"
             ],
             [
              0.3333333333333333,
              "#9c179e"
             ],
             [
              0.4444444444444444,
              "#bd3786"
             ],
             [
              0.5555555555555556,
              "#d8576b"
             ],
             [
              0.6666666666666666,
              "#ed7953"
             ],
             [
              0.7777777777777778,
              "#fb9f3a"
             ],
             [
              0.8888888888888888,
              "#fdca26"
             ],
             [
              1,
              "#f0f921"
             ]
            ],
            "type": "heatmapgl"
           }
          ],
          "histogram": [
           {
            "marker": {
             "colorbar": {
              "outlinewidth": 0,
              "ticks": ""
             }
            },
            "type": "histogram"
           }
          ],
          "histogram2d": [
           {
            "colorbar": {
             "outlinewidth": 0,
             "ticks": ""
            },
            "colorscale": [
             [
              0,
              "#0d0887"
             ],
             [
              0.1111111111111111,
              "#46039f"
             ],
             [
              0.2222222222222222,
              "#7201a8"
             ],
             [
              0.3333333333333333,
              "#9c179e"
             ],
             [
              0.4444444444444444,
              "#bd3786"
             ],
             [
              0.5555555555555556,
              "#d8576b"
             ],
             [
              0.6666666666666666,
              "#ed7953"
             ],
             [
              0.7777777777777778,
              "#fb9f3a"
             ],
             [
              0.8888888888888888,
              "#fdca26"
             ],
             [
              1,
              "#f0f921"
             ]
            ],
            "type": "histogram2d"
           }
          ],
          "histogram2dcontour": [
           {
            "colorbar": {
             "outlinewidth": 0,
             "ticks": ""
            },
            "colorscale": [
             [
              0,
              "#0d0887"
             ],
             [
              0.1111111111111111,
              "#46039f"
             ],
             [
              0.2222222222222222,
              "#7201a8"
             ],
             [
              0.3333333333333333,
              "#9c179e"
             ],
             [
              0.4444444444444444,
              "#bd3786"
             ],
             [
              0.5555555555555556,
              "#d8576b"
             ],
             [
              0.6666666666666666,
              "#ed7953"
             ],
             [
              0.7777777777777778,
              "#fb9f3a"
             ],
             [
              0.8888888888888888,
              "#fdca26"
             ],
             [
              1,
              "#f0f921"
             ]
            ],
            "type": "histogram2dcontour"
           }
          ],
          "mesh3d": [
           {
            "colorbar": {
             "outlinewidth": 0,
             "ticks": ""
            },
            "type": "mesh3d"
           }
          ],
          "parcoords": [
           {
            "line": {
             "colorbar": {
              "outlinewidth": 0,
              "ticks": ""
             }
            },
            "type": "parcoords"
           }
          ],
          "pie": [
           {
            "automargin": true,
            "type": "pie"
           }
          ],
          "scatter": [
           {
            "marker": {
             "colorbar": {
              "outlinewidth": 0,
              "ticks": ""
             }
            },
            "type": "scatter"
           }
          ],
          "scatter3d": [
           {
            "line": {
             "colorbar": {
              "outlinewidth": 0,
              "ticks": ""
             }
            },
            "marker": {
             "colorbar": {
              "outlinewidth": 0,
              "ticks": ""
             }
            },
            "type": "scatter3d"
           }
          ],
          "scattercarpet": [
           {
            "marker": {
             "colorbar": {
              "outlinewidth": 0,
              "ticks": ""
             }
            },
            "type": "scattercarpet"
           }
          ],
          "scattergeo": [
           {
            "marker": {
             "colorbar": {
              "outlinewidth": 0,
              "ticks": ""
             }
            },
            "type": "scattergeo"
           }
          ],
          "scattergl": [
           {
            "marker": {
             "colorbar": {
              "outlinewidth": 0,
              "ticks": ""
             }
            },
            "type": "scattergl"
           }
          ],
          "scattermapbox": [
           {
            "marker": {
             "colorbar": {
              "outlinewidth": 0,
              "ticks": ""
             }
            },
            "type": "scattermapbox"
           }
          ],
          "scatterpolar": [
           {
            "marker": {
             "colorbar": {
              "outlinewidth": 0,
              "ticks": ""
             }
            },
            "type": "scatterpolar"
           }
          ],
          "scatterpolargl": [
           {
            "marker": {
             "colorbar": {
              "outlinewidth": 0,
              "ticks": ""
             }
            },
            "type": "scatterpolargl"
           }
          ],
          "scatterternary": [
           {
            "marker": {
             "colorbar": {
              "outlinewidth": 0,
              "ticks": ""
             }
            },
            "type": "scatterternary"
           }
          ],
          "surface": [
           {
            "colorbar": {
             "outlinewidth": 0,
             "ticks": ""
            },
            "colorscale": [
             [
              0,
              "#0d0887"
             ],
             [
              0.1111111111111111,
              "#46039f"
             ],
             [
              0.2222222222222222,
              "#7201a8"
             ],
             [
              0.3333333333333333,
              "#9c179e"
             ],
             [
              0.4444444444444444,
              "#bd3786"
             ],
             [
              0.5555555555555556,
              "#d8576b"
             ],
             [
              0.6666666666666666,
              "#ed7953"
             ],
             [
              0.7777777777777778,
              "#fb9f3a"
             ],
             [
              0.8888888888888888,
              "#fdca26"
             ],
             [
              1,
              "#f0f921"
             ]
            ],
            "type": "surface"
           }
          ],
          "table": [
           {
            "cells": {
             "fill": {
              "color": "#EBF0F8"
             },
             "line": {
              "color": "white"
             }
            },
            "header": {
             "fill": {
              "color": "#C8D4E3"
             },
             "line": {
              "color": "white"
             }
            },
            "type": "table"
           }
          ]
         },
         "layout": {
          "annotationdefaults": {
           "arrowcolor": "#2a3f5f",
           "arrowhead": 0,
           "arrowwidth": 1
          },
          "autotypenumbers": "strict",
          "coloraxis": {
           "colorbar": {
            "outlinewidth": 0,
            "ticks": ""
           }
          },
          "colorscale": {
           "diverging": [
            [
             0,
             "#8e0152"
            ],
            [
             0.1,
             "#c51b7d"
            ],
            [
             0.2,
             "#de77ae"
            ],
            [
             0.3,
             "#f1b6da"
            ],
            [
             0.4,
             "#fde0ef"
            ],
            [
             0.5,
             "#f7f7f7"
            ],
            [
             0.6,
             "#e6f5d0"
            ],
            [
             0.7,
             "#b8e186"
            ],
            [
             0.8,
             "#7fbc41"
            ],
            [
             0.9,
             "#4d9221"
            ],
            [
             1,
             "#276419"
            ]
           ],
           "sequential": [
            [
             0,
             "#0d0887"
            ],
            [
             0.1111111111111111,
             "#46039f"
            ],
            [
             0.2222222222222222,
             "#7201a8"
            ],
            [
             0.3333333333333333,
             "#9c179e"
            ],
            [
             0.4444444444444444,
             "#bd3786"
            ],
            [
             0.5555555555555556,
             "#d8576b"
            ],
            [
             0.6666666666666666,
             "#ed7953"
            ],
            [
             0.7777777777777778,
             "#fb9f3a"
            ],
            [
             0.8888888888888888,
             "#fdca26"
            ],
            [
             1,
             "#f0f921"
            ]
           ],
           "sequentialminus": [
            [
             0,
             "#0d0887"
            ],
            [
             0.1111111111111111,
             "#46039f"
            ],
            [
             0.2222222222222222,
             "#7201a8"
            ],
            [
             0.3333333333333333,
             "#9c179e"
            ],
            [
             0.4444444444444444,
             "#bd3786"
            ],
            [
             0.5555555555555556,
             "#d8576b"
            ],
            [
             0.6666666666666666,
             "#ed7953"
            ],
            [
             0.7777777777777778,
             "#fb9f3a"
            ],
            [
             0.8888888888888888,
             "#fdca26"
            ],
            [
             1,
             "#f0f921"
            ]
           ]
          },
          "colorway": [
           "#636efa",
           "#EF553B",
           "#00cc96",
           "#ab63fa",
           "#FFA15A",
           "#19d3f3",
           "#FF6692",
           "#B6E880",
           "#FF97FF",
           "#FECB52"
          ],
          "font": {
           "color": "#2a3f5f"
          },
          "geo": {
           "bgcolor": "white",
           "lakecolor": "white",
           "landcolor": "#E5ECF6",
           "showlakes": true,
           "showland": true,
           "subunitcolor": "white"
          },
          "hoverlabel": {
           "align": "left"
          },
          "hovermode": "closest",
          "mapbox": {
           "style": "light"
          },
          "paper_bgcolor": "white",
          "plot_bgcolor": "#E5ECF6",
          "polar": {
           "angularaxis": {
            "gridcolor": "white",
            "linecolor": "white",
            "ticks": ""
           },
           "bgcolor": "#E5ECF6",
           "radialaxis": {
            "gridcolor": "white",
            "linecolor": "white",
            "ticks": ""
           }
          },
          "scene": {
           "xaxis": {
            "backgroundcolor": "#E5ECF6",
            "gridcolor": "white",
            "gridwidth": 2,
            "linecolor": "white",
            "showbackground": true,
            "ticks": "",
            "zerolinecolor": "white"
           },
           "yaxis": {
            "backgroundcolor": "#E5ECF6",
            "gridcolor": "white",
            "gridwidth": 2,
            "linecolor": "white",
            "showbackground": true,
            "ticks": "",
            "zerolinecolor": "white"
           },
           "zaxis": {
            "backgroundcolor": "#E5ECF6",
            "gridcolor": "white",
            "gridwidth": 2,
            "linecolor": "white",
            "showbackground": true,
            "ticks": "",
            "zerolinecolor": "white"
           }
          },
          "shapedefaults": {
           "line": {
            "color": "#2a3f5f"
           }
          },
          "ternary": {
           "aaxis": {
            "gridcolor": "white",
            "linecolor": "white",
            "ticks": ""
           },
           "baxis": {
            "gridcolor": "white",
            "linecolor": "white",
            "ticks": ""
           },
           "bgcolor": "#E5ECF6",
           "caxis": {
            "gridcolor": "white",
            "linecolor": "white",
            "ticks": ""
           }
          },
          "title": {
           "x": 0.05
          },
          "xaxis": {
           "automargin": true,
           "gridcolor": "white",
           "linecolor": "white",
           "ticks": "",
           "title": {
            "standoff": 15
           },
           "zerolinecolor": "white",
           "zerolinewidth": 2
          },
          "yaxis": {
           "automargin": true,
           "gridcolor": "white",
           "linecolor": "white",
           "ticks": "",
           "title": {
            "standoff": 15
           },
           "zerolinecolor": "white",
           "zerolinewidth": 2
          }
         }
        },
        "title": {
         "text": "Evolution of distinct names each year from 1880 to 2017."
        },
        "xaxis": {
         "anchor": "y",
         "domain": [
          0,
          1
         ],
         "title": {
          "text": "Year"
         }
        },
        "yaxis": {
         "anchor": "x",
         "domain": [
          0,
          1
         ],
         "title": {
          "text": "Number of distinct name"
         }
        }
       }
      },
      "text/html": [
       "<div>                            <div id=\"f24d664c-3f1a-446a-8d10-439eb3d4c587\" class=\"plotly-graph-div\" style=\"height:525px; width:100%;\"></div>            <script type=\"text/javascript\">                require([\"plotly\"], function(Plotly) {                    window.PLOTLYENV=window.PLOTLYENV || {};                                    if (document.getElementById(\"f24d664c-3f1a-446a-8d10-439eb3d4c587\")) {                    Plotly.newPlot(                        \"f24d664c-3f1a-446a-8d10-439eb3d4c587\",                        [{\"hovertemplate\": \"Sex=F<br>Year=%{x}<br>Number of distinct name=%{y}<extra></extra>\", \"legendgroup\": \"F\", \"line\": {\"color\": \"#636efa\", \"dash\": \"solid\"}, \"mode\": \"lines\", \"name\": \"F\", \"orientation\": \"v\", \"showlegend\": true, \"type\": \"scatter\", \"x\": [1880.0, 1881.0, 1882.0, 1883.0, 1884.0, 1885.0, 1886.0, 1887.0, 1888.0, 1889.0, 1890.0, 1891.0, 1892.0, 1893.0, 1894.0, 1895.0, 1896.0, 1897.0, 1898.0, 1899.0, 1900.0, 1901.0, 1902.0, 1903.0, 1904.0, 1905.0, 1906.0, 1907.0, 1908.0, 1909.0, 1910.0, 1911.0, 1912.0, 1913.0, 1914.0, 1915.0, 1916.0, 1917.0, 1918.0, 1919.0, 1920.0, 1921.0, 1922.0, 1923.0, 1924.0, 1925.0, 1926.0, 1927.0, 1928.0, 1929.0, 1930.0, 1931.0, 1932.0, 1933.0, 1934.0, 1935.0, 1936.0, 1937.0, 1938.0, 1939.0, 1940.0, 1941.0, 1942.0, 1943.0, 1944.0, 1945.0, 1946.0, 1947.0, 1948.0, 1949.0, 1950.0, 1951.0, 1952.0, 1953.0, 1954.0, 1955.0, 1956.0, 1957.0, 1958.0, 1959.0, 1960.0, 1961.0, 1962.0, 1963.0, 1964.0, 1965.0, 1966.0, 1967.0, 1968.0, 1969.0, 1970.0, 1971.0, 1972.0, 1973.0, 1974.0, 1975.0, 1976.0, 1977.0, 1978.0, 1979.0, 1980.0, 1981.0, 1982.0, 1983.0, 1984.0, 1985.0, 1986.0, 1987.0, 1988.0, 1989.0, 1990.0, 1991.0, 1992.0, 1993.0, 1994.0, 1995.0, 1996.0, 1997.0, 1998.0, 1999.0, 2000.0, 2001.0, 2002.0, 2003.0, 2004.0, 2005.0, 2006.0, 2007.0, 2008.0, 2009.0, 2010.0, 2011.0, 2012.0, 2013.0, 2014.0, 2015.0, 2016.0, 2017.0], \"xaxis\": \"x\", \"y\": [942, 938, 1028, 1054, 1172, 1197, 1282, 1306, 1474, 1479, 1534, 1533, 1661, 1652, 1702, 1808, 1825, 1799, 1975, 1842, 2224, 1943, 2042, 2083, 2165, 2234, 2220, 2399, 2434, 2548, 2790, 2868, 3445, 3707, 4206, 4967, 5162, 5312, 5586, 5559, 5765, 5871, 5789, 5739, 5899, 5771, 5621, 5603, 5436, 5275, 5248, 4977, 5100, 4858, 4973, 4892, 4856, 4927, 4994, 4952, 5025, 5085, 5380, 5368, 5245, 5241, 5686, 6103, 6040, 6065, 6111, 6211, 6391, 6499, 6616, 6725, 6885, 7012, 7022, 7196, 7331, 7529, 7583, 7663, 7803, 7533, 7616, 7849, 8194, 8708, 9350, 9638, 9661, 9805, 10239, 10609, 10900, 11324, 11470, 11967, 12157, 12186, 12327, 12065, 12171, 12500, 12823, 13255, 13877, 14546, 15235, 15459, 15611, 15797, 15751, 15753, 15891, 16160, 16598, 16941, 17653, 17970, 18081, 18430, 18826, 19182, 20050, 20560, 20457, 20179, 19811, 19560, 19498, 19231, 19181, 19074, 18817, 18309], \"yaxis\": \"y\"}, {\"hovertemplate\": \"Sex=M<br>Year=%{x}<br>Number of distinct name=%{y}<extra></extra>\", \"legendgroup\": \"M\", \"line\": {\"color\": \"#EF553B\", \"dash\": \"solid\"}, \"mode\": \"lines\", \"name\": \"M\", \"orientation\": \"v\", \"showlegend\": true, \"type\": \"scatter\", \"x\": [1880.0, 1881.0, 1882.0, 1883.0, 1884.0, 1885.0, 1886.0, 1887.0, 1888.0, 1889.0, 1890.0, 1891.0, 1892.0, 1893.0, 1894.0, 1895.0, 1896.0, 1897.0, 1898.0, 1899.0, 1900.0, 1901.0, 1902.0, 1903.0, 1904.0, 1905.0, 1906.0, 1907.0, 1908.0, 1909.0, 1910.0, 1911.0, 1912.0, 1913.0, 1914.0, 1915.0, 1916.0, 1917.0, 1918.0, 1919.0, 1920.0, 1921.0, 1922.0, 1923.0, 1924.0, 1925.0, 1926.0, 1927.0, 1928.0, 1929.0, 1930.0, 1931.0, 1932.0, 1933.0, 1934.0, 1935.0, 1936.0, 1937.0, 1938.0, 1939.0, 1940.0, 1941.0, 1942.0, 1943.0, 1944.0, 1945.0, 1946.0, 1947.0, 1948.0, 1949.0, 1950.0, 1951.0, 1952.0, 1953.0, 1954.0, 1955.0, 1956.0, 1957.0, 1958.0, 1959.0, 1960.0, 1961.0, 1962.0, 1963.0, 1964.0, 1965.0, 1966.0, 1967.0, 1968.0, 1969.0, 1970.0, 1971.0, 1972.0, 1973.0, 1974.0, 1975.0, 1976.0, 1977.0, 1978.0, 1979.0, 1980.0, 1981.0, 1982.0, 1983.0, 1984.0, 1985.0, 1986.0, 1987.0, 1988.0, 1989.0, 1990.0, 1991.0, 1992.0, 1993.0, 1994.0, 1995.0, 1996.0, 1997.0, 1998.0, 1999.0, 2000.0, 2001.0, 2002.0, 2003.0, 2004.0, 2005.0, 2006.0, 2007.0, 2008.0, 2009.0, 2010.0, 2011.0, 2012.0, 2013.0, 2014.0, 2015.0, 2016.0, 2017.0], \"xaxis\": \"x\", \"y\": [1058, 997, 1099, 1030, 1125, 1097, 1110, 1067, 1177, 1111, 1161, 1127, 1260, 1179, 1239, 1241, 1266, 1229, 1289, 1200, 1506, 1210, 1320, 1306, 1395, 1421, 1413, 1549, 1584, 1679, 1839, 1999, 2906, 3261, 3759, 4390, 4534, 4602, 4813, 4810, 4990, 4986, 4967, 4904, 4970, 4867, 4837, 4803, 4724, 4543, 4541, 4320, 4284, 4154, 4207, 4145, 4037, 4019, 4036, 3967, 3936, 4000, 4045, 4040, 3909, 3783, 4019, 4268, 4199, 4203, 4191, 4251, 4257, 4339, 4352, 4388, 4450, 4552, 4499, 4573, 4590, 4652, 4623, 4619, 4593, 4420, 4536, 4550, 4741, 5040, 5430, 5655, 5750, 5876, 6005, 6335, 6491, 6851, 6759, 7071, 7288, 7286, 7364, 7338, 7332, 7581, 7826, 8148, 8487, 9227, 9484, 9646, 9816, 10169, 10244, 10327, 10532, 10811, 11301, 11609, 12116, 12299, 12482, 12753, 13220, 13364, 14032, 14390, 14613, 14523, 14256, 14343, 14234, 14038, 14047, 14024, 14162, 14160], \"yaxis\": \"y\"}],                        {\"legend\": {\"title\": {\"text\": \"Sex\"}, \"tracegroupgap\": 0}, \"template\": {\"data\": {\"bar\": [{\"error_x\": {\"color\": \"#2a3f5f\"}, \"error_y\": {\"color\": \"#2a3f5f\"}, \"marker\": {\"line\": {\"color\": \"#E5ECF6\", \"width\": 0.5}}, \"type\": \"bar\"}], \"barpolar\": [{\"marker\": {\"line\": {\"color\": \"#E5ECF6\", \"width\": 0.5}}, \"type\": \"barpolar\"}], \"carpet\": [{\"aaxis\": {\"endlinecolor\": \"#2a3f5f\", \"gridcolor\": \"white\", \"linecolor\": \"white\", \"minorgridcolor\": \"white\", \"startlinecolor\": \"#2a3f5f\"}, \"baxis\": {\"endlinecolor\": \"#2a3f5f\", \"gridcolor\": \"white\", \"linecolor\": \"white\", \"minorgridcolor\": \"white\", \"startlinecolor\": \"#2a3f5f\"}, \"type\": \"carpet\"}], \"choropleth\": [{\"colorbar\": {\"outlinewidth\": 0, \"ticks\": \"\"}, \"type\": \"choropleth\"}], \"contour\": [{\"colorbar\": {\"outlinewidth\": 0, \"ticks\": \"\"}, \"colorscale\": [[0.0, \"#0d0887\"], [0.1111111111111111, \"#46039f\"], [0.2222222222222222, \"#7201a8\"], [0.3333333333333333, \"#9c179e\"], [0.4444444444444444, \"#bd3786\"], [0.5555555555555556, \"#d8576b\"], [0.6666666666666666, \"#ed7953\"], [0.7777777777777778, \"#fb9f3a\"], [0.8888888888888888, \"#fdca26\"], [1.0, \"#f0f921\"]], \"type\": \"contour\"}], \"contourcarpet\": [{\"colorbar\": {\"outlinewidth\": 0, \"ticks\": \"\"}, \"type\": \"contourcarpet\"}], \"heatmap\": [{\"colorbar\": {\"outlinewidth\": 0, \"ticks\": \"\"}, \"colorscale\": [[0.0, \"#0d0887\"], [0.1111111111111111, \"#46039f\"], [0.2222222222222222, \"#7201a8\"], [0.3333333333333333, \"#9c179e\"], [0.4444444444444444, \"#bd3786\"], [0.5555555555555556, \"#d8576b\"], [0.6666666666666666, \"#ed7953\"], [0.7777777777777778, \"#fb9f3a\"], [0.8888888888888888, \"#fdca26\"], [1.0, \"#f0f921\"]], \"type\": \"heatmap\"}], \"heatmapgl\": [{\"colorbar\": {\"outlinewidth\": 0, \"ticks\": \"\"}, \"colorscale\": [[0.0, \"#0d0887\"], [0.1111111111111111, \"#46039f\"], [0.2222222222222222, \"#7201a8\"], [0.3333333333333333, \"#9c179e\"], [0.4444444444444444, \"#bd3786\"], [0.5555555555555556, \"#d8576b\"], [0.6666666666666666, \"#ed7953\"], [0.7777777777777778, \"#fb9f3a\"], [0.8888888888888888, \"#fdca26\"], [1.0, \"#f0f921\"]], \"type\": \"heatmapgl\"}], \"histogram\": [{\"marker\": {\"colorbar\": {\"outlinewidth\": 0, \"ticks\": \"\"}}, \"type\": \"histogram\"}], \"histogram2d\": [{\"colorbar\": {\"outlinewidth\": 0, \"ticks\": \"\"}, \"colorscale\": [[0.0, \"#0d0887\"], [0.1111111111111111, \"#46039f\"], [0.2222222222222222, \"#7201a8\"], [0.3333333333333333, \"#9c179e\"], [0.4444444444444444, \"#bd3786\"], [0.5555555555555556, \"#d8576b\"], [0.6666666666666666, \"#ed7953\"], [0.7777777777777778, \"#fb9f3a\"], [0.8888888888888888, \"#fdca26\"], [1.0, \"#f0f921\"]], \"type\": \"histogram2d\"}], \"histogram2dcontour\": [{\"colorbar\": {\"outlinewidth\": 0, \"ticks\": \"\"}, \"colorscale\": [[0.0, \"#0d0887\"], [0.1111111111111111, \"#46039f\"], [0.2222222222222222, \"#7201a8\"], [0.3333333333333333, \"#9c179e\"], [0.4444444444444444, \"#bd3786\"], [0.5555555555555556, \"#d8576b\"], [0.6666666666666666, \"#ed7953\"], [0.7777777777777778, \"#fb9f3a\"], [0.8888888888888888, \"#fdca26\"], [1.0, \"#f0f921\"]], \"type\": \"histogram2dcontour\"}], \"mesh3d\": [{\"colorbar\": {\"outlinewidth\": 0, \"ticks\": \"\"}, \"type\": \"mesh3d\"}], \"parcoords\": [{\"line\": {\"colorbar\": {\"outlinewidth\": 0, \"ticks\": \"\"}}, \"type\": \"parcoords\"}], \"pie\": [{\"automargin\": true, \"type\": \"pie\"}], \"scatter\": [{\"marker\": {\"colorbar\": {\"outlinewidth\": 0, \"ticks\": \"\"}}, \"type\": \"scatter\"}], \"scatter3d\": [{\"line\": {\"colorbar\": {\"outlinewidth\": 0, \"ticks\": \"\"}}, \"marker\": {\"colorbar\": {\"outlinewidth\": 0, \"ticks\": \"\"}}, \"type\": \"scatter3d\"}], \"scattercarpet\": [{\"marker\": {\"colorbar\": {\"outlinewidth\": 0, \"ticks\": \"\"}}, \"type\": \"scattercarpet\"}], \"scattergeo\": [{\"marker\": {\"colorbar\": {\"outlinewidth\": 0, \"ticks\": \"\"}}, \"type\": \"scattergeo\"}], \"scattergl\": [{\"marker\": {\"colorbar\": {\"outlinewidth\": 0, \"ticks\": \"\"}}, \"type\": \"scattergl\"}], \"scattermapbox\": [{\"marker\": {\"colorbar\": {\"outlinewidth\": 0, \"ticks\": \"\"}}, \"type\": \"scattermapbox\"}], \"scatterpolar\": [{\"marker\": {\"colorbar\": {\"outlinewidth\": 0, \"ticks\": \"\"}}, \"type\": \"scatterpolar\"}], \"scatterpolargl\": [{\"marker\": {\"colorbar\": {\"outlinewidth\": 0, \"ticks\": \"\"}}, \"type\": \"scatterpolargl\"}], \"scatterternary\": [{\"marker\": {\"colorbar\": {\"outlinewidth\": 0, \"ticks\": \"\"}}, \"type\": \"scatterternary\"}], \"surface\": [{\"colorbar\": {\"outlinewidth\": 0, \"ticks\": \"\"}, \"colorscale\": [[0.0, \"#0d0887\"], [0.1111111111111111, \"#46039f\"], [0.2222222222222222, \"#7201a8\"], [0.3333333333333333, \"#9c179e\"], [0.4444444444444444, \"#bd3786\"], [0.5555555555555556, \"#d8576b\"], [0.6666666666666666, \"#ed7953\"], [0.7777777777777778, \"#fb9f3a\"], [0.8888888888888888, \"#fdca26\"], [1.0, \"#f0f921\"]], \"type\": \"surface\"}], \"table\": [{\"cells\": {\"fill\": {\"color\": \"#EBF0F8\"}, \"line\": {\"color\": \"white\"}}, \"header\": {\"fill\": {\"color\": \"#C8D4E3\"}, \"line\": {\"color\": \"white\"}}, \"type\": \"table\"}]}, \"layout\": {\"annotationdefaults\": {\"arrowcolor\": \"#2a3f5f\", \"arrowhead\": 0, \"arrowwidth\": 1}, \"autotypenumbers\": \"strict\", \"coloraxis\": {\"colorbar\": {\"outlinewidth\": 0, \"ticks\": \"\"}}, \"colorscale\": {\"diverging\": [[0, \"#8e0152\"], [0.1, \"#c51b7d\"], [0.2, \"#de77ae\"], [0.3, \"#f1b6da\"], [0.4, \"#fde0ef\"], [0.5, \"#f7f7f7\"], [0.6, \"#e6f5d0\"], [0.7, \"#b8e186\"], [0.8, \"#7fbc41\"], [0.9, \"#4d9221\"], [1, \"#276419\"]], \"sequential\": [[0.0, \"#0d0887\"], [0.1111111111111111, \"#46039f\"], [0.2222222222222222, \"#7201a8\"], [0.3333333333333333, \"#9c179e\"], [0.4444444444444444, \"#bd3786\"], [0.5555555555555556, \"#d8576b\"], [0.6666666666666666, \"#ed7953\"], [0.7777777777777778, \"#fb9f3a\"], [0.8888888888888888, \"#fdca26\"], [1.0, \"#f0f921\"]], \"sequentialminus\": [[0.0, \"#0d0887\"], [0.1111111111111111, \"#46039f\"], [0.2222222222222222, \"#7201a8\"], [0.3333333333333333, \"#9c179e\"], [0.4444444444444444, \"#bd3786\"], [0.5555555555555556, \"#d8576b\"], [0.6666666666666666, \"#ed7953\"], [0.7777777777777778, \"#fb9f3a\"], [0.8888888888888888, \"#fdca26\"], [1.0, \"#f0f921\"]]}, \"colorway\": [\"#636efa\", \"#EF553B\", \"#00cc96\", \"#ab63fa\", \"#FFA15A\", \"#19d3f3\", \"#FF6692\", \"#B6E880\", \"#FF97FF\", \"#FECB52\"], \"font\": {\"color\": \"#2a3f5f\"}, \"geo\": {\"bgcolor\": \"white\", \"lakecolor\": \"white\", \"landcolor\": \"#E5ECF6\", \"showlakes\": true, \"showland\": true, \"subunitcolor\": \"white\"}, \"hoverlabel\": {\"align\": \"left\"}, \"hovermode\": \"closest\", \"mapbox\": {\"style\": \"light\"}, \"paper_bgcolor\": \"white\", \"plot_bgcolor\": \"#E5ECF6\", \"polar\": {\"angularaxis\": {\"gridcolor\": \"white\", \"linecolor\": \"white\", \"ticks\": \"\"}, \"bgcolor\": \"#E5ECF6\", \"radialaxis\": {\"gridcolor\": \"white\", \"linecolor\": \"white\", \"ticks\": \"\"}}, \"scene\": {\"xaxis\": {\"backgroundcolor\": \"#E5ECF6\", \"gridcolor\": \"white\", \"gridwidth\": 2, \"linecolor\": \"white\", \"showbackground\": true, \"ticks\": \"\", \"zerolinecolor\": \"white\"}, \"yaxis\": {\"backgroundcolor\": \"#E5ECF6\", \"gridcolor\": \"white\", \"gridwidth\": 2, \"linecolor\": \"white\", \"showbackground\": true, \"ticks\": \"\", \"zerolinecolor\": \"white\"}, \"zaxis\": {\"backgroundcolor\": \"#E5ECF6\", \"gridcolor\": \"white\", \"gridwidth\": 2, \"linecolor\": \"white\", \"showbackground\": true, \"ticks\": \"\", \"zerolinecolor\": \"white\"}}, \"shapedefaults\": {\"line\": {\"color\": \"#2a3f5f\"}}, \"ternary\": {\"aaxis\": {\"gridcolor\": \"white\", \"linecolor\": \"white\", \"ticks\": \"\"}, \"baxis\": {\"gridcolor\": \"white\", \"linecolor\": \"white\", \"ticks\": \"\"}, \"bgcolor\": \"#E5ECF6\", \"caxis\": {\"gridcolor\": \"white\", \"linecolor\": \"white\", \"ticks\": \"\"}}, \"title\": {\"x\": 0.05}, \"xaxis\": {\"automargin\": true, \"gridcolor\": \"white\", \"linecolor\": \"white\", \"ticks\": \"\", \"title\": {\"standoff\": 15}, \"zerolinecolor\": \"white\", \"zerolinewidth\": 2}, \"yaxis\": {\"automargin\": true, \"gridcolor\": \"white\", \"linecolor\": \"white\", \"ticks\": \"\", \"title\": {\"standoff\": 15}, \"zerolinecolor\": \"white\", \"zerolinewidth\": 2}}}, \"title\": {\"text\": \"Evolution of distinct names each year from 1880 to 2017.\"}, \"xaxis\": {\"anchor\": \"y\", \"domain\": [0.0, 1.0], \"title\": {\"text\": \"Year\"}}, \"yaxis\": {\"anchor\": \"x\", \"domain\": [0.0, 1.0], \"title\": {\"text\": \"Number of distinct name\"}}},                        {\"responsive\": true}                    ).then(function(){\n",
       "                            \n",
       "var gd = document.getElementById('f24d664c-3f1a-446a-8d10-439eb3d4c587');\n",
       "var x = new MutationObserver(function (mutations, observer) {{\n",
       "        var display = window.getComputedStyle(gd).display;\n",
       "        if (!display || display === 'none') {{\n",
       "            console.log([gd, 'removed!']);\n",
       "            Plotly.purge(gd);\n",
       "            observer.disconnect();\n",
       "        }}\n",
       "}});\n",
       "\n",
       "// Listen for the removal of the full notebook cells\n",
       "var notebookContainer = gd.closest('#notebook-container');\n",
       "if (notebookContainer) {{\n",
       "    x.observe(notebookContainer, {childList: true});\n",
       "}}\n",
       "\n",
       "// Listen for the clearing of the current output cell\n",
       "var outputEl = gd.closest('.output');\n",
       "if (outputEl) {{\n",
       "    x.observe(outputEl, {childList: true});\n",
       "}}\n",
       "\n",
       "                        })                };                });            </script>        </div>"
      ]
     },
     "metadata": {},
     "output_type": "display_data"
    }
   ],
   "source": [
    "df_pand = nb_distinct_name_year.toPandas()\n",
    "fig = px.line(df_pand, x='year', y='count', color='sex',\n",
    "              title='Evolution of distinct names each year from 1880 to 2017.',\n",
    "              labels={'count':'Number of distinct name', 'year':'Year', 'sex': 'Gender'})\n",
    "fig.show()"
   ]
  },
  {
   "cell_type": "markdown",
   "metadata": {
    "format": "text/markdown"
   },
   "source": [
    "\n",
    "\n",
    "Assessing popularity through time\n",
    "=================================\n",
    "\n",
    "1. For each year and sex, compute the total number of births\n",
    "1. Plot the evolution of the sex ratio over time\n",
    "1. For each year, sex, and name compute the percentage of newborns\n",
    "given that name for that given year.\n",
    "\n",
    "\n",
    "> Use `Window` functions.\n",
    "\n"
   ]
  },
  {
   "cell_type": "code",
   "execution_count": 126,
   "metadata": {
    "ExecuteTime": {
     "end_time": "2022-02-18T13:55:25.515935Z",
     "start_time": "2022-02-18T13:55:20.539218Z"
    },
    "autoscroll": "auto",
    "options": {
     "caption": false,
     "complete": true,
     "display_data": true,
     "display_stream": true,
     "dpi": 200,
     "echo": true,
     "evaluate": false,
     "f_env": null,
     "f_pos": "htpb",
     "f_size": [
      6,
      4
     ],
     "f_spines": true,
     "fig": true,
     "include": true,
     "name": null,
     "option_string": "evaluate=False",
     "results": "verbatim",
     "term": false,
     "wrap": "output"
    },
    "scrolled": true
   },
   "outputs": [
    {
     "name": "stdout",
     "output_type": "stream",
     "text": [
      "+------+---+------------+\n",
      "|  year|sex|total births|\n",
      "+------+---+------------+\n",
      "|1970.0|  F|     1748175|\n",
      "|1977.0|  M|     1643766|\n",
      "|1900.0|  F|      299800|\n",
      "|1962.0|  M|     2068669|\n",
      "|2005.0|  F|     1846258|\n",
      "|1887.0|  F|      145981|\n",
      "|1960.0|  M|     2132359|\n",
      "|2013.0|  M|     1886989|\n",
      "|1935.0|  F|     1048493|\n",
      "|1966.0|  F|     1691945|\n",
      "|1890.0|  M|      111025|\n",
      "|2016.0|  M|     1889052|\n",
      "|1999.0|  M|     1919391|\n",
      "|1952.0|  M|     1944564|\n",
      "|1885.0|  M|      107799|\n",
      "|1991.0|  F|     1874620|\n",
      "|1988.0|  M|     1913203|\n",
      "|1881.0|  F|       91953|\n",
      "|1920.0|  F|     1198290|\n",
      "|2004.0|  F|     1834856|\n",
      "+------+---+------------+\n",
      "only showing top 20 rows\n",
      "\n"
     ]
    }
   ],
   "source": [
    "window = Window.partitionBy('year', 'sex')\n",
    "df_tot_births = df_sp.withColumn('total births', fn.sum('n').over(window))\n",
    "\n",
    "df_tot_births = df_tot_births.select('year', 'sex', 'total births').distinct()\n",
    "df_tot_births.show()"
   ]
  },
  {
   "cell_type": "code",
   "execution_count": 154,
   "metadata": {
    "ExecuteTime": {
     "end_time": "2022-02-18T14:49:08.270976Z",
     "start_time": "2022-02-18T14:49:00.477033Z"
    },
    "autoscroll": "auto",
    "options": {
     "caption": false,
     "complete": true,
     "display_data": true,
     "display_stream": true,
     "dpi": 200,
     "echo": true,
     "evaluate": false,
     "f_env": null,
     "f_pos": "htpb",
     "f_size": [
      6,
      4
     ],
     "f_spines": true,
     "fig": true,
     "include": true,
     "name": null,
     "option_string": "evaluate=False",
     "results": "verbatim",
     "term": false,
     "wrap": "output"
    }
   },
   "outputs": [
    {
     "data": {
      "application/vnd.plotly.v1+json": {
       "config": {
        "plotlyServerURL": "https://plot.ly"
       },
       "data": [
        {
         "hovertemplate": "Year=%{x}<br>Ratio of female=%{y}<extra></extra>",
         "legendgroup": "",
         "line": {
          "color": "#636efa",
          "dash": "solid"
         },
         "mode": "lines",
         "name": "",
         "orientation": "v",
         "showlegend": false,
         "type": "scatter",
         "x": [
          1880,
          1881,
          1882,
          1883,
          1884,
          1885,
          1886,
          1887,
          1888,
          1889,
          1890,
          1891,
          1892,
          1893,
          1894,
          1895,
          1896,
          1897,
          1898,
          1899,
          1900,
          1901,
          1902,
          1903,
          1904,
          1905,
          1906,
          1907,
          1908,
          1909,
          1910,
          1911,
          1912,
          1913,
          1914,
          1915,
          1916,
          1917,
          1918,
          1919,
          1920,
          1921,
          1922,
          1923,
          1924,
          1925,
          1926,
          1927,
          1928,
          1929,
          1930,
          1931,
          1932,
          1933,
          1934,
          1935,
          1936,
          1937,
          1938,
          1939,
          1940,
          1941,
          1942,
          1943,
          1944,
          1945,
          1946,
          1947,
          1948,
          1949,
          1950,
          1951,
          1952,
          1953,
          1954,
          1955,
          1956,
          1957,
          1958,
          1959,
          1960,
          1961,
          1962,
          1963,
          1964,
          1965,
          1966,
          1967,
          1968,
          1969,
          1970,
          1971,
          1972,
          1973,
          1974,
          1975,
          1976,
          1977,
          1978,
          1979,
          1980,
          1981,
          1982,
          1983,
          1984,
          1985,
          1986,
          1987,
          1988,
          1989,
          1990,
          1991,
          1992,
          1993,
          1994,
          1995,
          1996,
          1997,
          1998,
          1999,
          2000,
          2001,
          2002,
          2003,
          2004,
          2005,
          2006,
          2007,
          2008,
          2009,
          2010,
          2011,
          2012,
          2013,
          2014,
          2015,
          2016,
          2017
         ],
         "xaxis": "x",
         "y": [
          0.4516140239423478,
          0.47719205380495705,
          0.4868213764992123,
          0.5177279138587483,
          0.5299389637807954,
          0.5524301028839048,
          0.5660923479439285,
          0.5900749411869326,
          0.5964544382966077,
          0.6172987340195054,
          0.6316369222398067,
          0.6470147067031311,
          0.635032523364486,
          0.6546431217964289,
          0.6581859517552925,
          0.6655622724501599,
          0.6655328195588626,
          0.6750116008612018,
          0.6783656392053646,
          0.6869113559117185,
          0.6658035057952443,
          0.6921206197551285,
          0.6828327334409002,
          0.6872199662123167,
          0.6824572664930146,
          0.6878926051645197,
          0.689217921817855,
          0.6845067093544194,
          0.6841535489468988,
          0.6792077116276887,
          0.6712238558357245,
          0.6492668548874012,
          0.5648591589208796,
          0.5492383769042776,
          0.5377059088088125,
          0.536910198907371,
          0.5398685093417506,
          0.5388133451333078,
          0.5331948506551827,
          0.5355391216083659,
          0.5295885721407481,
          0.5281825615728519,
          0.5246274237767321,
          0.5239326183797193,
          0.5243752923363987,
          0.5217367826013167,
          0.5162942188744726,
          0.5141259721792251,
          0.5100854151932093,
          0.5093480945470703,
          0.5064347624258994,
          0.5059810244045947,
          0.5054618936933258,
          0.5041295236303992,
          0.5028198797307208,
          0.5017682843956439,
          0.5007812755731761,
          0.4994052676295667,
          0.4987293778155062,
          0.49771158946949906,
          0.49661393567867657,
          0.4958761278457838,
          0.4944613808674272,
          0.49436648315260084,
          0.49339899331441506,
          0.49272460094441833,
          0.4917691325883884,
          0.49213721588259074,
          0.4917978794496406,
          0.49097913033346524,
          0.4889548191911408,
          0.4888565315421696,
          0.4881611045775237,
          0.488269126334163,
          0.48791798956954524,
          0.48704883682055067,
          0.4871142688670661,
          0.48672514117238375,
          0.4867180407279694,
          0.48673742924824503,
          0.48671991010926546,
          0.4873121004462539,
          0.48734844125520355,
          0.48683701665483226,
          0.487355316631514,
          0.48677851169971337,
          0.4867962300261762,
          0.48624500387319486,
          0.4854321377878324,
          0.4852976585165187,
          0.48460534121338794,
          0.48464145825959154,
          0.4838837432049031,
          0.4832512099772918,
          0.48263769775711096,
          0.4827203459705753,
          0.4827448500782056,
          0.4825821942645326,
          0.48256448415823744,
          0.4824163855676597,
          0.48196521041870066,
          0.4821293010891014,
          0.48267251367291736,
          0.48237220120213953,
          0.4826453199993119,
          0.48217175928196576,
          0.4823217715153334,
          0.4822490714828503,
          0.482004055264005,
          0.4795706271192923,
          0.48039732806343316,
          0.4813717587805242,
          0.48005596589340754,
          0.47983541693086373,
          0.48033904817047546,
          0.4801959713777783,
          0.48063247697293904,
          0.48008261975353667,
          0.48036622268538826,
          0.480197219418519,
          0.4804319867318815,
          0.4809994838900737,
          0.4806533224198229,
          0.48051682499682236,
          0.4805349729897199,
          0.4805455694476112,
          0.48053596672039894,
          0.4808752213003132,
          0.4810073355511647,
          0.4808105485897771,
          0.48087300512097975,
          0.48084483917200677,
          0.4813987928103347,
          0.4812130393065205,
          0.4818512295096381,
          0.4822537124998678,
          0.4828720098287201,
          0.48270324487402505
         ],
         "yaxis": "y"
        }
       ],
       "layout": {
        "legend": {
         "tracegroupgap": 0
        },
        "template": {
         "data": {
          "bar": [
           {
            "error_x": {
             "color": "#2a3f5f"
            },
            "error_y": {
             "color": "#2a3f5f"
            },
            "marker": {
             "line": {
              "color": "#E5ECF6",
              "width": 0.5
             }
            },
            "type": "bar"
           }
          ],
          "barpolar": [
           {
            "marker": {
             "line": {
              "color": "#E5ECF6",
              "width": 0.5
             }
            },
            "type": "barpolar"
           }
          ],
          "carpet": [
           {
            "aaxis": {
             "endlinecolor": "#2a3f5f",
             "gridcolor": "white",
             "linecolor": "white",
             "minorgridcolor": "white",
             "startlinecolor": "#2a3f5f"
            },
            "baxis": {
             "endlinecolor": "#2a3f5f",
             "gridcolor": "white",
             "linecolor": "white",
             "minorgridcolor": "white",
             "startlinecolor": "#2a3f5f"
            },
            "type": "carpet"
           }
          ],
          "choropleth": [
           {
            "colorbar": {
             "outlinewidth": 0,
             "ticks": ""
            },
            "type": "choropleth"
           }
          ],
          "contour": [
           {
            "colorbar": {
             "outlinewidth": 0,
             "ticks": ""
            },
            "colorscale": [
             [
              0,
              "#0d0887"
             ],
             [
              0.1111111111111111,
              "#46039f"
             ],
             [
              0.2222222222222222,
              "#7201a8"
             ],
             [
              0.3333333333333333,
              "#9c179e"
             ],
             [
              0.4444444444444444,
              "#bd3786"
             ],
             [
              0.5555555555555556,
              "#d8576b"
             ],
             [
              0.6666666666666666,
              "#ed7953"
             ],
             [
              0.7777777777777778,
              "#fb9f3a"
             ],
             [
              0.8888888888888888,
              "#fdca26"
             ],
             [
              1,
              "#f0f921"
             ]
            ],
            "type": "contour"
           }
          ],
          "contourcarpet": [
           {
            "colorbar": {
             "outlinewidth": 0,
             "ticks": ""
            },
            "type": "contourcarpet"
           }
          ],
          "heatmap": [
           {
            "colorbar": {
             "outlinewidth": 0,
             "ticks": ""
            },
            "colorscale": [
             [
              0,
              "#0d0887"
             ],
             [
              0.1111111111111111,
              "#46039f"
             ],
             [
              0.2222222222222222,
              "#7201a8"
             ],
             [
              0.3333333333333333,
              "#9c179e"
             ],
             [
              0.4444444444444444,
              "#bd3786"
             ],
             [
              0.5555555555555556,
              "#d8576b"
             ],
             [
              0.6666666666666666,
              "#ed7953"
             ],
             [
              0.7777777777777778,
              "#fb9f3a"
             ],
             [
              0.8888888888888888,
              "#fdca26"
             ],
             [
              1,
              "#f0f921"
             ]
            ],
            "type": "heatmap"
           }
          ],
          "heatmapgl": [
           {
            "colorbar": {
             "outlinewidth": 0,
             "ticks": ""
            },
            "colorscale": [
             [
              0,
              "#0d0887"
             ],
             [
              0.1111111111111111,
              "#46039f"
             ],
             [
              0.2222222222222222,
              "#7201a8"
             ],
             [
              0.3333333333333333,
              "#9c179e"
             ],
             [
              0.4444444444444444,
              "#bd3786"
             ],
             [
              0.5555555555555556,
              "#d8576b"
             ],
             [
              0.6666666666666666,
              "#ed7953"
             ],
             [
              0.7777777777777778,
              "#fb9f3a"
             ],
             [
              0.8888888888888888,
              "#fdca26"
             ],
             [
              1,
              "#f0f921"
             ]
            ],
            "type": "heatmapgl"
           }
          ],
          "histogram": [
           {
            "marker": {
             "colorbar": {
              "outlinewidth": 0,
              "ticks": ""
             }
            },
            "type": "histogram"
           }
          ],
          "histogram2d": [
           {
            "colorbar": {
             "outlinewidth": 0,
             "ticks": ""
            },
            "colorscale": [
             [
              0,
              "#0d0887"
             ],
             [
              0.1111111111111111,
              "#46039f"
             ],
             [
              0.2222222222222222,
              "#7201a8"
             ],
             [
              0.3333333333333333,
              "#9c179e"
             ],
             [
              0.4444444444444444,
              "#bd3786"
             ],
             [
              0.5555555555555556,
              "#d8576b"
             ],
             [
              0.6666666666666666,
              "#ed7953"
             ],
             [
              0.7777777777777778,
              "#fb9f3a"
             ],
             [
              0.8888888888888888,
              "#fdca26"
             ],
             [
              1,
              "#f0f921"
             ]
            ],
            "type": "histogram2d"
           }
          ],
          "histogram2dcontour": [
           {
            "colorbar": {
             "outlinewidth": 0,
             "ticks": ""
            },
            "colorscale": [
             [
              0,
              "#0d0887"
             ],
             [
              0.1111111111111111,
              "#46039f"
             ],
             [
              0.2222222222222222,
              "#7201a8"
             ],
             [
              0.3333333333333333,
              "#9c179e"
             ],
             [
              0.4444444444444444,
              "#bd3786"
             ],
             [
              0.5555555555555556,
              "#d8576b"
             ],
             [
              0.6666666666666666,
              "#ed7953"
             ],
             [
              0.7777777777777778,
              "#fb9f3a"
             ],
             [
              0.8888888888888888,
              "#fdca26"
             ],
             [
              1,
              "#f0f921"
             ]
            ],
            "type": "histogram2dcontour"
           }
          ],
          "mesh3d": [
           {
            "colorbar": {
             "outlinewidth": 0,
             "ticks": ""
            },
            "type": "mesh3d"
           }
          ],
          "parcoords": [
           {
            "line": {
             "colorbar": {
              "outlinewidth": 0,
              "ticks": ""
             }
            },
            "type": "parcoords"
           }
          ],
          "pie": [
           {
            "automargin": true,
            "type": "pie"
           }
          ],
          "scatter": [
           {
            "marker": {
             "colorbar": {
              "outlinewidth": 0,
              "ticks": ""
             }
            },
            "type": "scatter"
           }
          ],
          "scatter3d": [
           {
            "line": {
             "colorbar": {
              "outlinewidth": 0,
              "ticks": ""
             }
            },
            "marker": {
             "colorbar": {
              "outlinewidth": 0,
              "ticks": ""
             }
            },
            "type": "scatter3d"
           }
          ],
          "scattercarpet": [
           {
            "marker": {
             "colorbar": {
              "outlinewidth": 0,
              "ticks": ""
             }
            },
            "type": "scattercarpet"
           }
          ],
          "scattergeo": [
           {
            "marker": {
             "colorbar": {
              "outlinewidth": 0,
              "ticks": ""
             }
            },
            "type": "scattergeo"
           }
          ],
          "scattergl": [
           {
            "marker": {
             "colorbar": {
              "outlinewidth": 0,
              "ticks": ""
             }
            },
            "type": "scattergl"
           }
          ],
          "scattermapbox": [
           {
            "marker": {
             "colorbar": {
              "outlinewidth": 0,
              "ticks": ""
             }
            },
            "type": "scattermapbox"
           }
          ],
          "scatterpolar": [
           {
            "marker": {
             "colorbar": {
              "outlinewidth": 0,
              "ticks": ""
             }
            },
            "type": "scatterpolar"
           }
          ],
          "scatterpolargl": [
           {
            "marker": {
             "colorbar": {
              "outlinewidth": 0,
              "ticks": ""
             }
            },
            "type": "scatterpolargl"
           }
          ],
          "scatterternary": [
           {
            "marker": {
             "colorbar": {
              "outlinewidth": 0,
              "ticks": ""
             }
            },
            "type": "scatterternary"
           }
          ],
          "surface": [
           {
            "colorbar": {
             "outlinewidth": 0,
             "ticks": ""
            },
            "colorscale": [
             [
              0,
              "#0d0887"
             ],
             [
              0.1111111111111111,
              "#46039f"
             ],
             [
              0.2222222222222222,
              "#7201a8"
             ],
             [
              0.3333333333333333,
              "#9c179e"
             ],
             [
              0.4444444444444444,
              "#bd3786"
             ],
             [
              0.5555555555555556,
              "#d8576b"
             ],
             [
              0.6666666666666666,
              "#ed7953"
             ],
             [
              0.7777777777777778,
              "#fb9f3a"
             ],
             [
              0.8888888888888888,
              "#fdca26"
             ],
             [
              1,
              "#f0f921"
             ]
            ],
            "type": "surface"
           }
          ],
          "table": [
           {
            "cells": {
             "fill": {
              "color": "#EBF0F8"
             },
             "line": {
              "color": "white"
             }
            },
            "header": {
             "fill": {
              "color": "#C8D4E3"
             },
             "line": {
              "color": "white"
             }
            },
            "type": "table"
           }
          ]
         },
         "layout": {
          "annotationdefaults": {
           "arrowcolor": "#2a3f5f",
           "arrowhead": 0,
           "arrowwidth": 1
          },
          "autotypenumbers": "strict",
          "coloraxis": {
           "colorbar": {
            "outlinewidth": 0,
            "ticks": ""
           }
          },
          "colorscale": {
           "diverging": [
            [
             0,
             "#8e0152"
            ],
            [
             0.1,
             "#c51b7d"
            ],
            [
             0.2,
             "#de77ae"
            ],
            [
             0.3,
             "#f1b6da"
            ],
            [
             0.4,
             "#fde0ef"
            ],
            [
             0.5,
             "#f7f7f7"
            ],
            [
             0.6,
             "#e6f5d0"
            ],
            [
             0.7,
             "#b8e186"
            ],
            [
             0.8,
             "#7fbc41"
            ],
            [
             0.9,
             "#4d9221"
            ],
            [
             1,
             "#276419"
            ]
           ],
           "sequential": [
            [
             0,
             "#0d0887"
            ],
            [
             0.1111111111111111,
             "#46039f"
            ],
            [
             0.2222222222222222,
             "#7201a8"
            ],
            [
             0.3333333333333333,
             "#9c179e"
            ],
            [
             0.4444444444444444,
             "#bd3786"
            ],
            [
             0.5555555555555556,
             "#d8576b"
            ],
            [
             0.6666666666666666,
             "#ed7953"
            ],
            [
             0.7777777777777778,
             "#fb9f3a"
            ],
            [
             0.8888888888888888,
             "#fdca26"
            ],
            [
             1,
             "#f0f921"
            ]
           ],
           "sequentialminus": [
            [
             0,
             "#0d0887"
            ],
            [
             0.1111111111111111,
             "#46039f"
            ],
            [
             0.2222222222222222,
             "#7201a8"
            ],
            [
             0.3333333333333333,
             "#9c179e"
            ],
            [
             0.4444444444444444,
             "#bd3786"
            ],
            [
             0.5555555555555556,
             "#d8576b"
            ],
            [
             0.6666666666666666,
             "#ed7953"
            ],
            [
             0.7777777777777778,
             "#fb9f3a"
            ],
            [
             0.8888888888888888,
             "#fdca26"
            ],
            [
             1,
             "#f0f921"
            ]
           ]
          },
          "colorway": [
           "#636efa",
           "#EF553B",
           "#00cc96",
           "#ab63fa",
           "#FFA15A",
           "#19d3f3",
           "#FF6692",
           "#B6E880",
           "#FF97FF",
           "#FECB52"
          ],
          "font": {
           "color": "#2a3f5f"
          },
          "geo": {
           "bgcolor": "white",
           "lakecolor": "white",
           "landcolor": "#E5ECF6",
           "showlakes": true,
           "showland": true,
           "subunitcolor": "white"
          },
          "hoverlabel": {
           "align": "left"
          },
          "hovermode": "closest",
          "mapbox": {
           "style": "light"
          },
          "paper_bgcolor": "white",
          "plot_bgcolor": "#E5ECF6",
          "polar": {
           "angularaxis": {
            "gridcolor": "white",
            "linecolor": "white",
            "ticks": ""
           },
           "bgcolor": "#E5ECF6",
           "radialaxis": {
            "gridcolor": "white",
            "linecolor": "white",
            "ticks": ""
           }
          },
          "scene": {
           "xaxis": {
            "backgroundcolor": "#E5ECF6",
            "gridcolor": "white",
            "gridwidth": 2,
            "linecolor": "white",
            "showbackground": true,
            "ticks": "",
            "zerolinecolor": "white"
           },
           "yaxis": {
            "backgroundcolor": "#E5ECF6",
            "gridcolor": "white",
            "gridwidth": 2,
            "linecolor": "white",
            "showbackground": true,
            "ticks": "",
            "zerolinecolor": "white"
           },
           "zaxis": {
            "backgroundcolor": "#E5ECF6",
            "gridcolor": "white",
            "gridwidth": 2,
            "linecolor": "white",
            "showbackground": true,
            "ticks": "",
            "zerolinecolor": "white"
           }
          },
          "shapedefaults": {
           "line": {
            "color": "#2a3f5f"
           }
          },
          "ternary": {
           "aaxis": {
            "gridcolor": "white",
            "linecolor": "white",
            "ticks": ""
           },
           "baxis": {
            "gridcolor": "white",
            "linecolor": "white",
            "ticks": ""
           },
           "bgcolor": "#E5ECF6",
           "caxis": {
            "gridcolor": "white",
            "linecolor": "white",
            "ticks": ""
           }
          },
          "title": {
           "x": 0.05
          },
          "xaxis": {
           "automargin": true,
           "gridcolor": "white",
           "linecolor": "white",
           "ticks": "",
           "title": {
            "standoff": 15
           },
           "zerolinecolor": "white",
           "zerolinewidth": 2
          },
          "yaxis": {
           "automargin": true,
           "gridcolor": "white",
           "linecolor": "white",
           "ticks": "",
           "title": {
            "standoff": 15
           },
           "zerolinecolor": "white",
           "zerolinewidth": 2
          }
         }
        },
        "title": {
         "text": "Evolution of ratio of female birth from 1880 to 2017."
        },
        "xaxis": {
         "anchor": "y",
         "domain": [
          0,
          1
         ],
         "title": {
          "text": "Year"
         }
        },
        "yaxis": {
         "anchor": "x",
         "domain": [
          0,
          1
         ],
         "title": {
          "text": "Ratio of female"
         }
        }
       }
      },
      "text/html": [
       "<div>                            <div id=\"f0cd4784-c164-49ee-9d2d-476ec04cc675\" class=\"plotly-graph-div\" style=\"height:525px; width:100%;\"></div>            <script type=\"text/javascript\">                require([\"plotly\"], function(Plotly) {                    window.PLOTLYENV=window.PLOTLYENV || {};                                    if (document.getElementById(\"f0cd4784-c164-49ee-9d2d-476ec04cc675\")) {                    Plotly.newPlot(                        \"f0cd4784-c164-49ee-9d2d-476ec04cc675\",                        [{\"hovertemplate\": \"Year=%{x}<br>Ratio of female=%{y}<extra></extra>\", \"legendgroup\": \"\", \"line\": {\"color\": \"#636efa\", \"dash\": \"solid\"}, \"mode\": \"lines\", \"name\": \"\", \"orientation\": \"v\", \"showlegend\": false, \"type\": \"scatter\", \"x\": [1880.0, 1881.0, 1882.0, 1883.0, 1884.0, 1885.0, 1886.0, 1887.0, 1888.0, 1889.0, 1890.0, 1891.0, 1892.0, 1893.0, 1894.0, 1895.0, 1896.0, 1897.0, 1898.0, 1899.0, 1900.0, 1901.0, 1902.0, 1903.0, 1904.0, 1905.0, 1906.0, 1907.0, 1908.0, 1909.0, 1910.0, 1911.0, 1912.0, 1913.0, 1914.0, 1915.0, 1916.0, 1917.0, 1918.0, 1919.0, 1920.0, 1921.0, 1922.0, 1923.0, 1924.0, 1925.0, 1926.0, 1927.0, 1928.0, 1929.0, 1930.0, 1931.0, 1932.0, 1933.0, 1934.0, 1935.0, 1936.0, 1937.0, 1938.0, 1939.0, 1940.0, 1941.0, 1942.0, 1943.0, 1944.0, 1945.0, 1946.0, 1947.0, 1948.0, 1949.0, 1950.0, 1951.0, 1952.0, 1953.0, 1954.0, 1955.0, 1956.0, 1957.0, 1958.0, 1959.0, 1960.0, 1961.0, 1962.0, 1963.0, 1964.0, 1965.0, 1966.0, 1967.0, 1968.0, 1969.0, 1970.0, 1971.0, 1972.0, 1973.0, 1974.0, 1975.0, 1976.0, 1977.0, 1978.0, 1979.0, 1980.0, 1981.0, 1982.0, 1983.0, 1984.0, 1985.0, 1986.0, 1987.0, 1988.0, 1989.0, 1990.0, 1991.0, 1992.0, 1993.0, 1994.0, 1995.0, 1996.0, 1997.0, 1998.0, 1999.0, 2000.0, 2001.0, 2002.0, 2003.0, 2004.0, 2005.0, 2006.0, 2007.0, 2008.0, 2009.0, 2010.0, 2011.0, 2012.0, 2013.0, 2014.0, 2015.0, 2016.0, 2017.0], \"xaxis\": \"x\", \"y\": [0.4516140239423478, 0.47719205380495705, 0.4868213764992123, 0.5177279138587483, 0.5299389637807954, 0.5524301028839048, 0.5660923479439285, 0.5900749411869326, 0.5964544382966077, 0.6172987340195054, 0.6316369222398067, 0.6470147067031311, 0.635032523364486, 0.6546431217964289, 0.6581859517552925, 0.6655622724501599, 0.6655328195588626, 0.6750116008612018, 0.6783656392053646, 0.6869113559117185, 0.6658035057952443, 0.6921206197551285, 0.6828327334409002, 0.6872199662123167, 0.6824572664930146, 0.6878926051645197, 0.689217921817855, 0.6845067093544194, 0.6841535489468988, 0.6792077116276887, 0.6712238558357245, 0.6492668548874012, 0.5648591589208796, 0.5492383769042776, 0.5377059088088125, 0.536910198907371, 0.5398685093417506, 0.5388133451333078, 0.5331948506551827, 0.5355391216083659, 0.5295885721407481, 0.5281825615728519, 0.5246274237767321, 0.5239326183797193, 0.5243752923363987, 0.5217367826013167, 0.5162942188744726, 0.5141259721792251, 0.5100854151932093, 0.5093480945470703, 0.5064347624258994, 0.5059810244045947, 0.5054618936933258, 0.5041295236303992, 0.5028198797307208, 0.5017682843956439, 0.5007812755731761, 0.4994052676295667, 0.4987293778155062, 0.49771158946949906, 0.49661393567867657, 0.4958761278457838, 0.4944613808674272, 0.49436648315260084, 0.49339899331441506, 0.49272460094441833, 0.4917691325883884, 0.49213721588259074, 0.4917978794496406, 0.49097913033346524, 0.4889548191911408, 0.4888565315421696, 0.4881611045775237, 0.488269126334163, 0.48791798956954524, 0.48704883682055067, 0.4871142688670661, 0.48672514117238375, 0.4867180407279694, 0.48673742924824503, 0.48671991010926546, 0.4873121004462539, 0.48734844125520355, 0.48683701665483226, 0.487355316631514, 0.48677851169971337, 0.4867962300261762, 0.48624500387319486, 0.4854321377878324, 0.4852976585165187, 0.48460534121338794, 0.48464145825959154, 0.4838837432049031, 0.4832512099772918, 0.48263769775711096, 0.4827203459705753, 0.4827448500782056, 0.4825821942645326, 0.48256448415823744, 0.4824163855676597, 0.48196521041870066, 0.4821293010891014, 0.48267251367291736, 0.48237220120213953, 0.4826453199993119, 0.48217175928196576, 0.4823217715153334, 0.4822490714828503, 0.482004055264005, 0.4795706271192923, 0.48039732806343316, 0.4813717587805242, 0.48005596589340754, 0.47983541693086373, 0.48033904817047546, 0.4801959713777783, 0.48063247697293904, 0.48008261975353667, 0.48036622268538826, 0.480197219418519, 0.4804319867318815, 0.4809994838900737, 0.4806533224198229, 0.48051682499682236, 0.4805349729897199, 0.4805455694476112, 0.48053596672039894, 0.4808752213003132, 0.4810073355511647, 0.4808105485897771, 0.48087300512097975, 0.48084483917200677, 0.4813987928103347, 0.4812130393065205, 0.4818512295096381, 0.4822537124998678, 0.4828720098287201, 0.48270324487402505], \"yaxis\": \"y\"}],                        {\"legend\": {\"tracegroupgap\": 0}, \"template\": {\"data\": {\"bar\": [{\"error_x\": {\"color\": \"#2a3f5f\"}, \"error_y\": {\"color\": \"#2a3f5f\"}, \"marker\": {\"line\": {\"color\": \"#E5ECF6\", \"width\": 0.5}}, \"type\": \"bar\"}], \"barpolar\": [{\"marker\": {\"line\": {\"color\": \"#E5ECF6\", \"width\": 0.5}}, \"type\": \"barpolar\"}], \"carpet\": [{\"aaxis\": {\"endlinecolor\": \"#2a3f5f\", \"gridcolor\": \"white\", \"linecolor\": \"white\", \"minorgridcolor\": \"white\", \"startlinecolor\": \"#2a3f5f\"}, \"baxis\": {\"endlinecolor\": \"#2a3f5f\", \"gridcolor\": \"white\", \"linecolor\": \"white\", \"minorgridcolor\": \"white\", \"startlinecolor\": \"#2a3f5f\"}, \"type\": \"carpet\"}], \"choropleth\": [{\"colorbar\": {\"outlinewidth\": 0, \"ticks\": \"\"}, \"type\": \"choropleth\"}], \"contour\": [{\"colorbar\": {\"outlinewidth\": 0, \"ticks\": \"\"}, \"colorscale\": [[0.0, \"#0d0887\"], [0.1111111111111111, \"#46039f\"], [0.2222222222222222, \"#7201a8\"], [0.3333333333333333, \"#9c179e\"], [0.4444444444444444, \"#bd3786\"], [0.5555555555555556, \"#d8576b\"], [0.6666666666666666, \"#ed7953\"], [0.7777777777777778, \"#fb9f3a\"], [0.8888888888888888, \"#fdca26\"], [1.0, \"#f0f921\"]], \"type\": \"contour\"}], \"contourcarpet\": [{\"colorbar\": {\"outlinewidth\": 0, \"ticks\": \"\"}, \"type\": \"contourcarpet\"}], \"heatmap\": [{\"colorbar\": {\"outlinewidth\": 0, \"ticks\": \"\"}, \"colorscale\": [[0.0, \"#0d0887\"], [0.1111111111111111, \"#46039f\"], [0.2222222222222222, \"#7201a8\"], [0.3333333333333333, \"#9c179e\"], [0.4444444444444444, \"#bd3786\"], [0.5555555555555556, \"#d8576b\"], [0.6666666666666666, \"#ed7953\"], [0.7777777777777778, \"#fb9f3a\"], [0.8888888888888888, \"#fdca26\"], [1.0, \"#f0f921\"]], \"type\": \"heatmap\"}], \"heatmapgl\": [{\"colorbar\": {\"outlinewidth\": 0, \"ticks\": \"\"}, \"colorscale\": [[0.0, \"#0d0887\"], [0.1111111111111111, \"#46039f\"], [0.2222222222222222, \"#7201a8\"], [0.3333333333333333, \"#9c179e\"], [0.4444444444444444, \"#bd3786\"], [0.5555555555555556, \"#d8576b\"], [0.6666666666666666, \"#ed7953\"], [0.7777777777777778, \"#fb9f3a\"], [0.8888888888888888, \"#fdca26\"], [1.0, \"#f0f921\"]], \"type\": \"heatmapgl\"}], \"histogram\": [{\"marker\": {\"colorbar\": {\"outlinewidth\": 0, \"ticks\": \"\"}}, \"type\": \"histogram\"}], \"histogram2d\": [{\"colorbar\": {\"outlinewidth\": 0, \"ticks\": \"\"}, \"colorscale\": [[0.0, \"#0d0887\"], [0.1111111111111111, \"#46039f\"], [0.2222222222222222, \"#7201a8\"], [0.3333333333333333, \"#9c179e\"], [0.4444444444444444, \"#bd3786\"], [0.5555555555555556, \"#d8576b\"], [0.6666666666666666, \"#ed7953\"], [0.7777777777777778, \"#fb9f3a\"], [0.8888888888888888, \"#fdca26\"], [1.0, \"#f0f921\"]], \"type\": \"histogram2d\"}], \"histogram2dcontour\": [{\"colorbar\": {\"outlinewidth\": 0, \"ticks\": \"\"}, \"colorscale\": [[0.0, \"#0d0887\"], [0.1111111111111111, \"#46039f\"], [0.2222222222222222, \"#7201a8\"], [0.3333333333333333, \"#9c179e\"], [0.4444444444444444, \"#bd3786\"], [0.5555555555555556, \"#d8576b\"], [0.6666666666666666, \"#ed7953\"], [0.7777777777777778, \"#fb9f3a\"], [0.8888888888888888, \"#fdca26\"], [1.0, \"#f0f921\"]], \"type\": \"histogram2dcontour\"}], \"mesh3d\": [{\"colorbar\": {\"outlinewidth\": 0, \"ticks\": \"\"}, \"type\": \"mesh3d\"}], \"parcoords\": [{\"line\": {\"colorbar\": {\"outlinewidth\": 0, \"ticks\": \"\"}}, \"type\": \"parcoords\"}], \"pie\": [{\"automargin\": true, \"type\": \"pie\"}], \"scatter\": [{\"marker\": {\"colorbar\": {\"outlinewidth\": 0, \"ticks\": \"\"}}, \"type\": \"scatter\"}], \"scatter3d\": [{\"line\": {\"colorbar\": {\"outlinewidth\": 0, \"ticks\": \"\"}}, \"marker\": {\"colorbar\": {\"outlinewidth\": 0, \"ticks\": \"\"}}, \"type\": \"scatter3d\"}], \"scattercarpet\": [{\"marker\": {\"colorbar\": {\"outlinewidth\": 0, \"ticks\": \"\"}}, \"type\": \"scattercarpet\"}], \"scattergeo\": [{\"marker\": {\"colorbar\": {\"outlinewidth\": 0, \"ticks\": \"\"}}, \"type\": \"scattergeo\"}], \"scattergl\": [{\"marker\": {\"colorbar\": {\"outlinewidth\": 0, \"ticks\": \"\"}}, \"type\": \"scattergl\"}], \"scattermapbox\": [{\"marker\": {\"colorbar\": {\"outlinewidth\": 0, \"ticks\": \"\"}}, \"type\": \"scattermapbox\"}], \"scatterpolar\": [{\"marker\": {\"colorbar\": {\"outlinewidth\": 0, \"ticks\": \"\"}}, \"type\": \"scatterpolar\"}], \"scatterpolargl\": [{\"marker\": {\"colorbar\": {\"outlinewidth\": 0, \"ticks\": \"\"}}, \"type\": \"scatterpolargl\"}], \"scatterternary\": [{\"marker\": {\"colorbar\": {\"outlinewidth\": 0, \"ticks\": \"\"}}, \"type\": \"scatterternary\"}], \"surface\": [{\"colorbar\": {\"outlinewidth\": 0, \"ticks\": \"\"}, \"colorscale\": [[0.0, \"#0d0887\"], [0.1111111111111111, \"#46039f\"], [0.2222222222222222, \"#7201a8\"], [0.3333333333333333, \"#9c179e\"], [0.4444444444444444, \"#bd3786\"], [0.5555555555555556, \"#d8576b\"], [0.6666666666666666, \"#ed7953\"], [0.7777777777777778, \"#fb9f3a\"], [0.8888888888888888, \"#fdca26\"], [1.0, \"#f0f921\"]], \"type\": \"surface\"}], \"table\": [{\"cells\": {\"fill\": {\"color\": \"#EBF0F8\"}, \"line\": {\"color\": \"white\"}}, \"header\": {\"fill\": {\"color\": \"#C8D4E3\"}, \"line\": {\"color\": \"white\"}}, \"type\": \"table\"}]}, \"layout\": {\"annotationdefaults\": {\"arrowcolor\": \"#2a3f5f\", \"arrowhead\": 0, \"arrowwidth\": 1}, \"autotypenumbers\": \"strict\", \"coloraxis\": {\"colorbar\": {\"outlinewidth\": 0, \"ticks\": \"\"}}, \"colorscale\": {\"diverging\": [[0, \"#8e0152\"], [0.1, \"#c51b7d\"], [0.2, \"#de77ae\"], [0.3, \"#f1b6da\"], [0.4, \"#fde0ef\"], [0.5, \"#f7f7f7\"], [0.6, \"#e6f5d0\"], [0.7, \"#b8e186\"], [0.8, \"#7fbc41\"], [0.9, \"#4d9221\"], [1, \"#276419\"]], \"sequential\": [[0.0, \"#0d0887\"], [0.1111111111111111, \"#46039f\"], [0.2222222222222222, \"#7201a8\"], [0.3333333333333333, \"#9c179e\"], [0.4444444444444444, \"#bd3786\"], [0.5555555555555556, \"#d8576b\"], [0.6666666666666666, \"#ed7953\"], [0.7777777777777778, \"#fb9f3a\"], [0.8888888888888888, \"#fdca26\"], [1.0, \"#f0f921\"]], \"sequentialminus\": [[0.0, \"#0d0887\"], [0.1111111111111111, \"#46039f\"], [0.2222222222222222, \"#7201a8\"], [0.3333333333333333, \"#9c179e\"], [0.4444444444444444, \"#bd3786\"], [0.5555555555555556, \"#d8576b\"], [0.6666666666666666, \"#ed7953\"], [0.7777777777777778, \"#fb9f3a\"], [0.8888888888888888, \"#fdca26\"], [1.0, \"#f0f921\"]]}, \"colorway\": [\"#636efa\", \"#EF553B\", \"#00cc96\", \"#ab63fa\", \"#FFA15A\", \"#19d3f3\", \"#FF6692\", \"#B6E880\", \"#FF97FF\", \"#FECB52\"], \"font\": {\"color\": \"#2a3f5f\"}, \"geo\": {\"bgcolor\": \"white\", \"lakecolor\": \"white\", \"landcolor\": \"#E5ECF6\", \"showlakes\": true, \"showland\": true, \"subunitcolor\": \"white\"}, \"hoverlabel\": {\"align\": \"left\"}, \"hovermode\": \"closest\", \"mapbox\": {\"style\": \"light\"}, \"paper_bgcolor\": \"white\", \"plot_bgcolor\": \"#E5ECF6\", \"polar\": {\"angularaxis\": {\"gridcolor\": \"white\", \"linecolor\": \"white\", \"ticks\": \"\"}, \"bgcolor\": \"#E5ECF6\", \"radialaxis\": {\"gridcolor\": \"white\", \"linecolor\": \"white\", \"ticks\": \"\"}}, \"scene\": {\"xaxis\": {\"backgroundcolor\": \"#E5ECF6\", \"gridcolor\": \"white\", \"gridwidth\": 2, \"linecolor\": \"white\", \"showbackground\": true, \"ticks\": \"\", \"zerolinecolor\": \"white\"}, \"yaxis\": {\"backgroundcolor\": \"#E5ECF6\", \"gridcolor\": \"white\", \"gridwidth\": 2, \"linecolor\": \"white\", \"showbackground\": true, \"ticks\": \"\", \"zerolinecolor\": \"white\"}, \"zaxis\": {\"backgroundcolor\": \"#E5ECF6\", \"gridcolor\": \"white\", \"gridwidth\": 2, \"linecolor\": \"white\", \"showbackground\": true, \"ticks\": \"\", \"zerolinecolor\": \"white\"}}, \"shapedefaults\": {\"line\": {\"color\": \"#2a3f5f\"}}, \"ternary\": {\"aaxis\": {\"gridcolor\": \"white\", \"linecolor\": \"white\", \"ticks\": \"\"}, \"baxis\": {\"gridcolor\": \"white\", \"linecolor\": \"white\", \"ticks\": \"\"}, \"bgcolor\": \"#E5ECF6\", \"caxis\": {\"gridcolor\": \"white\", \"linecolor\": \"white\", \"ticks\": \"\"}}, \"title\": {\"x\": 0.05}, \"xaxis\": {\"automargin\": true, \"gridcolor\": \"white\", \"linecolor\": \"white\", \"ticks\": \"\", \"title\": {\"standoff\": 15}, \"zerolinecolor\": \"white\", \"zerolinewidth\": 2}, \"yaxis\": {\"automargin\": true, \"gridcolor\": \"white\", \"linecolor\": \"white\", \"ticks\": \"\", \"title\": {\"standoff\": 15}, \"zerolinecolor\": \"white\", \"zerolinewidth\": 2}}}, \"title\": {\"text\": \"Evolution of ratio of female birth from 1880 to 2017.\"}, \"xaxis\": {\"anchor\": \"y\", \"domain\": [0.0, 1.0], \"title\": {\"text\": \"Year\"}}, \"yaxis\": {\"anchor\": \"x\", \"domain\": [0.0, 1.0], \"title\": {\"text\": \"Ratio of female\"}}},                        {\"responsive\": true}                    ).then(function(){\n",
       "                            \n",
       "var gd = document.getElementById('f0cd4784-c164-49ee-9d2d-476ec04cc675');\n",
       "var x = new MutationObserver(function (mutations, observer) {{\n",
       "        var display = window.getComputedStyle(gd).display;\n",
       "        if (!display || display === 'none') {{\n",
       "            console.log([gd, 'removed!']);\n",
       "            Plotly.purge(gd);\n",
       "            observer.disconnect();\n",
       "        }}\n",
       "}});\n",
       "\n",
       "// Listen for the removal of the full notebook cells\n",
       "var notebookContainer = gd.closest('#notebook-container');\n",
       "if (notebookContainer) {{\n",
       "    x.observe(notebookContainer, {childList: true});\n",
       "}}\n",
       "\n",
       "// Listen for the clearing of the current output cell\n",
       "var outputEl = gd.closest('.output');\n",
       "if (outputEl) {{\n",
       "    x.observe(outputEl, {childList: true});\n",
       "}}\n",
       "\n",
       "                        })                };                });            </script>        </div>"
      ]
     },
     "metadata": {},
     "output_type": "display_data"
    }
   ],
   "source": [
    "window = Window.partitionBy('year')\n",
    "df_tot_f = df_sp.where(df_sp['sex'] == 'F').groupBy('year', 'sex').sum('n').drop('sex').withColumnRenamed('sum(n)', 'n_f')\n",
    "df_tot_m = df_sp.where(df_sp['sex'] == 'M').groupBy('year', 'sex').sum('n').drop('sex').withColumnRenamed('sum(n)', 'n_m')\n",
    "\n",
    "df_tot_ratio = df_tot_f.join(df_tot_m, on=['year']).orderBy('year')\n",
    "df_tot_ratio = df_tot_ratio.withColumn('ratio', df_tot_ratio['n_f'] / (df_tot_ratio['n_f'] + df_tot_ratio['n_m']))\n",
    "\n",
    "fig = px.line(df_tot_ratio.toPandas(), x='year', y='ratio',title='Evolution of ratio of female birth from 1880 to 2017.',labels={'ratio':'Ratio of female', 'year':'Year'})\n",
    "fig.show()\n",
    "\n",
    "# I ploted only the female ratio because the male ratio would just be the opposite and would be redondant."
   ]
  },
  {
   "cell_type": "markdown",
   "metadata": {
    "format": "text/markdown"
   },
   "source": [
    "\n",
    "1. Compute for each year, sex and name  the `row_number`, `rank`, and `dense_rank`\n",
    "of the name within that year and sex category, when names are sorted by increasing popularity.\n",
    "\n"
   ]
  },
  {
   "cell_type": "code",
   "execution_count": 170,
   "metadata": {
    "ExecuteTime": {
     "end_time": "2022-02-18T18:03:17.339276Z",
     "start_time": "2022-02-18T18:03:14.973931Z"
    },
    "autoscroll": "auto",
    "options": {
     "caption": false,
     "complete": true,
     "display_data": true,
     "display_stream": true,
     "dpi": 200,
     "echo": true,
     "evaluate": false,
     "f_env": null,
     "f_pos": "htpb",
     "f_size": [
      6,
      4
     ],
     "f_spines": true,
     "fig": true,
     "include": true,
     "name": null,
     "option_string": "evaluate=False",
     "results": "verbatim",
     "term": false,
     "wrap": "output"
    }
   },
   "outputs": [
    {
     "name": "stdout",
     "output_type": "stream",
     "text": [
      "+-------+-----+---+------+----------+----+----------+\n",
      "|   name|    n|sex|  year|row_number|rank|dense_rank|\n",
      "+-------+-----+---+------+----------+----+----------+\n",
      "| Robert|62147|  M|1930.0|         1|   1|         1|\n",
      "|  James|53944|  M|1930.0|         2|   2|         2|\n",
      "|   John|52432|  M|1930.0|         3|   3|         3|\n",
      "|William|47259|  M|1930.0|         4|   4|         4|\n",
      "|Richard|32178|  M|1930.0|         5|   5|         5|\n",
      "|Charles|31863|  M|1930.0|         6|   6|         6|\n",
      "| Donald|29046|  M|1930.0|         7|   7|         7|\n",
      "| George|22779|  M|1930.0|         8|   8|         8|\n",
      "| Joseph|20981|  M|1930.0|         9|   9|         9|\n",
      "| Edward|17347|  M|1930.0|        10|  10|        10|\n",
      "| Thomas|17013|  M|1930.0|        11|  11|        11|\n",
      "|   Paul|12960|  M|1930.0|        12|  12|        12|\n",
      "|  Frank|12539|  M|1930.0|        13|  13|        13|\n",
      "|   Jack|12431|  M|1930.0|        14|  14|        14|\n",
      "|  David|12272|  M|1930.0|        15|  15|        15|\n",
      "|Raymond|11715|  M|1930.0|        16|  16|        16|\n",
      "|Kenneth|11701|  M|1930.0|        17|  17|        17|\n",
      "| Harold|11659|  M|1930.0|        18|  18|        18|\n",
      "| Walter| 9728|  M|1930.0|        19|  19|        19|\n",
      "|  Billy| 9284|  M|1930.0|        20|  20|        20|\n",
      "+-------+-----+---+------+----------+----+----------+\n",
      "only showing top 20 rows\n",
      "\n"
     ]
    }
   ],
   "source": [
    "window = Window.partitionBy(df_sp['year'], df_sp['sex']).orderBy(df_sp['year'], df_sp['sex'], df_sp['n'].desc())\n",
    "\n",
    "df_fn = df_sp.withColumn('row_number', fn.row_number().over(window))\\\n",
    "        .withColumn('rank', fn.rank().over(window))\\\n",
    "        .withColumn('dense_rank', fn.dense_rank().over(window))\n",
    "\n",
    "df_fn.show()"
   ]
  },
  {
   "cell_type": "markdown",
   "metadata": {
    "format": "text/markdown"
   },
   "source": [
    "\n",
    "\n",
    "\n",
    "Evolution of top popular names through the century\n",
    "==================================================\n",
    "\n",
    "\n",
    "1. For each sex, select the ten most popular names in year 2000, and plot the proportion\n",
    "of newborns given that name over time. Take into account that some names might have\n",
    "zero occurrence during certain years.\n",
    "\n"
   ]
  },
  {
   "cell_type": "code",
   "execution_count": 198,
   "metadata": {
    "ExecuteTime": {
     "end_time": "2022-02-18T18:48:45.753458Z",
     "start_time": "2022-02-18T18:48:45.037926Z"
    },
    "autoscroll": "auto",
    "options": {
     "caption": false,
     "complete": true,
     "display_data": true,
     "display_stream": true,
     "dpi": 200,
     "echo": true,
     "evaluate": false,
     "f_env": null,
     "f_pos": "htpb",
     "f_size": [
      6,
      4
     ],
     "f_spines": true,
     "fig": true,
     "include": true,
     "name": null,
     "option_string": "evaluate=False",
     "results": "verbatim",
     "term": false,
     "wrap": "output"
    }
   },
   "outputs": [],
   "source": [
    "most_pop_2020_m = df_sp.where(df_sp['year'] == 2000).where(df_sp['sex'] == 'M').orderBy(df_sp['n'].desc()).limit(10)\n",
    "most_pop_2020_f = df_sp.where(df_sp['year'] == 2000).where(df_sp['sex'] == 'F').orderBy(df_sp['n'].desc()).limit(10)\n",
    "\n",
    "most_pop_2020_m = most_pop_2020_m.drop('n', 'sex', 'year')\n",
    "most_pop_2020_f = most_pop_2020_f.drop('n', 'sex', 'year')\n",
    "\n",
    "df_prop_m = df_sp.where(df_sp['sex'] == 'M').join(most_pop_2020_m, on=['name'])\n",
    "df_prop_f = df_sp.where(df_sp['sex'] == 'F').join(most_pop_2020_f, on=['name'])\n",
    "\n",
    "df_total_m = df_sp.where(df_sp['sex'] == 'M').groupBy('year', 'sex').sum('n').drop('sex')\n",
    "df_total_f = df_sp.where(df_sp['sex'] == 'F').groupBy('year', 'sex').sum('n').drop('sex')\n",
    "\n",
    "df_prop_m = df_prop_m.join(df_total_m, on=['year'])\n",
    "df_prop_f = df_prop_f.join(df_total_f, on=['year'])\n",
    "\n",
    "df_prop_m = df_prop_m.withColumn('ratio', df_prop_m['n'] / df_prop_m['sum(n)']).orderBy('year').drop('n')\n",
    "df_prop_f = df_prop_f.withColumn('ratio', df_prop_f['n'] / df_prop_f['sum(n)']).orderBy('year').drop('n')"
   ]
  },
  {
   "cell_type": "code",
   "execution_count": 202,
   "metadata": {
    "ExecuteTime": {
     "end_time": "2022-02-18T19:01:07.392107Z",
     "start_time": "2022-02-18T19:01:06.782389Z"
    }
   },
   "outputs": [
    {
     "data": {
      "application/vnd.plotly.v1+json": {
       "config": {
        "plotlyServerURL": "https://plot.ly"
       },
       "data": [
        {
         "hovertemplate": "Firstname=Joseph<br>Year=%{x}<br>Ratio=%{y}<extra></extra>",
         "legendgroup": "Joseph",
         "line": {
          "color": "#636efa",
          "dash": "solid"
         },
         "mode": "lines",
         "name": "Joseph",
         "showlegend": true,
         "type": "scattergl",
         "x": [
          1880,
          1881,
          1882,
          1883,
          1884,
          1885,
          1886,
          1887,
          1888,
          1889,
          1890,
          1891,
          1892,
          1893,
          1894,
          1895,
          1896,
          1897,
          1898,
          1899,
          1900,
          1901,
          1902,
          1903,
          1904,
          1905,
          1906,
          1907,
          1908,
          1909,
          1910,
          1911,
          1912,
          1913,
          1914,
          1915,
          1916,
          1917,
          1918,
          1919,
          1920,
          1921,
          1922,
          1923,
          1924,
          1925,
          1926,
          1927,
          1928,
          1929,
          1930,
          1931,
          1932,
          1933,
          1934,
          1935,
          1936,
          1937,
          1938,
          1939,
          1940,
          1941,
          1942,
          1943,
          1944,
          1945,
          1946,
          1947,
          1948,
          1949,
          1950,
          1951,
          1952,
          1953,
          1954,
          1955,
          1956,
          1957,
          1958,
          1959,
          1960,
          1961,
          1962,
          1963,
          1964,
          1965,
          1966,
          1967,
          1968,
          1969,
          1970,
          1971,
          1972,
          1973,
          1974,
          1975,
          1976,
          1977,
          1978,
          1979,
          1980,
          1981,
          1982,
          1983,
          1984,
          1985,
          1986,
          1987,
          1988,
          1989,
          1990,
          1991,
          1992,
          1993,
          1994,
          1995,
          1996,
          1997,
          1998,
          1999,
          2000,
          2001,
          2002,
          2003,
          2004,
          2005,
          2006,
          2007,
          2008,
          2009,
          2010,
          2011,
          2012,
          2013,
          2014,
          2015,
          2016,
          2017
         ],
         "xaxis": "x",
         "y": [
          0.023820944692327883,
          0.02437886503280625,
          0.023485741428144188,
          0.024037772276754566,
          0.02365390328725468,
          0.02356237070844813,
          0.023414933564413633,
          0.02421780245136225,
          0.024766034207412434,
          0.0246789654548743,
          0.024048637694213015,
          0.02541728019290253,
          0.025107345373496345,
          0.02668316743531758,
          0.025715001425252012,
          0.02548660505132246,
          0.02551707410907692,
          0.025071614179164044,
          0.025845627190480072,
          0.02522361359570662,
          0.024680528697593747,
          0.025979393062769446,
          0.025256807435186695,
          0.02617563929449062,
          0.025685853658536584,
          0.024956164217909183,
          0.02648733084005467,
          0.02618011428260085,
          0.02696661245699402,
          0.026512518445346894,
          0.02691889832297529,
          0.02871177589945568,
          0.02805462068580546,
          0.028232461770776835,
          0.028756794401672656,
          0.027164933996705137,
          0.026831997519363122,
          0.026755209605165628,
          0.025913069904016164,
          0.024755748181884963,
          0.024042856431518118,
          0.02376838804390161,
          0.023616526422482197,
          0.023317806374628474,
          0.022445605204174143,
          0.02205755844379288,
          0.021396451153384153,
          0.020857681641708262,
          0.020138712083046684,
          0.01967766709374134,
          0.01912102173203776,
          0.018597317237657188,
          0.01777760749418109,
          0.017311349066643802,
          0.01656628548292422,
          0.01650365045533439,
          0.016829257238952695,
          0.016237017699812086,
          0.015991530818909937,
          0.016007337260996856,
          0.015707709763284252,
          0.016122780674811658,
          0.016237018025762263,
          0.015992717395417678,
          0.01553574468834577,
          0.015469472019547896,
          0.014951771161969208,
          0.015039866880806062,
          0.015277948774070578,
          0.014889786824032714,
          0.01509369472714793,
          0.014952877935105063,
          0.014668583805932847,
          0.014841952332060402,
          0.01530941444838562,
          0.015349146457491402,
          0.01547805253312062,
          0.01475397516789918,
          0.014191035528279512,
          0.013838850029671754,
          0.013949808639164419,
          0.013871791574034946,
          0.014542200806412239,
          0.014817093731002385,
          0.015328188815188704,
          0.015400686528859361,
          0.015131782910969099,
          0.014871593479201842,
          0.014609518474274169,
          0.014636019351492497,
          0.014377879192898192,
          0.013859148496448865,
          0.013848578439016393,
          0.013678423646331171,
          0.013883087845909041,
          0.014174163870285467,
          0.01533401747818094,
          0.016116649206760574,
          0.016236432855458123,
          0.01664541497698314,
          0.01692567207841335,
          0.017177540137400225,
          0.017109452108468426,
          0.01699122153694235,
          0.016909401254682894,
          0.01635212296701215,
          0.015663324092770686,
          0.015277172710286183,
          0.015159395004084773,
          0.014932252695969256,
          0.01467500849998003,
          0.014771930015660672,
          0.013970141539460116,
          0.013774534630660185,
          0.013320534685268197,
          0.013317149935502854,
          0.013071060226993107,
          0.012516740988519555,
          0.012130321669669852,
          0.012092377217565363,
          0.011627794427726571,
          0.011331666507880514,
          0.011282270122006843,
          0.0108210601609608,
          0.010145172308615304,
          0.009625473381883265,
          0.008980201674680994,
          0.008359747427881323,
          0.008132004351856532,
          0.007528372737740145,
          0.007215771667409557,
          0.006837877325400467,
          0.006630803736027138,
          0.006481754795602942,
          0.006320882145779195,
          0.006006375523352135,
          0.005765855042635142,
          0.0056473461288968595
         ],
         "yaxis": "y"
        },
        {
         "hovertemplate": "Firstname=Andrew<br>Year=%{x}<br>Ratio=%{y}<extra></extra>",
         "legendgroup": "Andrew",
         "line": {
          "color": "#EF553B",
          "dash": "solid"
         },
         "mode": "lines",
         "name": "Andrew",
         "showlegend": true,
         "type": "scattergl",
         "x": [
          1880,
          1881,
          1882,
          1883,
          1884,
          1885,
          1886,
          1887,
          1888,
          1889,
          1890,
          1891,
          1892,
          1893,
          1894,
          1895,
          1896,
          1897,
          1898,
          1899,
          1900,
          1901,
          1902,
          1903,
          1904,
          1905,
          1906,
          1907,
          1908,
          1909,
          1910,
          1911,
          1912,
          1913,
          1914,
          1915,
          1916,
          1917,
          1918,
          1919,
          1920,
          1921,
          1922,
          1923,
          1924,
          1925,
          1926,
          1927,
          1928,
          1929,
          1930,
          1931,
          1932,
          1933,
          1934,
          1935,
          1936,
          1937,
          1938,
          1939,
          1940,
          1941,
          1942,
          1943,
          1944,
          1945,
          1946,
          1947,
          1948,
          1949,
          1950,
          1951,
          1952,
          1953,
          1954,
          1955,
          1956,
          1957,
          1958,
          1959,
          1960,
          1961,
          1962,
          1963,
          1964,
          1965,
          1966,
          1967,
          1968,
          1969,
          1970,
          1971,
          1972,
          1973,
          1974,
          1975,
          1976,
          1977,
          1978,
          1979,
          1980,
          1981,
          1982,
          1983,
          1984,
          1985,
          1986,
          1987,
          1988,
          1989,
          1990,
          1991,
          1992,
          1993,
          1994,
          1995,
          1996,
          1997,
          1998,
          1999,
          2000,
          2001,
          2002,
          2003,
          2004,
          2005,
          2006,
          2007,
          2008,
          2009,
          2010,
          2011,
          2012,
          2013,
          2014,
          2015,
          2016,
          2017
         ],
         "xaxis": "x",
         "y": [
          0.005828529020463205,
          0.005836633810785861,
          0.005919814225146456,
          0.005954485935752722,
          0.005382639240838154,
          0.005556637816677335,
          0.005542316580011554,
          0.005127547750288425,
          0.005088911138509404,
          0.005073250135648399,
          0.005179013735645125,
          0.005148679230366337,
          0.005219771215051296,
          0.00462971206752257,
          0.005130907237688846,
          0.004787256697474339,
          0.004733747605944784,
          0.00492208909424692,
          0.004980030972369386,
          0.005442048771302137,
          0.004771303070778759,
          0.004498962139214232,
          0.004549160280450024,
          0.00462120386134711,
          0.004269268292682927,
          0.004685893947638914,
          0.004588533922107571,
          0.004821935721145005,
          0.004678013982207996,
          0.00467078866815449,
          0.004551703541987405,
          0.004859052086560163,
          0.004526139268328422,
          0.004335051486052528,
          0.0045283283977353775,
          0.0042104940642993,
          0.004182704298647109,
          0.0040529355960332875,
          0.0040838516670876485,
          0.00392904658129076,
          0.003782444609170878,
          0.0036451519479092807,
          0.003495613482923046,
          0.003418302835905043,
          0.003306899909338329,
          0.0032394098628605018,
          0.003010198476801752,
          0.0030509151414309485,
          0.002837620912625111,
          0.002861834214446033,
          0.002785995111521826,
          0.002610031641703168,
          0.0025344584821984464,
          0.0023645359951175965,
          0.002367304082340338,
          0.0022015112817847992,
          0.0021965878639966904,
          0.0022532659697764175,
          0.0021713999217286076,
          0.002204792713340803,
          0.0020966621656017983,
          0.0022058895377810492,
          0.0022761227266835018,
          0.002346944067186092,
          0.0022411981236753887,
          0.0022346609513249674,
          0.0023149103257070823,
          0.0023740828649489597,
          0.0024549367769706753,
          0.002546655323141074,
          0.002753345482307382,
          0.002856108024399596,
          0.002866966579654874,
          0.002852426617102182,
          0.002771798410914085,
          0.0029213110980195792,
          0.003119739520201662,
          0.003242478979551508,
          0.0033503009612369473,
          0.0033243614947814273,
          0.0038497269924998557,
          0.0039950005959523294,
          0.004207052940803966,
          0.004686673180720697,
          0.005267779193802494,
          0.005201090192352748,
          0.0057385398790959835,
          0.0057193144390330596,
          0.0060765152033662685,
          0.006310026290844705,
          0.006453694913795654,
          0.006175198359310168,
          0.006240458262274288,
          0.006884746710585386,
          0.007491451010907232,
          0.008172773468157103,
          0.00848301390648619,
          0.009754429766767289,
          0.010192519965247653,
          0.010820361673564757,
          0.0110564394555002,
          0.011293903290649986,
          0.012585617523535347,
          0.014269814304961631,
          0.01436512158896943,
          0.016327767704922468,
          0.018392033450728134,
          0.01940002668548583,
          0.018679669643001814,
          0.0174028808664296,
          0.01639448870062827,
          0.01561066470466785,
          0.015292832577164073,
          0.013932135667460792,
          0.013466020935523185,
          0.013583020042717865,
          0.013324518613878325,
          0.013369443636726385,
          0.01237943863898398,
          0.012427900307962265,
          0.01204247239767923,
          0.011538689319013397,
          0.011347208500124465,
          0.01122075195755263,
          0.010939725385113725,
          0.01038559015024958,
          0.009602582246277648,
          0.008896549994501752,
          0.008222790713880155,
          0.007500104743016165,
          0.007430287555677572,
          0.007000332294254474,
          0.006664610112120959,
          0.006173326924534271,
          0.005822249860200216,
          0.005286406353741012,
          0.004963336107211448,
          0.004478083827112712
         ],
         "yaxis": "y"
        },
        {
         "hovertemplate": "Firstname=Daniel<br>Year=%{x}<br>Ratio=%{y}<extra></extra>",
         "legendgroup": "Daniel",
         "line": {
          "color": "#00cc96",
          "dash": "solid"
         },
         "mode": "lines",
         "name": "Daniel",
         "showlegend": true,
         "type": "scattergl",
         "x": [
          1880,
          1881,
          1882,
          1883,
          1884,
          1885,
          1886,
          1887,
          1888,
          1889,
          1890,
          1891,
          1892,
          1893,
          1894,
          1895,
          1896,
          1897,
          1898,
          1899,
          1900,
          1901,
          1902,
          1903,
          1904,
          1905,
          1906,
          1907,
          1908,
          1909,
          1910,
          1911,
          1912,
          1913,
          1914,
          1915,
          1916,
          1917,
          1918,
          1919,
          1920,
          1921,
          1922,
          1923,
          1924,
          1925,
          1926,
          1927,
          1928,
          1929,
          1930,
          1931,
          1932,
          1933,
          1934,
          1935,
          1936,
          1937,
          1938,
          1939,
          1940,
          1941,
          1942,
          1943,
          1944,
          1945,
          1946,
          1947,
          1948,
          1949,
          1950,
          1951,
          1952,
          1953,
          1954,
          1955,
          1956,
          1957,
          1958,
          1959,
          1960,
          1961,
          1962,
          1963,
          1964,
          1965,
          1966,
          1967,
          1968,
          1969,
          1970,
          1971,
          1972,
          1973,
          1974,
          1975,
          1976,
          1977,
          1978,
          1979,
          1980,
          1981,
          1982,
          1983,
          1984,
          1985,
          1986,
          1987,
          1988,
          1989,
          1990,
          1991,
          1992,
          1993,
          1994,
          1995,
          1996,
          1997,
          1998,
          1999,
          2000,
          2001,
          2002,
          2003,
          2004,
          2005,
          2006,
          2007,
          2008,
          2009,
          2010,
          2011,
          2012,
          2013,
          2014,
          2015,
          2016,
          2017
         ],
         "xaxis": "x",
         "y": [
          0.005819478509561864,
          0.005231132684156716,
          0.005224917755924212,
          0.005878023837059268,
          0.005006903060065361,
          0.00496294028701565,
          0.0050097487001733105,
          0.005492392494058947,
          0.0046834531778802,
          0.004657261710978477,
          0.0045485251069578925,
          0.004990562401794626,
          0.004367563669736799,
          0.0046475186523976565,
          0.004448513850858174,
          0.004395417181310959,
          0.0046919300475883816,
          0.004611687079294412,
          0.004262776102371832,
          0.004566425007061482,
          0.00397387080268203,
          0.003907240605246598,
          0.0040844611120169575,
          0.0036231580183338505,
          0.0036839024390243904,
          0.0036580204365439265,
          0.0037999969960498055,
          0.003596019859836953,
          0.0034339991836152884,
          0.0034695545067622777,
          0.0035630982478000958,
          0.0035225914944461653,
          0.0035446229418974896,
          0.0036639184027032617,
          0.003550881458595195,
          0.0035376163394980403,
          0.0035378285888906114,
          0.0036304621708002794,
          0.0036763545087143217,
          0.0035995004774847573,
          0.0036603090405687385,
          0.0037123353212954045,
          0.003935781426750632,
          0.003890862448661598,
          0.0038868874268063697,
          0.00407816162818206,
          0.004064623369513343,
          0.004096283971159179,
          0.004004088052017934,
          0.0040621681880814555,
          0.004069175064751375,
          0.0041935598695850024,
          0.004259537743891342,
          0.004349777820369913,
          0.0043578154936371434,
          0.004408785682108302,
          0.004642919475480275,
          0.0048047169492860435,
          0.005033535865070219,
          0.00523818990132649,
          0.005366764884791434,
          0.005739872776603402,
          0.0061599427022494,
          0.006422735854213357,
          0.006835140577574516,
          0.0072130426317127145,
          0.00792390294250413,
          0.008302456954373658,
          0.009409356005161807,
          0.010279647223119593,
          0.010719058791465634,
          0.011218907031506409,
          0.012046916429595529,
          0.011915970342473815,
          0.01239581222427377,
          0.0128421127271544,
          0.012595818205388055,
          0.01266607847448554,
          0.012077115864771386,
          0.011781514637596784,
          0.012175248164122458,
          0.0121922895546281,
          0.012349003151301633,
          0.012219512135091964,
          0.012218899581547971,
          0.013351739643495064,
          0.013045703691536101,
          0.012732010330999017,
          0.012663768267649646,
          0.012957630604689428,
          0.012654599044235697,
          0.012317044768492243,
          0.013627311820136741,
          0.015197749678690442,
          0.015157092243894284,
          0.015250253178656432,
          0.01574552359694568,
          0.01586357182226667,
          0.016101271310013706,
          0.01656470500796648,
          0.01675362448792024,
          0.01730146493625967,
          0.017994490279183803,
          0.019384587060763032,
          0.02024173704861342,
          0.020859470137742538,
          0.019866938070846486,
          0.0192162290622088,
          0.01813398787269307,
          0.017496366796797082,
          0.01647145127051564,
          0.015308640997292185,
          0.01459718022904942,
          0.014628844457977392,
          0.014527397494322929,
          0.014039097617940453,
          0.013259569902238987,
          0.012699804095944171,
          0.012117237795231085,
          0.01182093695343992,
          0.011366455608825203,
          0.010806384748289617,
          0.010985408964897714,
          0.01065743474866782,
          0.01057673159382003,
          0.01012553701723566,
          0.009768647797853906,
          0.009766623516678981,
          0.009324495485464122,
          0.00885293020480667,
          0.008265385904166202,
          0.008058926847793408,
          0.0075382936442956495,
          0.007572911129847604,
          0.007273765832880388,
          0.00706355207131203,
          0.006839938762935059,
          0.006345087735555931
         ],
         "yaxis": "y"
        },
        {
         "hovertemplate": "Firstname=Jacob<br>Year=%{x}<br>Ratio=%{y}<extra></extra>",
         "legendgroup": "Jacob",
         "line": {
          "color": "#ab63fa",
          "dash": "solid"
         },
         "mode": "lines",
         "name": "Jacob",
         "showlegend": true,
         "type": "scattergl",
         "x": [
          1880,
          1881,
          1882,
          1883,
          1884,
          1885,
          1886,
          1887,
          1888,
          1889,
          1890,
          1891,
          1892,
          1893,
          1894,
          1895,
          1896,
          1897,
          1898,
          1899,
          1900,
          1901,
          1902,
          1903,
          1904,
          1905,
          1906,
          1907,
          1908,
          1909,
          1910,
          1911,
          1912,
          1913,
          1914,
          1915,
          1916,
          1917,
          1918,
          1919,
          1920,
          1921,
          1922,
          1923,
          1924,
          1925,
          1926,
          1927,
          1928,
          1929,
          1930,
          1931,
          1932,
          1933,
          1934,
          1935,
          1936,
          1937,
          1938,
          1939,
          1940,
          1941,
          1942,
          1943,
          1944,
          1945,
          1946,
          1947,
          1948,
          1949,
          1950,
          1951,
          1952,
          1953,
          1954,
          1955,
          1956,
          1957,
          1958,
          1959,
          1960,
          1961,
          1962,
          1963,
          1964,
          1965,
          1966,
          1967,
          1968,
          1969,
          1970,
          1971,
          1972,
          1973,
          1974,
          1975,
          1976,
          1977,
          1978,
          1979,
          1980,
          1981,
          1982,
          1983,
          1984,
          1985,
          1986,
          1987,
          1988,
          1989,
          1990,
          1991,
          1992,
          1993,
          1994,
          1995,
          1996,
          1997,
          1998,
          1999,
          2000,
          2001,
          2002,
          2003,
          2004,
          2005,
          2006,
          2007,
          2008,
          2009,
          2010,
          2011,
          2012,
          2013,
          2014,
          2015,
          2016,
          2017
         ],
         "xaxis": "x",
         "y": [
          0.0036564064041415137,
          0.003781900479437777,
          0.0034305015569199375,
          0.003402563391858698,
          0.003329197322661261,
          0.003181847698030594,
          0.0031231946851530907,
          0.003125831993925828,
          0.0029209522469818205,
          0.0026677518538614576,
          0.0026120243188471064,
          0.0023519878250041998,
          0.0023189878396538727,
          0.002599761391762674,
          0.002522264163981722,
          0.002265854593466502,
          0.0020156063127786095,
          0.0018092003157231923,
          0.0020865596218110683,
          0.0017794934563600414,
          0.0015483476538878146,
          0.001615493711784651,
          0.0016875917169411382,
          0.0015851316330210597,
          0.0018965853658536585,
          0.001662736562065421,
          0.0014043467159314499,
          0.0016549864127658705,
          0.0015226222795275334,
          0.0015975804582982719,
          0.001405673152672581,
          0.00142939328229411,
          0.0016071748378288487,
          0.0014515203895693433,
          0.0015226790598793158,
          0.0013221870529369758,
          0.0012717757899727445,
          0.0012123150463208075,
          0.0011820377620611266,
          0.0011039284344213456,
          0.0009864795925557431,
          0.000993224466005667,
          0.0009437421259100863,
          0.0008894703135861801,
          0.0008562981612541855,
          0.0008073881843533368,
          0.0007293630769397006,
          0.0007587354409317804,
          0.0006473350920624259,
          0.000601561642867636,
          0.0005668593259295308,
          0.000550290489883602,
          0.0005344776391030737,
          0.0005437222275462391,
          0.000529834424320853,
          0.0004572074040704906,
          0.0004830950482275426,
          0.0005026011484811318,
          0.0004391494027748471,
          0.00038583872483464055,
          0.0004434915033412857,
          0.0003794553431546582,
          0.0003794744857722414,
          0.00033357580650360697,
          0.0003214292004485332,
          0.0003098947844038947,
          0.00028081912969471387,
          0.0002848024804601446,
          0.00031349320346734885,
          0.0002762588240733067,
          0.0002596968862622581,
          0.0002665984061451464,
          0.0002890108013930115,
          0.0003013233879706022,
          0.00027526622561918954,
          0.00027974649916197465,
          0.0002531180836075052,
          0.0002514196862542085,
          0.0002395429821686656,
          0.00026109268931094967,
          0.00023026141470549753,
          0.00023979425746930845,
          0.0002300996437806145,
          0.00024070824339590598,
          0.0002634140467421954,
          0.0002622308104006758,
          0.0002556442150124823,
          0.0002585616291102556,
          0.000318636007824412,
          0.000366082127591079,
          0.0004921352484476226,
          0.000596378091273547,
          0.0010385355231537952,
          0.0013647639497089616,
          0.0018811272523145367,
          0.0023211777704658615,
          0.002874172767595231,
          0.003525440969091708,
          0.0037522549755582874,
          0.004381564217264269,
          0.004777543025908013,
          0.005220471706907803,
          0.005543887918677887,
          0.006137392570524783,
          0.006289485934694421,
          0.00664195058587936,
          0.007414723079187982,
          0.007672345102275608,
          0.008296035496494622,
          0.008913658494396593,
          0.010721178248234488,
          0.012472093752119736,
          0.012851788988459383,
          0.014016801596615811,
          0.01522842376779359,
          0.016356265943668114,
          0.016856566842785043,
          0.01812112516422618,
          0.018848106161510485,
          0.018423031055162808,
          0.017560644105943598,
          0.01675803307730139,
          0.015754256684916413,
          0.015009972031705843,
          0.01405542209371794,
          0.01294252875866969,
          0.01209746148594092,
          0.011706926055325872,
          0.01108624164581443,
          0.010685806791284775,
          0.011543668858451874,
          0.010741543638674831,
          0.010072715402079303,
          0.009617438151467761,
          0.008807778037101375,
          0.008345359000190596,
          0.007664691072559146,
          0.007144219919432649
         ],
         "yaxis": "y"
        },
        {
         "hovertemplate": "Firstname=Michael<br>Year=%{x}<br>Ratio=%{y}<extra></extra>",
         "legendgroup": "Michael",
         "line": {
          "color": "#FFA15A",
          "dash": "solid"
         },
         "mode": "lines",
         "name": "Michael",
         "showlegend": true,
         "type": "scattergl",
         "x": [
          1880,
          1881,
          1882,
          1883,
          1884,
          1885,
          1886,
          1887,
          1888,
          1889,
          1890,
          1891,
          1892,
          1893,
          1894,
          1895,
          1896,
          1897,
          1898,
          1899,
          1900,
          1901,
          1902,
          1903,
          1904,
          1905,
          1906,
          1907,
          1908,
          1909,
          1910,
          1911,
          1912,
          1913,
          1914,
          1915,
          1916,
          1917,
          1918,
          1919,
          1920,
          1921,
          1922,
          1923,
          1924,
          1925,
          1926,
          1927,
          1928,
          1929,
          1930,
          1931,
          1932,
          1933,
          1934,
          1935,
          1936,
          1937,
          1938,
          1939,
          1940,
          1941,
          1942,
          1943,
          1944,
          1945,
          1946,
          1947,
          1948,
          1949,
          1950,
          1951,
          1952,
          1953,
          1954,
          1955,
          1956,
          1957,
          1958,
          1959,
          1960,
          1961,
          1962,
          1963,
          1964,
          1965,
          1966,
          1967,
          1968,
          1969,
          1970,
          1971,
          1972,
          1973,
          1974,
          1975,
          1976,
          1977,
          1978,
          1979,
          1980,
          1981,
          1982,
          1983,
          1984,
          1985,
          1986,
          1987,
          1988,
          1989,
          1990,
          1991,
          1992,
          1993,
          1994,
          1995,
          1996,
          1997,
          1998,
          1999,
          2000,
          2001,
          2002,
          2003,
          2004,
          2005,
          2006,
          2007,
          2008,
          2009,
          2010,
          2011,
          2012,
          2013,
          2014,
          2015,
          2016,
          2017
         ],
         "xaxis": "x",
         "y": [
          0.003203880859074495,
          0.002958021897303038,
          0.002823566666080256,
          0.002934233037361293,
          0.00325929291693609,
          0.0034323138433566174,
          0.0031412478336221837,
          0.0034019307189413588,
          0.0038559879521063126,
          0.0034092964369687104,
          0.0035487502814681377,
          0.0032908064946487337,
          0.003113835261726048,
          0.0036236400220801654,
          0.003653827881384481,
          0.0035180373951190424,
          0.0033370411568409346,
          0.003263655471500661,
          0.003537370608851577,
          0.0035307409848413522,
          0.003289408105899005,
          0.003606683635612244,
          0.0037502038154247513,
          0.003908313973480496,
          0.0036058536585365855,
          0.0038771993469980046,
          0.003987743883206416,
          0.003991037192925103,
          0.004464198938699875,
          0.0038719984390053535,
          0.004345744105698383,
          0.005128999424702394,
          0.004893626423721994,
          0.005086174268289352,
          0.005134650952170772,
          0.004809131339604098,
          0.004729837522778493,
          0.004634241741238809,
          0.004238759787825209,
          0.003989242309230556,
          0.003760836008572038,
          0.0038112946145263163,
          0.0036683725088929547,
          0.003570653135770573,
          0.003418130392140419,
          0.0033693446983002733,
          0.0031398630238132544,
          0.0032,
          0.0032493151971166954,
          0.003219795933926775,
          0.0032307336180388856,
          0.00335561753271679,
          0.0034578212852367316,
          0.003576058064288344,
          0.003976179729135469,
          0.004714230964659597,
          0.005594645648335733,
          0.006652901396406027,
          0.008186033425852283,
          0.009780605052951169,
          0.011414297855451106,
          0.012972324188405278,
          0.01573370740054908,
          0.01733963483260241,
          0.01961011665384864,
          0.022219530357055272,
          0.025359322240567157,
          0.027605614708708832,
          0.02996140043683853,
          0.0338495990582393,
          0.03638604696101587,
          0.03866154854374604,
          0.04066515681664373,
          0.04270117648013701,
          0.04343122048922806,
          0.04290174826991846,
          0.04287394530189181,
          0.04299879671094808,
          0.04268391879115672,
          0.03996311889982947,
          0.03947881196365152,
          0.04094969832563306,
          0.04110710800036158,
          0.041244791423107496,
          0.041470402295967004,
          0.04353622546691056,
          0.04484537729666334,
          0.04726632707759429,
          0.0471661813314959,
          0.04762309301951246,
          0.045880451473582017,
          0.04386120614218558,
          0.04400986886100697,
          0.043512112280053666,
          0.04296459043365101,
          0.04382071238264481,
          0.04265649494885794,
          0.04113115857123216,
          0.040888194004306905,
          0.03932898080147902,
          0.038496629100140664,
          0.03838598555662052,
          0.03759924303335536,
          0.03793400671146556,
          0.03753851610471947,
          0.0351289475820637,
          0.03487891386176748,
          0.03410544410703559,
          0.033521272964761185,
          0.0326860807448479,
          0.03179918029992021,
          0.03009591975873752,
          0.027238119945690035,
          0.025272269817055288,
          0.023024105156011998,
          0.021754059642126226,
          0.020258189610107075,
          0.019923633500230287,
          0.0191621191480409,
          0.01766810410176978,
          0.01631966679045874,
          0.015285184221977891,
          0.014557535145320237,
          0.01373744250947685,
          0.012832838838319037,
          0.011931378041093406,
          0.011021687868838408,
          0.01060438277833189,
          0.01011752662616777,
          0.009558115716045973,
          0.009051422224681123,
          0.008855378156136103,
          0.008532940615931043,
          0.00820937482942402,
          0.008061657056899948,
          0.0075468477393491685,
          0.00744129859845044,
          0.006856946617315984
         ],
         "yaxis": "y"
        },
        {
         "hovertemplate": "Firstname=Matthew<br>Year=%{x}<br>Ratio=%{y}<extra></extra>",
         "legendgroup": "Matthew",
         "line": {
          "color": "#19d3f3",
          "dash": "solid"
         },
         "mode": "lines",
         "name": "Matthew",
         "showlegend": true,
         "type": "scattergl",
         "x": [
          1880,
          1881,
          1882,
          1883,
          1884,
          1885,
          1886,
          1887,
          1888,
          1889,
          1890,
          1891,
          1892,
          1893,
          1894,
          1895,
          1896,
          1897,
          1898,
          1899,
          1900,
          1901,
          1902,
          1903,
          1904,
          1905,
          1906,
          1907,
          1908,
          1909,
          1910,
          1911,
          1912,
          1913,
          1914,
          1915,
          1916,
          1917,
          1918,
          1919,
          1920,
          1921,
          1922,
          1923,
          1924,
          1925,
          1926,
          1927,
          1928,
          1929,
          1930,
          1931,
          1932,
          1933,
          1934,
          1935,
          1936,
          1937,
          1938,
          1939,
          1940,
          1941,
          1942,
          1943,
          1944,
          1945,
          1946,
          1947,
          1948,
          1949,
          1950,
          1951,
          1952,
          1953,
          1954,
          1955,
          1956,
          1957,
          1958,
          1959,
          1960,
          1961,
          1962,
          1963,
          1964,
          1965,
          1966,
          1967,
          1968,
          1969,
          1970,
          1971,
          1972,
          1973,
          1974,
          1975,
          1976,
          1977,
          1978,
          1979,
          1980,
          1981,
          1982,
          1983,
          1984,
          1985,
          1986,
          1987,
          1988,
          1989,
          1990,
          1991,
          1992,
          1993,
          1994,
          1995,
          1996,
          1997,
          1998,
          1999,
          2000,
          2001,
          2002,
          2003,
          2004,
          2005,
          2006,
          2007,
          2008,
          2009,
          2010,
          2011,
          2012,
          2013,
          2014,
          2015,
          2016,
          2017
         ],
         "xaxis": "x",
         "y": [
          0.001022707731851463,
          0.000794099838202158,
          0.0009587812043699313,
          0.0008219675609546293,
          0.0010223519337306233,
          0.0010296941530069852,
          0.0010109763142692085,
          0.0010649522250599035,
          0.0009433103573822311,
          0.0010671007415445832,
          0.0007746003152443143,
          0.0011167001017877085,
          0.0010816480382837852,
          0.0009615555832546876,
          0.001071098480594978,
          0.0009540440393543166,
          0.0010287119355675061,
          0.00088686289986431,
          0.0010840329285190318,
          0.0009509462385839375,
          0.0008638849571047893,
          0.0008453164770966196,
          0.0008478721669655959,
          0.0008554678654399369,
          0.0007570731707317073,
          0.0008086946006409094,
          0.0010213430661319635,
          0.0008445198155677693,
          0.000984845048885894,
          0.0008963523945413968,
          0.0010143502237234376,
          0.0009735805637916538,
          0.0008838298674022612,
          0.0009579254183851446,
          0.0009362108963952063,
          0.0009403790269551753,
          0.0009268683981691822,
          0.0009313864259612621,
          0.000950168918918919,
          0.000896814319645437,
          0.0009085007295251463,
          0.0008307133330851785,
          0.000903309162385214,
          0.0008529792237980291,
          0.0007512471497188782,
          0.0007527259432372951,
          0.0006978473884299604,
          0.0007010537992235163,
          0.0007078252610557069,
          0.0006759432988636343,
          0.0005987565548805495,
          0.0005839621107680881,
          0.0006733651976513635,
          0.0005860901933290629,
          0.0005908574018934558,
          0.0006281799207186993,
          0.0005862710365715487,
          0.0005682393581708319,
          0.0005482604453534026,
          0.0005611378176166552,
          0.0005729150938105325,
          0.0005936114702998837,
          0.0006090420659054486,
          0.0005739466082488532,
          0.0005614003158518901,
          0.0005425016609468661,
          0.0005493216308940456,
          0.0005717915442635533,
          0.0006007669753719739,
          0.000687264299072165,
          0.0007277097694617684,
          0.0008523713981333863,
          0.0010490783538109315,
          0.0012037717165896279,
          0.001317941322661574,
          0.0015934865690111787,
          0.0020618478660962758,
          0.002422813692445998,
          0.0030051327270883975,
          0.0030740500116718276,
          0.003249921800222195,
          0.0033330930679673033,
          0.0035235216460439054,
          0.003954703532602677,
          0.004507139775019317,
          0.005368745956379409,
          0.006058655771140123,
          0.007785514242388628,
          0.009109883985434768,
          0.009765170890490584,
          0.01086516300971631,
          0.012752881269318693,
          0.014143189703151416,
          0.01574352699128552,
          0.01730713359817876,
          0.018277514534567368,
          0.019098725159140118,
          0.019451673778384516,
          0.020890373636436144,
          0.020705300612698988,
          0.021217334775469488,
          0.024187664570179117,
          0.02538285064953315,
          0.028014092403993406,
          0.027584735430382833,
          0.025477227829946148,
          0.025490589130686327,
          0.024906989293118627,
          0.023974455402798345,
          0.022682086346004927,
          0.021822298297178785,
          0.02061485095130041,
          0.01889930670155112,
          0.01824346759003533,
          0.017420036925549352,
          0.017274200879052747,
          0.016935772588686674,
          0.016721355664556223,
          0.016298320710883534,
          0.015846172041027597,
          0.014555502404775622,
          0.013804610634895704,
          0.012962421809811983,
          0.012155899050719319,
          0.011531606928139834,
          0.010756378817745344,
          0.009901110642512976,
          0.009035453084516743,
          0.008626667340612274,
          0.008068493351216205,
          0.0073728745442189795,
          0.0074681815065061104,
          0.0073761286839706015,
          0.007063634181227341,
          0.006734407559578726,
          0.006669270773335903,
          0.006672659090379725,
          0.006329279527280062
         ],
         "yaxis": "y"
        },
        {
         "hovertemplate": "Firstname=Christopher<br>Year=%{x}<br>Ratio=%{y}<extra></extra>",
         "legendgroup": "Christopher",
         "line": {
          "color": "#FF6692",
          "dash": "solid"
         },
         "mode": "lines",
         "name": "Christopher",
         "showlegend": true,
         "type": "scattergl",
         "x": [
          1880,
          1881,
          1882,
          1883,
          1884,
          1885,
          1886,
          1887,
          1888,
          1889,
          1890,
          1891,
          1892,
          1893,
          1894,
          1895,
          1896,
          1897,
          1898,
          1899,
          1900,
          1901,
          1902,
          1903,
          1904,
          1905,
          1906,
          1907,
          1908,
          1909,
          1910,
          1911,
          1912,
          1913,
          1914,
          1915,
          1916,
          1917,
          1918,
          1919,
          1920,
          1921,
          1922,
          1923,
          1924,
          1925,
          1926,
          1927,
          1928,
          1929,
          1930,
          1931,
          1932,
          1933,
          1934,
          1935,
          1936,
          1937,
          1938,
          1939,
          1940,
          1941,
          1942,
          1943,
          1944,
          1945,
          1946,
          1947,
          1948,
          1949,
          1950,
          1951,
          1952,
          1953,
          1954,
          1955,
          1956,
          1957,
          1958,
          1959,
          1960,
          1961,
          1962,
          1963,
          1964,
          1965,
          1966,
          1967,
          1968,
          1969,
          1970,
          1971,
          1972,
          1973,
          1974,
          1975,
          1976,
          1977,
          1978,
          1979,
          1980,
          1981,
          1982,
          1983,
          1984,
          1985,
          1986,
          1987,
          1988,
          1989,
          1990,
          1991,
          1992,
          1993,
          1994,
          1995,
          1996,
          1997,
          1998,
          1999,
          2000,
          2001,
          2002,
          2003,
          2004,
          2005,
          2006,
          2007,
          2008,
          2009,
          2010,
          2011,
          2012,
          2013,
          2014,
          2015,
          2016,
          2017
         ],
         "xaxis": "x",
         "y": [
          0.0008597985356273362,
          0.0006749848624718343,
          0.0007828580476048063,
          0.0008506408479646746,
          0.0005941874486639521,
          0.000658633196968432,
          0.0005957538994800693,
          0.0005521974500310611,
          0.0006536975283613706,
          0.0006420690902514017,
          0.0005944607070479622,
          0.0006127027107153798,
          0.0008194303320331705,
          0.0008280061966915365,
          0.0006219281500228904,
          0.0005110950210826696,
          0.0006105363520034793,
          0.0005055118529226567,
          0.0003504768114760779,
          0.0003954429903022314,
          0.0003654897895443339,
          0.0003193417802365008,
          0.00038317299853252894,
          0.00041934699286271416,
          0.000335609756097561,
          0.00037789467319668664,
          0.0003679838988269575,
          0.00035415347104454843,
          0.0003498791621041992,
          0.0003048817668508153,
          0.00036042901350579,
          0.0003673053945213966,
          0.0003512060788887933,
          0.00030630201769138026,
          0.0003054521684813071,
          0.0002851775996530732,
          0.00029210398002907557,
          0.0002841701044406171,
          0.000268375852488002,
          0.0002683301092909555,
          0.0002752747815417455,
          0.0002641940764238109,
          0.00028211181368490405,
          0.0002691217871876135,
          0.000262186138033498,
          0.0002562852616260314,
          0.00024312102564656685,
          0.00025379922351636164,
          0.00024015499928675772,
          0.00025475717178629405,
          0.000243330289426342,
          0.00022800497570352041,
          0.00023371423645367383,
          0.00020982230673398465,
          0.00026249566543135494,
          0.00025837981448521423,
          0.0002671004558064457,
          0.0002756804806967402,
          0.0002777371992908684,
          0.00032439368200383125,
          0.00043141196823082265,
          0.00050404046655093,
          0.0005880406153569848,
          0.0006230018739111483,
          0.0007360581918947004,
          0.0008457080687089501,
          0.000985330279630575,
          0.0012419793389739895,
          0.0017316224584251014,
          0.0022551740740678096,
          0.0027008476171274842,
          0.0030441076972589224,
          0.003238772290343748,
          0.0030771509620028162,
          0.002980333430322562,
          0.003839229298394809,
          0.003960943170022492,
          0.004159093924271648,
          0.005222791477362481,
          0.006048256678957242,
          0.007201882984994553,
          0.008115316069089013,
          0.008471147389940101,
          0.009035665676432004,
          0.009852688830240937,
          0.01323781970127182,
          0.015628495135752124,
          0.016869569704144726,
          0.018096684747630504,
          0.019953991021765958,
          0.022468797818469326,
          0.027266067160652385,
          0.03216501682304279,
          0.030990659576050957,
          0.03090287115072985,
          0.029825790039036244,
          0.02880096926890141,
          0.028437137646112647,
          0.02877297061332291,
          0.0294260417973123,
          0.027511922841979612,
          0.028041055950930246,
          0.032637849103747306,
          0.03310710729139644,
          0.033264059763694,
          0.032257191567667036,
          0.030792097118802344,
          0.029198101150851766,
          0.027700144731113218,
          0.026583999108134224,
          0.02549117219839197,
          0.023320686296887324,
          0.021265726676239192,
          0.01949764542010877,
          0.018017514266454183,
          0.017167537575170044,
          0.016317439732347942,
          0.015442567001097317,
          0.014131107748846133,
          0.013339126837627143,
          0.012700659052690083,
          0.011907931497078764,
          0.011174039491810806,
          0.010509513323313176,
          0.009894605761013963,
          0.009602925422373388,
          0.009583102416180727,
          0.00965183554645826,
          0.008804314167923363,
          0.008251225745681937,
          0.007449599204986372,
          0.006854228312525384,
          0.0062816472579331414,
          0.005749371088013762,
          0.005404025293971144,
          0.005134034696754222,
          0.004792350872289381,
          0.004499888252320809
         ],
         "yaxis": "y"
        },
        {
         "hovertemplate": "Firstname=Nicholas<br>Year=%{x}<br>Ratio=%{y}<extra></extra>",
         "legendgroup": "Nicholas",
         "line": {
          "color": "#B6E880",
          "dash": "solid"
         },
         "mode": "lines",
         "name": "Nicholas",
         "showlegend": true,
         "type": "scattergl",
         "x": [
          1880,
          1881,
          1882,
          1883,
          1884,
          1885,
          1886,
          1887,
          1888,
          1889,
          1890,
          1891,
          1892,
          1893,
          1894,
          1895,
          1896,
          1897,
          1898,
          1899,
          1900,
          1901,
          1902,
          1903,
          1904,
          1905,
          1906,
          1907,
          1908,
          1909,
          1910,
          1911,
          1912,
          1913,
          1914,
          1915,
          1916,
          1917,
          1918,
          1919,
          1920,
          1921,
          1922,
          1923,
          1924,
          1925,
          1926,
          1927,
          1928,
          1929,
          1930,
          1931,
          1932,
          1933,
          1934,
          1935,
          1936,
          1937,
          1938,
          1939,
          1940,
          1941,
          1942,
          1943,
          1944,
          1945,
          1946,
          1947,
          1948,
          1949,
          1950,
          1951,
          1952,
          1953,
          1954,
          1955,
          1956,
          1957,
          1958,
          1959,
          1960,
          1961,
          1962,
          1963,
          1964,
          1965,
          1966,
          1967,
          1968,
          1969,
          1970,
          1971,
          1972,
          1973,
          1974,
          1975,
          1976,
          1977,
          1978,
          1979,
          1980,
          1981,
          1982,
          1983,
          1984,
          1985,
          1986,
          1987,
          1988,
          1989,
          1990,
          1991,
          1992,
          1993,
          1994,
          1995,
          1996,
          1997,
          1998,
          1999,
          2000,
          2001,
          2002,
          2003,
          2004,
          2005,
          2006,
          2007,
          2008,
          2009,
          2010,
          2011,
          2012,
          2013,
          2014,
          2015,
          2016,
          2017
         ],
         "xaxis": "x",
         "y": [
          0.0006606872957978478,
          0.0005558698867415106,
          0.0005805464173249125,
          0.0006786011259044033,
          0.0006029254993795984,
          0.0006122505774636128,
          0.0007672588099364529,
          0.0007789928312938183,
          0.0008026412690006703,
          0.0006149394103816242,
          0.0007025444719657735,
          0.0007708195392870907,
          0.000778458815431512,
          0.000792393026941363,
          0.0006651176048855912,
          0.0007155330295157375,
          0.000886532237155737,
          0.0007715707228819497,
          0.0007661586111337518,
          0.0006496563412108088,
          0.0006313005455765768,
          0.0008265316664944726,
          0.0009130931028860264,
          0.0007548245871528855,
          0.0007960975609756098,
          0.000846484067960578,
          0.0010814220700220791,
          0.0010965136315033133,
          0.0014643090858435003,
          0.0012439176087513262,
          0.0012100116881980094,
          0.0013630127893083154,
          0.0015722868167471805,
          0.0015529707393779533,
          0.0017578772296099224,
          0.0016816051020865101,
          0.0015930901680047277,
          0.0015267390021847602,
          0.0014681737812578934,
          0.0013477721459062824,
          0.00127302842658384,
          0.0014108508411085983,
          0.001301206280709525,
          0.0013373984407357333,
          0.0013135790349961113,
          0.001194504383732517,
          0.0011867907844525004,
          0.001128785357737105,
          0.0010987542636540757,
          0.0011082866743403741,
          0.001031647519215802,
          0.0010601750347058207,
          0.0008850489937835844,
          0.0008957798479797037,
          0.0008456041177917819,
          0.0008759940178829568,
          0.0008948347400302585,
          0.0008767389437124221,
          0.0008900214795457374,
          0.0009316152817435934,
          0.0009508319779807331,
          0.0009860953230907534,
          0.0010877303008204324,
          0.0010042313670581278,
          0.0010002465758250016,
          0.0010084585669930099,
          0.0010321334679130273,
          0.001057759692303992,
          0.0011000761503490604,
          0.001126459449996871,
          0.0012163867059767702,
          0.0012692633280615535,
          0.0012059258527875657,
          0.0011961625401257238,
          0.0011628894023484478,
          0.001060705475989154,
          0.0010470099420998298,
          0.0010182033419335566,
          0.0010298462068038694,
          0.0010289020700853403,
          0.0010795555532628418,
          0.0009775502637501278,
          0.0010397990205296256,
          0.001050944989059835,
          0.0010386039557263706,
          0.001113943585984838,
          0.0012019763091814957,
          0.0013151671334344266,
          0.0014746980578732715,
          0.0014453257739702751,
          0.0014516645197378505,
          0.0014810527006035006,
          0.001753491729004479,
          0.002021492466862146,
          0.002044510051856556,
          0.002125932536049952,
          0.00221423416226973,
          0.003699431670931264,
          0.00995690051440536,
          0.012393335098501001,
          0.01178273807855906,
          0.011040471494784274,
          0.01082711391036426,
          0.011097628671291609,
          0.011645164150650618,
          0.01211863718777907,
          0.012384852865362122,
          0.012459121104414734,
          0.013219193154098127,
          0.014110376388353553,
          0.013590225948466253,
          0.013545020594550997,
          0.013900526221686223,
          0.014334553848806032,
          0.014373109584799846,
          0.015319057264532875,
          0.014637221842621352,
          0.014463046721949957,
          0.013939036472085031,
          0.013357361788192192,
          0.012558527414340217,
          0.011763221522132643,
          0.011023547377442985,
          0.009975071187185953,
          0.00933398201668259,
          0.008553192640746868,
          0.0076307364447167295,
          0.0069229685905387705,
          0.006144028392085196,
          0.00547641919215119,
          0.005031989486111793,
          0.004530278335996962,
          0.004085289261087699,
          0.003780626172171645,
          0.0035301077306800874,
          0.0032663037672975865,
          0.003037502408615538,
          0.0029005336633069682
         ],
         "yaxis": "y"
        },
        {
         "hovertemplate": "Firstname=Joshua<br>Year=%{x}<br>Ratio=%{y}<extra></extra>",
         "legendgroup": "Joshua",
         "line": {
          "color": "#FF97FF",
          "dash": "solid"
         },
         "mode": "lines",
         "name": "Joshua",
         "showlegend": true,
         "type": "scattergl",
         "x": [
          1880,
          1881,
          1882,
          1883,
          1884,
          1885,
          1886,
          1887,
          1888,
          1889,
          1890,
          1891,
          1892,
          1893,
          1894,
          1895,
          1896,
          1897,
          1898,
          1899,
          1900,
          1901,
          1902,
          1903,
          1904,
          1905,
          1906,
          1907,
          1908,
          1909,
          1910,
          1911,
          1912,
          1913,
          1914,
          1915,
          1916,
          1917,
          1918,
          1919,
          1920,
          1921,
          1922,
          1923,
          1924,
          1925,
          1926,
          1927,
          1928,
          1929,
          1930,
          1931,
          1932,
          1933,
          1934,
          1935,
          1936,
          1937,
          1938,
          1939,
          1940,
          1941,
          1942,
          1943,
          1944,
          1945,
          1946,
          1947,
          1948,
          1949,
          1950,
          1951,
          1952,
          1953,
          1954,
          1955,
          1956,
          1957,
          1958,
          1959,
          1960,
          1961,
          1962,
          1963,
          1964,
          1965,
          1966,
          1967,
          1968,
          1969,
          1970,
          1971,
          1972,
          1973,
          1974,
          1975,
          1976,
          1977,
          1978,
          1979,
          1980,
          1981,
          1982,
          1983,
          1984,
          1985,
          1986,
          1987,
          1988,
          1989,
          1990,
          1991,
          1992,
          1993,
          1994,
          1995,
          1996,
          1997,
          1998,
          1999,
          2000,
          2001,
          2002,
          2003,
          2004,
          2005,
          2006,
          2007,
          2008,
          2009,
          2010,
          2011,
          2012,
          2013,
          2014,
          2015,
          2016,
          2017
         ],
         "xaxis": "x",
         "y": [
          0.0005158791213764017,
          0.000397049919101079,
          0.0004398078919128125,
          0.0005256769285174955,
          0.0003582600793415005,
          0.0003988905277414447,
          0.0004964615829000578,
          0.0004042874187727412,
          0.00041373261288694344,
          0.0002984264785675529,
          0.0002161675298356226,
          0.0002371752428575664,
          0.0003359664361335999,
          0.00020477572606349828,
          0.00020730938334096347,
          0.000247029260189957,
          0.00025090535013841614,
          0.0002571902409606499,
          0.00031787431738527995,
          0.00022596742302984652,
          0.00023922968042901856,
          0.00020663291662361815,
          0.00013859448883091473,
          0.00017612573700233995,
          0.00014829268292682927,
          0.00013604208235080717,
          0.0002027666381291398,
          0.00017707673552227421,
          0.0001878980685374403,
          0.00017073378943645653,
          0.00022655537991792517,
          0.00019029074655927777,
          0.00013955208432667282,
          0.00015217552471291502,
          0.00013287169328936858,
          0.00016026509732569404,
          0.00011122420778030185,
          0.00013182035263024824,
          0.00011642775953523617,
          0.00014181705395985864,
          0.0001202565598544144,
          0.00011348542801710089,
          0.0001139474426610036,
          0.00011768376456678691,
          0.0001006371034876053,
          9.767515215817281e-05,
          9.454706552922045e-05,
          0.0001038269550748752,
          0.00010653492449562936,
          6.88030317962984e-05,
          8.202144587404787e-05,
          9.139439954360523e-05,
          0.00010632082068179424,
          0.00010289363118685786,
          0.00010267358131263331,
          7.684158051604884e-05,
          9.642615733084682e-05,
          8.626736130646293e-05,
          6.49255790550082e-05,
          9.126396067517259e-05,
          7.765415428154808e-05,
          7.572821226047899e-05,
          8.110905039406688e-05,
          6.657500339882912e-05,
          7.632108869097591e-05,
          7.208583713951508e-05,
          6.958895099890937e-05,
          7.707706285005832e-05,
          7.40983935468279e-05,
          0.00010317421388860229,
          9.047504424620605e-05,
          8.709589364104383e-05,
          9.153722891095382e-05,
          8.471549796479893e-05,
          9.371809107533904e-05,
          0.0001185037253394476,
          0.00011402141710169858,
          0.00012617371708698285,
          0.00013014539976092856,
          0.0001532806272974516,
          0.0001472547540071817,
          0.00016677243053857602,
          0.00016193987534980221,
          0.00018360771940014914,
          0.00019668248823417257,
          0.00024879685494982146,
          0.0002730235366471028,
          0.0003227720558516051,
          0.00041986333160978475,
          0.0007388711033212312,
          0.0011698296889328733,
          0.0020638638969096876,
          0.003106361446109868,
          0.0051710957361387954,
          0.007373840824466479,
          0.009329521463532671,
          0.010744386540564884,
          0.01343013543290225,
          0.015353012123747092,
          0.01807787176521412,
          0.020208586687887737,
          0.021800158422783406,
          0.02095600654906203,
          0.020477501527234994,
          0.02230996874376538,
          0.022837117419424676,
          0.02039225400736746,
          0.021431981750985835,
          0.02229193661101305,
          0.022041682726749626,
          0.02105072417881425,
          0.020407395322791552,
          0.018138045672656755,
          0.017125979332332644,
          0.016242685562275882,
          0.016139786725935735,
          0.015402349348031103,
          0.015007460484899681,
          0.01469999460944373,
          0.014201379500060176,
          0.014028749307808733,
          0.013396229815919642,
          0.013392767410829556,
          0.012710604395799234,
          0.012200120493772388,
          0.011648776948569608,
          0.010868284206825148,
          0.00995906217263725,
          0.00942215216677602,
          0.008906437480534204,
          0.008057655189979656,
          0.007259310832265244,
          0.006683097974047268,
          0.006265007374181832,
          0.005682841671457191,
          0.005122515190040444,
          0.00486063909304773,
          0.00449116648223757
         ],
         "yaxis": "y"
        },
        {
         "hovertemplate": "Firstname=Tyler<br>Year=%{x}<br>Ratio=%{y}<extra></extra>",
         "legendgroup": "Tyler",
         "line": {
          "color": "#FECB52",
          "dash": "solid"
         },
         "mode": "lines",
         "name": "Tyler",
         "showlegend": true,
         "type": "scattergl",
         "x": [
          1880,
          1884,
          1888,
          1889,
          1892,
          1895,
          1896,
          1898,
          1899,
          1900,
          1903,
          1904,
          1905,
          1907,
          1908,
          1910,
          1911,
          1912,
          1913,
          1914,
          1915,
          1916,
          1917,
          1918,
          1919,
          1920,
          1921,
          1922,
          1923,
          1924,
          1925,
          1926,
          1927,
          1928,
          1929,
          1930,
          1931,
          1932,
          1933,
          1934,
          1935,
          1936,
          1937,
          1938,
          1939,
          1940,
          1941,
          1942,
          1943,
          1944,
          1945,
          1946,
          1947,
          1948,
          1949,
          1950,
          1951,
          1952,
          1953,
          1954,
          1955,
          1956,
          1957,
          1958,
          1959,
          1960,
          1961,
          1962,
          1963,
          1964,
          1965,
          1966,
          1967,
          1968,
          1969,
          1970,
          1971,
          1972,
          1973,
          1974,
          1975,
          1976,
          1977,
          1978,
          1979,
          1980,
          1981,
          1982,
          1983,
          1984,
          1985,
          1986,
          1987,
          1988,
          1989,
          1990,
          1991,
          1992,
          1993,
          1994,
          1995,
          1996,
          1997,
          1998,
          1999,
          2000,
          2001,
          2002,
          2003,
          2004,
          2005,
          2006,
          2007,
          2008,
          2009,
          2010,
          2011,
          2012,
          2013,
          2014,
          2015,
          2016,
          2017
         ],
         "xaxis": "x",
         "y": [
          6.335357630938266e-05,
          4.369025357823177e-05,
          4.137326128869434e-05,
          6.330258636281426e-05,
          4.097151660165853e-05,
          4.259125175688913e-05,
          5.018107002768322e-05,
          4.0753117613497433e-05,
          4.707654646455136e-05,
          7.309795790886678e-05,
          5.0321639143525704e-05,
          3.902439024390244e-05,
          4.534736078360239e-05,
          3.405321836966812e-05,
          4.535470619869249e-05,
          4.119188725780457e-05,
          5.752976058768863e-05,
          4.884322951433549e-05,
          2.5362587452152504e-05,
          2.2908912636098033e-05,
          2.5925236332097565e-05,
          3.0333874849173233e-05,
          2.8092862035954542e-05,
          2.6640250063147258e-05,
          3.162826383277423e-05,
          2.8185131215878375e-05,
          2.269708560342018e-05,
          3.2162584622057465e-05,
          2.1894653872890587e-05,
          1.9421195409888743e-05,
          1.971425089431011e-05,
          1.890941310584409e-05,
          2.3960066555740432e-05,
          2.618231195231569e-05,
          1.766564329904959e-05,
          2.5517783160814892e-05,
          2.020297253069168e-05,
          2.2988285552820377e-05,
          1.7148938531142975e-05,
          1.4529280374429241e-05,
          2.4973513667715875e-05,
          1.157113887970162e-05,
          1.78160854872043e-05,
          2.9757557066878757e-05,
          3.614414284165251e-05,
          3.0198837776157585e-05,
          3.3385555942791816e-05,
          2.4622390298198873e-05,
          2.7330790868993007e-05,
          3.155583474723042e-05,
          3.1212424328449824e-05,
          3.202323408799369e-05,
          3.66252709996731e-05,
          3.875915970141767e-05,
          4.0029339814703624e-05,
          4.412054626821159e-05,
          3.770614907630556e-05,
          4.3197343980450115e-05,
          4.971328623084009e-05,
          5.838980543437354e-05,
          5.682350764227611e-05,
          6.339780038019756e-05,
          6.54062283428845e-05,
          6.837348900483565e-05,
          6.843722197378573e-05,
          8.347562488305205e-05,
          9.280838648615671e-05,
          0.00011263280882538483,
          0.00013881334281727094,
          0.000155037981796835,
          0.000159595390756149,
          0.0001855663051954641,
          0.00024078910028006066,
          0.0002507676884683098,
          0.0002749807737020013,
          0.0004039274006384312,
          0.00040870271089172937,
          0.0005146451999011388,
          0.00048164366834183746,
          0.0005867794707287318,
          0.0006804776530626615,
          0.000803902046255581,
          0.0008875959230206733,
          0.0010715509909106904,
          0.001186842997626314,
          0.0014688492986398712,
          0.0017427622614377845,
          0.0025267123366936495,
          0.0032480592260335684,
          0.004825319766797455,
          0.00552810326631126,
          0.005926780628173558,
          0.006181601697154031,
          0.006972600398389507,
          0.007793327104270807,
          0.010050921943392568,
          0.012479520564596187,
          0.014420387371681189,
          0.01519702424760806,
          0.015779304089043798,
          0.015318531829538379,
          0.014232216461911014,
          0.013199645971868772,
          0.01240926987270437,
          0.011807911988750598,
          0.010954324800850141,
          0.009924220381447255,
          0.009412972523335297,
          0.009209121888774234,
          0.008793524594089755,
          0.008510602050561544,
          0.007565479013892041,
          0.006793711548441488,
          0.006230888857372662,
          0.005825226055620308,
          0.005451104469759523,
          0.004659503879403558,
          0.004065216725281992,
          0.0035214831670984832,
          0.003041918006055641,
          0.0027002770964978605,
          0.0023768535752324445,
          0.002040894199477784
         ],
         "yaxis": "y"
        }
       ],
       "layout": {
        "legend": {
         "title": {
          "text": "Firstname"
         },
         "tracegroupgap": 0
        },
        "template": {
         "data": {
          "bar": [
           {
            "error_x": {
             "color": "#2a3f5f"
            },
            "error_y": {
             "color": "#2a3f5f"
            },
            "marker": {
             "line": {
              "color": "#E5ECF6",
              "width": 0.5
             }
            },
            "type": "bar"
           }
          ],
          "barpolar": [
           {
            "marker": {
             "line": {
              "color": "#E5ECF6",
              "width": 0.5
             }
            },
            "type": "barpolar"
           }
          ],
          "carpet": [
           {
            "aaxis": {
             "endlinecolor": "#2a3f5f",
             "gridcolor": "white",
             "linecolor": "white",
             "minorgridcolor": "white",
             "startlinecolor": "#2a3f5f"
            },
            "baxis": {
             "endlinecolor": "#2a3f5f",
             "gridcolor": "white",
             "linecolor": "white",
             "minorgridcolor": "white",
             "startlinecolor": "#2a3f5f"
            },
            "type": "carpet"
           }
          ],
          "choropleth": [
           {
            "colorbar": {
             "outlinewidth": 0,
             "ticks": ""
            },
            "type": "choropleth"
           }
          ],
          "contour": [
           {
            "colorbar": {
             "outlinewidth": 0,
             "ticks": ""
            },
            "colorscale": [
             [
              0,
              "#0d0887"
             ],
             [
              0.1111111111111111,
              "#46039f"
             ],
             [
              0.2222222222222222,
              "#7201a8"
             ],
             [
              0.3333333333333333,
              "#9c179e"
             ],
             [
              0.4444444444444444,
              "#bd3786"
             ],
             [
              0.5555555555555556,
              "#d8576b"
             ],
             [
              0.6666666666666666,
              "#ed7953"
             ],
             [
              0.7777777777777778,
              "#fb9f3a"
             ],
             [
              0.8888888888888888,
              "#fdca26"
             ],
             [
              1,
              "#f0f921"
             ]
            ],
            "type": "contour"
           }
          ],
          "contourcarpet": [
           {
            "colorbar": {
             "outlinewidth": 0,
             "ticks": ""
            },
            "type": "contourcarpet"
           }
          ],
          "heatmap": [
           {
            "colorbar": {
             "outlinewidth": 0,
             "ticks": ""
            },
            "colorscale": [
             [
              0,
              "#0d0887"
             ],
             [
              0.1111111111111111,
              "#46039f"
             ],
             [
              0.2222222222222222,
              "#7201a8"
             ],
             [
              0.3333333333333333,
              "#9c179e"
             ],
             [
              0.4444444444444444,
              "#bd3786"
             ],
             [
              0.5555555555555556,
              "#d8576b"
             ],
             [
              0.6666666666666666,
              "#ed7953"
             ],
             [
              0.7777777777777778,
              "#fb9f3a"
             ],
             [
              0.8888888888888888,
              "#fdca26"
             ],
             [
              1,
              "#f0f921"
             ]
            ],
            "type": "heatmap"
           }
          ],
          "heatmapgl": [
           {
            "colorbar": {
             "outlinewidth": 0,
             "ticks": ""
            },
            "colorscale": [
             [
              0,
              "#0d0887"
             ],
             [
              0.1111111111111111,
              "#46039f"
             ],
             [
              0.2222222222222222,
              "#7201a8"
             ],
             [
              0.3333333333333333,
              "#9c179e"
             ],
             [
              0.4444444444444444,
              "#bd3786"
             ],
             [
              0.5555555555555556,
              "#d8576b"
             ],
             [
              0.6666666666666666,
              "#ed7953"
             ],
             [
              0.7777777777777778,
              "#fb9f3a"
             ],
             [
              0.8888888888888888,
              "#fdca26"
             ],
             [
              1,
              "#f0f921"
             ]
            ],
            "type": "heatmapgl"
           }
          ],
          "histogram": [
           {
            "marker": {
             "colorbar": {
              "outlinewidth": 0,
              "ticks": ""
             }
            },
            "type": "histogram"
           }
          ],
          "histogram2d": [
           {
            "colorbar": {
             "outlinewidth": 0,
             "ticks": ""
            },
            "colorscale": [
             [
              0,
              "#0d0887"
             ],
             [
              0.1111111111111111,
              "#46039f"
             ],
             [
              0.2222222222222222,
              "#7201a8"
             ],
             [
              0.3333333333333333,
              "#9c179e"
             ],
             [
              0.4444444444444444,
              "#bd3786"
             ],
             [
              0.5555555555555556,
              "#d8576b"
             ],
             [
              0.6666666666666666,
              "#ed7953"
             ],
             [
              0.7777777777777778,
              "#fb9f3a"
             ],
             [
              0.8888888888888888,
              "#fdca26"
             ],
             [
              1,
              "#f0f921"
             ]
            ],
            "type": "histogram2d"
           }
          ],
          "histogram2dcontour": [
           {
            "colorbar": {
             "outlinewidth": 0,
             "ticks": ""
            },
            "colorscale": [
             [
              0,
              "#0d0887"
             ],
             [
              0.1111111111111111,
              "#46039f"
             ],
             [
              0.2222222222222222,
              "#7201a8"
             ],
             [
              0.3333333333333333,
              "#9c179e"
             ],
             [
              0.4444444444444444,
              "#bd3786"
             ],
             [
              0.5555555555555556,
              "#d8576b"
             ],
             [
              0.6666666666666666,
              "#ed7953"
             ],
             [
              0.7777777777777778,
              "#fb9f3a"
             ],
             [
              0.8888888888888888,
              "#fdca26"
             ],
             [
              1,
              "#f0f921"
             ]
            ],
            "type": "histogram2dcontour"
           }
          ],
          "mesh3d": [
           {
            "colorbar": {
             "outlinewidth": 0,
             "ticks": ""
            },
            "type": "mesh3d"
           }
          ],
          "parcoords": [
           {
            "line": {
             "colorbar": {
              "outlinewidth": 0,
              "ticks": ""
             }
            },
            "type": "parcoords"
           }
          ],
          "pie": [
           {
            "automargin": true,
            "type": "pie"
           }
          ],
          "scatter": [
           {
            "marker": {
             "colorbar": {
              "outlinewidth": 0,
              "ticks": ""
             }
            },
            "type": "scatter"
           }
          ],
          "scatter3d": [
           {
            "line": {
             "colorbar": {
              "outlinewidth": 0,
              "ticks": ""
             }
            },
            "marker": {
             "colorbar": {
              "outlinewidth": 0,
              "ticks": ""
             }
            },
            "type": "scatter3d"
           }
          ],
          "scattercarpet": [
           {
            "marker": {
             "colorbar": {
              "outlinewidth": 0,
              "ticks": ""
             }
            },
            "type": "scattercarpet"
           }
          ],
          "scattergeo": [
           {
            "marker": {
             "colorbar": {
              "outlinewidth": 0,
              "ticks": ""
             }
            },
            "type": "scattergeo"
           }
          ],
          "scattergl": [
           {
            "marker": {
             "colorbar": {
              "outlinewidth": 0,
              "ticks": ""
             }
            },
            "type": "scattergl"
           }
          ],
          "scattermapbox": [
           {
            "marker": {
             "colorbar": {
              "outlinewidth": 0,
              "ticks": ""
             }
            },
            "type": "scattermapbox"
           }
          ],
          "scatterpolar": [
           {
            "marker": {
             "colorbar": {
              "outlinewidth": 0,
              "ticks": ""
             }
            },
            "type": "scatterpolar"
           }
          ],
          "scatterpolargl": [
           {
            "marker": {
             "colorbar": {
              "outlinewidth": 0,
              "ticks": ""
             }
            },
            "type": "scatterpolargl"
           }
          ],
          "scatterternary": [
           {
            "marker": {
             "colorbar": {
              "outlinewidth": 0,
              "ticks": ""
             }
            },
            "type": "scatterternary"
           }
          ],
          "surface": [
           {
            "colorbar": {
             "outlinewidth": 0,
             "ticks": ""
            },
            "colorscale": [
             [
              0,
              "#0d0887"
             ],
             [
              0.1111111111111111,
              "#46039f"
             ],
             [
              0.2222222222222222,
              "#7201a8"
             ],
             [
              0.3333333333333333,
              "#9c179e"
             ],
             [
              0.4444444444444444,
              "#bd3786"
             ],
             [
              0.5555555555555556,
              "#d8576b"
             ],
             [
              0.6666666666666666,
              "#ed7953"
             ],
             [
              0.7777777777777778,
              "#fb9f3a"
             ],
             [
              0.8888888888888888,
              "#fdca26"
             ],
             [
              1,
              "#f0f921"
             ]
            ],
            "type": "surface"
           }
          ],
          "table": [
           {
            "cells": {
             "fill": {
              "color": "#EBF0F8"
             },
             "line": {
              "color": "white"
             }
            },
            "header": {
             "fill": {
              "color": "#C8D4E3"
             },
             "line": {
              "color": "white"
             }
            },
            "type": "table"
           }
          ]
         },
         "layout": {
          "annotationdefaults": {
           "arrowcolor": "#2a3f5f",
           "arrowhead": 0,
           "arrowwidth": 1
          },
          "autotypenumbers": "strict",
          "coloraxis": {
           "colorbar": {
            "outlinewidth": 0,
            "ticks": ""
           }
          },
          "colorscale": {
           "diverging": [
            [
             0,
             "#8e0152"
            ],
            [
             0.1,
             "#c51b7d"
            ],
            [
             0.2,
             "#de77ae"
            ],
            [
             0.3,
             "#f1b6da"
            ],
            [
             0.4,
             "#fde0ef"
            ],
            [
             0.5,
             "#f7f7f7"
            ],
            [
             0.6,
             "#e6f5d0"
            ],
            [
             0.7,
             "#b8e186"
            ],
            [
             0.8,
             "#7fbc41"
            ],
            [
             0.9,
             "#4d9221"
            ],
            [
             1,
             "#276419"
            ]
           ],
           "sequential": [
            [
             0,
             "#0d0887"
            ],
            [
             0.1111111111111111,
             "#46039f"
            ],
            [
             0.2222222222222222,
             "#7201a8"
            ],
            [
             0.3333333333333333,
             "#9c179e"
            ],
            [
             0.4444444444444444,
             "#bd3786"
            ],
            [
             0.5555555555555556,
             "#d8576b"
            ],
            [
             0.6666666666666666,
             "#ed7953"
            ],
            [
             0.7777777777777778,
             "#fb9f3a"
            ],
            [
             0.8888888888888888,
             "#fdca26"
            ],
            [
             1,
             "#f0f921"
            ]
           ],
           "sequentialminus": [
            [
             0,
             "#0d0887"
            ],
            [
             0.1111111111111111,
             "#46039f"
            ],
            [
             0.2222222222222222,
             "#7201a8"
            ],
            [
             0.3333333333333333,
             "#9c179e"
            ],
            [
             0.4444444444444444,
             "#bd3786"
            ],
            [
             0.5555555555555556,
             "#d8576b"
            ],
            [
             0.6666666666666666,
             "#ed7953"
            ],
            [
             0.7777777777777778,
             "#fb9f3a"
            ],
            [
             0.8888888888888888,
             "#fdca26"
            ],
            [
             1,
             "#f0f921"
            ]
           ]
          },
          "colorway": [
           "#636efa",
           "#EF553B",
           "#00cc96",
           "#ab63fa",
           "#FFA15A",
           "#19d3f3",
           "#FF6692",
           "#B6E880",
           "#FF97FF",
           "#FECB52"
          ],
          "font": {
           "color": "#2a3f5f"
          },
          "geo": {
           "bgcolor": "white",
           "lakecolor": "white",
           "landcolor": "#E5ECF6",
           "showlakes": true,
           "showland": true,
           "subunitcolor": "white"
          },
          "hoverlabel": {
           "align": "left"
          },
          "hovermode": "closest",
          "mapbox": {
           "style": "light"
          },
          "paper_bgcolor": "white",
          "plot_bgcolor": "#E5ECF6",
          "polar": {
           "angularaxis": {
            "gridcolor": "white",
            "linecolor": "white",
            "ticks": ""
           },
           "bgcolor": "#E5ECF6",
           "radialaxis": {
            "gridcolor": "white",
            "linecolor": "white",
            "ticks": ""
           }
          },
          "scene": {
           "xaxis": {
            "backgroundcolor": "#E5ECF6",
            "gridcolor": "white",
            "gridwidth": 2,
            "linecolor": "white",
            "showbackground": true,
            "ticks": "",
            "zerolinecolor": "white"
           },
           "yaxis": {
            "backgroundcolor": "#E5ECF6",
            "gridcolor": "white",
            "gridwidth": 2,
            "linecolor": "white",
            "showbackground": true,
            "ticks": "",
            "zerolinecolor": "white"
           },
           "zaxis": {
            "backgroundcolor": "#E5ECF6",
            "gridcolor": "white",
            "gridwidth": 2,
            "linecolor": "white",
            "showbackground": true,
            "ticks": "",
            "zerolinecolor": "white"
           }
          },
          "shapedefaults": {
           "line": {
            "color": "#2a3f5f"
           }
          },
          "ternary": {
           "aaxis": {
            "gridcolor": "white",
            "linecolor": "white",
            "ticks": ""
           },
           "baxis": {
            "gridcolor": "white",
            "linecolor": "white",
            "ticks": ""
           },
           "bgcolor": "#E5ECF6",
           "caxis": {
            "gridcolor": "white",
            "linecolor": "white",
            "ticks": ""
           }
          },
          "title": {
           "x": 0.05
          },
          "xaxis": {
           "automargin": true,
           "gridcolor": "white",
           "linecolor": "white",
           "ticks": "",
           "title": {
            "standoff": 15
           },
           "zerolinecolor": "white",
           "zerolinewidth": 2
          },
          "yaxis": {
           "automargin": true,
           "gridcolor": "white",
           "linecolor": "white",
           "ticks": "",
           "title": {
            "standoff": 15
           },
           "zerolinecolor": "white",
           "zerolinewidth": 2
          }
         }
        },
        "title": {
         "text": "Proportion of newborns of the 10 most popular firstname of 2000 from "
        },
        "xaxis": {
         "anchor": "y",
         "domain": [
          0,
          1
         ],
         "title": {
          "text": "Year"
         }
        },
        "yaxis": {
         "anchor": "x",
         "domain": [
          0,
          1
         ],
         "title": {
          "text": "Ratio"
         }
        }
       }
      },
      "text/html": [
       "<div>                            <div id=\"428818dc-575d-4c11-aa88-60f2eb9ef7d5\" class=\"plotly-graph-div\" style=\"height:525px; width:100%;\"></div>            <script type=\"text/javascript\">                require([\"plotly\"], function(Plotly) {                    window.PLOTLYENV=window.PLOTLYENV || {};                                    if (document.getElementById(\"428818dc-575d-4c11-aa88-60f2eb9ef7d5\")) {                    Plotly.newPlot(                        \"428818dc-575d-4c11-aa88-60f2eb9ef7d5\",                        [{\"hovertemplate\": \"Firstname=Joseph<br>Year=%{x}<br>Ratio=%{y}<extra></extra>\", \"legendgroup\": \"Joseph\", \"line\": {\"color\": \"#636efa\", \"dash\": \"solid\"}, \"mode\": \"lines\", \"name\": \"Joseph\", \"showlegend\": true, \"type\": \"scattergl\", \"x\": [1880.0, 1881.0, 1882.0, 1883.0, 1884.0, 1885.0, 1886.0, 1887.0, 1888.0, 1889.0, 1890.0, 1891.0, 1892.0, 1893.0, 1894.0, 1895.0, 1896.0, 1897.0, 1898.0, 1899.0, 1900.0, 1901.0, 1902.0, 1903.0, 1904.0, 1905.0, 1906.0, 1907.0, 1908.0, 1909.0, 1910.0, 1911.0, 1912.0, 1913.0, 1914.0, 1915.0, 1916.0, 1917.0, 1918.0, 1919.0, 1920.0, 1921.0, 1922.0, 1923.0, 1924.0, 1925.0, 1926.0, 1927.0, 1928.0, 1929.0, 1930.0, 1931.0, 1932.0, 1933.0, 1934.0, 1935.0, 1936.0, 1937.0, 1938.0, 1939.0, 1940.0, 1941.0, 1942.0, 1943.0, 1944.0, 1945.0, 1946.0, 1947.0, 1948.0, 1949.0, 1950.0, 1951.0, 1952.0, 1953.0, 1954.0, 1955.0, 1956.0, 1957.0, 1958.0, 1959.0, 1960.0, 1961.0, 1962.0, 1963.0, 1964.0, 1965.0, 1966.0, 1967.0, 1968.0, 1969.0, 1970.0, 1971.0, 1972.0, 1973.0, 1974.0, 1975.0, 1976.0, 1977.0, 1978.0, 1979.0, 1980.0, 1981.0, 1982.0, 1983.0, 1984.0, 1985.0, 1986.0, 1987.0, 1988.0, 1989.0, 1990.0, 1991.0, 1992.0, 1993.0, 1994.0, 1995.0, 1996.0, 1997.0, 1998.0, 1999.0, 2000.0, 2001.0, 2002.0, 2003.0, 2004.0, 2005.0, 2006.0, 2007.0, 2008.0, 2009.0, 2010.0, 2011.0, 2012.0, 2013.0, 2014.0, 2015.0, 2016.0, 2017.0], \"xaxis\": \"x\", \"y\": [0.023820944692327883, 0.02437886503280625, 0.023485741428144188, 0.024037772276754566, 0.02365390328725468, 0.02356237070844813, 0.023414933564413633, 0.02421780245136225, 0.024766034207412434, 0.0246789654548743, 0.024048637694213015, 0.02541728019290253, 0.025107345373496345, 0.02668316743531758, 0.025715001425252012, 0.02548660505132246, 0.02551707410907692, 0.025071614179164044, 0.025845627190480072, 0.02522361359570662, 0.024680528697593747, 0.025979393062769446, 0.025256807435186695, 0.02617563929449062, 0.025685853658536584, 0.024956164217909183, 0.02648733084005467, 0.02618011428260085, 0.02696661245699402, 0.026512518445346894, 0.02691889832297529, 0.02871177589945568, 0.02805462068580546, 0.028232461770776835, 0.028756794401672656, 0.027164933996705137, 0.026831997519363122, 0.026755209605165628, 0.025913069904016164, 0.024755748181884963, 0.024042856431518118, 0.02376838804390161, 0.023616526422482197, 0.023317806374628474, 0.022445605204174143, 0.02205755844379288, 0.021396451153384153, 0.020857681641708262, 0.020138712083046684, 0.01967766709374134, 0.01912102173203776, 0.018597317237657188, 0.01777760749418109, 0.017311349066643802, 0.01656628548292422, 0.01650365045533439, 0.016829257238952695, 0.016237017699812086, 0.015991530818909937, 0.016007337260996856, 0.015707709763284252, 0.016122780674811658, 0.016237018025762263, 0.015992717395417678, 0.01553574468834577, 0.015469472019547896, 0.014951771161969208, 0.015039866880806062, 0.015277948774070578, 0.014889786824032714, 0.01509369472714793, 0.014952877935105063, 0.014668583805932847, 0.014841952332060402, 0.01530941444838562, 0.015349146457491402, 0.01547805253312062, 0.01475397516789918, 0.014191035528279512, 0.013838850029671754, 0.013949808639164419, 0.013871791574034946, 0.014542200806412239, 0.014817093731002385, 0.015328188815188704, 0.015400686528859361, 0.015131782910969099, 0.014871593479201842, 0.014609518474274169, 0.014636019351492497, 0.014377879192898192, 0.013859148496448865, 0.013848578439016393, 0.013678423646331171, 0.013883087845909041, 0.014174163870285467, 0.01533401747818094, 0.016116649206760574, 0.016236432855458123, 0.01664541497698314, 0.01692567207841335, 0.017177540137400225, 0.017109452108468426, 0.01699122153694235, 0.016909401254682894, 0.01635212296701215, 0.015663324092770686, 0.015277172710286183, 0.015159395004084773, 0.014932252695969256, 0.01467500849998003, 0.014771930015660672, 0.013970141539460116, 0.013774534630660185, 0.013320534685268197, 0.013317149935502854, 0.013071060226993107, 0.012516740988519555, 0.012130321669669852, 0.012092377217565363, 0.011627794427726571, 0.011331666507880514, 0.011282270122006843, 0.0108210601609608, 0.010145172308615304, 0.009625473381883265, 0.008980201674680994, 0.008359747427881323, 0.008132004351856532, 0.007528372737740145, 0.007215771667409557, 0.006837877325400467, 0.006630803736027138, 0.006481754795602942, 0.006320882145779195, 0.006006375523352135, 0.005765855042635142, 0.0056473461288968595], \"yaxis\": \"y\"}, {\"hovertemplate\": \"Firstname=Andrew<br>Year=%{x}<br>Ratio=%{y}<extra></extra>\", \"legendgroup\": \"Andrew\", \"line\": {\"color\": \"#EF553B\", \"dash\": \"solid\"}, \"mode\": \"lines\", \"name\": \"Andrew\", \"showlegend\": true, \"type\": \"scattergl\", \"x\": [1880.0, 1881.0, 1882.0, 1883.0, 1884.0, 1885.0, 1886.0, 1887.0, 1888.0, 1889.0, 1890.0, 1891.0, 1892.0, 1893.0, 1894.0, 1895.0, 1896.0, 1897.0, 1898.0, 1899.0, 1900.0, 1901.0, 1902.0, 1903.0, 1904.0, 1905.0, 1906.0, 1907.0, 1908.0, 1909.0, 1910.0, 1911.0, 1912.0, 1913.0, 1914.0, 1915.0, 1916.0, 1917.0, 1918.0, 1919.0, 1920.0, 1921.0, 1922.0, 1923.0, 1924.0, 1925.0, 1926.0, 1927.0, 1928.0, 1929.0, 1930.0, 1931.0, 1932.0, 1933.0, 1934.0, 1935.0, 1936.0, 1937.0, 1938.0, 1939.0, 1940.0, 1941.0, 1942.0, 1943.0, 1944.0, 1945.0, 1946.0, 1947.0, 1948.0, 1949.0, 1950.0, 1951.0, 1952.0, 1953.0, 1954.0, 1955.0, 1956.0, 1957.0, 1958.0, 1959.0, 1960.0, 1961.0, 1962.0, 1963.0, 1964.0, 1965.0, 1966.0, 1967.0, 1968.0, 1969.0, 1970.0, 1971.0, 1972.0, 1973.0, 1974.0, 1975.0, 1976.0, 1977.0, 1978.0, 1979.0, 1980.0, 1981.0, 1982.0, 1983.0, 1984.0, 1985.0, 1986.0, 1987.0, 1988.0, 1989.0, 1990.0, 1991.0, 1992.0, 1993.0, 1994.0, 1995.0, 1996.0, 1997.0, 1998.0, 1999.0, 2000.0, 2001.0, 2002.0, 2003.0, 2004.0, 2005.0, 2006.0, 2007.0, 2008.0, 2009.0, 2010.0, 2011.0, 2012.0, 2013.0, 2014.0, 2015.0, 2016.0, 2017.0], \"xaxis\": \"x\", \"y\": [0.005828529020463205, 0.005836633810785861, 0.005919814225146456, 0.005954485935752722, 0.005382639240838154, 0.005556637816677335, 0.005542316580011554, 0.005127547750288425, 0.005088911138509404, 0.005073250135648399, 0.005179013735645125, 0.005148679230366337, 0.005219771215051296, 0.00462971206752257, 0.005130907237688846, 0.004787256697474339, 0.004733747605944784, 0.00492208909424692, 0.004980030972369386, 0.005442048771302137, 0.004771303070778759, 0.004498962139214232, 0.004549160280450024, 0.00462120386134711, 0.004269268292682927, 0.004685893947638914, 0.004588533922107571, 0.004821935721145005, 0.004678013982207996, 0.00467078866815449, 0.004551703541987405, 0.004859052086560163, 0.004526139268328422, 0.004335051486052528, 0.0045283283977353775, 0.0042104940642993, 0.004182704298647109, 0.0040529355960332875, 0.0040838516670876485, 0.00392904658129076, 0.003782444609170878, 0.0036451519479092807, 0.003495613482923046, 0.003418302835905043, 0.003306899909338329, 0.0032394098628605018, 0.003010198476801752, 0.0030509151414309485, 0.002837620912625111, 0.002861834214446033, 0.002785995111521826, 0.002610031641703168, 0.0025344584821984464, 0.0023645359951175965, 0.002367304082340338, 0.0022015112817847992, 0.0021965878639966904, 0.0022532659697764175, 0.0021713999217286076, 0.002204792713340803, 0.0020966621656017983, 0.0022058895377810492, 0.0022761227266835018, 0.002346944067186092, 0.0022411981236753887, 0.0022346609513249674, 0.0023149103257070823, 0.0023740828649489597, 0.0024549367769706753, 0.002546655323141074, 0.002753345482307382, 0.002856108024399596, 0.002866966579654874, 0.002852426617102182, 0.002771798410914085, 0.0029213110980195792, 0.003119739520201662, 0.003242478979551508, 0.0033503009612369473, 0.0033243614947814273, 0.0038497269924998557, 0.0039950005959523294, 0.004207052940803966, 0.004686673180720697, 0.005267779193802494, 0.005201090192352748, 0.0057385398790959835, 0.0057193144390330596, 0.0060765152033662685, 0.006310026290844705, 0.006453694913795654, 0.006175198359310168, 0.006240458262274288, 0.006884746710585386, 0.007491451010907232, 0.008172773468157103, 0.00848301390648619, 0.009754429766767289, 0.010192519965247653, 0.010820361673564757, 0.0110564394555002, 0.011293903290649986, 0.012585617523535347, 0.014269814304961631, 0.01436512158896943, 0.016327767704922468, 0.018392033450728134, 0.01940002668548583, 0.018679669643001814, 0.0174028808664296, 0.01639448870062827, 0.01561066470466785, 0.015292832577164073, 0.013932135667460792, 0.013466020935523185, 0.013583020042717865, 0.013324518613878325, 0.013369443636726385, 0.01237943863898398, 0.012427900307962265, 0.01204247239767923, 0.011538689319013397, 0.011347208500124465, 0.01122075195755263, 0.010939725385113725, 0.01038559015024958, 0.009602582246277648, 0.008896549994501752, 0.008222790713880155, 0.007500104743016165, 0.007430287555677572, 0.007000332294254474, 0.006664610112120959, 0.006173326924534271, 0.005822249860200216, 0.005286406353741012, 0.004963336107211448, 0.004478083827112712], \"yaxis\": \"y\"}, {\"hovertemplate\": \"Firstname=Daniel<br>Year=%{x}<br>Ratio=%{y}<extra></extra>\", \"legendgroup\": \"Daniel\", \"line\": {\"color\": \"#00cc96\", \"dash\": \"solid\"}, \"mode\": \"lines\", \"name\": \"Daniel\", \"showlegend\": true, \"type\": \"scattergl\", \"x\": [1880.0, 1881.0, 1882.0, 1883.0, 1884.0, 1885.0, 1886.0, 1887.0, 1888.0, 1889.0, 1890.0, 1891.0, 1892.0, 1893.0, 1894.0, 1895.0, 1896.0, 1897.0, 1898.0, 1899.0, 1900.0, 1901.0, 1902.0, 1903.0, 1904.0, 1905.0, 1906.0, 1907.0, 1908.0, 1909.0, 1910.0, 1911.0, 1912.0, 1913.0, 1914.0, 1915.0, 1916.0, 1917.0, 1918.0, 1919.0, 1920.0, 1921.0, 1922.0, 1923.0, 1924.0, 1925.0, 1926.0, 1927.0, 1928.0, 1929.0, 1930.0, 1931.0, 1932.0, 1933.0, 1934.0, 1935.0, 1936.0, 1937.0, 1938.0, 1939.0, 1940.0, 1941.0, 1942.0, 1943.0, 1944.0, 1945.0, 1946.0, 1947.0, 1948.0, 1949.0, 1950.0, 1951.0, 1952.0, 1953.0, 1954.0, 1955.0, 1956.0, 1957.0, 1958.0, 1959.0, 1960.0, 1961.0, 1962.0, 1963.0, 1964.0, 1965.0, 1966.0, 1967.0, 1968.0, 1969.0, 1970.0, 1971.0, 1972.0, 1973.0, 1974.0, 1975.0, 1976.0, 1977.0, 1978.0, 1979.0, 1980.0, 1981.0, 1982.0, 1983.0, 1984.0, 1985.0, 1986.0, 1987.0, 1988.0, 1989.0, 1990.0, 1991.0, 1992.0, 1993.0, 1994.0, 1995.0, 1996.0, 1997.0, 1998.0, 1999.0, 2000.0, 2001.0, 2002.0, 2003.0, 2004.0, 2005.0, 2006.0, 2007.0, 2008.0, 2009.0, 2010.0, 2011.0, 2012.0, 2013.0, 2014.0, 2015.0, 2016.0, 2017.0], \"xaxis\": \"x\", \"y\": [0.005819478509561864, 0.005231132684156716, 0.005224917755924212, 0.005878023837059268, 0.005006903060065361, 0.00496294028701565, 0.0050097487001733105, 0.005492392494058947, 0.0046834531778802, 0.004657261710978477, 0.0045485251069578925, 0.004990562401794626, 0.004367563669736799, 0.0046475186523976565, 0.004448513850858174, 0.004395417181310959, 0.0046919300475883816, 0.004611687079294412, 0.004262776102371832, 0.004566425007061482, 0.00397387080268203, 0.003907240605246598, 0.0040844611120169575, 0.0036231580183338505, 0.0036839024390243904, 0.0036580204365439265, 0.0037999969960498055, 0.003596019859836953, 0.0034339991836152884, 0.0034695545067622777, 0.0035630982478000958, 0.0035225914944461653, 0.0035446229418974896, 0.0036639184027032617, 0.003550881458595195, 0.0035376163394980403, 0.0035378285888906114, 0.0036304621708002794, 0.0036763545087143217, 0.0035995004774847573, 0.0036603090405687385, 0.0037123353212954045, 0.003935781426750632, 0.003890862448661598, 0.0038868874268063697, 0.00407816162818206, 0.004064623369513343, 0.004096283971159179, 0.004004088052017934, 0.0040621681880814555, 0.004069175064751375, 0.0041935598695850024, 0.004259537743891342, 0.004349777820369913, 0.0043578154936371434, 0.004408785682108302, 0.004642919475480275, 0.0048047169492860435, 0.005033535865070219, 0.00523818990132649, 0.005366764884791434, 0.005739872776603402, 0.0061599427022494, 0.006422735854213357, 0.006835140577574516, 0.0072130426317127145, 0.00792390294250413, 0.008302456954373658, 0.009409356005161807, 0.010279647223119593, 0.010719058791465634, 0.011218907031506409, 0.012046916429595529, 0.011915970342473815, 0.01239581222427377, 0.0128421127271544, 0.012595818205388055, 0.01266607847448554, 0.012077115864771386, 0.011781514637596784, 0.012175248164122458, 0.0121922895546281, 0.012349003151301633, 0.012219512135091964, 0.012218899581547971, 0.013351739643495064, 0.013045703691536101, 0.012732010330999017, 0.012663768267649646, 0.012957630604689428, 0.012654599044235697, 0.012317044768492243, 0.013627311820136741, 0.015197749678690442, 0.015157092243894284, 0.015250253178656432, 0.01574552359694568, 0.01586357182226667, 0.016101271310013706, 0.01656470500796648, 0.01675362448792024, 0.01730146493625967, 0.017994490279183803, 0.019384587060763032, 0.02024173704861342, 0.020859470137742538, 0.019866938070846486, 0.0192162290622088, 0.01813398787269307, 0.017496366796797082, 0.01647145127051564, 0.015308640997292185, 0.01459718022904942, 0.014628844457977392, 0.014527397494322929, 0.014039097617940453, 0.013259569902238987, 0.012699804095944171, 0.012117237795231085, 0.01182093695343992, 0.011366455608825203, 0.010806384748289617, 0.010985408964897714, 0.01065743474866782, 0.01057673159382003, 0.01012553701723566, 0.009768647797853906, 0.009766623516678981, 0.009324495485464122, 0.00885293020480667, 0.008265385904166202, 0.008058926847793408, 0.0075382936442956495, 0.007572911129847604, 0.007273765832880388, 0.00706355207131203, 0.006839938762935059, 0.006345087735555931], \"yaxis\": \"y\"}, {\"hovertemplate\": \"Firstname=Jacob<br>Year=%{x}<br>Ratio=%{y}<extra></extra>\", \"legendgroup\": \"Jacob\", \"line\": {\"color\": \"#ab63fa\", \"dash\": \"solid\"}, \"mode\": \"lines\", \"name\": \"Jacob\", \"showlegend\": true, \"type\": \"scattergl\", \"x\": [1880.0, 1881.0, 1882.0, 1883.0, 1884.0, 1885.0, 1886.0, 1887.0, 1888.0, 1889.0, 1890.0, 1891.0, 1892.0, 1893.0, 1894.0, 1895.0, 1896.0, 1897.0, 1898.0, 1899.0, 1900.0, 1901.0, 1902.0, 1903.0, 1904.0, 1905.0, 1906.0, 1907.0, 1908.0, 1909.0, 1910.0, 1911.0, 1912.0, 1913.0, 1914.0, 1915.0, 1916.0, 1917.0, 1918.0, 1919.0, 1920.0, 1921.0, 1922.0, 1923.0, 1924.0, 1925.0, 1926.0, 1927.0, 1928.0, 1929.0, 1930.0, 1931.0, 1932.0, 1933.0, 1934.0, 1935.0, 1936.0, 1937.0, 1938.0, 1939.0, 1940.0, 1941.0, 1942.0, 1943.0, 1944.0, 1945.0, 1946.0, 1947.0, 1948.0, 1949.0, 1950.0, 1951.0, 1952.0, 1953.0, 1954.0, 1955.0, 1956.0, 1957.0, 1958.0, 1959.0, 1960.0, 1961.0, 1962.0, 1963.0, 1964.0, 1965.0, 1966.0, 1967.0, 1968.0, 1969.0, 1970.0, 1971.0, 1972.0, 1973.0, 1974.0, 1975.0, 1976.0, 1977.0, 1978.0, 1979.0, 1980.0, 1981.0, 1982.0, 1983.0, 1984.0, 1985.0, 1986.0, 1987.0, 1988.0, 1989.0, 1990.0, 1991.0, 1992.0, 1993.0, 1994.0, 1995.0, 1996.0, 1997.0, 1998.0, 1999.0, 2000.0, 2001.0, 2002.0, 2003.0, 2004.0, 2005.0, 2006.0, 2007.0, 2008.0, 2009.0, 2010.0, 2011.0, 2012.0, 2013.0, 2014.0, 2015.0, 2016.0, 2017.0], \"xaxis\": \"x\", \"y\": [0.0036564064041415137, 0.003781900479437777, 0.0034305015569199375, 0.003402563391858698, 0.003329197322661261, 0.003181847698030594, 0.0031231946851530907, 0.003125831993925828, 0.0029209522469818205, 0.0026677518538614576, 0.0026120243188471064, 0.0023519878250041998, 0.0023189878396538727, 0.002599761391762674, 0.002522264163981722, 0.002265854593466502, 0.0020156063127786095, 0.0018092003157231923, 0.0020865596218110683, 0.0017794934563600414, 0.0015483476538878146, 0.001615493711784651, 0.0016875917169411382, 0.0015851316330210597, 0.0018965853658536585, 0.001662736562065421, 0.0014043467159314499, 0.0016549864127658705, 0.0015226222795275334, 0.0015975804582982719, 0.001405673152672581, 0.00142939328229411, 0.0016071748378288487, 0.0014515203895693433, 0.0015226790598793158, 0.0013221870529369758, 0.0012717757899727445, 0.0012123150463208075, 0.0011820377620611266, 0.0011039284344213456, 0.0009864795925557431, 0.000993224466005667, 0.0009437421259100863, 0.0008894703135861801, 0.0008562981612541855, 0.0008073881843533368, 0.0007293630769397006, 0.0007587354409317804, 0.0006473350920624259, 0.000601561642867636, 0.0005668593259295308, 0.000550290489883602, 0.0005344776391030737, 0.0005437222275462391, 0.000529834424320853, 0.0004572074040704906, 0.0004830950482275426, 0.0005026011484811318, 0.0004391494027748471, 0.00038583872483464055, 0.0004434915033412857, 0.0003794553431546582, 0.0003794744857722414, 0.00033357580650360697, 0.0003214292004485332, 0.0003098947844038947, 0.00028081912969471387, 0.0002848024804601446, 0.00031349320346734885, 0.0002762588240733067, 0.0002596968862622581, 0.0002665984061451464, 0.0002890108013930115, 0.0003013233879706022, 0.00027526622561918954, 0.00027974649916197465, 0.0002531180836075052, 0.0002514196862542085, 0.0002395429821686656, 0.00026109268931094967, 0.00023026141470549753, 0.00023979425746930845, 0.0002300996437806145, 0.00024070824339590598, 0.0002634140467421954, 0.0002622308104006758, 0.0002556442150124823, 0.0002585616291102556, 0.000318636007824412, 0.000366082127591079, 0.0004921352484476226, 0.000596378091273547, 0.0010385355231537952, 0.0013647639497089616, 0.0018811272523145367, 0.0023211777704658615, 0.002874172767595231, 0.003525440969091708, 0.0037522549755582874, 0.004381564217264269, 0.004777543025908013, 0.005220471706907803, 0.005543887918677887, 0.006137392570524783, 0.006289485934694421, 0.00664195058587936, 0.007414723079187982, 0.007672345102275608, 0.008296035496494622, 0.008913658494396593, 0.010721178248234488, 0.012472093752119736, 0.012851788988459383, 0.014016801596615811, 0.01522842376779359, 0.016356265943668114, 0.016856566842785043, 0.01812112516422618, 0.018848106161510485, 0.018423031055162808, 0.017560644105943598, 0.01675803307730139, 0.015754256684916413, 0.015009972031705843, 0.01405542209371794, 0.01294252875866969, 0.01209746148594092, 0.011706926055325872, 0.01108624164581443, 0.010685806791284775, 0.011543668858451874, 0.010741543638674831, 0.010072715402079303, 0.009617438151467761, 0.008807778037101375, 0.008345359000190596, 0.007664691072559146, 0.007144219919432649], \"yaxis\": \"y\"}, {\"hovertemplate\": \"Firstname=Michael<br>Year=%{x}<br>Ratio=%{y}<extra></extra>\", \"legendgroup\": \"Michael\", \"line\": {\"color\": \"#FFA15A\", \"dash\": \"solid\"}, \"mode\": \"lines\", \"name\": \"Michael\", \"showlegend\": true, \"type\": \"scattergl\", \"x\": [1880.0, 1881.0, 1882.0, 1883.0, 1884.0, 1885.0, 1886.0, 1887.0, 1888.0, 1889.0, 1890.0, 1891.0, 1892.0, 1893.0, 1894.0, 1895.0, 1896.0, 1897.0, 1898.0, 1899.0, 1900.0, 1901.0, 1902.0, 1903.0, 1904.0, 1905.0, 1906.0, 1907.0, 1908.0, 1909.0, 1910.0, 1911.0, 1912.0, 1913.0, 1914.0, 1915.0, 1916.0, 1917.0, 1918.0, 1919.0, 1920.0, 1921.0, 1922.0, 1923.0, 1924.0, 1925.0, 1926.0, 1927.0, 1928.0, 1929.0, 1930.0, 1931.0, 1932.0, 1933.0, 1934.0, 1935.0, 1936.0, 1937.0, 1938.0, 1939.0, 1940.0, 1941.0, 1942.0, 1943.0, 1944.0, 1945.0, 1946.0, 1947.0, 1948.0, 1949.0, 1950.0, 1951.0, 1952.0, 1953.0, 1954.0, 1955.0, 1956.0, 1957.0, 1958.0, 1959.0, 1960.0, 1961.0, 1962.0, 1963.0, 1964.0, 1965.0, 1966.0, 1967.0, 1968.0, 1969.0, 1970.0, 1971.0, 1972.0, 1973.0, 1974.0, 1975.0, 1976.0, 1977.0, 1978.0, 1979.0, 1980.0, 1981.0, 1982.0, 1983.0, 1984.0, 1985.0, 1986.0, 1987.0, 1988.0, 1989.0, 1990.0, 1991.0, 1992.0, 1993.0, 1994.0, 1995.0, 1996.0, 1997.0, 1998.0, 1999.0, 2000.0, 2001.0, 2002.0, 2003.0, 2004.0, 2005.0, 2006.0, 2007.0, 2008.0, 2009.0, 2010.0, 2011.0, 2012.0, 2013.0, 2014.0, 2015.0, 2016.0, 2017.0], \"xaxis\": \"x\", \"y\": [0.003203880859074495, 0.002958021897303038, 0.002823566666080256, 0.002934233037361293, 0.00325929291693609, 0.0034323138433566174, 0.0031412478336221837, 0.0034019307189413588, 0.0038559879521063126, 0.0034092964369687104, 0.0035487502814681377, 0.0032908064946487337, 0.003113835261726048, 0.0036236400220801654, 0.003653827881384481, 0.0035180373951190424, 0.0033370411568409346, 0.003263655471500661, 0.003537370608851577, 0.0035307409848413522, 0.003289408105899005, 0.003606683635612244, 0.0037502038154247513, 0.003908313973480496, 0.0036058536585365855, 0.0038771993469980046, 0.003987743883206416, 0.003991037192925103, 0.004464198938699875, 0.0038719984390053535, 0.004345744105698383, 0.005128999424702394, 0.004893626423721994, 0.005086174268289352, 0.005134650952170772, 0.004809131339604098, 0.004729837522778493, 0.004634241741238809, 0.004238759787825209, 0.003989242309230556, 0.003760836008572038, 0.0038112946145263163, 0.0036683725088929547, 0.003570653135770573, 0.003418130392140419, 0.0033693446983002733, 0.0031398630238132544, 0.0032, 0.0032493151971166954, 0.003219795933926775, 0.0032307336180388856, 0.00335561753271679, 0.0034578212852367316, 0.003576058064288344, 0.003976179729135469, 0.004714230964659597, 0.005594645648335733, 0.006652901396406027, 0.008186033425852283, 0.009780605052951169, 0.011414297855451106, 0.012972324188405278, 0.01573370740054908, 0.01733963483260241, 0.01961011665384864, 0.022219530357055272, 0.025359322240567157, 0.027605614708708832, 0.02996140043683853, 0.0338495990582393, 0.03638604696101587, 0.03866154854374604, 0.04066515681664373, 0.04270117648013701, 0.04343122048922806, 0.04290174826991846, 0.04287394530189181, 0.04299879671094808, 0.04268391879115672, 0.03996311889982947, 0.03947881196365152, 0.04094969832563306, 0.04110710800036158, 0.041244791423107496, 0.041470402295967004, 0.04353622546691056, 0.04484537729666334, 0.04726632707759429, 0.0471661813314959, 0.04762309301951246, 0.045880451473582017, 0.04386120614218558, 0.04400986886100697, 0.043512112280053666, 0.04296459043365101, 0.04382071238264481, 0.04265649494885794, 0.04113115857123216, 0.040888194004306905, 0.03932898080147902, 0.038496629100140664, 0.03838598555662052, 0.03759924303335536, 0.03793400671146556, 0.03753851610471947, 0.0351289475820637, 0.03487891386176748, 0.03410544410703559, 0.033521272964761185, 0.0326860807448479, 0.03179918029992021, 0.03009591975873752, 0.027238119945690035, 0.025272269817055288, 0.023024105156011998, 0.021754059642126226, 0.020258189610107075, 0.019923633500230287, 0.0191621191480409, 0.01766810410176978, 0.01631966679045874, 0.015285184221977891, 0.014557535145320237, 0.01373744250947685, 0.012832838838319037, 0.011931378041093406, 0.011021687868838408, 0.01060438277833189, 0.01011752662616777, 0.009558115716045973, 0.009051422224681123, 0.008855378156136103, 0.008532940615931043, 0.00820937482942402, 0.008061657056899948, 0.0075468477393491685, 0.00744129859845044, 0.006856946617315984], \"yaxis\": \"y\"}, {\"hovertemplate\": \"Firstname=Matthew<br>Year=%{x}<br>Ratio=%{y}<extra></extra>\", \"legendgroup\": \"Matthew\", \"line\": {\"color\": \"#19d3f3\", \"dash\": \"solid\"}, \"mode\": \"lines\", \"name\": \"Matthew\", \"showlegend\": true, \"type\": \"scattergl\", \"x\": [1880.0, 1881.0, 1882.0, 1883.0, 1884.0, 1885.0, 1886.0, 1887.0, 1888.0, 1889.0, 1890.0, 1891.0, 1892.0, 1893.0, 1894.0, 1895.0, 1896.0, 1897.0, 1898.0, 1899.0, 1900.0, 1901.0, 1902.0, 1903.0, 1904.0, 1905.0, 1906.0, 1907.0, 1908.0, 1909.0, 1910.0, 1911.0, 1912.0, 1913.0, 1914.0, 1915.0, 1916.0, 1917.0, 1918.0, 1919.0, 1920.0, 1921.0, 1922.0, 1923.0, 1924.0, 1925.0, 1926.0, 1927.0, 1928.0, 1929.0, 1930.0, 1931.0, 1932.0, 1933.0, 1934.0, 1935.0, 1936.0, 1937.0, 1938.0, 1939.0, 1940.0, 1941.0, 1942.0, 1943.0, 1944.0, 1945.0, 1946.0, 1947.0, 1948.0, 1949.0, 1950.0, 1951.0, 1952.0, 1953.0, 1954.0, 1955.0, 1956.0, 1957.0, 1958.0, 1959.0, 1960.0, 1961.0, 1962.0, 1963.0, 1964.0, 1965.0, 1966.0, 1967.0, 1968.0, 1969.0, 1970.0, 1971.0, 1972.0, 1973.0, 1974.0, 1975.0, 1976.0, 1977.0, 1978.0, 1979.0, 1980.0, 1981.0, 1982.0, 1983.0, 1984.0, 1985.0, 1986.0, 1987.0, 1988.0, 1989.0, 1990.0, 1991.0, 1992.0, 1993.0, 1994.0, 1995.0, 1996.0, 1997.0, 1998.0, 1999.0, 2000.0, 2001.0, 2002.0, 2003.0, 2004.0, 2005.0, 2006.0, 2007.0, 2008.0, 2009.0, 2010.0, 2011.0, 2012.0, 2013.0, 2014.0, 2015.0, 2016.0, 2017.0], \"xaxis\": \"x\", \"y\": [0.001022707731851463, 0.000794099838202158, 0.0009587812043699313, 0.0008219675609546293, 0.0010223519337306233, 0.0010296941530069852, 0.0010109763142692085, 0.0010649522250599035, 0.0009433103573822311, 0.0010671007415445832, 0.0007746003152443143, 0.0011167001017877085, 0.0010816480382837852, 0.0009615555832546876, 0.001071098480594978, 0.0009540440393543166, 0.0010287119355675061, 0.00088686289986431, 0.0010840329285190318, 0.0009509462385839375, 0.0008638849571047893, 0.0008453164770966196, 0.0008478721669655959, 0.0008554678654399369, 0.0007570731707317073, 0.0008086946006409094, 0.0010213430661319635, 0.0008445198155677693, 0.000984845048885894, 0.0008963523945413968, 0.0010143502237234376, 0.0009735805637916538, 0.0008838298674022612, 0.0009579254183851446, 0.0009362108963952063, 0.0009403790269551753, 0.0009268683981691822, 0.0009313864259612621, 0.000950168918918919, 0.000896814319645437, 0.0009085007295251463, 0.0008307133330851785, 0.000903309162385214, 0.0008529792237980291, 0.0007512471497188782, 0.0007527259432372951, 0.0006978473884299604, 0.0007010537992235163, 0.0007078252610557069, 0.0006759432988636343, 0.0005987565548805495, 0.0005839621107680881, 0.0006733651976513635, 0.0005860901933290629, 0.0005908574018934558, 0.0006281799207186993, 0.0005862710365715487, 0.0005682393581708319, 0.0005482604453534026, 0.0005611378176166552, 0.0005729150938105325, 0.0005936114702998837, 0.0006090420659054486, 0.0005739466082488532, 0.0005614003158518901, 0.0005425016609468661, 0.0005493216308940456, 0.0005717915442635533, 0.0006007669753719739, 0.000687264299072165, 0.0007277097694617684, 0.0008523713981333863, 0.0010490783538109315, 0.0012037717165896279, 0.001317941322661574, 0.0015934865690111787, 0.0020618478660962758, 0.002422813692445998, 0.0030051327270883975, 0.0030740500116718276, 0.003249921800222195, 0.0033330930679673033, 0.0035235216460439054, 0.003954703532602677, 0.004507139775019317, 0.005368745956379409, 0.006058655771140123, 0.007785514242388628, 0.009109883985434768, 0.009765170890490584, 0.01086516300971631, 0.012752881269318693, 0.014143189703151416, 0.01574352699128552, 0.01730713359817876, 0.018277514534567368, 0.019098725159140118, 0.019451673778384516, 0.020890373636436144, 0.020705300612698988, 0.021217334775469488, 0.024187664570179117, 0.02538285064953315, 0.028014092403993406, 0.027584735430382833, 0.025477227829946148, 0.025490589130686327, 0.024906989293118627, 0.023974455402798345, 0.022682086346004927, 0.021822298297178785, 0.02061485095130041, 0.01889930670155112, 0.01824346759003533, 0.017420036925549352, 0.017274200879052747, 0.016935772588686674, 0.016721355664556223, 0.016298320710883534, 0.015846172041027597, 0.014555502404775622, 0.013804610634895704, 0.012962421809811983, 0.012155899050719319, 0.011531606928139834, 0.010756378817745344, 0.009901110642512976, 0.009035453084516743, 0.008626667340612274, 0.008068493351216205, 0.0073728745442189795, 0.0074681815065061104, 0.0073761286839706015, 0.007063634181227341, 0.006734407559578726, 0.006669270773335903, 0.006672659090379725, 0.006329279527280062], \"yaxis\": \"y\"}, {\"hovertemplate\": \"Firstname=Christopher<br>Year=%{x}<br>Ratio=%{y}<extra></extra>\", \"legendgroup\": \"Christopher\", \"line\": {\"color\": \"#FF6692\", \"dash\": \"solid\"}, \"mode\": \"lines\", \"name\": \"Christopher\", \"showlegend\": true, \"type\": \"scattergl\", \"x\": [1880.0, 1881.0, 1882.0, 1883.0, 1884.0, 1885.0, 1886.0, 1887.0, 1888.0, 1889.0, 1890.0, 1891.0, 1892.0, 1893.0, 1894.0, 1895.0, 1896.0, 1897.0, 1898.0, 1899.0, 1900.0, 1901.0, 1902.0, 1903.0, 1904.0, 1905.0, 1906.0, 1907.0, 1908.0, 1909.0, 1910.0, 1911.0, 1912.0, 1913.0, 1914.0, 1915.0, 1916.0, 1917.0, 1918.0, 1919.0, 1920.0, 1921.0, 1922.0, 1923.0, 1924.0, 1925.0, 1926.0, 1927.0, 1928.0, 1929.0, 1930.0, 1931.0, 1932.0, 1933.0, 1934.0, 1935.0, 1936.0, 1937.0, 1938.0, 1939.0, 1940.0, 1941.0, 1942.0, 1943.0, 1944.0, 1945.0, 1946.0, 1947.0, 1948.0, 1949.0, 1950.0, 1951.0, 1952.0, 1953.0, 1954.0, 1955.0, 1956.0, 1957.0, 1958.0, 1959.0, 1960.0, 1961.0, 1962.0, 1963.0, 1964.0, 1965.0, 1966.0, 1967.0, 1968.0, 1969.0, 1970.0, 1971.0, 1972.0, 1973.0, 1974.0, 1975.0, 1976.0, 1977.0, 1978.0, 1979.0, 1980.0, 1981.0, 1982.0, 1983.0, 1984.0, 1985.0, 1986.0, 1987.0, 1988.0, 1989.0, 1990.0, 1991.0, 1992.0, 1993.0, 1994.0, 1995.0, 1996.0, 1997.0, 1998.0, 1999.0, 2000.0, 2001.0, 2002.0, 2003.0, 2004.0, 2005.0, 2006.0, 2007.0, 2008.0, 2009.0, 2010.0, 2011.0, 2012.0, 2013.0, 2014.0, 2015.0, 2016.0, 2017.0], \"xaxis\": \"x\", \"y\": [0.0008597985356273362, 0.0006749848624718343, 0.0007828580476048063, 0.0008506408479646746, 0.0005941874486639521, 0.000658633196968432, 0.0005957538994800693, 0.0005521974500310611, 0.0006536975283613706, 0.0006420690902514017, 0.0005944607070479622, 0.0006127027107153798, 0.0008194303320331705, 0.0008280061966915365, 0.0006219281500228904, 0.0005110950210826696, 0.0006105363520034793, 0.0005055118529226567, 0.0003504768114760779, 0.0003954429903022314, 0.0003654897895443339, 0.0003193417802365008, 0.00038317299853252894, 0.00041934699286271416, 0.000335609756097561, 0.00037789467319668664, 0.0003679838988269575, 0.00035415347104454843, 0.0003498791621041992, 0.0003048817668508153, 0.00036042901350579, 0.0003673053945213966, 0.0003512060788887933, 0.00030630201769138026, 0.0003054521684813071, 0.0002851775996530732, 0.00029210398002907557, 0.0002841701044406171, 0.000268375852488002, 0.0002683301092909555, 0.0002752747815417455, 0.0002641940764238109, 0.00028211181368490405, 0.0002691217871876135, 0.000262186138033498, 0.0002562852616260314, 0.00024312102564656685, 0.00025379922351636164, 0.00024015499928675772, 0.00025475717178629405, 0.000243330289426342, 0.00022800497570352041, 0.00023371423645367383, 0.00020982230673398465, 0.00026249566543135494, 0.00025837981448521423, 0.0002671004558064457, 0.0002756804806967402, 0.0002777371992908684, 0.00032439368200383125, 0.00043141196823082265, 0.00050404046655093, 0.0005880406153569848, 0.0006230018739111483, 0.0007360581918947004, 0.0008457080687089501, 0.000985330279630575, 0.0012419793389739895, 0.0017316224584251014, 0.0022551740740678096, 0.0027008476171274842, 0.0030441076972589224, 0.003238772290343748, 0.0030771509620028162, 0.002980333430322562, 0.003839229298394809, 0.003960943170022492, 0.004159093924271648, 0.005222791477362481, 0.006048256678957242, 0.007201882984994553, 0.008115316069089013, 0.008471147389940101, 0.009035665676432004, 0.009852688830240937, 0.01323781970127182, 0.015628495135752124, 0.016869569704144726, 0.018096684747630504, 0.019953991021765958, 0.022468797818469326, 0.027266067160652385, 0.03216501682304279, 0.030990659576050957, 0.03090287115072985, 0.029825790039036244, 0.02880096926890141, 0.028437137646112647, 0.02877297061332291, 0.0294260417973123, 0.027511922841979612, 0.028041055950930246, 0.032637849103747306, 0.03310710729139644, 0.033264059763694, 0.032257191567667036, 0.030792097118802344, 0.029198101150851766, 0.027700144731113218, 0.026583999108134224, 0.02549117219839197, 0.023320686296887324, 0.021265726676239192, 0.01949764542010877, 0.018017514266454183, 0.017167537575170044, 0.016317439732347942, 0.015442567001097317, 0.014131107748846133, 0.013339126837627143, 0.012700659052690083, 0.011907931497078764, 0.011174039491810806, 0.010509513323313176, 0.009894605761013963, 0.009602925422373388, 0.009583102416180727, 0.00965183554645826, 0.008804314167923363, 0.008251225745681937, 0.007449599204986372, 0.006854228312525384, 0.0062816472579331414, 0.005749371088013762, 0.005404025293971144, 0.005134034696754222, 0.004792350872289381, 0.004499888252320809], \"yaxis\": \"y\"}, {\"hovertemplate\": \"Firstname=Nicholas<br>Year=%{x}<br>Ratio=%{y}<extra></extra>\", \"legendgroup\": \"Nicholas\", \"line\": {\"color\": \"#B6E880\", \"dash\": \"solid\"}, \"mode\": \"lines\", \"name\": \"Nicholas\", \"showlegend\": true, \"type\": \"scattergl\", \"x\": [1880.0, 1881.0, 1882.0, 1883.0, 1884.0, 1885.0, 1886.0, 1887.0, 1888.0, 1889.0, 1890.0, 1891.0, 1892.0, 1893.0, 1894.0, 1895.0, 1896.0, 1897.0, 1898.0, 1899.0, 1900.0, 1901.0, 1902.0, 1903.0, 1904.0, 1905.0, 1906.0, 1907.0, 1908.0, 1909.0, 1910.0, 1911.0, 1912.0, 1913.0, 1914.0, 1915.0, 1916.0, 1917.0, 1918.0, 1919.0, 1920.0, 1921.0, 1922.0, 1923.0, 1924.0, 1925.0, 1926.0, 1927.0, 1928.0, 1929.0, 1930.0, 1931.0, 1932.0, 1933.0, 1934.0, 1935.0, 1936.0, 1937.0, 1938.0, 1939.0, 1940.0, 1941.0, 1942.0, 1943.0, 1944.0, 1945.0, 1946.0, 1947.0, 1948.0, 1949.0, 1950.0, 1951.0, 1952.0, 1953.0, 1954.0, 1955.0, 1956.0, 1957.0, 1958.0, 1959.0, 1960.0, 1961.0, 1962.0, 1963.0, 1964.0, 1965.0, 1966.0, 1967.0, 1968.0, 1969.0, 1970.0, 1971.0, 1972.0, 1973.0, 1974.0, 1975.0, 1976.0, 1977.0, 1978.0, 1979.0, 1980.0, 1981.0, 1982.0, 1983.0, 1984.0, 1985.0, 1986.0, 1987.0, 1988.0, 1989.0, 1990.0, 1991.0, 1992.0, 1993.0, 1994.0, 1995.0, 1996.0, 1997.0, 1998.0, 1999.0, 2000.0, 2001.0, 2002.0, 2003.0, 2004.0, 2005.0, 2006.0, 2007.0, 2008.0, 2009.0, 2010.0, 2011.0, 2012.0, 2013.0, 2014.0, 2015.0, 2016.0, 2017.0], \"xaxis\": \"x\", \"y\": [0.0006606872957978478, 0.0005558698867415106, 0.0005805464173249125, 0.0006786011259044033, 0.0006029254993795984, 0.0006122505774636128, 0.0007672588099364529, 0.0007789928312938183, 0.0008026412690006703, 0.0006149394103816242, 0.0007025444719657735, 0.0007708195392870907, 0.000778458815431512, 0.000792393026941363, 0.0006651176048855912, 0.0007155330295157375, 0.000886532237155737, 0.0007715707228819497, 0.0007661586111337518, 0.0006496563412108088, 0.0006313005455765768, 0.0008265316664944726, 0.0009130931028860264, 0.0007548245871528855, 0.0007960975609756098, 0.000846484067960578, 0.0010814220700220791, 0.0010965136315033133, 0.0014643090858435003, 0.0012439176087513262, 0.0012100116881980094, 0.0013630127893083154, 0.0015722868167471805, 0.0015529707393779533, 0.0017578772296099224, 0.0016816051020865101, 0.0015930901680047277, 0.0015267390021847602, 0.0014681737812578934, 0.0013477721459062824, 0.00127302842658384, 0.0014108508411085983, 0.001301206280709525, 0.0013373984407357333, 0.0013135790349961113, 0.001194504383732517, 0.0011867907844525004, 0.001128785357737105, 0.0010987542636540757, 0.0011082866743403741, 0.001031647519215802, 0.0010601750347058207, 0.0008850489937835844, 0.0008957798479797037, 0.0008456041177917819, 0.0008759940178829568, 0.0008948347400302585, 0.0008767389437124221, 0.0008900214795457374, 0.0009316152817435934, 0.0009508319779807331, 0.0009860953230907534, 0.0010877303008204324, 0.0010042313670581278, 0.0010002465758250016, 0.0010084585669930099, 0.0010321334679130273, 0.001057759692303992, 0.0011000761503490604, 0.001126459449996871, 0.0012163867059767702, 0.0012692633280615535, 0.0012059258527875657, 0.0011961625401257238, 0.0011628894023484478, 0.001060705475989154, 0.0010470099420998298, 0.0010182033419335566, 0.0010298462068038694, 0.0010289020700853403, 0.0010795555532628418, 0.0009775502637501278, 0.0010397990205296256, 0.001050944989059835, 0.0010386039557263706, 0.001113943585984838, 0.0012019763091814957, 0.0013151671334344266, 0.0014746980578732715, 0.0014453257739702751, 0.0014516645197378505, 0.0014810527006035006, 0.001753491729004479, 0.002021492466862146, 0.002044510051856556, 0.002125932536049952, 0.00221423416226973, 0.003699431670931264, 0.00995690051440536, 0.012393335098501001, 0.01178273807855906, 0.011040471494784274, 0.01082711391036426, 0.011097628671291609, 0.011645164150650618, 0.01211863718777907, 0.012384852865362122, 0.012459121104414734, 0.013219193154098127, 0.014110376388353553, 0.013590225948466253, 0.013545020594550997, 0.013900526221686223, 0.014334553848806032, 0.014373109584799846, 0.015319057264532875, 0.014637221842621352, 0.014463046721949957, 0.013939036472085031, 0.013357361788192192, 0.012558527414340217, 0.011763221522132643, 0.011023547377442985, 0.009975071187185953, 0.00933398201668259, 0.008553192640746868, 0.0076307364447167295, 0.0069229685905387705, 0.006144028392085196, 0.00547641919215119, 0.005031989486111793, 0.004530278335996962, 0.004085289261087699, 0.003780626172171645, 0.0035301077306800874, 0.0032663037672975865, 0.003037502408615538, 0.0029005336633069682], \"yaxis\": \"y\"}, {\"hovertemplate\": \"Firstname=Joshua<br>Year=%{x}<br>Ratio=%{y}<extra></extra>\", \"legendgroup\": \"Joshua\", \"line\": {\"color\": \"#FF97FF\", \"dash\": \"solid\"}, \"mode\": \"lines\", \"name\": \"Joshua\", \"showlegend\": true, \"type\": \"scattergl\", \"x\": [1880.0, 1881.0, 1882.0, 1883.0, 1884.0, 1885.0, 1886.0, 1887.0, 1888.0, 1889.0, 1890.0, 1891.0, 1892.0, 1893.0, 1894.0, 1895.0, 1896.0, 1897.0, 1898.0, 1899.0, 1900.0, 1901.0, 1902.0, 1903.0, 1904.0, 1905.0, 1906.0, 1907.0, 1908.0, 1909.0, 1910.0, 1911.0, 1912.0, 1913.0, 1914.0, 1915.0, 1916.0, 1917.0, 1918.0, 1919.0, 1920.0, 1921.0, 1922.0, 1923.0, 1924.0, 1925.0, 1926.0, 1927.0, 1928.0, 1929.0, 1930.0, 1931.0, 1932.0, 1933.0, 1934.0, 1935.0, 1936.0, 1937.0, 1938.0, 1939.0, 1940.0, 1941.0, 1942.0, 1943.0, 1944.0, 1945.0, 1946.0, 1947.0, 1948.0, 1949.0, 1950.0, 1951.0, 1952.0, 1953.0, 1954.0, 1955.0, 1956.0, 1957.0, 1958.0, 1959.0, 1960.0, 1961.0, 1962.0, 1963.0, 1964.0, 1965.0, 1966.0, 1967.0, 1968.0, 1969.0, 1970.0, 1971.0, 1972.0, 1973.0, 1974.0, 1975.0, 1976.0, 1977.0, 1978.0, 1979.0, 1980.0, 1981.0, 1982.0, 1983.0, 1984.0, 1985.0, 1986.0, 1987.0, 1988.0, 1989.0, 1990.0, 1991.0, 1992.0, 1993.0, 1994.0, 1995.0, 1996.0, 1997.0, 1998.0, 1999.0, 2000.0, 2001.0, 2002.0, 2003.0, 2004.0, 2005.0, 2006.0, 2007.0, 2008.0, 2009.0, 2010.0, 2011.0, 2012.0, 2013.0, 2014.0, 2015.0, 2016.0, 2017.0], \"xaxis\": \"x\", \"y\": [0.0005158791213764017, 0.000397049919101079, 0.0004398078919128125, 0.0005256769285174955, 0.0003582600793415005, 0.0003988905277414447, 0.0004964615829000578, 0.0004042874187727412, 0.00041373261288694344, 0.0002984264785675529, 0.0002161675298356226, 0.0002371752428575664, 0.0003359664361335999, 0.00020477572606349828, 0.00020730938334096347, 0.000247029260189957, 0.00025090535013841614, 0.0002571902409606499, 0.00031787431738527995, 0.00022596742302984652, 0.00023922968042901856, 0.00020663291662361815, 0.00013859448883091473, 0.00017612573700233995, 0.00014829268292682927, 0.00013604208235080717, 0.0002027666381291398, 0.00017707673552227421, 0.0001878980685374403, 0.00017073378943645653, 0.00022655537991792517, 0.00019029074655927777, 0.00013955208432667282, 0.00015217552471291502, 0.00013287169328936858, 0.00016026509732569404, 0.00011122420778030185, 0.00013182035263024824, 0.00011642775953523617, 0.00014181705395985864, 0.0001202565598544144, 0.00011348542801710089, 0.0001139474426610036, 0.00011768376456678691, 0.0001006371034876053, 9.767515215817281e-05, 9.454706552922045e-05, 0.0001038269550748752, 0.00010653492449562936, 6.88030317962984e-05, 8.202144587404787e-05, 9.139439954360523e-05, 0.00010632082068179424, 0.00010289363118685786, 0.00010267358131263331, 7.684158051604884e-05, 9.642615733084682e-05, 8.626736130646293e-05, 6.49255790550082e-05, 9.126396067517259e-05, 7.765415428154808e-05, 7.572821226047899e-05, 8.110905039406688e-05, 6.657500339882912e-05, 7.632108869097591e-05, 7.208583713951508e-05, 6.958895099890937e-05, 7.707706285005832e-05, 7.40983935468279e-05, 0.00010317421388860229, 9.047504424620605e-05, 8.709589364104383e-05, 9.153722891095382e-05, 8.471549796479893e-05, 9.371809107533904e-05, 0.0001185037253394476, 0.00011402141710169858, 0.00012617371708698285, 0.00013014539976092856, 0.0001532806272974516, 0.0001472547540071817, 0.00016677243053857602, 0.00016193987534980221, 0.00018360771940014914, 0.00019668248823417257, 0.00024879685494982146, 0.0002730235366471028, 0.0003227720558516051, 0.00041986333160978475, 0.0007388711033212312, 0.0011698296889328733, 0.0020638638969096876, 0.003106361446109868, 0.0051710957361387954, 0.007373840824466479, 0.009329521463532671, 0.010744386540564884, 0.01343013543290225, 0.015353012123747092, 0.01807787176521412, 0.020208586687887737, 0.021800158422783406, 0.02095600654906203, 0.020477501527234994, 0.02230996874376538, 0.022837117419424676, 0.02039225400736746, 0.021431981750985835, 0.02229193661101305, 0.022041682726749626, 0.02105072417881425, 0.020407395322791552, 0.018138045672656755, 0.017125979332332644, 0.016242685562275882, 0.016139786725935735, 0.015402349348031103, 0.015007460484899681, 0.01469999460944373, 0.014201379500060176, 0.014028749307808733, 0.013396229815919642, 0.013392767410829556, 0.012710604395799234, 0.012200120493772388, 0.011648776948569608, 0.010868284206825148, 0.00995906217263725, 0.00942215216677602, 0.008906437480534204, 0.008057655189979656, 0.007259310832265244, 0.006683097974047268, 0.006265007374181832, 0.005682841671457191, 0.005122515190040444, 0.00486063909304773, 0.00449116648223757], \"yaxis\": \"y\"}, {\"hovertemplate\": \"Firstname=Tyler<br>Year=%{x}<br>Ratio=%{y}<extra></extra>\", \"legendgroup\": \"Tyler\", \"line\": {\"color\": \"#FECB52\", \"dash\": \"solid\"}, \"mode\": \"lines\", \"name\": \"Tyler\", \"showlegend\": true, \"type\": \"scattergl\", \"x\": [1880.0, 1884.0, 1888.0, 1889.0, 1892.0, 1895.0, 1896.0, 1898.0, 1899.0, 1900.0, 1903.0, 1904.0, 1905.0, 1907.0, 1908.0, 1910.0, 1911.0, 1912.0, 1913.0, 1914.0, 1915.0, 1916.0, 1917.0, 1918.0, 1919.0, 1920.0, 1921.0, 1922.0, 1923.0, 1924.0, 1925.0, 1926.0, 1927.0, 1928.0, 1929.0, 1930.0, 1931.0, 1932.0, 1933.0, 1934.0, 1935.0, 1936.0, 1937.0, 1938.0, 1939.0, 1940.0, 1941.0, 1942.0, 1943.0, 1944.0, 1945.0, 1946.0, 1947.0, 1948.0, 1949.0, 1950.0, 1951.0, 1952.0, 1953.0, 1954.0, 1955.0, 1956.0, 1957.0, 1958.0, 1959.0, 1960.0, 1961.0, 1962.0, 1963.0, 1964.0, 1965.0, 1966.0, 1967.0, 1968.0, 1969.0, 1970.0, 1971.0, 1972.0, 1973.0, 1974.0, 1975.0, 1976.0, 1977.0, 1978.0, 1979.0, 1980.0, 1981.0, 1982.0, 1983.0, 1984.0, 1985.0, 1986.0, 1987.0, 1988.0, 1989.0, 1990.0, 1991.0, 1992.0, 1993.0, 1994.0, 1995.0, 1996.0, 1997.0, 1998.0, 1999.0, 2000.0, 2001.0, 2002.0, 2003.0, 2004.0, 2005.0, 2006.0, 2007.0, 2008.0, 2009.0, 2010.0, 2011.0, 2012.0, 2013.0, 2014.0, 2015.0, 2016.0, 2017.0], \"xaxis\": \"x\", \"y\": [6.335357630938266e-05, 4.369025357823177e-05, 4.137326128869434e-05, 6.330258636281426e-05, 4.097151660165853e-05, 4.259125175688913e-05, 5.018107002768322e-05, 4.0753117613497433e-05, 4.707654646455136e-05, 7.309795790886678e-05, 5.0321639143525704e-05, 3.902439024390244e-05, 4.534736078360239e-05, 3.405321836966812e-05, 4.535470619869249e-05, 4.119188725780457e-05, 5.752976058768863e-05, 4.884322951433549e-05, 2.5362587452152504e-05, 2.2908912636098033e-05, 2.5925236332097565e-05, 3.0333874849173233e-05, 2.8092862035954542e-05, 2.6640250063147258e-05, 3.162826383277423e-05, 2.8185131215878375e-05, 2.269708560342018e-05, 3.2162584622057465e-05, 2.1894653872890587e-05, 1.9421195409888743e-05, 1.971425089431011e-05, 1.890941310584409e-05, 2.3960066555740432e-05, 2.618231195231569e-05, 1.766564329904959e-05, 2.5517783160814892e-05, 2.020297253069168e-05, 2.2988285552820377e-05, 1.7148938531142975e-05, 1.4529280374429241e-05, 2.4973513667715875e-05, 1.157113887970162e-05, 1.78160854872043e-05, 2.9757557066878757e-05, 3.614414284165251e-05, 3.0198837776157585e-05, 3.3385555942791816e-05, 2.4622390298198873e-05, 2.7330790868993007e-05, 3.155583474723042e-05, 3.1212424328449824e-05, 3.202323408799369e-05, 3.66252709996731e-05, 3.875915970141767e-05, 4.0029339814703624e-05, 4.412054626821159e-05, 3.770614907630556e-05, 4.3197343980450115e-05, 4.971328623084009e-05, 5.838980543437354e-05, 5.682350764227611e-05, 6.339780038019756e-05, 6.54062283428845e-05, 6.837348900483565e-05, 6.843722197378573e-05, 8.347562488305205e-05, 9.280838648615671e-05, 0.00011263280882538483, 0.00013881334281727094, 0.000155037981796835, 0.000159595390756149, 0.0001855663051954641, 0.00024078910028006066, 0.0002507676884683098, 0.0002749807737020013, 0.0004039274006384312, 0.00040870271089172937, 0.0005146451999011388, 0.00048164366834183746, 0.0005867794707287318, 0.0006804776530626615, 0.000803902046255581, 0.0008875959230206733, 0.0010715509909106904, 0.001186842997626314, 0.0014688492986398712, 0.0017427622614377845, 0.0025267123366936495, 0.0032480592260335684, 0.004825319766797455, 0.00552810326631126, 0.005926780628173558, 0.006181601697154031, 0.006972600398389507, 0.007793327104270807, 0.010050921943392568, 0.012479520564596187, 0.014420387371681189, 0.01519702424760806, 0.015779304089043798, 0.015318531829538379, 0.014232216461911014, 0.013199645971868772, 0.01240926987270437, 0.011807911988750598, 0.010954324800850141, 0.009924220381447255, 0.009412972523335297, 0.009209121888774234, 0.008793524594089755, 0.008510602050561544, 0.007565479013892041, 0.006793711548441488, 0.006230888857372662, 0.005825226055620308, 0.005451104469759523, 0.004659503879403558, 0.004065216725281992, 0.0035214831670984832, 0.003041918006055641, 0.0027002770964978605, 0.0023768535752324445, 0.002040894199477784], \"yaxis\": \"y\"}],                        {\"legend\": {\"title\": {\"text\": \"Firstname\"}, \"tracegroupgap\": 0}, \"template\": {\"data\": {\"bar\": [{\"error_x\": {\"color\": \"#2a3f5f\"}, \"error_y\": {\"color\": \"#2a3f5f\"}, \"marker\": {\"line\": {\"color\": \"#E5ECF6\", \"width\": 0.5}}, \"type\": \"bar\"}], \"barpolar\": [{\"marker\": {\"line\": {\"color\": \"#E5ECF6\", \"width\": 0.5}}, \"type\": \"barpolar\"}], \"carpet\": [{\"aaxis\": {\"endlinecolor\": \"#2a3f5f\", \"gridcolor\": \"white\", \"linecolor\": \"white\", \"minorgridcolor\": \"white\", \"startlinecolor\": \"#2a3f5f\"}, \"baxis\": {\"endlinecolor\": \"#2a3f5f\", \"gridcolor\": \"white\", \"linecolor\": \"white\", \"minorgridcolor\": \"white\", \"startlinecolor\": \"#2a3f5f\"}, \"type\": \"carpet\"}], \"choropleth\": [{\"colorbar\": {\"outlinewidth\": 0, \"ticks\": \"\"}, \"type\": \"choropleth\"}], \"contour\": [{\"colorbar\": {\"outlinewidth\": 0, \"ticks\": \"\"}, \"colorscale\": [[0.0, \"#0d0887\"], [0.1111111111111111, \"#46039f\"], [0.2222222222222222, \"#7201a8\"], [0.3333333333333333, \"#9c179e\"], [0.4444444444444444, \"#bd3786\"], [0.5555555555555556, \"#d8576b\"], [0.6666666666666666, \"#ed7953\"], [0.7777777777777778, \"#fb9f3a\"], [0.8888888888888888, \"#fdca26\"], [1.0, \"#f0f921\"]], \"type\": \"contour\"}], \"contourcarpet\": [{\"colorbar\": {\"outlinewidth\": 0, \"ticks\": \"\"}, \"type\": \"contourcarpet\"}], \"heatmap\": [{\"colorbar\": {\"outlinewidth\": 0, \"ticks\": \"\"}, \"colorscale\": [[0.0, \"#0d0887\"], [0.1111111111111111, \"#46039f\"], [0.2222222222222222, \"#7201a8\"], [0.3333333333333333, \"#9c179e\"], [0.4444444444444444, \"#bd3786\"], [0.5555555555555556, \"#d8576b\"], [0.6666666666666666, \"#ed7953\"], [0.7777777777777778, \"#fb9f3a\"], [0.8888888888888888, \"#fdca26\"], [1.0, \"#f0f921\"]], \"type\": \"heatmap\"}], \"heatmapgl\": [{\"colorbar\": {\"outlinewidth\": 0, \"ticks\": \"\"}, \"colorscale\": [[0.0, \"#0d0887\"], [0.1111111111111111, \"#46039f\"], [0.2222222222222222, \"#7201a8\"], [0.3333333333333333, \"#9c179e\"], [0.4444444444444444, \"#bd3786\"], [0.5555555555555556, \"#d8576b\"], [0.6666666666666666, \"#ed7953\"], [0.7777777777777778, \"#fb9f3a\"], [0.8888888888888888, \"#fdca26\"], [1.0, \"#f0f921\"]], \"type\": \"heatmapgl\"}], \"histogram\": [{\"marker\": {\"colorbar\": {\"outlinewidth\": 0, \"ticks\": \"\"}}, \"type\": \"histogram\"}], \"histogram2d\": [{\"colorbar\": {\"outlinewidth\": 0, \"ticks\": \"\"}, \"colorscale\": [[0.0, \"#0d0887\"], [0.1111111111111111, \"#46039f\"], [0.2222222222222222, \"#7201a8\"], [0.3333333333333333, \"#9c179e\"], [0.4444444444444444, \"#bd3786\"], [0.5555555555555556, \"#d8576b\"], [0.6666666666666666, \"#ed7953\"], [0.7777777777777778, \"#fb9f3a\"], [0.8888888888888888, \"#fdca26\"], [1.0, \"#f0f921\"]], \"type\": \"histogram2d\"}], \"histogram2dcontour\": [{\"colorbar\": {\"outlinewidth\": 0, \"ticks\": \"\"}, \"colorscale\": [[0.0, \"#0d0887\"], [0.1111111111111111, \"#46039f\"], [0.2222222222222222, \"#7201a8\"], [0.3333333333333333, \"#9c179e\"], [0.4444444444444444, \"#bd3786\"], [0.5555555555555556, \"#d8576b\"], [0.6666666666666666, \"#ed7953\"], [0.7777777777777778, \"#fb9f3a\"], [0.8888888888888888, \"#fdca26\"], [1.0, \"#f0f921\"]], \"type\": \"histogram2dcontour\"}], \"mesh3d\": [{\"colorbar\": {\"outlinewidth\": 0, \"ticks\": \"\"}, \"type\": \"mesh3d\"}], \"parcoords\": [{\"line\": {\"colorbar\": {\"outlinewidth\": 0, \"ticks\": \"\"}}, \"type\": \"parcoords\"}], \"pie\": [{\"automargin\": true, \"type\": \"pie\"}], \"scatter\": [{\"marker\": {\"colorbar\": {\"outlinewidth\": 0, \"ticks\": \"\"}}, \"type\": \"scatter\"}], \"scatter3d\": [{\"line\": {\"colorbar\": {\"outlinewidth\": 0, \"ticks\": \"\"}}, \"marker\": {\"colorbar\": {\"outlinewidth\": 0, \"ticks\": \"\"}}, \"type\": \"scatter3d\"}], \"scattercarpet\": [{\"marker\": {\"colorbar\": {\"outlinewidth\": 0, \"ticks\": \"\"}}, \"type\": \"scattercarpet\"}], \"scattergeo\": [{\"marker\": {\"colorbar\": {\"outlinewidth\": 0, \"ticks\": \"\"}}, \"type\": \"scattergeo\"}], \"scattergl\": [{\"marker\": {\"colorbar\": {\"outlinewidth\": 0, \"ticks\": \"\"}}, \"type\": \"scattergl\"}], \"scattermapbox\": [{\"marker\": {\"colorbar\": {\"outlinewidth\": 0, \"ticks\": \"\"}}, \"type\": \"scattermapbox\"}], \"scatterpolar\": [{\"marker\": {\"colorbar\": {\"outlinewidth\": 0, \"ticks\": \"\"}}, \"type\": \"scatterpolar\"}], \"scatterpolargl\": [{\"marker\": {\"colorbar\": {\"outlinewidth\": 0, \"ticks\": \"\"}}, \"type\": \"scatterpolargl\"}], \"scatterternary\": [{\"marker\": {\"colorbar\": {\"outlinewidth\": 0, \"ticks\": \"\"}}, \"type\": \"scatterternary\"}], \"surface\": [{\"colorbar\": {\"outlinewidth\": 0, \"ticks\": \"\"}, \"colorscale\": [[0.0, \"#0d0887\"], [0.1111111111111111, \"#46039f\"], [0.2222222222222222, \"#7201a8\"], [0.3333333333333333, \"#9c179e\"], [0.4444444444444444, \"#bd3786\"], [0.5555555555555556, \"#d8576b\"], [0.6666666666666666, \"#ed7953\"], [0.7777777777777778, \"#fb9f3a\"], [0.8888888888888888, \"#fdca26\"], [1.0, \"#f0f921\"]], \"type\": \"surface\"}], \"table\": [{\"cells\": {\"fill\": {\"color\": \"#EBF0F8\"}, \"line\": {\"color\": \"white\"}}, \"header\": {\"fill\": {\"color\": \"#C8D4E3\"}, \"line\": {\"color\": \"white\"}}, \"type\": \"table\"}]}, \"layout\": {\"annotationdefaults\": {\"arrowcolor\": \"#2a3f5f\", \"arrowhead\": 0, \"arrowwidth\": 1}, \"autotypenumbers\": \"strict\", \"coloraxis\": {\"colorbar\": {\"outlinewidth\": 0, \"ticks\": \"\"}}, \"colorscale\": {\"diverging\": [[0, \"#8e0152\"], [0.1, \"#c51b7d\"], [0.2, \"#de77ae\"], [0.3, \"#f1b6da\"], [0.4, \"#fde0ef\"], [0.5, \"#f7f7f7\"], [0.6, \"#e6f5d0\"], [0.7, \"#b8e186\"], [0.8, \"#7fbc41\"], [0.9, \"#4d9221\"], [1, \"#276419\"]], \"sequential\": [[0.0, \"#0d0887\"], [0.1111111111111111, \"#46039f\"], [0.2222222222222222, \"#7201a8\"], [0.3333333333333333, \"#9c179e\"], [0.4444444444444444, \"#bd3786\"], [0.5555555555555556, \"#d8576b\"], [0.6666666666666666, \"#ed7953\"], [0.7777777777777778, \"#fb9f3a\"], [0.8888888888888888, \"#fdca26\"], [1.0, \"#f0f921\"]], \"sequentialminus\": [[0.0, \"#0d0887\"], [0.1111111111111111, \"#46039f\"], [0.2222222222222222, \"#7201a8\"], [0.3333333333333333, \"#9c179e\"], [0.4444444444444444, \"#bd3786\"], [0.5555555555555556, \"#d8576b\"], [0.6666666666666666, \"#ed7953\"], [0.7777777777777778, \"#fb9f3a\"], [0.8888888888888888, \"#fdca26\"], [1.0, \"#f0f921\"]]}, \"colorway\": [\"#636efa\", \"#EF553B\", \"#00cc96\", \"#ab63fa\", \"#FFA15A\", \"#19d3f3\", \"#FF6692\", \"#B6E880\", \"#FF97FF\", \"#FECB52\"], \"font\": {\"color\": \"#2a3f5f\"}, \"geo\": {\"bgcolor\": \"white\", \"lakecolor\": \"white\", \"landcolor\": \"#E5ECF6\", \"showlakes\": true, \"showland\": true, \"subunitcolor\": \"white\"}, \"hoverlabel\": {\"align\": \"left\"}, \"hovermode\": \"closest\", \"mapbox\": {\"style\": \"light\"}, \"paper_bgcolor\": \"white\", \"plot_bgcolor\": \"#E5ECF6\", \"polar\": {\"angularaxis\": {\"gridcolor\": \"white\", \"linecolor\": \"white\", \"ticks\": \"\"}, \"bgcolor\": \"#E5ECF6\", \"radialaxis\": {\"gridcolor\": \"white\", \"linecolor\": \"white\", \"ticks\": \"\"}}, \"scene\": {\"xaxis\": {\"backgroundcolor\": \"#E5ECF6\", \"gridcolor\": \"white\", \"gridwidth\": 2, \"linecolor\": \"white\", \"showbackground\": true, \"ticks\": \"\", \"zerolinecolor\": \"white\"}, \"yaxis\": {\"backgroundcolor\": \"#E5ECF6\", \"gridcolor\": \"white\", \"gridwidth\": 2, \"linecolor\": \"white\", \"showbackground\": true, \"ticks\": \"\", \"zerolinecolor\": \"white\"}, \"zaxis\": {\"backgroundcolor\": \"#E5ECF6\", \"gridcolor\": \"white\", \"gridwidth\": 2, \"linecolor\": \"white\", \"showbackground\": true, \"ticks\": \"\", \"zerolinecolor\": \"white\"}}, \"shapedefaults\": {\"line\": {\"color\": \"#2a3f5f\"}}, \"ternary\": {\"aaxis\": {\"gridcolor\": \"white\", \"linecolor\": \"white\", \"ticks\": \"\"}, \"baxis\": {\"gridcolor\": \"white\", \"linecolor\": \"white\", \"ticks\": \"\"}, \"bgcolor\": \"#E5ECF6\", \"caxis\": {\"gridcolor\": \"white\", \"linecolor\": \"white\", \"ticks\": \"\"}}, \"title\": {\"x\": 0.05}, \"xaxis\": {\"automargin\": true, \"gridcolor\": \"white\", \"linecolor\": \"white\", \"ticks\": \"\", \"title\": {\"standoff\": 15}, \"zerolinecolor\": \"white\", \"zerolinewidth\": 2}, \"yaxis\": {\"automargin\": true, \"gridcolor\": \"white\", \"linecolor\": \"white\", \"ticks\": \"\", \"title\": {\"standoff\": 15}, \"zerolinecolor\": \"white\", \"zerolinewidth\": 2}}}, \"title\": {\"text\": \"Proportion of newborns of the 10 most popular firstname of 2000 from \"}, \"xaxis\": {\"anchor\": \"y\", \"domain\": [0.0, 1.0], \"title\": {\"text\": \"Year\"}}, \"yaxis\": {\"anchor\": \"x\", \"domain\": [0.0, 1.0], \"title\": {\"text\": \"Ratio\"}}},                        {\"responsive\": true}                    ).then(function(){\n",
       "                            \n",
       "var gd = document.getElementById('428818dc-575d-4c11-aa88-60f2eb9ef7d5');\n",
       "var x = new MutationObserver(function (mutations, observer) {{\n",
       "        var display = window.getComputedStyle(gd).display;\n",
       "        if (!display || display === 'none') {{\n",
       "            console.log([gd, 'removed!']);\n",
       "            Plotly.purge(gd);\n",
       "            observer.disconnect();\n",
       "        }}\n",
       "}});\n",
       "\n",
       "// Listen for the removal of the full notebook cells\n",
       "var notebookContainer = gd.closest('#notebook-container');\n",
       "if (notebookContainer) {{\n",
       "    x.observe(notebookContainer, {childList: true});\n",
       "}}\n",
       "\n",
       "// Listen for the clearing of the current output cell\n",
       "var outputEl = gd.closest('.output');\n",
       "if (outputEl) {{\n",
       "    x.observe(outputEl, {childList: true});\n",
       "}}\n",
       "\n",
       "                        })                };                });            </script>        </div>"
      ]
     },
     "metadata": {},
     "output_type": "display_data"
    }
   ],
   "source": [
    "fig = px.line(df_prop_m.toPandas(), x='year', y='ratio', color='name',\n",
    "              title='Proportion of newborns of the 10 most popular firstname of 2000 from ',\n",
    "              labels={'ratio':'Ratio', 'year':'Year', 'name':'Firstname'})\n",
    "fig.show()"
   ]
  },
  {
   "cell_type": "code",
   "execution_count": 203,
   "metadata": {
    "ExecuteTime": {
     "end_time": "2022-02-18T19:01:21.370417Z",
     "start_time": "2022-02-18T19:01:13.423494Z"
    }
   },
   "outputs": [
    {
     "data": {
      "application/vnd.plotly.v1+json": {
       "config": {
        "plotlyServerURL": "https://plot.ly"
       },
       "data": [
        {
         "hovertemplate": "Firstname=Elizabeth<br>Year=%{x}<br>Ratio=%{y}<extra></extra>",
         "legendgroup": "Elizabeth",
         "line": {
          "color": "#636efa",
          "dash": "solid"
         },
         "mode": "lines",
         "name": "Elizabeth",
         "showlegend": true,
         "type": "scattergl",
         "x": [
          1880,
          1881,
          1882,
          1883,
          1884,
          1885,
          1886,
          1887,
          1888,
          1889,
          1890,
          1891,
          1892,
          1893,
          1894,
          1895,
          1896,
          1897,
          1898,
          1899,
          1900,
          1901,
          1902,
          1903,
          1904,
          1905,
          1906,
          1907,
          1908,
          1909,
          1910,
          1911,
          1912,
          1913,
          1914,
          1915,
          1916,
          1917,
          1918,
          1919,
          1920,
          1921,
          1922,
          1923,
          1924,
          1925,
          1926,
          1927,
          1928,
          1929,
          1930,
          1931,
          1932,
          1933,
          1934,
          1935,
          1936,
          1937,
          1938,
          1939,
          1940,
          1941,
          1942,
          1943,
          1944,
          1945,
          1946,
          1947,
          1948,
          1949,
          1950,
          1951,
          1952,
          1953,
          1954,
          1955,
          1956,
          1957,
          1958,
          1959,
          1960,
          1961,
          1962,
          1963,
          1964,
          1965,
          1966,
          1967,
          1968,
          1969,
          1970,
          1971,
          1972,
          1973,
          1974,
          1975,
          1976,
          1977,
          1978,
          1979,
          1980,
          1981,
          1982,
          1983,
          1984,
          1985,
          1986,
          1987,
          1988,
          1989,
          1990,
          1991,
          1992,
          1993,
          1994,
          1995,
          1996,
          1997,
          1998,
          1999,
          2000,
          2001,
          2002,
          2003,
          2004,
          2005,
          2006,
          2007,
          2008,
          2009,
          2010,
          2011,
          2012,
          2013,
          2014,
          2015,
          2016,
          2017
         ],
         "xaxis": "x",
         "y": [
          0.021309331487037463,
          0.02014072406555523,
          0.020269455803128507,
          0.020076745697522234,
          0.019756626879553558,
          0.01940550900003758,
          0.018542478188372204,
          0.018365403716922066,
          0.018049288441513364,
          0.01714452305932745,
          0.016346598310711433,
          0.016492255271429418,
          0.016299408022077903,
          0.015781686667762616,
          0.01536418731299429,
          0.01542201885912159,
          0.014589060096335713,
          0.014696840307429548,
          0.014140079144252768,
          0.014105903709075928,
          0.013662441627751834,
          0.01343667091437047,
          0.013988397279571033,
          0.01421149669238198,
          0.013919757121482837,
          0.014131452340211029,
          0.014632428387114252,
          0.014515045547861354,
          0.014668888137763115,
          0.014906546093367508,
          0.014627921170637222,
          0.01505585583862647,
          0.015279950261325134,
          0.015219079489868625,
          0.014925627908442493,
          0.014334254528305147,
          0.014304728345174943,
          0.01399357429421742,
          0.01369416902921964,
          0.013526762407864582,
          0.013277253419456058,
          0.012812964296604836,
          0.012691354940777284,
          0.012816144977200176,
          0.011971421044750904,
          0.011446694628308945,
          0.010828604184821901,
          0.010505711594860445,
          0.010199259292017749,
          0.01007687298984252,
          0.00976565102119666,
          0.009668238432492345,
          0.00936582476704924,
          0.008945988692492553,
          0.008949257213566783,
          0.008655279529763193,
          0.008516700326537596,
          0.008822108470765604,
          0.008882121558177896,
          0.008851938179603062,
          0.008703918950002318,
          0.008500940409806753,
          0.008279283281504516,
          0.008347399769919687,
          0.008313284150357947,
          0.007908830775351563,
          0.007479514391637098,
          0.0075822448770064095,
          0.007781278400841563,
          0.008014813844959645,
          0.008368789441210962,
          0.008395895340055973,
          0.00863956156772752,
          0.008555369594943761,
          0.00853873379965672,
          0.008540004930860538,
          0.00813975267904467,
          0.008559133451942497,
          0.009213546618715911,
          0.009110806626688258,
          0.00932632647187117,
          0.009343816462305789,
          0.009051823865471011,
          0.009126823937910616,
          0.00912420701521053,
          0.00924720960549507,
          0.00938801202166737,
          0.00976154924842431,
          0.009077468502604841,
          0.009066988184343915,
          0.008648447666852575,
          0.008176978106761771,
          0.00801170167307629,
          0.008475017967751316,
          0.008354140884384523,
          0.008556893670615158,
          0.009247112495614652,
          0.010714253100584568,
          0.010972137807491763,
          0.011261525043608273,
          0.011763416131222115,
          0.012094571623356415,
          0.01211480089518757,
          0.011879396852555511,
          0.0120970903776925,
          0.01193891044364038,
          0.01111847068989443,
          0.010704053572044965,
          0.011254485279744398,
          0.011010938240875666,
          0.010929134488837467,
          0.010875270721532897,
          0.010324332563605602,
          0.009706214907927802,
          0.009398399376240684,
          0.009205615396953417,
          0.009126649016296161,
          0.008860460532478107,
          0.008597351159844153,
          0.008651853823655808,
          0.008315749458710492,
          0.00821499458779442,
          0.008130348418842139,
          0.007723103042251978,
          0.007390225717985499,
          0.006894486036079464,
          0.006541105517902887,
          0.006794684422053515,
          0.006354948382590978,
          0.006011667944875147,
          0.005781069869807602,
          0.005742583729877609,
          0.005521450747953712,
          0.0053978670198209355,
          0.005365869543735458,
          0.005466351637516352,
          0.005409554649994671,
          0.00520793475447932
         ],
         "yaxis": "y"
        },
        {
         "hovertemplate": "Firstname=Sarah<br>Year=%{x}<br>Ratio=%{y}<extra></extra>",
         "legendgroup": "Sarah",
         "line": {
          "color": "#EF553B",
          "dash": "solid"
         },
         "mode": "lines",
         "name": "Sarah",
         "showlegend": true,
         "type": "scattergl",
         "x": [
          1880,
          1881,
          1882,
          1883,
          1884,
          1885,
          1886,
          1887,
          1888,
          1889,
          1890,
          1891,
          1892,
          1893,
          1894,
          1895,
          1896,
          1897,
          1898,
          1899,
          1900,
          1901,
          1902,
          1903,
          1904,
          1905,
          1906,
          1907,
          1908,
          1909,
          1910,
          1911,
          1912,
          1913,
          1914,
          1915,
          1916,
          1917,
          1918,
          1919,
          1920,
          1921,
          1922,
          1923,
          1924,
          1925,
          1926,
          1927,
          1928,
          1929,
          1930,
          1931,
          1932,
          1933,
          1934,
          1935,
          1936,
          1937,
          1938,
          1939,
          1940,
          1941,
          1942,
          1943,
          1944,
          1945,
          1946,
          1947,
          1948,
          1949,
          1950,
          1951,
          1952,
          1953,
          1954,
          1955,
          1956,
          1957,
          1958,
          1959,
          1960,
          1961,
          1962,
          1963,
          1964,
          1965,
          1966,
          1967,
          1968,
          1969,
          1970,
          1971,
          1972,
          1973,
          1974,
          1975,
          1976,
          1977,
          1978,
          1979,
          1980,
          1981,
          1982,
          1983,
          1984,
          1985,
          1986,
          1987,
          1988,
          1989,
          1990,
          1991,
          1992,
          1993,
          1994,
          1995,
          1996,
          1997,
          1998,
          1999,
          2000,
          2001,
          2002,
          2003,
          2004,
          2005,
          2006,
          2007,
          2008,
          2009,
          2010,
          2011,
          2012,
          2013,
          2014,
          2015,
          2016,
          2017
         ],
         "xaxis": "x",
         "y": [
          0.014154934994999615,
          0.013332898328493905,
          0.013074077164872458,
          0.012099466697531138,
          0.0117656177336847,
          0.010702341137123745,
          0.010855652342371638,
          0.00983689658243196,
          0.009825217498404452,
          0.009699157911261115,
          0.009381434634617809,
          0.008998226233414744,
          0.00846759191669924,
          0.0076653906671989855,
          0.007630505874278332,
          0.007606141413449644,
          0.007107490816163552,
          0.007314261315115286,
          0.006956037840845854,
          0.006810486518498174,
          0.0068545697131420944,
          0.006325596941653262,
          0.006475408594495524,
          0.005928137083875696,
          0.00578870150055926,
          0.006042130313868438,
          0.005746639891907634,
          0.005647181431791214,
          0.005426052830730483,
          0.005313480978026092,
          0.005480426328240463,
          0.005261660638427574,
          0.005230086164728901,
          0.005088504431225932,
          0.0048307719781085535,
          0.004487395145888621,
          0.004594289216155658,
          0.004407730823226504,
          0.004292331161685006,
          0.0044437365612805604,
          0.004198482838044213,
          0.004073645146012159,
          0.004148296176023647,
          0.004113998287422837,
          0.004038783208462548,
          0.0038508865746331063,
          0.0037304524544470585,
          0.0038225459766403694,
          0.003678392953302099,
          0.003417771516242028,
          0.0034808173126029745,
          0.003415303112847777,
          0.00337278400406346,
          0.0035908976351076475,
          0.0034460003696932025,
          0.0034497130643695285,
          0.003379765050576319,
          0.0033715004351839144,
          0.0033969583265357913,
          0.0033467202141900937,
          0.0033837884262016647,
          0.0032955734513039907,
          0.003037168665778173,
          0.0028577265054670954,
          0.0029077280464272015,
          0.002748236446267081,
          0.002486594854333402,
          0.0023822498412021478,
          0.0024484728114675934,
          0.0025110589467580687,
          0.002420101905786472,
          0.0022372395717649147,
          0.0021821322888718265,
          0.00216861499986177,
          0.002080482754394376,
          0.002036793222010461,
          0.0019273380119476026,
          0.0019513278470479868,
          0.0019433581706574797,
          0.0019148906722976514,
          0.002079111066271418,
          0.0020851599754360523,
          0.002310119421427718,
          0.0023732855424674903,
          0.002419857078015981,
          0.0022984885044414595,
          0.0023848292940964392,
          0.0025071704833526665,
          0.0027350073008721417,
          0.0030100788441486926,
          0.003213065053555851,
          0.0035159262623281336,
          0.004018670085132958,
          0.004948675324105316,
          0.006668184073228041,
          0.007663063908485003,
          0.009550844785291985,
          0.01180224617082535,
          0.013040960602276162,
          0.01309369548965861,
          0.015513686438610556,
          0.016892586700947912,
          0.016824045083054105,
          0.016302366360527093,
          0.015375019306395466,
          0.014461542932705582,
          0.016415618218222655,
          0.01604514963583436,
          0.01593355607133308,
          0.015077650551360688,
          0.013601356342259355,
          0.013454993545358526,
          0.013363102648264803,
          0.013408454442162184,
          0.012485268615317055,
          0.012158123863161953,
          0.01200301273565527,
          0.011896313246213229,
          0.011254230456113653,
          0.01077294255520978,
          0.00974982232481778,
          0.008832897319235668,
          0.008218334381183032,
          0.007535803280484131,
          0.0069405991532850535,
          0.006246147613172157,
          0.005868832540328482,
          0.005200927409340426,
          0.0047876556636716906,
          0.004238528419561986,
          0.003561612343767432,
          0.003163432429538885,
          0.002951071171687926,
          0.002681793796680723,
          0.0026388601920641053,
          0.0025381095889948917,
          0.0024955836899262776,
          0.0023285280910100474
         ],
         "yaxis": "y"
        },
        {
         "hovertemplate": "Firstname=Hannah<br>Year=%{x}<br>Ratio=%{y}<extra></extra>",
         "legendgroup": "Hannah",
         "line": {
          "color": "#00cc96",
          "dash": "solid"
         },
         "mode": "lines",
         "name": "Hannah",
         "showlegend": true,
         "type": "scattergl",
         "x": [
          1880,
          1881,
          1882,
          1883,
          1884,
          1885,
          1886,
          1887,
          1888,
          1889,
          1890,
          1891,
          1892,
          1893,
          1894,
          1895,
          1896,
          1897,
          1898,
          1899,
          1900,
          1901,
          1902,
          1903,
          1904,
          1905,
          1906,
          1907,
          1908,
          1909,
          1910,
          1911,
          1912,
          1913,
          1914,
          1915,
          1916,
          1917,
          1918,
          1919,
          1920,
          1921,
          1922,
          1923,
          1924,
          1925,
          1926,
          1927,
          1928,
          1929,
          1930,
          1931,
          1932,
          1933,
          1934,
          1935,
          1936,
          1937,
          1938,
          1939,
          1940,
          1941,
          1942,
          1943,
          1944,
          1945,
          1946,
          1947,
          1948,
          1949,
          1950,
          1951,
          1952,
          1953,
          1954,
          1955,
          1956,
          1957,
          1958,
          1959,
          1960,
          1961,
          1962,
          1963,
          1964,
          1965,
          1966,
          1967,
          1968,
          1969,
          1970,
          1971,
          1972,
          1973,
          1974,
          1975,
          1976,
          1977,
          1978,
          1979,
          1980,
          1981,
          1982,
          1983,
          1984,
          1985,
          1986,
          1987,
          1988,
          1989,
          1990,
          1991,
          1992,
          1993,
          1994,
          1995,
          1996,
          1997,
          1998,
          1999,
          2000,
          2001,
          2002,
          2003,
          2004,
          2005,
          2006,
          2007,
          2008,
          2009,
          2010,
          2011,
          2012,
          2013,
          2014,
          2015,
          2016,
          2017
         ],
         "xaxis": "x",
         "y": [
          0.0024287582561295924,
          0.0021315237132013094,
          0.001984292562611848,
          0.0018607715524532804,
          0.0021314524879863586,
          0.0017737026041862388,
          0.0017573841268084106,
          0.0019112076229098308,
          0.0016515322860565888,
          0.0016875413475662402,
          0.0014024877085346893,
          0.001579676624559928,
          0.0015352808480778378,
          0.0014278668889880462,
          0.001314366973053234,
          0.0012883784836512902,
          0.0013576106053346112,
          0.0012297181895815543,
          0.001306189327892166,
          0.0012359295005214077,
          0.0010840560373582388,
          0.0011113664375691993,
          0.0010262197246247292,
          0.0009543041023624753,
          0.000947836318473003,
          0.0007509798744251918,
          0.0008669061946543043,
          0.0007502369995542525,
          0.0007178901209345733,
          0.0008006220660657201,
          0.000769226889145578,
          0.0006669710668429319,
          0.000643234303918354,
          0.0006340615968425013,
          0.0005816884985871403,
          0.000554953057679544,
          0.0005256908669590363,
          0.0005003320132953291,
          0.0004431406492140084,
          0.00047251201189243714,
          0.0003930601106576872,
          0.0004022552244519273,
          0.0003422219446699557,
          0.00036058618880292846,
          0.00030507065868838834,
          0.00031296667767389364,
          0.00030370033550450955,
          0.0002910099723330865,
          0.00023759539585213935,
          0.0002283888198746638,
          0.00022204754482029693,
          0.0002000713869737559,
          0.0002164804403830673,
          0.00020043142367829367,
          0.00022890330415694147,
          0.00019837996057198284,
          0.0001672579973834697,
          0.00018704449027086674,
          0.00017854877009806588,
          0.00019332552735920976,
          0.00016442290620985084,
          0.00014900859614034624,
          0.00015770768547312305,
          0.00014048517558855046,
          0.00012507977603185165,
          0.00011706018270569693,
          9.101179016372575e-05,
          0.00010379681998133914,
          0.00010778699170040164,
          9.995136869078905e-05,
          9.63137516774645e-05,
          9.106658966727378e-05,
          8.141882273774296e-05,
          8.187465309603153e-05,
          7.879055975800484e-05,
          6.905250752672331e-05,
          6.974084302731051e-05,
          6.065797268336685e-05,
          6.166233704235605e-05,
          6.722383361705745e-05,
          6.577587340963334e-05,
          7.434608897442544e-05,
          7.220712257159057e-05,
          7.575419527771177e-05,
          7.177765814834754e-05,
          6.968550309250665e-05,
          7.86077561622866e-05,
          7.450639513224885e-05,
          8.657401621128938e-05,
          8.417313821762788e-05,
          9.896034435911737e-05,
          0.00010820084240366969,
          0.00016434934095914275,
          0.00020573761048109683,
          0.00022215922410550245,
          0.0003038883995576812,
          0.00036584383655517076,
          0.00041354173053516477,
          0.00047983109945299256,
          0.0006049090456017942,
          0.000736079395378843,
          0.000847237603678678,
          0.0009332253627027624,
          0.0014368065537536273,
          0.0013461012962016894,
          0.0014229042242469158,
          0.00197367577142444,
          0.002641782973386568,
          0.0031225635690806104,
          0.004247913205856152,
          0.005412935197566339,
          0.005744097470420672,
          0.006233221535669205,
          0.006913501065720834,
          0.008118505307779515,
          0.009674854365287464,
          0.010610193088966997,
          0.011832527584425495,
          0.012100038610519498,
          0.012222907758300783,
          0.012715482808204462,
          0.011508994041017184,
          0.010479796362615767,
          0.009657438593608807,
          0.00850420959464939,
          0.008040588043491214,
          0.007656646974034575,
          0.0069269334521839055,
          0.005061931889482566,
          0.004125152144964649,
          0.003936874773912837,
          0.003739171436967114,
          0.004139238662332814,
          0.004167235609925265,
          0.0036938428092744145,
          0.003601136218627082,
          0.0034026563623211084,
          0.0034302852359284993
         ],
         "yaxis": "y"
        },
        {
         "hovertemplate": "Firstname=Emily<br>Year=%{x}<br>Ratio=%{y}<extra></extra>",
         "legendgroup": "Emily",
         "line": {
          "color": "#ab63fa",
          "dash": "solid"
         },
         "mode": "lines",
         "name": "Emily",
         "showlegend": true,
         "type": "scattergl",
         "x": [
          1880,
          1881,
          1882,
          1883,
          1884,
          1885,
          1886,
          1887,
          1888,
          1889,
          1890,
          1891,
          1892,
          1893,
          1894,
          1895,
          1896,
          1897,
          1898,
          1899,
          1900,
          1901,
          1902,
          1903,
          1904,
          1905,
          1906,
          1907,
          1908,
          1909,
          1910,
          1911,
          1912,
          1913,
          1914,
          1915,
          1916,
          1917,
          1918,
          1919,
          1920,
          1921,
          1922,
          1923,
          1924,
          1925,
          1926,
          1927,
          1928,
          1929,
          1930,
          1931,
          1932,
          1933,
          1934,
          1935,
          1936,
          1937,
          1938,
          1939,
          1940,
          1941,
          1942,
          1943,
          1944,
          1945,
          1946,
          1947,
          1948,
          1949,
          1950,
          1951,
          1952,
          1953,
          1954,
          1955,
          1956,
          1957,
          1958,
          1959,
          1960,
          1961,
          1962,
          1963,
          1964,
          1965,
          1966,
          1967,
          1968,
          1969,
          1970,
          1971,
          1972,
          1973,
          1974,
          1975,
          1976,
          1977,
          1978,
          1979,
          1980,
          1981,
          1982,
          1983,
          1984,
          1985,
          1986,
          1987,
          1988,
          1989,
          1990,
          1991,
          1992,
          1993,
          1994,
          1995,
          1996,
          1997,
          1998,
          1999,
          2000,
          2001,
          2002,
          2003,
          2004,
          2005,
          2006,
          2007,
          2008,
          2009,
          2010,
          2011,
          2012,
          2013,
          2014,
          2015,
          2016,
          2017
         ],
         "xaxis": "x",
         "y": [
          0.0023078698361412415,
          0.002653529520515916,
          0.0025220914814505736,
          0.0030448989040144587,
          0.002821268020461944,
          0.002600428394273045,
          0.002553050168473636,
          0.0022948191887985424,
          0.0025584754397554614,
          0.002405166904006369,
          0.0026736563432365424,
          0.0023937761819269898,
          0.0024394953352893252,
          0.002376646861276156,
          0.0024717276523970374,
          0.0025895979488672113,
          0.0022150488823880496,
          0.0026430401366353542,
          0.002426884313361776,
          0.0024418190479051425,
          0.002088058705803869,
          0.0022436232217092483,
          0.0022947939229615716,
          0.0021300067564730446,
          0.0021753025086794207,
          0.002342097051289525,
          0.0020961520878555245,
          0.0022412937978315327,
          0.0021895648688504484,
          0.002157071681594332,
          0.0019798134687845207,
          0.002173034766165681,
          0.0020551246423241003,
          0.002220816754597347,
          0.002166559870584157,
          0.002125287259355177,
          0.002119041691403183,
          0.0020531184279401673,
          0.0020394835726983895,
          0.002041358073849911,
          0.0018092448405644711,
          0.001771220585086712,
          0.001786881492120985,
          0.001704287825698439,
          0.0016366520376878367,
          0.001450653944283717,
          0.0014586052224647137,
          0.0013887968708460841,
          0.0013518657742098003,
          0.0012942033126230948,
          0.0011937276009539163,
          0.0011158911160789764,
          0.001073967899043269,
          0.0010537533264670688,
          0.001022881710625998,
          0.0010434022926237943,
          0.0010794869601243476,
          0.0012153192257298025,
          0.0011854913263363968,
          0.0011781914214532973,
          0.0011098546169164933,
          0.0011324653306666313,
          0.0010506441581519324,
          0.0009575928295219562,
          0.0009426192759990747,
          0.0008676225306422242,
          0.0008776591512991456,
          0.0008281181072424231,
          0.0008192989369139818,
          0.0008142237227267201,
          0.0007687588542983076,
          0.0007146506152547643,
          0.0007505629221916438,
          0.0007044410087807908,
          0.0006900611116060554,
          0.0006675075727583254,
          0.0006391250114574242,
          0.0005894585248665892,
          0.0005838030942558549,
          0.0005995772807168433,
          0.0006048413021051247,
          0.0005694910415440989,
          0.0005476554296450918,
          0.0005749017011486619,
          0.000596387894909064,
          0.0007291483128459842,
          0.0007387947007733703,
          0.0007305261181259522,
          0.0008084306020857022,
          0.0009347960490788673,
          0.0011045804910835586,
          0.0011228842978336388,
          0.0015337080498307202,
          0.002076578281789204,
          0.0029500836845175464,
          0.0037598472189066603,
          0.0037860741816633063,
          0.00448699300370883,
          0.004882526248719634,
          0.004966982307500623,
          0.0054254231703578055,
          0.006476301031375373,
          0.007393743728046316,
          0.007409731131586935,
          0.007593056826147394,
          0.007634741415638578,
          0.007716285128221873,
          0.008463255514261716,
          0.008914388170769795,
          0.00939586319440903,
          0.01020154411431546,
          0.010833128847446416,
          0.011842090274579619,
          0.013044644165351218,
          0.01352654785963623,
          0.013866722482404961,
          0.01435100652759392,
          0.014786780622720453,
          0.014822023621485565,
          0.014967182623427512,
          0.014298306989659029,
          0.013922259834766587,
          0.013622788586995564,
          0.014068293217229388,
          0.013643032477753022,
          0.012965143549818064,
          0.011265968457394108,
          0.010077480229030327,
          0.009228494864204146,
          0.00836422564276989,
          0.008039405935907882,
          0.008115585158120369,
          0.007765198073438766,
          0.007498053214238988,
          0.0070979724570371105,
          0.006622133102626761,
          0.0062117470446438495,
          0.005693385543146995
         ],
         "yaxis": "y"
        },
        {
         "hovertemplate": "Firstname=Samantha<br>Year=%{x}<br>Ratio=%{y}<extra></extra>",
         "legendgroup": "Samantha",
         "line": {
          "color": "#FFA15A",
          "dash": "solid"
         },
         "mode": "lines",
         "name": "Samantha",
         "showlegend": true,
         "type": "scattergl",
         "x": [
          1880,
          1881,
          1882,
          1883,
          1884,
          1885,
          1886,
          1887,
          1888,
          1889,
          1890,
          1891,
          1892,
          1893,
          1894,
          1895,
          1896,
          1897,
          1898,
          1899,
          1900,
          1901,
          1902,
          1903,
          1904,
          1905,
          1906,
          1907,
          1908,
          1909,
          1910,
          1911,
          1912,
          1913,
          1914,
          1915,
          1916,
          1917,
          1918,
          1919,
          1920,
          1921,
          1922,
          1923,
          1924,
          1925,
          1926,
          1927,
          1928,
          1929,
          1930,
          1931,
          1932,
          1933,
          1934,
          1935,
          1936,
          1937,
          1938,
          1939,
          1940,
          1941,
          1942,
          1943,
          1944,
          1945,
          1946,
          1947,
          1948,
          1949,
          1950,
          1951,
          1952,
          1953,
          1954,
          1955,
          1956,
          1957,
          1958,
          1959,
          1960,
          1961,
          1962,
          1963,
          1964,
          1965,
          1966,
          1967,
          1968,
          1969,
          1970,
          1971,
          1972,
          1973,
          1974,
          1975,
          1976,
          1977,
          1978,
          1979,
          1980,
          1981,
          1982,
          1983,
          1984,
          1985,
          1986,
          1987,
          1988,
          1989,
          1990,
          1991,
          1992,
          1993,
          1994,
          1995,
          1996,
          1997,
          1998,
          1999,
          2000,
          2001,
          2002,
          2003,
          2004,
          2005,
          2006,
          2007,
          2008,
          2009,
          2010,
          2011,
          2012,
          2013,
          2014,
          2015,
          2016,
          2017
         ],
         "xaxis": "x",
         "y": [
          0.00023078698361412417,
          0.0001305014518286516,
          0.0001390859272858772,
          0.00015135462388375965,
          0.00012401178111920633,
          0.0001277667130134155,
          8.994485688389502e-05,
          0.00010960330453963188,
          0.00010077146152209695,
          7.849029523563908e-05,
          7.879144429970164e-05,
          0.0001078277559426572,
          9.418900908452992e-05,
          9.393861111763463e-05,
          7.177430569573975e-05,
          6.848523501136427e-05,
          7.56563185635387e-05,
          5.550811272416738e-05,
          8.11537748098683e-05,
          6.437132815215665e-05,
          9.006004002668446e-05,
          6.684910902671875e-05,
          5.6801829776276526e-05,
          1.9086082047249504e-05,
          2.9052454206069056e-05,
          4.114958216028448e-05,
          4.402258019728889e-05,
          5.022507109986628e-05,
          3.888571488395605e-05,
          2.8799354894450365e-05,
          2.522055374247797e-05,
          3.585865950768451e-05,
          3.58347801625824e-05,
          2.0815153431698275e-05,
          2.626133176465645e-05,
          2.032795083075253e-05,
          1.91508512553383e-05,
          2.1271046775956687e-05,
          1.468497278097104e-05,
          2.035164096165928e-05,
          2.1697585726326683e-05,
          2.3518954655455423e-05,
          2.331439039114053e-05,
          1.8236542881987187e-05,
          1.2010655853873557e-05,
          1.5607262141217792e-05,
          7.592508387612738e-06,
          9.225099987504183e-06,
          1.2139910736970624e-05,
          1.2538994032334483e-05,
          1.2434662509936627e-05,
          9.393022862617647e-06,
          1.4994316217008991e-05,
          1.4883521560269333e-05,
          1.4366316160477497e-05,
          2.0982495829728953e-05,
          1.9225057170513762e-05,
          2.161820741824088e-05,
          1.5407761886635127e-05,
          2.0973995892744455e-05,
          1.6617208606314714e-05,
          1.6556510682260692e-05,
          1.776988005330964e-05,
          2.006931079836435e-05,
          1.8083823040749634e-05,
          2.3718076234487614e-05,
          2.1002720807013635e-05,
          1.6359281410102364e-05,
          2.355999818588014e-05,
          2.571848083271765e-05,
          2.1013909456901346e-05,
          2.110079516680734e-05,
          2.0489505059829354e-05,
          1.648126133751284e-05,
          1.5449129364314675e-05,
          1.3810501505344664e-05,
          1.5442615241761615e-05,
          1.858873356425758e-05,
          5.4203183367877505e-05,
          5.4866511260980715e-05,
          4.0553546011954396e-05,
          3.5686122707724214e-05,
          3.864606560169636e-05,
          3.735823328763868e-05,
          0.00022061074342653874,
          0.0011110022078406956,
          0.001060318154549941,
          0.0010933662049895055,
          0.0014248132104632625,
          0.0014362782669106503,
          0.0013145137071517439,
          0.0013272636668183481,
          0.0014613943398086974,
          0.0014525075299965436,
          0.0015346704683607102,
          0.0019440625831748724,
          0.002288571611883372,
          0.0021440247133581807,
          0.0025375557599643292,
          0.0027790929479192625,
          0.0029641953393283846,
          0.0033104025547841345,
          0.003999284133455952,
          0.004613346376343938,
          0.004771946916323112,
          0.006194980891349521,
          0.008216555087418968,
          0.01032147829388685,
          0.0116269011182586,
          0.013449555081274569,
          0.013627699223306495,
          0.013679572393338384,
          0.013239967909025667,
          0.013086111902069793,
          0.012781016566366288,
          0.012311124205564208,
          0.011724562925092436,
          0.011590027140511768,
          0.01143199736406776,
          0.01073572057800091,
          0.009512371151059715,
          0.008814004609821097,
          0.008164874555963248,
          0.007593307593307594,
          0.007511216139032164,
          0.0073857499872715515,
          0.006559531167249093,
          0.00618394382227813,
          0.005918647977053987,
          0.005264365673370584,
          0.004735856945003206,
          0.004210127083992975,
          0.003940072655759198,
          0.0037147471806600048,
          0.003213233378549548,
          0.0029996351643137857,
          0.00280398839854052,
          0.0025137120862057786
         ],
         "yaxis": "y"
        },
        {
         "hovertemplate": "Firstname=Jessica<br>Year=%{x}<br>Ratio=%{y}<extra></extra>",
         "legendgroup": "Jessica",
         "line": {
          "color": "#19d3f3",
          "dash": "solid"
         },
         "mode": "lines",
         "name": "Jessica",
         "showlegend": true,
         "type": "scattergl",
         "x": [
          1880,
          1881,
          1882,
          1883,
          1884,
          1885,
          1886,
          1887,
          1888,
          1889,
          1890,
          1891,
          1892,
          1893,
          1894,
          1895,
          1896,
          1897,
          1898,
          1899,
          1900,
          1901,
          1902,
          1903,
          1904,
          1905,
          1906,
          1907,
          1908,
          1909,
          1910,
          1911,
          1912,
          1913,
          1914,
          1915,
          1916,
          1917,
          1918,
          1919,
          1920,
          1921,
          1922,
          1923,
          1924,
          1925,
          1926,
          1927,
          1928,
          1929,
          1930,
          1931,
          1932,
          1933,
          1934,
          1935,
          1936,
          1937,
          1938,
          1939,
          1940,
          1941,
          1942,
          1943,
          1944,
          1945,
          1946,
          1947,
          1948,
          1949,
          1950,
          1951,
          1952,
          1953,
          1954,
          1955,
          1956,
          1957,
          1958,
          1959,
          1960,
          1961,
          1962,
          1963,
          1964,
          1965,
          1966,
          1967,
          1968,
          1969,
          1970,
          1971,
          1972,
          1973,
          1974,
          1975,
          1976,
          1977,
          1978,
          1979,
          1980,
          1981,
          1982,
          1983,
          1984,
          1985,
          1986,
          1987,
          1988,
          1989,
          1990,
          1991,
          1992,
          1993,
          1994,
          1995,
          1996,
          1997,
          1998,
          1999,
          2000,
          2001,
          2002,
          2003,
          2004,
          2005,
          2006,
          2007,
          2008,
          2009,
          2010,
          2011,
          2012,
          2013,
          2014,
          2015,
          2016,
          2017
         ],
         "xaxis": "x",
         "y": [
          7.692899453804139e-05,
          7.612584690004676e-05,
          7.417916121913451e-05,
          5.3419279017797525e-05,
          0.00010851030847930554,
          4.5094134004734886e-05,
          7.610718659406502e-05,
          5.480165226981594e-05,
          0.00010077146152209695,
          5.045804693719655e-05,
          9.454973315964197e-05,
          7.547942915986003e-05,
          6.593230635917095e-05,
          7.045395833822597e-05,
          4.485894105983734e-05,
          8.132621657599507e-05,
          3.782815928176935e-05,
          3.842869342442357e-05,
          5.0238051072775616e-05,
          6.007990627534621e-05,
          7.671781187458306e-05,
          3.3424554513359374e-05,
          3.4081097865765914e-05,
          6.107546255119841e-05,
          5.810490841213811e-05,
          5.829524139373635e-05,
          6.0954341811630764e-05,
          5.3364138043607916e-05,
          5.085055023286561e-05,
          5.1838838810010655e-05,
          7.061755047893832e-05,
          5.020212331075832e-05,
          6.450260429264831e-05,
          4.0029141214804375e-05,
          5.514879670577855e-05,
          5.590186478456946e-05,
          5.0749755826646494e-05,
          5.08655466381573e-05,
          4.837402798437519e-05,
          3.539415819419005e-05,
          3.588446870123259e-05,
          3.89279249469607e-05,
          3.330627198734361e-05,
          4.31045559028788e-05,
          3.2829126000587724e-05,
          2.7928784884284473e-05,
          2.952642150738287e-05,
          3.2707172682969375e-05,
          3.1216913323638744e-05,
          3.7616982097003446e-05,
          3.375122681268513e-05,
          3.6632789164208825e-05,
          4.123436959677472e-05,
          4.2666095139438755e-05,
          4.4056702892130994e-05,
          4.4826241090784585e-05,
          4.1333872916604585e-05,
          6.767438843971058e-05,
          4.531694672539743e-05,
          7.021729059744884e-05,
          5.3349985525536715e-05,
          6.70538682631558e-05,
          9.403228194876351e-05,
          8.672809309293167e-05,
          9.343308571053978e-05,
          0.000100993098804915,
          0.00015274706041464462,
          0.00024256865539117297,
          0.0002838979781398557,
          0.00023731143677462193,
          0.0002346553222687317,
          0.0002587623828350584,
          0.00024371727071165444,
          0.0002631685278086728,
          0.00021834769501564738,
          0.00019743902152085334,
          0.00020224844477920048,
          0.0002328483467522792,
          0.00026305948625327707,
          0.0002580208907948823,
          0.0002764564904961281,
          0.00033108791623277464,
          0.0004398532466508862,
          0.0005816469377144856,
          0.0006180267477331982,
          0.000866253123808477,
          0.0009852566129513666,
          0.0010667135107958554,
          0.0011218041537237496,
          0.0014771792988614693,
          0.0023012570251834054,
          0.0032219806404648306,
          0.004082437629425106,
          0.0049555332444546855,
          0.007260381514171851,
          0.008868327831787138,
          0.012536976846726448,
          0.01620444355155378,
          0.017040858760573423,
          0.01730376277099427,
          0.020433732675479942,
          0.025502271592117154,
          0.026842632805942873,
          0.027108947652946563,
          0.027239838895555372,
          0.028101195925425402,
          0.03071237742511402,
          0.032211687818573025,
          0.028949573884381453,
          0.025978457709121567,
          0.024485707933316683,
          0.02314975835102581,
          0.0208048889373472,
          0.01934497563079339,
          0.01798965330274284,
          0.015888715855044405,
          0.013804948190076232,
          0.012092267396389961,
          0.010323501804277503,
          0.009219770960766907,
          0.008654571899223739,
          0.007734897501494747,
          0.006634030185867561,
          0.005721952955995509,
          0.00516171296276111,
          0.004393210483041915,
          0.0035851049156473773,
          0.002971958519623101,
          0.0025071388594874425,
          0.0020691170114014016,
          0.0018008088990160913,
          0.0014920239361641545,
          0.001327014649513352,
          0.001112367388610432,
          0.001008381469137688,
          0.0008910085711089488,
          0.0007817832595202947,
          0.0007424885107059132
         ],
         "yaxis": "y"
        },
        {
         "hovertemplate": "Firstname=Ashley<br>Year=%{x}<br>Ratio=%{y}<extra></extra>",
         "legendgroup": "Ashley",
         "line": {
          "color": "#FF6692",
          "dash": "solid"
         },
         "mode": "lines",
         "name": "Ashley",
         "showlegend": true,
         "type": "scattergl",
         "x": [
          1917,
          1938,
          1941,
          1942,
          1943,
          1944,
          1945,
          1946,
          1947,
          1948,
          1949,
          1950,
          1951,
          1952,
          1953,
          1954,
          1955,
          1956,
          1957,
          1958,
          1959,
          1960,
          1961,
          1962,
          1963,
          1964,
          1965,
          1966,
          1967,
          1968,
          1969,
          1970,
          1971,
          1972,
          1973,
          1974,
          1975,
          1976,
          1977,
          1978,
          1979,
          1980,
          1981,
          1982,
          1983,
          1984,
          1985,
          1986,
          1987,
          1988,
          1989,
          1990,
          1991,
          1992,
          1993,
          1994,
          1995,
          1996,
          1997,
          1998,
          1999,
          2000,
          2001,
          2002,
          2003,
          2004,
          2005,
          2006,
          2007,
          2008,
          2009,
          2010,
          2011,
          2012,
          2013,
          2014,
          2015,
          2016,
          2017
         ],
         "xaxis": "x",
         "y": [
          4.624140603468845e-06,
          6.34437254155564e-06,
          4.9669532046782075e-06,
          5.923293351103213e-06,
          7.167610999415839e-06,
          7.534926266979014e-06,
          7.650992333705682e-06,
          4.455122595427135e-06,
          6.205244672797448e-06,
          7.656999410411045e-06,
          6.4296202081794124e-06,
          8.755795607042228e-06,
          8.329261250055529e-06,
          1.294074003778696e-05,
          7.974803872990084e-06,
          1.0814390555020272e-05,
          4.092000446028049e-06,
          1.1955573090396089e-05,
          1.3207784374604072e-05,
          1.889652264201234e-05,
          1.828883708699357e-05,
          2.769510459352983e-05,
          3.9651247453026904e-05,
          4.830758200212045e-05,
          5.603734993145802e-05,
          9.552761856508017e-05,
          0.0001235076396273695,
          0.0001554424050427171,
          0.00023381681724429315,
          0.0003316638367531086,
          0.0003799646591373202,
          0.0005319833540692436,
          0.000699698780877064,
          0.0007730992998718075,
          0.0008592974197760478,
          0.001108070240477138,
          0.0013637249172024158,
          0.001563709383484881,
          0.0017650535060381007,
          0.0022738118631221403,
          0.002772863194617493,
          0.004394791545567953,
          0.005323266415753223,
          0.008772909058369702,
          0.019931500247549794,
          0.023031044683909752,
          0.027322899864858974,
          0.02896376482880622,
          0.03155584448458768,
          0.0280637521991071,
          0.02581678744917966,
          0.024002579494912135,
          0.023193500549444687,
          0.020858048428296253,
          0.01926867499523121,
          0.016959576632327042,
          0.015130539437117996,
          0.013509951157164376,
          0.01200721984733965,
          0.011251399772865977,
          0.01022814816151631,
          0.009915101564092534,
          0.00918296811132918,
          0.008543548317936718,
          0.007948191352446671,
          0.007832767258030058,
          0.007189677715682207,
          0.006498989747968704,
          0.00594860302850279,
          0.0049788018364858334,
          0.0042586963145624735,
          0.003556541229846548,
          0.0030740248883259946,
          0.0026733768539509983,
          0.0022493016995168316,
          0.00199542747289273,
          0.0019242412232844993,
          0.0017211703958691911,
          0.0014703726053869265
         ],
         "yaxis": "y"
        },
        {
         "hovertemplate": "Firstname=Alexis<br>Year=%{x}<br>Ratio=%{y}<extra></extra>",
         "legendgroup": "Alexis",
         "line": {
          "color": "#B6E880",
          "dash": "solid"
         },
         "mode": "lines",
         "name": "Alexis",
         "showlegend": true,
         "type": "scattergl",
         "x": [
          1931,
          1941,
          1942,
          1943,
          1944,
          1945,
          1946,
          1947,
          1948,
          1949,
          1950,
          1951,
          1952,
          1953,
          1954,
          1955,
          1956,
          1957,
          1958,
          1959,
          1960,
          1961,
          1962,
          1963,
          1964,
          1965,
          1966,
          1967,
          1968,
          1969,
          1970,
          1971,
          1972,
          1973,
          1974,
          1975,
          1976,
          1977,
          1978,
          1979,
          1980,
          1981,
          1982,
          1983,
          1984,
          1985,
          1986,
          1987,
          1988,
          1989,
          1990,
          1991,
          1992,
          1993,
          1994,
          1995,
          1996,
          1997,
          1998,
          1999,
          2000,
          2001,
          2002,
          2003,
          2004,
          2005,
          2006,
          2007,
          2008,
          2009,
          2010,
          2011,
          2012,
          2013,
          2014,
          2015,
          2016,
          2017
         ],
         "xaxis": "x",
         "y": [
          4.6965114313088235e-06,
          4.139127670565173e-06,
          2.665482007996446e-05,
          6.307497679485939e-05,
          9.343308571053978e-05,
          9.334210647120932e-05,
          0.00014065458479848526,
          0.00013990006171397883,
          0.00012781299015839976,
          0.00015723343963638744,
          0.00013425553264131417,
          0.00013993158900093286,
          0.00013587777039676308,
          0.0001148371757710572,
          9.114986324945658e-05,
          8.900100970111006e-05,
          9.066309593550366e-05,
          9.441119941846614e-05,
          9.249350556353408e-05,
          8.304120623283568e-05,
          8.308531378058949e-05,
          7.632865134707678e-05,
          7.830913292975315e-05,
          8.924466840935907e-05,
          5.488879740755988e-05,
          9.404710173460248e-05,
          0.0001093416157144588,
          0.00011206246422330112,
          0.00010608365366735459,
          0.00012092479011546539,
          0.00020249688961345404,
          0.0002067838321492354,
          0.0002603293560792821,
          0.0003374096811889988,
          0.0004095634775687331,
          0.00046372135011510715,
          0.0004730033185312189,
          0.0004728986666214423,
          0.0005033330308547718,
          0.0006292050834786942,
          0.0007637877850575883,
          0.0009503691449615745,
          0.0018440060647835596,
          0.0020731921231870046,
          0.0019549953070607945,
          0.0014624293415871079,
          0.0012798281590182114,
          0.0014135149750894593,
          0.0016300916491224916,
          0.0019074920602541803,
          0.002769163655675363,
          0.003738891081925937,
          0.004310800760940142,
          0.005988494085318486,
          0.007302957927613448,
          0.008150538686335647,
          0.009465581777514036,
          0.009866664981039568,
          0.011197050654510581,
          0.010847386509627521,
          0.009712359030582169,
          0.009113509620834435,
          0.008707269032672306,
          0.008141515375557929,
          0.007341175547290905,
          0.006483925865182439,
          0.0059109483102626655,
          0.005159274171504083,
          0.005147179905612973,
          0.00541153679904982,
          0.004655846036473705,
          0.003713545071651317,
          0.0030461018091101945,
          0.002727499698626709,
          0.002374412713242362,
          0.0019186197181040013,
          0.0015176459650006009,
          0.0011940570541958196
         ],
         "yaxis": "y"
        },
        {
         "hovertemplate": "Firstname=Taylor<br>Year=%{x}<br>Ratio=%{y}<extra></extra>",
         "legendgroup": "Taylor",
         "line": {
          "color": "#FF97FF",
          "dash": "solid"
         },
         "mode": "lines",
         "name": "Taylor",
         "showlegend": true,
         "type": "scattergl",
         "x": [
          1951,
          1954,
          1956,
          1957,
          1958,
          1960,
          1961,
          1962,
          1963,
          1964,
          1965,
          1966,
          1967,
          1968,
          1969,
          1970,
          1971,
          1972,
          1973,
          1974,
          1975,
          1976,
          1977,
          1978,
          1979,
          1980,
          1981,
          1982,
          1983,
          1984,
          1985,
          1986,
          1987,
          1988,
          1989,
          1990,
          1991,
          1992,
          1993,
          1994,
          1995,
          1996,
          1997,
          1998,
          1999,
          2000,
          2001,
          2002,
          2003,
          2004,
          2005,
          2006,
          2007,
          2008,
          2009,
          2010,
          2011,
          2012,
          2013,
          2014,
          2015,
          2016,
          2017
         ],
         "xaxis": "x",
         "y": [
          3.886988583359247e-06,
          2.5748548940524455e-06,
          2.988893272599022e-06,
          3.91341759247528e-06,
          2.983661469791422e-06,
          5.440109830871931e-06,
          3.4694841521398537e-06,
          3.0510051790812914e-06,
          2.5943217560860196e-06,
          7.388876574094599e-06,
          2.832744028150677e-06,
          7.0924291274243546e-06,
          8.480402697979545e-06,
          5.487085534518341e-06,
          1.066983442195283e-05,
          1.2012527349950662e-05,
          1.3224547404892962e-05,
          1.380534464056799e-05,
          1.8516384943298713e-05,
          2.7258800503742634e-05,
          2.538119815718782e-05,
          4.6413024040581365e-05,
          8.022970481991366e-05,
          7.833977133926409e-05,
          9.22003488661849e-05,
          0.0001409513735831827,
          0.00023204596788651692,
          0.0003579332720239709,
          0.0004094898678197837,
          0.0005162233126210363,
          0.0006103143118706134,
          0.000707841177698455,
          0.0009814637962973617,
          0.0015705500520146404,
          0.002207504321153089,
          0.003823405755181908,
          0.005469375126692343,
          0.008108992144871546,
          0.011758038520762897,
          0.011613148236938918,
          0.011617219306936887,
          0.010927443282968914,
          0.011207313169785365,
          0.010514289855170922,
          0.00953390188963571,
          0.008306934565949171,
          0.007607093878984417,
          0.006385664747867315,
          0.00564528053889756,
          0.005070152644131201,
          0.0046965267042851,
          0.004504808041585111,
          0.004144497164716167,
          0.004413305679794684,
          0.004132783240370239,
          0.0033210161610766086,
          0.002954435183518944,
          0.002767838445640199,
          0.0023624238068331465,
          0.002138038215187258,
          0.0021046915395784883,
          0.0018543966946271819,
          0.0015726035175612262
         ],
         "yaxis": "y"
        },
        {
         "hovertemplate": "Firstname=Madison<br>Year=%{x}<br>Ratio=%{y}<extra></extra>",
         "legendgroup": "Madison",
         "line": {
          "color": "#FECB52",
          "dash": "solid"
         },
         "mode": "lines",
         "name": "Madison",
         "showlegend": true,
         "type": "scattergl",
         "x": [
          1970,
          1971,
          1972,
          1975,
          1981,
          1984,
          1985,
          1986,
          1987,
          1988,
          1989,
          1990,
          1991,
          1992,
          1993,
          1994,
          1995,
          1996,
          1997,
          1998,
          1999,
          2000,
          2001,
          2002,
          2003,
          2004,
          2005,
          2006,
          2007,
          2008,
          2009,
          2010,
          2011,
          2012,
          2013,
          2014,
          2015,
          2016,
          2017
         ],
         "xaxis": "x",
         "y": [
          3.432150671414475e-06,
          4.207810537920488e-06,
          3.286986819182855e-06,
          4.115869971435862e-06,
          3.597611905217317e-06,
          2.4949803371787712e-05,
          0.0001743755176773181,
          0.00037782626289011435,
          0.0004314758776219351,
          0.00046228994735624077,
          0.000665126639895229,
          0.0007412886726665212,
          0.0013165334841194482,
          0.0017168345801403737,
          0.0024233745338335263,
          0.003506965760453122,
          0.005559202032117559,
          0.007651663851736888,
          0.008727717398487418,
          0.01006930644863612,
          0.010181338705329397,
          0.01100043523533009,
          0.012315823866604136,
          0.012124799734482867,
          0.011061091486623402,
          0.011239029111821308,
          0.010597652115793135,
          0.009805077687802114,
          0.009350110563313183,
          0.009015639569269837,
          0.008304267036011684,
          0.007424110780173973,
          0.007050667310552823,
          0.006482568991104677,
          0.006050890093874209,
          0.005791455932157712,
          0.005670412275568432,
          0.005110220668104377,
          0.004584034101895595
         ],
         "yaxis": "y"
        }
       ],
       "layout": {
        "legend": {
         "title": {
          "text": "Firstname"
         },
         "tracegroupgap": 0
        },
        "template": {
         "data": {
          "bar": [
           {
            "error_x": {
             "color": "#2a3f5f"
            },
            "error_y": {
             "color": "#2a3f5f"
            },
            "marker": {
             "line": {
              "color": "#E5ECF6",
              "width": 0.5
             }
            },
            "type": "bar"
           }
          ],
          "barpolar": [
           {
            "marker": {
             "line": {
              "color": "#E5ECF6",
              "width": 0.5
             }
            },
            "type": "barpolar"
           }
          ],
          "carpet": [
           {
            "aaxis": {
             "endlinecolor": "#2a3f5f",
             "gridcolor": "white",
             "linecolor": "white",
             "minorgridcolor": "white",
             "startlinecolor": "#2a3f5f"
            },
            "baxis": {
             "endlinecolor": "#2a3f5f",
             "gridcolor": "white",
             "linecolor": "white",
             "minorgridcolor": "white",
             "startlinecolor": "#2a3f5f"
            },
            "type": "carpet"
           }
          ],
          "choropleth": [
           {
            "colorbar": {
             "outlinewidth": 0,
             "ticks": ""
            },
            "type": "choropleth"
           }
          ],
          "contour": [
           {
            "colorbar": {
             "outlinewidth": 0,
             "ticks": ""
            },
            "colorscale": [
             [
              0,
              "#0d0887"
             ],
             [
              0.1111111111111111,
              "#46039f"
             ],
             [
              0.2222222222222222,
              "#7201a8"
             ],
             [
              0.3333333333333333,
              "#9c179e"
             ],
             [
              0.4444444444444444,
              "#bd3786"
             ],
             [
              0.5555555555555556,
              "#d8576b"
             ],
             [
              0.6666666666666666,
              "#ed7953"
             ],
             [
              0.7777777777777778,
              "#fb9f3a"
             ],
             [
              0.8888888888888888,
              "#fdca26"
             ],
             [
              1,
              "#f0f921"
             ]
            ],
            "type": "contour"
           }
          ],
          "contourcarpet": [
           {
            "colorbar": {
             "outlinewidth": 0,
             "ticks": ""
            },
            "type": "contourcarpet"
           }
          ],
          "heatmap": [
           {
            "colorbar": {
             "outlinewidth": 0,
             "ticks": ""
            },
            "colorscale": [
             [
              0,
              "#0d0887"
             ],
             [
              0.1111111111111111,
              "#46039f"
             ],
             [
              0.2222222222222222,
              "#7201a8"
             ],
             [
              0.3333333333333333,
              "#9c179e"
             ],
             [
              0.4444444444444444,
              "#bd3786"
             ],
             [
              0.5555555555555556,
              "#d8576b"
             ],
             [
              0.6666666666666666,
              "#ed7953"
             ],
             [
              0.7777777777777778,
              "#fb9f3a"
             ],
             [
              0.8888888888888888,
              "#fdca26"
             ],
             [
              1,
              "#f0f921"
             ]
            ],
            "type": "heatmap"
           }
          ],
          "heatmapgl": [
           {
            "colorbar": {
             "outlinewidth": 0,
             "ticks": ""
            },
            "colorscale": [
             [
              0,
              "#0d0887"
             ],
             [
              0.1111111111111111,
              "#46039f"
             ],
             [
              0.2222222222222222,
              "#7201a8"
             ],
             [
              0.3333333333333333,
              "#9c179e"
             ],
             [
              0.4444444444444444,
              "#bd3786"
             ],
             [
              0.5555555555555556,
              "#d8576b"
             ],
             [
              0.6666666666666666,
              "#ed7953"
             ],
             [
              0.7777777777777778,
              "#fb9f3a"
             ],
             [
              0.8888888888888888,
              "#fdca26"
             ],
             [
              1,
              "#f0f921"
             ]
            ],
            "type": "heatmapgl"
           }
          ],
          "histogram": [
           {
            "marker": {
             "colorbar": {
              "outlinewidth": 0,
              "ticks": ""
             }
            },
            "type": "histogram"
           }
          ],
          "histogram2d": [
           {
            "colorbar": {
             "outlinewidth": 0,
             "ticks": ""
            },
            "colorscale": [
             [
              0,
              "#0d0887"
             ],
             [
              0.1111111111111111,
              "#46039f"
             ],
             [
              0.2222222222222222,
              "#7201a8"
             ],
             [
              0.3333333333333333,
              "#9c179e"
             ],
             [
              0.4444444444444444,
              "#bd3786"
             ],
             [
              0.5555555555555556,
              "#d8576b"
             ],
             [
              0.6666666666666666,
              "#ed7953"
             ],
             [
              0.7777777777777778,
              "#fb9f3a"
             ],
             [
              0.8888888888888888,
              "#fdca26"
             ],
             [
              1,
              "#f0f921"
             ]
            ],
            "type": "histogram2d"
           }
          ],
          "histogram2dcontour": [
           {
            "colorbar": {
             "outlinewidth": 0,
             "ticks": ""
            },
            "colorscale": [
             [
              0,
              "#0d0887"
             ],
             [
              0.1111111111111111,
              "#46039f"
             ],
             [
              0.2222222222222222,
              "#7201a8"
             ],
             [
              0.3333333333333333,
              "#9c179e"
             ],
             [
              0.4444444444444444,
              "#bd3786"
             ],
             [
              0.5555555555555556,
              "#d8576b"
             ],
             [
              0.6666666666666666,
              "#ed7953"
             ],
             [
              0.7777777777777778,
              "#fb9f3a"
             ],
             [
              0.8888888888888888,
              "#fdca26"
             ],
             [
              1,
              "#f0f921"
             ]
            ],
            "type": "histogram2dcontour"
           }
          ],
          "mesh3d": [
           {
            "colorbar": {
             "outlinewidth": 0,
             "ticks": ""
            },
            "type": "mesh3d"
           }
          ],
          "parcoords": [
           {
            "line": {
             "colorbar": {
              "outlinewidth": 0,
              "ticks": ""
             }
            },
            "type": "parcoords"
           }
          ],
          "pie": [
           {
            "automargin": true,
            "type": "pie"
           }
          ],
          "scatter": [
           {
            "marker": {
             "colorbar": {
              "outlinewidth": 0,
              "ticks": ""
             }
            },
            "type": "scatter"
           }
          ],
          "scatter3d": [
           {
            "line": {
             "colorbar": {
              "outlinewidth": 0,
              "ticks": ""
             }
            },
            "marker": {
             "colorbar": {
              "outlinewidth": 0,
              "ticks": ""
             }
            },
            "type": "scatter3d"
           }
          ],
          "scattercarpet": [
           {
            "marker": {
             "colorbar": {
              "outlinewidth": 0,
              "ticks": ""
             }
            },
            "type": "scattercarpet"
           }
          ],
          "scattergeo": [
           {
            "marker": {
             "colorbar": {
              "outlinewidth": 0,
              "ticks": ""
             }
            },
            "type": "scattergeo"
           }
          ],
          "scattergl": [
           {
            "marker": {
             "colorbar": {
              "outlinewidth": 0,
              "ticks": ""
             }
            },
            "type": "scattergl"
           }
          ],
          "scattermapbox": [
           {
            "marker": {
             "colorbar": {
              "outlinewidth": 0,
              "ticks": ""
             }
            },
            "type": "scattermapbox"
           }
          ],
          "scatterpolar": [
           {
            "marker": {
             "colorbar": {
              "outlinewidth": 0,
              "ticks": ""
             }
            },
            "type": "scatterpolar"
           }
          ],
          "scatterpolargl": [
           {
            "marker": {
             "colorbar": {
              "outlinewidth": 0,
              "ticks": ""
             }
            },
            "type": "scatterpolargl"
           }
          ],
          "scatterternary": [
           {
            "marker": {
             "colorbar": {
              "outlinewidth": 0,
              "ticks": ""
             }
            },
            "type": "scatterternary"
           }
          ],
          "surface": [
           {
            "colorbar": {
             "outlinewidth": 0,
             "ticks": ""
            },
            "colorscale": [
             [
              0,
              "#0d0887"
             ],
             [
              0.1111111111111111,
              "#46039f"
             ],
             [
              0.2222222222222222,
              "#7201a8"
             ],
             [
              0.3333333333333333,
              "#9c179e"
             ],
             [
              0.4444444444444444,
              "#bd3786"
             ],
             [
              0.5555555555555556,
              "#d8576b"
             ],
             [
              0.6666666666666666,
              "#ed7953"
             ],
             [
              0.7777777777777778,
              "#fb9f3a"
             ],
             [
              0.8888888888888888,
              "#fdca26"
             ],
             [
              1,
              "#f0f921"
             ]
            ],
            "type": "surface"
           }
          ],
          "table": [
           {
            "cells": {
             "fill": {
              "color": "#EBF0F8"
             },
             "line": {
              "color": "white"
             }
            },
            "header": {
             "fill": {
              "color": "#C8D4E3"
             },
             "line": {
              "color": "white"
             }
            },
            "type": "table"
           }
          ]
         },
         "layout": {
          "annotationdefaults": {
           "arrowcolor": "#2a3f5f",
           "arrowhead": 0,
           "arrowwidth": 1
          },
          "autotypenumbers": "strict",
          "coloraxis": {
           "colorbar": {
            "outlinewidth": 0,
            "ticks": ""
           }
          },
          "colorscale": {
           "diverging": [
            [
             0,
             "#8e0152"
            ],
            [
             0.1,
             "#c51b7d"
            ],
            [
             0.2,
             "#de77ae"
            ],
            [
             0.3,
             "#f1b6da"
            ],
            [
             0.4,
             "#fde0ef"
            ],
            [
             0.5,
             "#f7f7f7"
            ],
            [
             0.6,
             "#e6f5d0"
            ],
            [
             0.7,
             "#b8e186"
            ],
            [
             0.8,
             "#7fbc41"
            ],
            [
             0.9,
             "#4d9221"
            ],
            [
             1,
             "#276419"
            ]
           ],
           "sequential": [
            [
             0,
             "#0d0887"
            ],
            [
             0.1111111111111111,
             "#46039f"
            ],
            [
             0.2222222222222222,
             "#7201a8"
            ],
            [
             0.3333333333333333,
             "#9c179e"
            ],
            [
             0.4444444444444444,
             "#bd3786"
            ],
            [
             0.5555555555555556,
             "#d8576b"
            ],
            [
             0.6666666666666666,
             "#ed7953"
            ],
            [
             0.7777777777777778,
             "#fb9f3a"
            ],
            [
             0.8888888888888888,
             "#fdca26"
            ],
            [
             1,
             "#f0f921"
            ]
           ],
           "sequentialminus": [
            [
             0,
             "#0d0887"
            ],
            [
             0.1111111111111111,
             "#46039f"
            ],
            [
             0.2222222222222222,
             "#7201a8"
            ],
            [
             0.3333333333333333,
             "#9c179e"
            ],
            [
             0.4444444444444444,
             "#bd3786"
            ],
            [
             0.5555555555555556,
             "#d8576b"
            ],
            [
             0.6666666666666666,
             "#ed7953"
            ],
            [
             0.7777777777777778,
             "#fb9f3a"
            ],
            [
             0.8888888888888888,
             "#fdca26"
            ],
            [
             1,
             "#f0f921"
            ]
           ]
          },
          "colorway": [
           "#636efa",
           "#EF553B",
           "#00cc96",
           "#ab63fa",
           "#FFA15A",
           "#19d3f3",
           "#FF6692",
           "#B6E880",
           "#FF97FF",
           "#FECB52"
          ],
          "font": {
           "color": "#2a3f5f"
          },
          "geo": {
           "bgcolor": "white",
           "lakecolor": "white",
           "landcolor": "#E5ECF6",
           "showlakes": true,
           "showland": true,
           "subunitcolor": "white"
          },
          "hoverlabel": {
           "align": "left"
          },
          "hovermode": "closest",
          "mapbox": {
           "style": "light"
          },
          "paper_bgcolor": "white",
          "plot_bgcolor": "#E5ECF6",
          "polar": {
           "angularaxis": {
            "gridcolor": "white",
            "linecolor": "white",
            "ticks": ""
           },
           "bgcolor": "#E5ECF6",
           "radialaxis": {
            "gridcolor": "white",
            "linecolor": "white",
            "ticks": ""
           }
          },
          "scene": {
           "xaxis": {
            "backgroundcolor": "#E5ECF6",
            "gridcolor": "white",
            "gridwidth": 2,
            "linecolor": "white",
            "showbackground": true,
            "ticks": "",
            "zerolinecolor": "white"
           },
           "yaxis": {
            "backgroundcolor": "#E5ECF6",
            "gridcolor": "white",
            "gridwidth": 2,
            "linecolor": "white",
            "showbackground": true,
            "ticks": "",
            "zerolinecolor": "white"
           },
           "zaxis": {
            "backgroundcolor": "#E5ECF6",
            "gridcolor": "white",
            "gridwidth": 2,
            "linecolor": "white",
            "showbackground": true,
            "ticks": "",
            "zerolinecolor": "white"
           }
          },
          "shapedefaults": {
           "line": {
            "color": "#2a3f5f"
           }
          },
          "ternary": {
           "aaxis": {
            "gridcolor": "white",
            "linecolor": "white",
            "ticks": ""
           },
           "baxis": {
            "gridcolor": "white",
            "linecolor": "white",
            "ticks": ""
           },
           "bgcolor": "#E5ECF6",
           "caxis": {
            "gridcolor": "white",
            "linecolor": "white",
            "ticks": ""
           }
          },
          "title": {
           "x": 0.05
          },
          "xaxis": {
           "automargin": true,
           "gridcolor": "white",
           "linecolor": "white",
           "ticks": "",
           "title": {
            "standoff": 15
           },
           "zerolinecolor": "white",
           "zerolinewidth": 2
          },
          "yaxis": {
           "automargin": true,
           "gridcolor": "white",
           "linecolor": "white",
           "ticks": "",
           "title": {
            "standoff": 15
           },
           "zerolinecolor": "white",
           "zerolinewidth": 2
          }
         }
        },
        "title": {
         "text": "Proportion of newborns of the 10 most popular firstname of 2000 from "
        },
        "xaxis": {
         "anchor": "y",
         "domain": [
          0,
          1
         ],
         "title": {
          "text": "Year"
         }
        },
        "yaxis": {
         "anchor": "x",
         "domain": [
          0,
          1
         ],
         "title": {
          "text": "Ratio"
         }
        }
       }
      },
      "text/html": [
       "<div>                            <div id=\"8d92168d-7460-49ce-82df-e74402aecdfd\" class=\"plotly-graph-div\" style=\"height:525px; width:100%;\"></div>            <script type=\"text/javascript\">                require([\"plotly\"], function(Plotly) {                    window.PLOTLYENV=window.PLOTLYENV || {};                                    if (document.getElementById(\"8d92168d-7460-49ce-82df-e74402aecdfd\")) {                    Plotly.newPlot(                        \"8d92168d-7460-49ce-82df-e74402aecdfd\",                        [{\"hovertemplate\": \"Firstname=Elizabeth<br>Year=%{x}<br>Ratio=%{y}<extra></extra>\", \"legendgroup\": \"Elizabeth\", \"line\": {\"color\": \"#636efa\", \"dash\": \"solid\"}, \"mode\": \"lines\", \"name\": \"Elizabeth\", \"showlegend\": true, \"type\": \"scattergl\", \"x\": [1880.0, 1881.0, 1882.0, 1883.0, 1884.0, 1885.0, 1886.0, 1887.0, 1888.0, 1889.0, 1890.0, 1891.0, 1892.0, 1893.0, 1894.0, 1895.0, 1896.0, 1897.0, 1898.0, 1899.0, 1900.0, 1901.0, 1902.0, 1903.0, 1904.0, 1905.0, 1906.0, 1907.0, 1908.0, 1909.0, 1910.0, 1911.0, 1912.0, 1913.0, 1914.0, 1915.0, 1916.0, 1917.0, 1918.0, 1919.0, 1920.0, 1921.0, 1922.0, 1923.0, 1924.0, 1925.0, 1926.0, 1927.0, 1928.0, 1929.0, 1930.0, 1931.0, 1932.0, 1933.0, 1934.0, 1935.0, 1936.0, 1937.0, 1938.0, 1939.0, 1940.0, 1941.0, 1942.0, 1943.0, 1944.0, 1945.0, 1946.0, 1947.0, 1948.0, 1949.0, 1950.0, 1951.0, 1952.0, 1953.0, 1954.0, 1955.0, 1956.0, 1957.0, 1958.0, 1959.0, 1960.0, 1961.0, 1962.0, 1963.0, 1964.0, 1965.0, 1966.0, 1967.0, 1968.0, 1969.0, 1970.0, 1971.0, 1972.0, 1973.0, 1974.0, 1975.0, 1976.0, 1977.0, 1978.0, 1979.0, 1980.0, 1981.0, 1982.0, 1983.0, 1984.0, 1985.0, 1986.0, 1987.0, 1988.0, 1989.0, 1990.0, 1991.0, 1992.0, 1993.0, 1994.0, 1995.0, 1996.0, 1997.0, 1998.0, 1999.0, 2000.0, 2001.0, 2002.0, 2003.0, 2004.0, 2005.0, 2006.0, 2007.0, 2008.0, 2009.0, 2010.0, 2011.0, 2012.0, 2013.0, 2014.0, 2015.0, 2016.0, 2017.0], \"xaxis\": \"x\", \"y\": [0.021309331487037463, 0.02014072406555523, 0.020269455803128507, 0.020076745697522234, 0.019756626879553558, 0.01940550900003758, 0.018542478188372204, 0.018365403716922066, 0.018049288441513364, 0.01714452305932745, 0.016346598310711433, 0.016492255271429418, 0.016299408022077903, 0.015781686667762616, 0.01536418731299429, 0.01542201885912159, 0.014589060096335713, 0.014696840307429548, 0.014140079144252768, 0.014105903709075928, 0.013662441627751834, 0.01343667091437047, 0.013988397279571033, 0.01421149669238198, 0.013919757121482837, 0.014131452340211029, 0.014632428387114252, 0.014515045547861354, 0.014668888137763115, 0.014906546093367508, 0.014627921170637222, 0.01505585583862647, 0.015279950261325134, 0.015219079489868625, 0.014925627908442493, 0.014334254528305147, 0.014304728345174943, 0.01399357429421742, 0.01369416902921964, 0.013526762407864582, 0.013277253419456058, 0.012812964296604836, 0.012691354940777284, 0.012816144977200176, 0.011971421044750904, 0.011446694628308945, 0.010828604184821901, 0.010505711594860445, 0.010199259292017749, 0.01007687298984252, 0.00976565102119666, 0.009668238432492345, 0.00936582476704924, 0.008945988692492553, 0.008949257213566783, 0.008655279529763193, 0.008516700326537596, 0.008822108470765604, 0.008882121558177896, 0.008851938179603062, 0.008703918950002318, 0.008500940409806753, 0.008279283281504516, 0.008347399769919687, 0.008313284150357947, 0.007908830775351563, 0.007479514391637098, 0.0075822448770064095, 0.007781278400841563, 0.008014813844959645, 0.008368789441210962, 0.008395895340055973, 0.00863956156772752, 0.008555369594943761, 0.00853873379965672, 0.008540004930860538, 0.00813975267904467, 0.008559133451942497, 0.009213546618715911, 0.009110806626688258, 0.00932632647187117, 0.009343816462305789, 0.009051823865471011, 0.009126823937910616, 0.00912420701521053, 0.00924720960549507, 0.00938801202166737, 0.00976154924842431, 0.009077468502604841, 0.009066988184343915, 0.008648447666852575, 0.008176978106761771, 0.00801170167307629, 0.008475017967751316, 0.008354140884384523, 0.008556893670615158, 0.009247112495614652, 0.010714253100584568, 0.010972137807491763, 0.011261525043608273, 0.011763416131222115, 0.012094571623356415, 0.01211480089518757, 0.011879396852555511, 0.0120970903776925, 0.01193891044364038, 0.01111847068989443, 0.010704053572044965, 0.011254485279744398, 0.011010938240875666, 0.010929134488837467, 0.010875270721532897, 0.010324332563605602, 0.009706214907927802, 0.009398399376240684, 0.009205615396953417, 0.009126649016296161, 0.008860460532478107, 0.008597351159844153, 0.008651853823655808, 0.008315749458710492, 0.00821499458779442, 0.008130348418842139, 0.007723103042251978, 0.007390225717985499, 0.006894486036079464, 0.006541105517902887, 0.006794684422053515, 0.006354948382590978, 0.006011667944875147, 0.005781069869807602, 0.005742583729877609, 0.005521450747953712, 0.0053978670198209355, 0.005365869543735458, 0.005466351637516352, 0.005409554649994671, 0.00520793475447932], \"yaxis\": \"y\"}, {\"hovertemplate\": \"Firstname=Sarah<br>Year=%{x}<br>Ratio=%{y}<extra></extra>\", \"legendgroup\": \"Sarah\", \"line\": {\"color\": \"#EF553B\", \"dash\": \"solid\"}, \"mode\": \"lines\", \"name\": \"Sarah\", \"showlegend\": true, \"type\": \"scattergl\", \"x\": [1880.0, 1881.0, 1882.0, 1883.0, 1884.0, 1885.0, 1886.0, 1887.0, 1888.0, 1889.0, 1890.0, 1891.0, 1892.0, 1893.0, 1894.0, 1895.0, 1896.0, 1897.0, 1898.0, 1899.0, 1900.0, 1901.0, 1902.0, 1903.0, 1904.0, 1905.0, 1906.0, 1907.0, 1908.0, 1909.0, 1910.0, 1911.0, 1912.0, 1913.0, 1914.0, 1915.0, 1916.0, 1917.0, 1918.0, 1919.0, 1920.0, 1921.0, 1922.0, 1923.0, 1924.0, 1925.0, 1926.0, 1927.0, 1928.0, 1929.0, 1930.0, 1931.0, 1932.0, 1933.0, 1934.0, 1935.0, 1936.0, 1937.0, 1938.0, 1939.0, 1940.0, 1941.0, 1942.0, 1943.0, 1944.0, 1945.0, 1946.0, 1947.0, 1948.0, 1949.0, 1950.0, 1951.0, 1952.0, 1953.0, 1954.0, 1955.0, 1956.0, 1957.0, 1958.0, 1959.0, 1960.0, 1961.0, 1962.0, 1963.0, 1964.0, 1965.0, 1966.0, 1967.0, 1968.0, 1969.0, 1970.0, 1971.0, 1972.0, 1973.0, 1974.0, 1975.0, 1976.0, 1977.0, 1978.0, 1979.0, 1980.0, 1981.0, 1982.0, 1983.0, 1984.0, 1985.0, 1986.0, 1987.0, 1988.0, 1989.0, 1990.0, 1991.0, 1992.0, 1993.0, 1994.0, 1995.0, 1996.0, 1997.0, 1998.0, 1999.0, 2000.0, 2001.0, 2002.0, 2003.0, 2004.0, 2005.0, 2006.0, 2007.0, 2008.0, 2009.0, 2010.0, 2011.0, 2012.0, 2013.0, 2014.0, 2015.0, 2016.0, 2017.0], \"xaxis\": \"x\", \"y\": [0.014154934994999615, 0.013332898328493905, 0.013074077164872458, 0.012099466697531138, 0.0117656177336847, 0.010702341137123745, 0.010855652342371638, 0.00983689658243196, 0.009825217498404452, 0.009699157911261115, 0.009381434634617809, 0.008998226233414744, 0.00846759191669924, 0.0076653906671989855, 0.007630505874278332, 0.007606141413449644, 0.007107490816163552, 0.007314261315115286, 0.006956037840845854, 0.006810486518498174, 0.0068545697131420944, 0.006325596941653262, 0.006475408594495524, 0.005928137083875696, 0.00578870150055926, 0.006042130313868438, 0.005746639891907634, 0.005647181431791214, 0.005426052830730483, 0.005313480978026092, 0.005480426328240463, 0.005261660638427574, 0.005230086164728901, 0.005088504431225932, 0.0048307719781085535, 0.004487395145888621, 0.004594289216155658, 0.004407730823226504, 0.004292331161685006, 0.0044437365612805604, 0.004198482838044213, 0.004073645146012159, 0.004148296176023647, 0.004113998287422837, 0.004038783208462548, 0.0038508865746331063, 0.0037304524544470585, 0.0038225459766403694, 0.003678392953302099, 0.003417771516242028, 0.0034808173126029745, 0.003415303112847777, 0.00337278400406346, 0.0035908976351076475, 0.0034460003696932025, 0.0034497130643695285, 0.003379765050576319, 0.0033715004351839144, 0.0033969583265357913, 0.0033467202141900937, 0.0033837884262016647, 0.0032955734513039907, 0.003037168665778173, 0.0028577265054670954, 0.0029077280464272015, 0.002748236446267081, 0.002486594854333402, 0.0023822498412021478, 0.0024484728114675934, 0.0025110589467580687, 0.002420101905786472, 0.0022372395717649147, 0.0021821322888718265, 0.00216861499986177, 0.002080482754394376, 0.002036793222010461, 0.0019273380119476026, 0.0019513278470479868, 0.0019433581706574797, 0.0019148906722976514, 0.002079111066271418, 0.0020851599754360523, 0.002310119421427718, 0.0023732855424674903, 0.002419857078015981, 0.0022984885044414595, 0.0023848292940964392, 0.0025071704833526665, 0.0027350073008721417, 0.0030100788441486926, 0.003213065053555851, 0.0035159262623281336, 0.004018670085132958, 0.004948675324105316, 0.006668184073228041, 0.007663063908485003, 0.009550844785291985, 0.01180224617082535, 0.013040960602276162, 0.01309369548965861, 0.015513686438610556, 0.016892586700947912, 0.016824045083054105, 0.016302366360527093, 0.015375019306395466, 0.014461542932705582, 0.016415618218222655, 0.01604514963583436, 0.01593355607133308, 0.015077650551360688, 0.013601356342259355, 0.013454993545358526, 0.013363102648264803, 0.013408454442162184, 0.012485268615317055, 0.012158123863161953, 0.01200301273565527, 0.011896313246213229, 0.011254230456113653, 0.01077294255520978, 0.00974982232481778, 0.008832897319235668, 0.008218334381183032, 0.007535803280484131, 0.0069405991532850535, 0.006246147613172157, 0.005868832540328482, 0.005200927409340426, 0.0047876556636716906, 0.004238528419561986, 0.003561612343767432, 0.003163432429538885, 0.002951071171687926, 0.002681793796680723, 0.0026388601920641053, 0.0025381095889948917, 0.0024955836899262776, 0.0023285280910100474], \"yaxis\": \"y\"}, {\"hovertemplate\": \"Firstname=Hannah<br>Year=%{x}<br>Ratio=%{y}<extra></extra>\", \"legendgroup\": \"Hannah\", \"line\": {\"color\": \"#00cc96\", \"dash\": \"solid\"}, \"mode\": \"lines\", \"name\": \"Hannah\", \"showlegend\": true, \"type\": \"scattergl\", \"x\": [1880.0, 1881.0, 1882.0, 1883.0, 1884.0, 1885.0, 1886.0, 1887.0, 1888.0, 1889.0, 1890.0, 1891.0, 1892.0, 1893.0, 1894.0, 1895.0, 1896.0, 1897.0, 1898.0, 1899.0, 1900.0, 1901.0, 1902.0, 1903.0, 1904.0, 1905.0, 1906.0, 1907.0, 1908.0, 1909.0, 1910.0, 1911.0, 1912.0, 1913.0, 1914.0, 1915.0, 1916.0, 1917.0, 1918.0, 1919.0, 1920.0, 1921.0, 1922.0, 1923.0, 1924.0, 1925.0, 1926.0, 1927.0, 1928.0, 1929.0, 1930.0, 1931.0, 1932.0, 1933.0, 1934.0, 1935.0, 1936.0, 1937.0, 1938.0, 1939.0, 1940.0, 1941.0, 1942.0, 1943.0, 1944.0, 1945.0, 1946.0, 1947.0, 1948.0, 1949.0, 1950.0, 1951.0, 1952.0, 1953.0, 1954.0, 1955.0, 1956.0, 1957.0, 1958.0, 1959.0, 1960.0, 1961.0, 1962.0, 1963.0, 1964.0, 1965.0, 1966.0, 1967.0, 1968.0, 1969.0, 1970.0, 1971.0, 1972.0, 1973.0, 1974.0, 1975.0, 1976.0, 1977.0, 1978.0, 1979.0, 1980.0, 1981.0, 1982.0, 1983.0, 1984.0, 1985.0, 1986.0, 1987.0, 1988.0, 1989.0, 1990.0, 1991.0, 1992.0, 1993.0, 1994.0, 1995.0, 1996.0, 1997.0, 1998.0, 1999.0, 2000.0, 2001.0, 2002.0, 2003.0, 2004.0, 2005.0, 2006.0, 2007.0, 2008.0, 2009.0, 2010.0, 2011.0, 2012.0, 2013.0, 2014.0, 2015.0, 2016.0, 2017.0], \"xaxis\": \"x\", \"y\": [0.0024287582561295924, 0.0021315237132013094, 0.001984292562611848, 0.0018607715524532804, 0.0021314524879863586, 0.0017737026041862388, 0.0017573841268084106, 0.0019112076229098308, 0.0016515322860565888, 0.0016875413475662402, 0.0014024877085346893, 0.001579676624559928, 0.0015352808480778378, 0.0014278668889880462, 0.001314366973053234, 0.0012883784836512902, 0.0013576106053346112, 0.0012297181895815543, 0.001306189327892166, 0.0012359295005214077, 0.0010840560373582388, 0.0011113664375691993, 0.0010262197246247292, 0.0009543041023624753, 0.000947836318473003, 0.0007509798744251918, 0.0008669061946543043, 0.0007502369995542525, 0.0007178901209345733, 0.0008006220660657201, 0.000769226889145578, 0.0006669710668429319, 0.000643234303918354, 0.0006340615968425013, 0.0005816884985871403, 0.000554953057679544, 0.0005256908669590363, 0.0005003320132953291, 0.0004431406492140084, 0.00047251201189243714, 0.0003930601106576872, 0.0004022552244519273, 0.0003422219446699557, 0.00036058618880292846, 0.00030507065868838834, 0.00031296667767389364, 0.00030370033550450955, 0.0002910099723330865, 0.00023759539585213935, 0.0002283888198746638, 0.00022204754482029693, 0.0002000713869737559, 0.0002164804403830673, 0.00020043142367829367, 0.00022890330415694147, 0.00019837996057198284, 0.0001672579973834697, 0.00018704449027086674, 0.00017854877009806588, 0.00019332552735920976, 0.00016442290620985084, 0.00014900859614034624, 0.00015770768547312305, 0.00014048517558855046, 0.00012507977603185165, 0.00011706018270569693, 9.101179016372575e-05, 0.00010379681998133914, 0.00010778699170040164, 9.995136869078905e-05, 9.63137516774645e-05, 9.106658966727378e-05, 8.141882273774296e-05, 8.187465309603153e-05, 7.879055975800484e-05, 6.905250752672331e-05, 6.974084302731051e-05, 6.065797268336685e-05, 6.166233704235605e-05, 6.722383361705745e-05, 6.577587340963334e-05, 7.434608897442544e-05, 7.220712257159057e-05, 7.575419527771177e-05, 7.177765814834754e-05, 6.968550309250665e-05, 7.86077561622866e-05, 7.450639513224885e-05, 8.657401621128938e-05, 8.417313821762788e-05, 9.896034435911737e-05, 0.00010820084240366969, 0.00016434934095914275, 0.00020573761048109683, 0.00022215922410550245, 0.0003038883995576812, 0.00036584383655517076, 0.00041354173053516477, 0.00047983109945299256, 0.0006049090456017942, 0.000736079395378843, 0.000847237603678678, 0.0009332253627027624, 0.0014368065537536273, 0.0013461012962016894, 0.0014229042242469158, 0.00197367577142444, 0.002641782973386568, 0.0031225635690806104, 0.004247913205856152, 0.005412935197566339, 0.005744097470420672, 0.006233221535669205, 0.006913501065720834, 0.008118505307779515, 0.009674854365287464, 0.010610193088966997, 0.011832527584425495, 0.012100038610519498, 0.012222907758300783, 0.012715482808204462, 0.011508994041017184, 0.010479796362615767, 0.009657438593608807, 0.00850420959464939, 0.008040588043491214, 0.007656646974034575, 0.0069269334521839055, 0.005061931889482566, 0.004125152144964649, 0.003936874773912837, 0.003739171436967114, 0.004139238662332814, 0.004167235609925265, 0.0036938428092744145, 0.003601136218627082, 0.0034026563623211084, 0.0034302852359284993], \"yaxis\": \"y\"}, {\"hovertemplate\": \"Firstname=Emily<br>Year=%{x}<br>Ratio=%{y}<extra></extra>\", \"legendgroup\": \"Emily\", \"line\": {\"color\": \"#ab63fa\", \"dash\": \"solid\"}, \"mode\": \"lines\", \"name\": \"Emily\", \"showlegend\": true, \"type\": \"scattergl\", \"x\": [1880.0, 1881.0, 1882.0, 1883.0, 1884.0, 1885.0, 1886.0, 1887.0, 1888.0, 1889.0, 1890.0, 1891.0, 1892.0, 1893.0, 1894.0, 1895.0, 1896.0, 1897.0, 1898.0, 1899.0, 1900.0, 1901.0, 1902.0, 1903.0, 1904.0, 1905.0, 1906.0, 1907.0, 1908.0, 1909.0, 1910.0, 1911.0, 1912.0, 1913.0, 1914.0, 1915.0, 1916.0, 1917.0, 1918.0, 1919.0, 1920.0, 1921.0, 1922.0, 1923.0, 1924.0, 1925.0, 1926.0, 1927.0, 1928.0, 1929.0, 1930.0, 1931.0, 1932.0, 1933.0, 1934.0, 1935.0, 1936.0, 1937.0, 1938.0, 1939.0, 1940.0, 1941.0, 1942.0, 1943.0, 1944.0, 1945.0, 1946.0, 1947.0, 1948.0, 1949.0, 1950.0, 1951.0, 1952.0, 1953.0, 1954.0, 1955.0, 1956.0, 1957.0, 1958.0, 1959.0, 1960.0, 1961.0, 1962.0, 1963.0, 1964.0, 1965.0, 1966.0, 1967.0, 1968.0, 1969.0, 1970.0, 1971.0, 1972.0, 1973.0, 1974.0, 1975.0, 1976.0, 1977.0, 1978.0, 1979.0, 1980.0, 1981.0, 1982.0, 1983.0, 1984.0, 1985.0, 1986.0, 1987.0, 1988.0, 1989.0, 1990.0, 1991.0, 1992.0, 1993.0, 1994.0, 1995.0, 1996.0, 1997.0, 1998.0, 1999.0, 2000.0, 2001.0, 2002.0, 2003.0, 2004.0, 2005.0, 2006.0, 2007.0, 2008.0, 2009.0, 2010.0, 2011.0, 2012.0, 2013.0, 2014.0, 2015.0, 2016.0, 2017.0], \"xaxis\": \"x\", \"y\": [0.0023078698361412415, 0.002653529520515916, 0.0025220914814505736, 0.0030448989040144587, 0.002821268020461944, 0.002600428394273045, 0.002553050168473636, 0.0022948191887985424, 0.0025584754397554614, 0.002405166904006369, 0.0026736563432365424, 0.0023937761819269898, 0.0024394953352893252, 0.002376646861276156, 0.0024717276523970374, 0.0025895979488672113, 0.0022150488823880496, 0.0026430401366353542, 0.002426884313361776, 0.0024418190479051425, 0.002088058705803869, 0.0022436232217092483, 0.0022947939229615716, 0.0021300067564730446, 0.0021753025086794207, 0.002342097051289525, 0.0020961520878555245, 0.0022412937978315327, 0.0021895648688504484, 0.002157071681594332, 0.0019798134687845207, 0.002173034766165681, 0.0020551246423241003, 0.002220816754597347, 0.002166559870584157, 0.002125287259355177, 0.002119041691403183, 0.0020531184279401673, 0.0020394835726983895, 0.002041358073849911, 0.0018092448405644711, 0.001771220585086712, 0.001786881492120985, 0.001704287825698439, 0.0016366520376878367, 0.001450653944283717, 0.0014586052224647137, 0.0013887968708460841, 0.0013518657742098003, 0.0012942033126230948, 0.0011937276009539163, 0.0011158911160789764, 0.001073967899043269, 0.0010537533264670688, 0.001022881710625998, 0.0010434022926237943, 0.0010794869601243476, 0.0012153192257298025, 0.0011854913263363968, 0.0011781914214532973, 0.0011098546169164933, 0.0011324653306666313, 0.0010506441581519324, 0.0009575928295219562, 0.0009426192759990747, 0.0008676225306422242, 0.0008776591512991456, 0.0008281181072424231, 0.0008192989369139818, 0.0008142237227267201, 0.0007687588542983076, 0.0007146506152547643, 0.0007505629221916438, 0.0007044410087807908, 0.0006900611116060554, 0.0006675075727583254, 0.0006391250114574242, 0.0005894585248665892, 0.0005838030942558549, 0.0005995772807168433, 0.0006048413021051247, 0.0005694910415440989, 0.0005476554296450918, 0.0005749017011486619, 0.000596387894909064, 0.0007291483128459842, 0.0007387947007733703, 0.0007305261181259522, 0.0008084306020857022, 0.0009347960490788673, 0.0011045804910835586, 0.0011228842978336388, 0.0015337080498307202, 0.002076578281789204, 0.0029500836845175464, 0.0037598472189066603, 0.0037860741816633063, 0.00448699300370883, 0.004882526248719634, 0.004966982307500623, 0.0054254231703578055, 0.006476301031375373, 0.007393743728046316, 0.007409731131586935, 0.007593056826147394, 0.007634741415638578, 0.007716285128221873, 0.008463255514261716, 0.008914388170769795, 0.00939586319440903, 0.01020154411431546, 0.010833128847446416, 0.011842090274579619, 0.013044644165351218, 0.01352654785963623, 0.013866722482404961, 0.01435100652759392, 0.014786780622720453, 0.014822023621485565, 0.014967182623427512, 0.014298306989659029, 0.013922259834766587, 0.013622788586995564, 0.014068293217229388, 0.013643032477753022, 0.012965143549818064, 0.011265968457394108, 0.010077480229030327, 0.009228494864204146, 0.00836422564276989, 0.008039405935907882, 0.008115585158120369, 0.007765198073438766, 0.007498053214238988, 0.0070979724570371105, 0.006622133102626761, 0.0062117470446438495, 0.005693385543146995], \"yaxis\": \"y\"}, {\"hovertemplate\": \"Firstname=Samantha<br>Year=%{x}<br>Ratio=%{y}<extra></extra>\", \"legendgroup\": \"Samantha\", \"line\": {\"color\": \"#FFA15A\", \"dash\": \"solid\"}, \"mode\": \"lines\", \"name\": \"Samantha\", \"showlegend\": true, \"type\": \"scattergl\", \"x\": [1880.0, 1881.0, 1882.0, 1883.0, 1884.0, 1885.0, 1886.0, 1887.0, 1888.0, 1889.0, 1890.0, 1891.0, 1892.0, 1893.0, 1894.0, 1895.0, 1896.0, 1897.0, 1898.0, 1899.0, 1900.0, 1901.0, 1902.0, 1903.0, 1904.0, 1905.0, 1906.0, 1907.0, 1908.0, 1909.0, 1910.0, 1911.0, 1912.0, 1913.0, 1914.0, 1915.0, 1916.0, 1917.0, 1918.0, 1919.0, 1920.0, 1921.0, 1922.0, 1923.0, 1924.0, 1925.0, 1926.0, 1927.0, 1928.0, 1929.0, 1930.0, 1931.0, 1932.0, 1933.0, 1934.0, 1935.0, 1936.0, 1937.0, 1938.0, 1939.0, 1940.0, 1941.0, 1942.0, 1943.0, 1944.0, 1945.0, 1946.0, 1947.0, 1948.0, 1949.0, 1950.0, 1951.0, 1952.0, 1953.0, 1954.0, 1955.0, 1956.0, 1957.0, 1958.0, 1959.0, 1960.0, 1961.0, 1962.0, 1963.0, 1964.0, 1965.0, 1966.0, 1967.0, 1968.0, 1969.0, 1970.0, 1971.0, 1972.0, 1973.0, 1974.0, 1975.0, 1976.0, 1977.0, 1978.0, 1979.0, 1980.0, 1981.0, 1982.0, 1983.0, 1984.0, 1985.0, 1986.0, 1987.0, 1988.0, 1989.0, 1990.0, 1991.0, 1992.0, 1993.0, 1994.0, 1995.0, 1996.0, 1997.0, 1998.0, 1999.0, 2000.0, 2001.0, 2002.0, 2003.0, 2004.0, 2005.0, 2006.0, 2007.0, 2008.0, 2009.0, 2010.0, 2011.0, 2012.0, 2013.0, 2014.0, 2015.0, 2016.0, 2017.0], \"xaxis\": \"x\", \"y\": [0.00023078698361412417, 0.0001305014518286516, 0.0001390859272858772, 0.00015135462388375965, 0.00012401178111920633, 0.0001277667130134155, 8.994485688389502e-05, 0.00010960330453963188, 0.00010077146152209695, 7.849029523563908e-05, 7.879144429970164e-05, 0.0001078277559426572, 9.418900908452992e-05, 9.393861111763463e-05, 7.177430569573975e-05, 6.848523501136427e-05, 7.56563185635387e-05, 5.550811272416738e-05, 8.11537748098683e-05, 6.437132815215665e-05, 9.006004002668446e-05, 6.684910902671875e-05, 5.6801829776276526e-05, 1.9086082047249504e-05, 2.9052454206069056e-05, 4.114958216028448e-05, 4.402258019728889e-05, 5.022507109986628e-05, 3.888571488395605e-05, 2.8799354894450365e-05, 2.522055374247797e-05, 3.585865950768451e-05, 3.58347801625824e-05, 2.0815153431698275e-05, 2.626133176465645e-05, 2.032795083075253e-05, 1.91508512553383e-05, 2.1271046775956687e-05, 1.468497278097104e-05, 2.035164096165928e-05, 2.1697585726326683e-05, 2.3518954655455423e-05, 2.331439039114053e-05, 1.8236542881987187e-05, 1.2010655853873557e-05, 1.5607262141217792e-05, 7.592508387612738e-06, 9.225099987504183e-06, 1.2139910736970624e-05, 1.2538994032334483e-05, 1.2434662509936627e-05, 9.393022862617647e-06, 1.4994316217008991e-05, 1.4883521560269333e-05, 1.4366316160477497e-05, 2.0982495829728953e-05, 1.9225057170513762e-05, 2.161820741824088e-05, 1.5407761886635127e-05, 2.0973995892744455e-05, 1.6617208606314714e-05, 1.6556510682260692e-05, 1.776988005330964e-05, 2.006931079836435e-05, 1.8083823040749634e-05, 2.3718076234487614e-05, 2.1002720807013635e-05, 1.6359281410102364e-05, 2.355999818588014e-05, 2.571848083271765e-05, 2.1013909456901346e-05, 2.110079516680734e-05, 2.0489505059829354e-05, 1.648126133751284e-05, 1.5449129364314675e-05, 1.3810501505344664e-05, 1.5442615241761615e-05, 1.858873356425758e-05, 5.4203183367877505e-05, 5.4866511260980715e-05, 4.0553546011954396e-05, 3.5686122707724214e-05, 3.864606560169636e-05, 3.735823328763868e-05, 0.00022061074342653874, 0.0011110022078406956, 0.001060318154549941, 0.0010933662049895055, 0.0014248132104632625, 0.0014362782669106503, 0.0013145137071517439, 0.0013272636668183481, 0.0014613943398086974, 0.0014525075299965436, 0.0015346704683607102, 0.0019440625831748724, 0.002288571611883372, 0.0021440247133581807, 0.0025375557599643292, 0.0027790929479192625, 0.0029641953393283846, 0.0033104025547841345, 0.003999284133455952, 0.004613346376343938, 0.004771946916323112, 0.006194980891349521, 0.008216555087418968, 0.01032147829388685, 0.0116269011182586, 0.013449555081274569, 0.013627699223306495, 0.013679572393338384, 0.013239967909025667, 0.013086111902069793, 0.012781016566366288, 0.012311124205564208, 0.011724562925092436, 0.011590027140511768, 0.01143199736406776, 0.01073572057800091, 0.009512371151059715, 0.008814004609821097, 0.008164874555963248, 0.007593307593307594, 0.007511216139032164, 0.0073857499872715515, 0.006559531167249093, 0.00618394382227813, 0.005918647977053987, 0.005264365673370584, 0.004735856945003206, 0.004210127083992975, 0.003940072655759198, 0.0037147471806600048, 0.003213233378549548, 0.0029996351643137857, 0.00280398839854052, 0.0025137120862057786], \"yaxis\": \"y\"}, {\"hovertemplate\": \"Firstname=Jessica<br>Year=%{x}<br>Ratio=%{y}<extra></extra>\", \"legendgroup\": \"Jessica\", \"line\": {\"color\": \"#19d3f3\", \"dash\": \"solid\"}, \"mode\": \"lines\", \"name\": \"Jessica\", \"showlegend\": true, \"type\": \"scattergl\", \"x\": [1880.0, 1881.0, 1882.0, 1883.0, 1884.0, 1885.0, 1886.0, 1887.0, 1888.0, 1889.0, 1890.0, 1891.0, 1892.0, 1893.0, 1894.0, 1895.0, 1896.0, 1897.0, 1898.0, 1899.0, 1900.0, 1901.0, 1902.0, 1903.0, 1904.0, 1905.0, 1906.0, 1907.0, 1908.0, 1909.0, 1910.0, 1911.0, 1912.0, 1913.0, 1914.0, 1915.0, 1916.0, 1917.0, 1918.0, 1919.0, 1920.0, 1921.0, 1922.0, 1923.0, 1924.0, 1925.0, 1926.0, 1927.0, 1928.0, 1929.0, 1930.0, 1931.0, 1932.0, 1933.0, 1934.0, 1935.0, 1936.0, 1937.0, 1938.0, 1939.0, 1940.0, 1941.0, 1942.0, 1943.0, 1944.0, 1945.0, 1946.0, 1947.0, 1948.0, 1949.0, 1950.0, 1951.0, 1952.0, 1953.0, 1954.0, 1955.0, 1956.0, 1957.0, 1958.0, 1959.0, 1960.0, 1961.0, 1962.0, 1963.0, 1964.0, 1965.0, 1966.0, 1967.0, 1968.0, 1969.0, 1970.0, 1971.0, 1972.0, 1973.0, 1974.0, 1975.0, 1976.0, 1977.0, 1978.0, 1979.0, 1980.0, 1981.0, 1982.0, 1983.0, 1984.0, 1985.0, 1986.0, 1987.0, 1988.0, 1989.0, 1990.0, 1991.0, 1992.0, 1993.0, 1994.0, 1995.0, 1996.0, 1997.0, 1998.0, 1999.0, 2000.0, 2001.0, 2002.0, 2003.0, 2004.0, 2005.0, 2006.0, 2007.0, 2008.0, 2009.0, 2010.0, 2011.0, 2012.0, 2013.0, 2014.0, 2015.0, 2016.0, 2017.0], \"xaxis\": \"x\", \"y\": [7.692899453804139e-05, 7.612584690004676e-05, 7.417916121913451e-05, 5.3419279017797525e-05, 0.00010851030847930554, 4.5094134004734886e-05, 7.610718659406502e-05, 5.480165226981594e-05, 0.00010077146152209695, 5.045804693719655e-05, 9.454973315964197e-05, 7.547942915986003e-05, 6.593230635917095e-05, 7.045395833822597e-05, 4.485894105983734e-05, 8.132621657599507e-05, 3.782815928176935e-05, 3.842869342442357e-05, 5.0238051072775616e-05, 6.007990627534621e-05, 7.671781187458306e-05, 3.3424554513359374e-05, 3.4081097865765914e-05, 6.107546255119841e-05, 5.810490841213811e-05, 5.829524139373635e-05, 6.0954341811630764e-05, 5.3364138043607916e-05, 5.085055023286561e-05, 5.1838838810010655e-05, 7.061755047893832e-05, 5.020212331075832e-05, 6.450260429264831e-05, 4.0029141214804375e-05, 5.514879670577855e-05, 5.590186478456946e-05, 5.0749755826646494e-05, 5.08655466381573e-05, 4.837402798437519e-05, 3.539415819419005e-05, 3.588446870123259e-05, 3.89279249469607e-05, 3.330627198734361e-05, 4.31045559028788e-05, 3.2829126000587724e-05, 2.7928784884284473e-05, 2.952642150738287e-05, 3.2707172682969375e-05, 3.1216913323638744e-05, 3.7616982097003446e-05, 3.375122681268513e-05, 3.6632789164208825e-05, 4.123436959677472e-05, 4.2666095139438755e-05, 4.4056702892130994e-05, 4.4826241090784585e-05, 4.1333872916604585e-05, 6.767438843971058e-05, 4.531694672539743e-05, 7.021729059744884e-05, 5.3349985525536715e-05, 6.70538682631558e-05, 9.403228194876351e-05, 8.672809309293167e-05, 9.343308571053978e-05, 0.000100993098804915, 0.00015274706041464462, 0.00024256865539117297, 0.0002838979781398557, 0.00023731143677462193, 0.0002346553222687317, 0.0002587623828350584, 0.00024371727071165444, 0.0002631685278086728, 0.00021834769501564738, 0.00019743902152085334, 0.00020224844477920048, 0.0002328483467522792, 0.00026305948625327707, 0.0002580208907948823, 0.0002764564904961281, 0.00033108791623277464, 0.0004398532466508862, 0.0005816469377144856, 0.0006180267477331982, 0.000866253123808477, 0.0009852566129513666, 0.0010667135107958554, 0.0011218041537237496, 0.0014771792988614693, 0.0023012570251834054, 0.0032219806404648306, 0.004082437629425106, 0.0049555332444546855, 0.007260381514171851, 0.008868327831787138, 0.012536976846726448, 0.01620444355155378, 0.017040858760573423, 0.01730376277099427, 0.020433732675479942, 0.025502271592117154, 0.026842632805942873, 0.027108947652946563, 0.027239838895555372, 0.028101195925425402, 0.03071237742511402, 0.032211687818573025, 0.028949573884381453, 0.025978457709121567, 0.024485707933316683, 0.02314975835102581, 0.0208048889373472, 0.01934497563079339, 0.01798965330274284, 0.015888715855044405, 0.013804948190076232, 0.012092267396389961, 0.010323501804277503, 0.009219770960766907, 0.008654571899223739, 0.007734897501494747, 0.006634030185867561, 0.005721952955995509, 0.00516171296276111, 0.004393210483041915, 0.0035851049156473773, 0.002971958519623101, 0.0025071388594874425, 0.0020691170114014016, 0.0018008088990160913, 0.0014920239361641545, 0.001327014649513352, 0.001112367388610432, 0.001008381469137688, 0.0008910085711089488, 0.0007817832595202947, 0.0007424885107059132], \"yaxis\": \"y\"}, {\"hovertemplate\": \"Firstname=Ashley<br>Year=%{x}<br>Ratio=%{y}<extra></extra>\", \"legendgroup\": \"Ashley\", \"line\": {\"color\": \"#FF6692\", \"dash\": \"solid\"}, \"mode\": \"lines\", \"name\": \"Ashley\", \"showlegend\": true, \"type\": \"scattergl\", \"x\": [1917.0, 1938.0, 1941.0, 1942.0, 1943.0, 1944.0, 1945.0, 1946.0, 1947.0, 1948.0, 1949.0, 1950.0, 1951.0, 1952.0, 1953.0, 1954.0, 1955.0, 1956.0, 1957.0, 1958.0, 1959.0, 1960.0, 1961.0, 1962.0, 1963.0, 1964.0, 1965.0, 1966.0, 1967.0, 1968.0, 1969.0, 1970.0, 1971.0, 1972.0, 1973.0, 1974.0, 1975.0, 1976.0, 1977.0, 1978.0, 1979.0, 1980.0, 1981.0, 1982.0, 1983.0, 1984.0, 1985.0, 1986.0, 1987.0, 1988.0, 1989.0, 1990.0, 1991.0, 1992.0, 1993.0, 1994.0, 1995.0, 1996.0, 1997.0, 1998.0, 1999.0, 2000.0, 2001.0, 2002.0, 2003.0, 2004.0, 2005.0, 2006.0, 2007.0, 2008.0, 2009.0, 2010.0, 2011.0, 2012.0, 2013.0, 2014.0, 2015.0, 2016.0, 2017.0], \"xaxis\": \"x\", \"y\": [4.624140603468845e-06, 6.34437254155564e-06, 4.9669532046782075e-06, 5.923293351103213e-06, 7.167610999415839e-06, 7.534926266979014e-06, 7.650992333705682e-06, 4.455122595427135e-06, 6.205244672797448e-06, 7.656999410411045e-06, 6.4296202081794124e-06, 8.755795607042228e-06, 8.329261250055529e-06, 1.294074003778696e-05, 7.974803872990084e-06, 1.0814390555020272e-05, 4.092000446028049e-06, 1.1955573090396089e-05, 1.3207784374604072e-05, 1.889652264201234e-05, 1.828883708699357e-05, 2.769510459352983e-05, 3.9651247453026904e-05, 4.830758200212045e-05, 5.603734993145802e-05, 9.552761856508017e-05, 0.0001235076396273695, 0.0001554424050427171, 0.00023381681724429315, 0.0003316638367531086, 0.0003799646591373202, 0.0005319833540692436, 0.000699698780877064, 0.0007730992998718075, 0.0008592974197760478, 0.001108070240477138, 0.0013637249172024158, 0.001563709383484881, 0.0017650535060381007, 0.0022738118631221403, 0.002772863194617493, 0.004394791545567953, 0.005323266415753223, 0.008772909058369702, 0.019931500247549794, 0.023031044683909752, 0.027322899864858974, 0.02896376482880622, 0.03155584448458768, 0.0280637521991071, 0.02581678744917966, 0.024002579494912135, 0.023193500549444687, 0.020858048428296253, 0.01926867499523121, 0.016959576632327042, 0.015130539437117996, 0.013509951157164376, 0.01200721984733965, 0.011251399772865977, 0.01022814816151631, 0.009915101564092534, 0.00918296811132918, 0.008543548317936718, 0.007948191352446671, 0.007832767258030058, 0.007189677715682207, 0.006498989747968704, 0.00594860302850279, 0.0049788018364858334, 0.0042586963145624735, 0.003556541229846548, 0.0030740248883259946, 0.0026733768539509983, 0.0022493016995168316, 0.00199542747289273, 0.0019242412232844993, 0.0017211703958691911, 0.0014703726053869265], \"yaxis\": \"y\"}, {\"hovertemplate\": \"Firstname=Alexis<br>Year=%{x}<br>Ratio=%{y}<extra></extra>\", \"legendgroup\": \"Alexis\", \"line\": {\"color\": \"#B6E880\", \"dash\": \"solid\"}, \"mode\": \"lines\", \"name\": \"Alexis\", \"showlegend\": true, \"type\": \"scattergl\", \"x\": [1931.0, 1941.0, 1942.0, 1943.0, 1944.0, 1945.0, 1946.0, 1947.0, 1948.0, 1949.0, 1950.0, 1951.0, 1952.0, 1953.0, 1954.0, 1955.0, 1956.0, 1957.0, 1958.0, 1959.0, 1960.0, 1961.0, 1962.0, 1963.0, 1964.0, 1965.0, 1966.0, 1967.0, 1968.0, 1969.0, 1970.0, 1971.0, 1972.0, 1973.0, 1974.0, 1975.0, 1976.0, 1977.0, 1978.0, 1979.0, 1980.0, 1981.0, 1982.0, 1983.0, 1984.0, 1985.0, 1986.0, 1987.0, 1988.0, 1989.0, 1990.0, 1991.0, 1992.0, 1993.0, 1994.0, 1995.0, 1996.0, 1997.0, 1998.0, 1999.0, 2000.0, 2001.0, 2002.0, 2003.0, 2004.0, 2005.0, 2006.0, 2007.0, 2008.0, 2009.0, 2010.0, 2011.0, 2012.0, 2013.0, 2014.0, 2015.0, 2016.0, 2017.0], \"xaxis\": \"x\", \"y\": [4.6965114313088235e-06, 4.139127670565173e-06, 2.665482007996446e-05, 6.307497679485939e-05, 9.343308571053978e-05, 9.334210647120932e-05, 0.00014065458479848526, 0.00013990006171397883, 0.00012781299015839976, 0.00015723343963638744, 0.00013425553264131417, 0.00013993158900093286, 0.00013587777039676308, 0.0001148371757710572, 9.114986324945658e-05, 8.900100970111006e-05, 9.066309593550366e-05, 9.441119941846614e-05, 9.249350556353408e-05, 8.304120623283568e-05, 8.308531378058949e-05, 7.632865134707678e-05, 7.830913292975315e-05, 8.924466840935907e-05, 5.488879740755988e-05, 9.404710173460248e-05, 0.0001093416157144588, 0.00011206246422330112, 0.00010608365366735459, 0.00012092479011546539, 0.00020249688961345404, 0.0002067838321492354, 0.0002603293560792821, 0.0003374096811889988, 0.0004095634775687331, 0.00046372135011510715, 0.0004730033185312189, 0.0004728986666214423, 0.0005033330308547718, 0.0006292050834786942, 0.0007637877850575883, 0.0009503691449615745, 0.0018440060647835596, 0.0020731921231870046, 0.0019549953070607945, 0.0014624293415871079, 0.0012798281590182114, 0.0014135149750894593, 0.0016300916491224916, 0.0019074920602541803, 0.002769163655675363, 0.003738891081925937, 0.004310800760940142, 0.005988494085318486, 0.007302957927613448, 0.008150538686335647, 0.009465581777514036, 0.009866664981039568, 0.011197050654510581, 0.010847386509627521, 0.009712359030582169, 0.009113509620834435, 0.008707269032672306, 0.008141515375557929, 0.007341175547290905, 0.006483925865182439, 0.0059109483102626655, 0.005159274171504083, 0.005147179905612973, 0.00541153679904982, 0.004655846036473705, 0.003713545071651317, 0.0030461018091101945, 0.002727499698626709, 0.002374412713242362, 0.0019186197181040013, 0.0015176459650006009, 0.0011940570541958196], \"yaxis\": \"y\"}, {\"hovertemplate\": \"Firstname=Taylor<br>Year=%{x}<br>Ratio=%{y}<extra></extra>\", \"legendgroup\": \"Taylor\", \"line\": {\"color\": \"#FF97FF\", \"dash\": \"solid\"}, \"mode\": \"lines\", \"name\": \"Taylor\", \"showlegend\": true, \"type\": \"scattergl\", \"x\": [1951.0, 1954.0, 1956.0, 1957.0, 1958.0, 1960.0, 1961.0, 1962.0, 1963.0, 1964.0, 1965.0, 1966.0, 1967.0, 1968.0, 1969.0, 1970.0, 1971.0, 1972.0, 1973.0, 1974.0, 1975.0, 1976.0, 1977.0, 1978.0, 1979.0, 1980.0, 1981.0, 1982.0, 1983.0, 1984.0, 1985.0, 1986.0, 1987.0, 1988.0, 1989.0, 1990.0, 1991.0, 1992.0, 1993.0, 1994.0, 1995.0, 1996.0, 1997.0, 1998.0, 1999.0, 2000.0, 2001.0, 2002.0, 2003.0, 2004.0, 2005.0, 2006.0, 2007.0, 2008.0, 2009.0, 2010.0, 2011.0, 2012.0, 2013.0, 2014.0, 2015.0, 2016.0, 2017.0], \"xaxis\": \"x\", \"y\": [3.886988583359247e-06, 2.5748548940524455e-06, 2.988893272599022e-06, 3.91341759247528e-06, 2.983661469791422e-06, 5.440109830871931e-06, 3.4694841521398537e-06, 3.0510051790812914e-06, 2.5943217560860196e-06, 7.388876574094599e-06, 2.832744028150677e-06, 7.0924291274243546e-06, 8.480402697979545e-06, 5.487085534518341e-06, 1.066983442195283e-05, 1.2012527349950662e-05, 1.3224547404892962e-05, 1.380534464056799e-05, 1.8516384943298713e-05, 2.7258800503742634e-05, 2.538119815718782e-05, 4.6413024040581365e-05, 8.022970481991366e-05, 7.833977133926409e-05, 9.22003488661849e-05, 0.0001409513735831827, 0.00023204596788651692, 0.0003579332720239709, 0.0004094898678197837, 0.0005162233126210363, 0.0006103143118706134, 0.000707841177698455, 0.0009814637962973617, 0.0015705500520146404, 0.002207504321153089, 0.003823405755181908, 0.005469375126692343, 0.008108992144871546, 0.011758038520762897, 0.011613148236938918, 0.011617219306936887, 0.010927443282968914, 0.011207313169785365, 0.010514289855170922, 0.00953390188963571, 0.008306934565949171, 0.007607093878984417, 0.006385664747867315, 0.00564528053889756, 0.005070152644131201, 0.0046965267042851, 0.004504808041585111, 0.004144497164716167, 0.004413305679794684, 0.004132783240370239, 0.0033210161610766086, 0.002954435183518944, 0.002767838445640199, 0.0023624238068331465, 0.002138038215187258, 0.0021046915395784883, 0.0018543966946271819, 0.0015726035175612262], \"yaxis\": \"y\"}, {\"hovertemplate\": \"Firstname=Madison<br>Year=%{x}<br>Ratio=%{y}<extra></extra>\", \"legendgroup\": \"Madison\", \"line\": {\"color\": \"#FECB52\", \"dash\": \"solid\"}, \"mode\": \"lines\", \"name\": \"Madison\", \"showlegend\": true, \"type\": \"scattergl\", \"x\": [1970.0, 1971.0, 1972.0, 1975.0, 1981.0, 1984.0, 1985.0, 1986.0, 1987.0, 1988.0, 1989.0, 1990.0, 1991.0, 1992.0, 1993.0, 1994.0, 1995.0, 1996.0, 1997.0, 1998.0, 1999.0, 2000.0, 2001.0, 2002.0, 2003.0, 2004.0, 2005.0, 2006.0, 2007.0, 2008.0, 2009.0, 2010.0, 2011.0, 2012.0, 2013.0, 2014.0, 2015.0, 2016.0, 2017.0], \"xaxis\": \"x\", \"y\": [3.432150671414475e-06, 4.207810537920488e-06, 3.286986819182855e-06, 4.115869971435862e-06, 3.597611905217317e-06, 2.4949803371787712e-05, 0.0001743755176773181, 0.00037782626289011435, 0.0004314758776219351, 0.00046228994735624077, 0.000665126639895229, 0.0007412886726665212, 0.0013165334841194482, 0.0017168345801403737, 0.0024233745338335263, 0.003506965760453122, 0.005559202032117559, 0.007651663851736888, 0.008727717398487418, 0.01006930644863612, 0.010181338705329397, 0.01100043523533009, 0.012315823866604136, 0.012124799734482867, 0.011061091486623402, 0.011239029111821308, 0.010597652115793135, 0.009805077687802114, 0.009350110563313183, 0.009015639569269837, 0.008304267036011684, 0.007424110780173973, 0.007050667310552823, 0.006482568991104677, 0.006050890093874209, 0.005791455932157712, 0.005670412275568432, 0.005110220668104377, 0.004584034101895595], \"yaxis\": \"y\"}],                        {\"legend\": {\"title\": {\"text\": \"Firstname\"}, \"tracegroupgap\": 0}, \"template\": {\"data\": {\"bar\": [{\"error_x\": {\"color\": \"#2a3f5f\"}, \"error_y\": {\"color\": \"#2a3f5f\"}, \"marker\": {\"line\": {\"color\": \"#E5ECF6\", \"width\": 0.5}}, \"type\": \"bar\"}], \"barpolar\": [{\"marker\": {\"line\": {\"color\": \"#E5ECF6\", \"width\": 0.5}}, \"type\": \"barpolar\"}], \"carpet\": [{\"aaxis\": {\"endlinecolor\": \"#2a3f5f\", \"gridcolor\": \"white\", \"linecolor\": \"white\", \"minorgridcolor\": \"white\", \"startlinecolor\": \"#2a3f5f\"}, \"baxis\": {\"endlinecolor\": \"#2a3f5f\", \"gridcolor\": \"white\", \"linecolor\": \"white\", \"minorgridcolor\": \"white\", \"startlinecolor\": \"#2a3f5f\"}, \"type\": \"carpet\"}], \"choropleth\": [{\"colorbar\": {\"outlinewidth\": 0, \"ticks\": \"\"}, \"type\": \"choropleth\"}], \"contour\": [{\"colorbar\": {\"outlinewidth\": 0, \"ticks\": \"\"}, \"colorscale\": [[0.0, \"#0d0887\"], [0.1111111111111111, \"#46039f\"], [0.2222222222222222, \"#7201a8\"], [0.3333333333333333, \"#9c179e\"], [0.4444444444444444, \"#bd3786\"], [0.5555555555555556, \"#d8576b\"], [0.6666666666666666, \"#ed7953\"], [0.7777777777777778, \"#fb9f3a\"], [0.8888888888888888, \"#fdca26\"], [1.0, \"#f0f921\"]], \"type\": \"contour\"}], \"contourcarpet\": [{\"colorbar\": {\"outlinewidth\": 0, \"ticks\": \"\"}, \"type\": \"contourcarpet\"}], \"heatmap\": [{\"colorbar\": {\"outlinewidth\": 0, \"ticks\": \"\"}, \"colorscale\": [[0.0, \"#0d0887\"], [0.1111111111111111, \"#46039f\"], [0.2222222222222222, \"#7201a8\"], [0.3333333333333333, \"#9c179e\"], [0.4444444444444444, \"#bd3786\"], [0.5555555555555556, \"#d8576b\"], [0.6666666666666666, \"#ed7953\"], [0.7777777777777778, \"#fb9f3a\"], [0.8888888888888888, \"#fdca26\"], [1.0, \"#f0f921\"]], \"type\": \"heatmap\"}], \"heatmapgl\": [{\"colorbar\": {\"outlinewidth\": 0, \"ticks\": \"\"}, \"colorscale\": [[0.0, \"#0d0887\"], [0.1111111111111111, \"#46039f\"], [0.2222222222222222, \"#7201a8\"], [0.3333333333333333, \"#9c179e\"], [0.4444444444444444, \"#bd3786\"], [0.5555555555555556, \"#d8576b\"], [0.6666666666666666, \"#ed7953\"], [0.7777777777777778, \"#fb9f3a\"], [0.8888888888888888, \"#fdca26\"], [1.0, \"#f0f921\"]], \"type\": \"heatmapgl\"}], \"histogram\": [{\"marker\": {\"colorbar\": {\"outlinewidth\": 0, \"ticks\": \"\"}}, \"type\": \"histogram\"}], \"histogram2d\": [{\"colorbar\": {\"outlinewidth\": 0, \"ticks\": \"\"}, \"colorscale\": [[0.0, \"#0d0887\"], [0.1111111111111111, \"#46039f\"], [0.2222222222222222, \"#7201a8\"], [0.3333333333333333, \"#9c179e\"], [0.4444444444444444, \"#bd3786\"], [0.5555555555555556, \"#d8576b\"], [0.6666666666666666, \"#ed7953\"], [0.7777777777777778, \"#fb9f3a\"], [0.8888888888888888, \"#fdca26\"], [1.0, \"#f0f921\"]], \"type\": \"histogram2d\"}], \"histogram2dcontour\": [{\"colorbar\": {\"outlinewidth\": 0, \"ticks\": \"\"}, \"colorscale\": [[0.0, \"#0d0887\"], [0.1111111111111111, \"#46039f\"], [0.2222222222222222, \"#7201a8\"], [0.3333333333333333, \"#9c179e\"], [0.4444444444444444, \"#bd3786\"], [0.5555555555555556, \"#d8576b\"], [0.6666666666666666, \"#ed7953\"], [0.7777777777777778, \"#fb9f3a\"], [0.8888888888888888, \"#fdca26\"], [1.0, \"#f0f921\"]], \"type\": \"histogram2dcontour\"}], \"mesh3d\": [{\"colorbar\": {\"outlinewidth\": 0, \"ticks\": \"\"}, \"type\": \"mesh3d\"}], \"parcoords\": [{\"line\": {\"colorbar\": {\"outlinewidth\": 0, \"ticks\": \"\"}}, \"type\": \"parcoords\"}], \"pie\": [{\"automargin\": true, \"type\": \"pie\"}], \"scatter\": [{\"marker\": {\"colorbar\": {\"outlinewidth\": 0, \"ticks\": \"\"}}, \"type\": \"scatter\"}], \"scatter3d\": [{\"line\": {\"colorbar\": {\"outlinewidth\": 0, \"ticks\": \"\"}}, \"marker\": {\"colorbar\": {\"outlinewidth\": 0, \"ticks\": \"\"}}, \"type\": \"scatter3d\"}], \"scattercarpet\": [{\"marker\": {\"colorbar\": {\"outlinewidth\": 0, \"ticks\": \"\"}}, \"type\": \"scattercarpet\"}], \"scattergeo\": [{\"marker\": {\"colorbar\": {\"outlinewidth\": 0, \"ticks\": \"\"}}, \"type\": \"scattergeo\"}], \"scattergl\": [{\"marker\": {\"colorbar\": {\"outlinewidth\": 0, \"ticks\": \"\"}}, \"type\": \"scattergl\"}], \"scattermapbox\": [{\"marker\": {\"colorbar\": {\"outlinewidth\": 0, \"ticks\": \"\"}}, \"type\": \"scattermapbox\"}], \"scatterpolar\": [{\"marker\": {\"colorbar\": {\"outlinewidth\": 0, \"ticks\": \"\"}}, \"type\": \"scatterpolar\"}], \"scatterpolargl\": [{\"marker\": {\"colorbar\": {\"outlinewidth\": 0, \"ticks\": \"\"}}, \"type\": \"scatterpolargl\"}], \"scatterternary\": [{\"marker\": {\"colorbar\": {\"outlinewidth\": 0, \"ticks\": \"\"}}, \"type\": \"scatterternary\"}], \"surface\": [{\"colorbar\": {\"outlinewidth\": 0, \"ticks\": \"\"}, \"colorscale\": [[0.0, \"#0d0887\"], [0.1111111111111111, \"#46039f\"], [0.2222222222222222, \"#7201a8\"], [0.3333333333333333, \"#9c179e\"], [0.4444444444444444, \"#bd3786\"], [0.5555555555555556, \"#d8576b\"], [0.6666666666666666, \"#ed7953\"], [0.7777777777777778, \"#fb9f3a\"], [0.8888888888888888, \"#fdca26\"], [1.0, \"#f0f921\"]], \"type\": \"surface\"}], \"table\": [{\"cells\": {\"fill\": {\"color\": \"#EBF0F8\"}, \"line\": {\"color\": \"white\"}}, \"header\": {\"fill\": {\"color\": \"#C8D4E3\"}, \"line\": {\"color\": \"white\"}}, \"type\": \"table\"}]}, \"layout\": {\"annotationdefaults\": {\"arrowcolor\": \"#2a3f5f\", \"arrowhead\": 0, \"arrowwidth\": 1}, \"autotypenumbers\": \"strict\", \"coloraxis\": {\"colorbar\": {\"outlinewidth\": 0, \"ticks\": \"\"}}, \"colorscale\": {\"diverging\": [[0, \"#8e0152\"], [0.1, \"#c51b7d\"], [0.2, \"#de77ae\"], [0.3, \"#f1b6da\"], [0.4, \"#fde0ef\"], [0.5, \"#f7f7f7\"], [0.6, \"#e6f5d0\"], [0.7, \"#b8e186\"], [0.8, \"#7fbc41\"], [0.9, \"#4d9221\"], [1, \"#276419\"]], \"sequential\": [[0.0, \"#0d0887\"], [0.1111111111111111, \"#46039f\"], [0.2222222222222222, \"#7201a8\"], [0.3333333333333333, \"#9c179e\"], [0.4444444444444444, \"#bd3786\"], [0.5555555555555556, \"#d8576b\"], [0.6666666666666666, \"#ed7953\"], [0.7777777777777778, \"#fb9f3a\"], [0.8888888888888888, \"#fdca26\"], [1.0, \"#f0f921\"]], \"sequentialminus\": [[0.0, \"#0d0887\"], [0.1111111111111111, \"#46039f\"], [0.2222222222222222, \"#7201a8\"], [0.3333333333333333, \"#9c179e\"], [0.4444444444444444, \"#bd3786\"], [0.5555555555555556, \"#d8576b\"], [0.6666666666666666, \"#ed7953\"], [0.7777777777777778, \"#fb9f3a\"], [0.8888888888888888, \"#fdca26\"], [1.0, \"#f0f921\"]]}, \"colorway\": [\"#636efa\", \"#EF553B\", \"#00cc96\", \"#ab63fa\", \"#FFA15A\", \"#19d3f3\", \"#FF6692\", \"#B6E880\", \"#FF97FF\", \"#FECB52\"], \"font\": {\"color\": \"#2a3f5f\"}, \"geo\": {\"bgcolor\": \"white\", \"lakecolor\": \"white\", \"landcolor\": \"#E5ECF6\", \"showlakes\": true, \"showland\": true, \"subunitcolor\": \"white\"}, \"hoverlabel\": {\"align\": \"left\"}, \"hovermode\": \"closest\", \"mapbox\": {\"style\": \"light\"}, \"paper_bgcolor\": \"white\", \"plot_bgcolor\": \"#E5ECF6\", \"polar\": {\"angularaxis\": {\"gridcolor\": \"white\", \"linecolor\": \"white\", \"ticks\": \"\"}, \"bgcolor\": \"#E5ECF6\", \"radialaxis\": {\"gridcolor\": \"white\", \"linecolor\": \"white\", \"ticks\": \"\"}}, \"scene\": {\"xaxis\": {\"backgroundcolor\": \"#E5ECF6\", \"gridcolor\": \"white\", \"gridwidth\": 2, \"linecolor\": \"white\", \"showbackground\": true, \"ticks\": \"\", \"zerolinecolor\": \"white\"}, \"yaxis\": {\"backgroundcolor\": \"#E5ECF6\", \"gridcolor\": \"white\", \"gridwidth\": 2, \"linecolor\": \"white\", \"showbackground\": true, \"ticks\": \"\", \"zerolinecolor\": \"white\"}, \"zaxis\": {\"backgroundcolor\": \"#E5ECF6\", \"gridcolor\": \"white\", \"gridwidth\": 2, \"linecolor\": \"white\", \"showbackground\": true, \"ticks\": \"\", \"zerolinecolor\": \"white\"}}, \"shapedefaults\": {\"line\": {\"color\": \"#2a3f5f\"}}, \"ternary\": {\"aaxis\": {\"gridcolor\": \"white\", \"linecolor\": \"white\", \"ticks\": \"\"}, \"baxis\": {\"gridcolor\": \"white\", \"linecolor\": \"white\", \"ticks\": \"\"}, \"bgcolor\": \"#E5ECF6\", \"caxis\": {\"gridcolor\": \"white\", \"linecolor\": \"white\", \"ticks\": \"\"}}, \"title\": {\"x\": 0.05}, \"xaxis\": {\"automargin\": true, \"gridcolor\": \"white\", \"linecolor\": \"white\", \"ticks\": \"\", \"title\": {\"standoff\": 15}, \"zerolinecolor\": \"white\", \"zerolinewidth\": 2}, \"yaxis\": {\"automargin\": true, \"gridcolor\": \"white\", \"linecolor\": \"white\", \"ticks\": \"\", \"title\": {\"standoff\": 15}, \"zerolinecolor\": \"white\", \"zerolinewidth\": 2}}}, \"title\": {\"text\": \"Proportion of newborns of the 10 most popular firstname of 2000 from \"}, \"xaxis\": {\"anchor\": \"y\", \"domain\": [0.0, 1.0], \"title\": {\"text\": \"Year\"}}, \"yaxis\": {\"anchor\": \"x\", \"domain\": [0.0, 1.0], \"title\": {\"text\": \"Ratio\"}}},                        {\"responsive\": true}                    ).then(function(){\n",
       "                            \n",
       "var gd = document.getElementById('8d92168d-7460-49ce-82df-e74402aecdfd');\n",
       "var x = new MutationObserver(function (mutations, observer) {{\n",
       "        var display = window.getComputedStyle(gd).display;\n",
       "        if (!display || display === 'none') {{\n",
       "            console.log([gd, 'removed!']);\n",
       "            Plotly.purge(gd);\n",
       "            observer.disconnect();\n",
       "        }}\n",
       "}});\n",
       "\n",
       "// Listen for the removal of the full notebook cells\n",
       "var notebookContainer = gd.closest('#notebook-container');\n",
       "if (notebookContainer) {{\n",
       "    x.observe(notebookContainer, {childList: true});\n",
       "}}\n",
       "\n",
       "// Listen for the clearing of the current output cell\n",
       "var outputEl = gd.closest('.output');\n",
       "if (outputEl) {{\n",
       "    x.observe(outputEl, {childList: true});\n",
       "}}\n",
       "\n",
       "                        })                };                });            </script>        </div>"
      ]
     },
     "metadata": {},
     "output_type": "display_data"
    }
   ],
   "source": [
    "fig = px.line(df_prop_f.toPandas(), x='year', y='ratio', color='name',\n",
    "              title='Proportion of newborns of the 10 most popular firstname of 2000 from ',\n",
    "              labels={'ratio':'Ratio', 'year':'Year', 'name':'Firstname'})\n",
    "fig.show()"
   ]
  },
  {
   "cell_type": "markdown",
   "metadata": {
    "format": "text/markdown"
   },
   "source": [
    "\n",
    "1. Use `explain()` to determine the joining strategy used by spark.\n",
    "\n",
    "\n",
    "Plot  the popularity of each of the top ten achievers from year 2000 with respect to time\n",
    "==================================================================================\n",
    "\n",
    "\n"
   ]
  },
  {
   "cell_type": "code",
   "execution_count": null,
   "metadata": {
    "ExecuteTime": {
     "end_time": "2020-03-09T13:25:00.680650Z",
     "start_time": "2020-03-09T13:25:00.677469Z"
    },
    "autoscroll": "auto",
    "options": {
     "caption": false,
     "complete": true,
     "display_data": true,
     "display_stream": true,
     "dpi": 200,
     "echo": true,
     "evaluate": false,
     "f_env": null,
     "f_pos": "htpb",
     "f_size": [
      6,
      4
     ],
     "f_spines": true,
     "fig": true,
     "include": true,
     "name": null,
     "option_string": "evaluate=False",
     "results": "verbatim",
     "term": false,
     "wrap": "output"
    }
   },
   "outputs": [],
   "source": [
    "# %%\n",
    "# TODO:\n",
    "# %%"
   ]
  },
  {
   "cell_type": "markdown",
   "metadata": {
    "format": "text/markdown"
   },
   "source": [
    "\n",
    "\n",
    "Plot the total popularity of the top ten achievers from year 2000 with respect to time\n",
    "==================================================================================\n",
    "\n",
    "\n"
   ]
  },
  {
   "cell_type": "code",
   "execution_count": null,
   "metadata": {
    "ExecuteTime": {
     "end_time": "2020-03-09T13:25:00.924571Z",
     "start_time": "2020-03-09T13:25:00.917339Z"
    },
    "autoscroll": "auto",
    "options": {
     "caption": false,
     "complete": true,
     "display_data": true,
     "display_stream": true,
     "dpi": 200,
     "echo": true,
     "evaluate": false,
     "f_env": null,
     "f_pos": "htpb",
     "f_size": [
      6,
      4
     ],
     "f_spines": true,
     "fig": true,
     "include": true,
     "name": null,
     "option_string": "evaluate=False",
     "results": "verbatim",
     "term": false,
     "wrap": "output"
    }
   },
   "outputs": [],
   "source": [
    "# %%\n",
    "# TODO:\n",
    "# %%"
   ]
  },
  {
   "cell_type": "markdown",
   "metadata": {
    "format": "text/markdown"
   },
   "source": [
    "\n",
    "\n",
    "Plot lorenz curves\n",
    "=====================\n",
    "\n",
    "Every year, the name counts define a discrete probability distribution.\n",
    "This distribution, just as income or wealth distribution,\n",
    "is (usually) far from being uniform. We want to assess how uneven it is.\n",
    "We use the tools developed in econometrics.\n",
    "\n",
    "Without loss of generality, that we handle a distribution over $1, \\ldots, n$\n",
    "where $n$ is the number of distinct names given during a year.\n",
    "We assume that frequencies $p_1, p_2, \\ldots, p_n$ are given in ascending order.\n",
    "\n",
    "The Lorenz function maps $[0, 1] \\to [0, 1]$.\n",
    "$$L(x) = \\sum_{i=1}^{\\lfloor nx \\rfloor} p_i$$.\n",
    "\n",
    "1. Design a query that adds a column \"lorenz\" to the dataframe , and for each\n",
    "row computes the value of the Lorenz function defined by `year`  and `sex`.\n",
    "\n",
    "\n"
   ]
  },
  {
   "cell_type": "code",
   "execution_count": null,
   "metadata": {
    "ExecuteTime": {
     "end_time": "2020-03-09T13:25:01.172487Z",
     "start_time": "2020-03-09T13:25:01.169864Z"
    },
    "autoscroll": "auto",
    "options": {
     "caption": false,
     "complete": true,
     "display_data": true,
     "display_stream": true,
     "dpi": 200,
     "echo": true,
     "evaluate": false,
     "f_env": null,
     "f_pos": "htpb",
     "f_size": [
      6,
      4
     ],
     "f_spines": true,
     "fig": true,
     "include": true,
     "name": null,
     "option_string": "evaluate=False",
     "results": "verbatim",
     "term": false,
     "wrap": "output"
    }
   },
   "outputs": [],
   "source": [
    "# TODO:"
   ]
  },
  {
   "cell_type": "markdown",
   "metadata": {
    "format": "text/markdown"
   },
   "source": [
    "\n",
    "\n",
    "1. Design a function that takes as input a `year` and plots the Lorenz curve\n",
    "for that year for both sexes.\n",
    "\n"
   ]
  },
  {
   "cell_type": "code",
   "execution_count": null,
   "metadata": {
    "ExecuteTime": {
     "end_time": "2020-03-09T13:25:01.435478Z",
     "start_time": "2020-03-09T13:25:01.432499Z"
    },
    "autoscroll": "auto",
    "options": {
     "caption": false,
     "complete": true,
     "display_data": true,
     "display_stream": true,
     "dpi": 200,
     "echo": true,
     "evaluate": false,
     "f_env": null,
     "f_pos": "htpb",
     "f_size": [
      6,
      4
     ],
     "f_spines": true,
     "fig": true,
     "include": true,
     "name": null,
     "option_string": "evaluate=False",
     "results": "verbatim",
     "term": false,
     "wrap": "output"
    }
   },
   "outputs": [],
   "source": [
    "# %%\n",
    "# TODO:\n",
    "# %%"
   ]
  },
  {
   "cell_type": "markdown",
   "metadata": {
    "format": "text/markdown"
   },
   "source": [
    "\n",
    "Gini index\n",
    "==========\n",
    "\n",
    "The [Gini index](https://en.wikipedia.org/wiki/Gini_coefficient) is twice the surface of the area comprised between curves $y=x$\n",
    "and $y=L(x)$.\n",
    "\n",
    "Choose a formula that allows you to compute it efficiently.\n",
    "\n",
    "$$G={\\frac {2\\sum _{i=1}^{n}iy_{i}}{n\\sum _{i=1}^{n}y_{i}}}-{\\frac {n+1}{n}}.$$\n",
    "\n",
    "1. Design a query that computes the Gini index of the `babynames` distribution\n",
    "for every `year` and `sex`.\n",
    "\n",
    "1. Plot Gini index over time\n",
    "\n",
    "\n"
   ]
  },
  {
   "cell_type": "code",
   "execution_count": null,
   "metadata": {
    "ExecuteTime": {
     "end_time": "2020-03-09T13:25:01.689514Z",
     "start_time": "2020-03-09T13:25:01.686509Z"
    },
    "autoscroll": "auto",
    "options": {
     "caption": false,
     "complete": true,
     "display_data": true,
     "display_stream": true,
     "dpi": 200,
     "echo": true,
     "evaluate": false,
     "f_env": null,
     "f_pos": "htpb",
     "f_size": [
      6,
      4
     ],
     "f_spines": true,
     "fig": true,
     "include": true,
     "name": null,
     "option_string": "evaluate=False",
     "results": "verbatim",
     "term": false,
     "wrap": "output"
    }
   },
   "outputs": [],
   "source": [
    "# TODO:"
   ]
  },
  {
   "cell_type": "markdown",
   "metadata": {
    "format": "text/markdown"
   },
   "source": [
    "\n",
    "\n"
   ]
  },
  {
   "cell_type": "code",
   "execution_count": null,
   "metadata": {
    "ExecuteTime": {
     "end_time": "2020-03-09T13:25:01.959724Z",
     "start_time": "2020-03-09T13:25:01.957043Z"
    },
    "autoscroll": "auto",
    "options": {
     "caption": false,
     "complete": true,
     "display_data": true,
     "display_stream": true,
     "dpi": 200,
     "echo": true,
     "evaluate": false,
     "f_env": null,
     "f_pos": "htpb",
     "f_size": [
      6,
      4
     ],
     "f_spines": true,
     "fig": true,
     "include": true,
     "name": null,
     "option_string": "evaluate=False",
     "results": "verbatim",
     "term": false,
     "wrap": "output"
    }
   },
   "outputs": [],
   "source": [
    "# %%\n",
    "# TODO:\n",
    "# %%"
   ]
  },
  {
   "cell_type": "markdown",
   "metadata": {
    "format": "text/markdown"
   },
   "source": [
    "\n",
    "\n",
    "\n",
    "Close the door, leave work area clean\n",
    "=====================================\n"
   ]
  },
  {
   "cell_type": "code",
   "execution_count": null,
   "metadata": {
    "ExecuteTime": {
     "end_time": "2020-03-09T13:25:02.615664Z",
     "start_time": "2020-03-09T13:25:02.216564Z"
    }
   },
   "outputs": [],
   "source": [
    "spark.stop()"
   ]
  }
 ],
 "metadata": {
  "kernel_info": {
   "name": "python3"
  },
  "kernelspec": {
   "display_name": "Python 3",
   "language": "python",
   "name": "python3"
  },
  "language_info": {
   "codemirror_mode": {
    "name": "ipython",
    "version": 3
   },
   "file_extension": ".py",
   "mimetype": "text/x-python",
   "name": "python",
   "nbconvert_exporter": "python",
   "pygments_lexer": "ipython3",
   "version": "3.8.5"
  },
  "toc": {
   "base_numbering": 1,
   "nav_menu": {},
   "number_sections": true,
   "sideBar": true,
   "skip_h1_title": false,
   "title_cell": "Table of Contents",
   "title_sidebar": "Contents",
   "toc_cell": false,
   "toc_position": {},
   "toc_section_display": true,
   "toc_window_display": true
  }
 },
 "nbformat": 4,
 "nbformat_minor": 1
}
