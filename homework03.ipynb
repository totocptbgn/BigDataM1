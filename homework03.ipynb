{
 "cells": [
  {
   "cell_type": "markdown",
   "metadata": {
    "nteract": {
     "transient": {
      "deleting": false
     }
    }
   },
   "source": [
    "# New York taxis trips\n",
    "\n",
    "This homework is about New York taxi trips. Here is something from [Todd Schneider](https://toddwschneider.com/posts/analyzing-1-1-billion-nyc-taxi-and-uber-trips-with-a-vengeance/):\n",
    "\n",
    "> The New York City Taxi & Limousine Commission has released a  detailed historical dataset covering over 1 billion individual taxi trips in the city from January 2009 through December 2019. \n",
    "Taken as a whole, the detailed trip-level data is more than just a vast list of taxi pickup and drop off coordinates: it's a story of a City. \n",
    "How bad is the rush hour traffic from Midtown to JFK? \n",
    "Where does the Bridge and Tunnel crowd hang out on Saturday nights?\n",
    "What time do investment bankers get to work? How has Uber changed the landscape for taxis?\n",
    "The dataset addresses all of these questions and many more.\n",
    "\n",
    "The NY taxi trips dataset has been plowed by series of distinguished data scientists.\n",
    "The dataset is available from on Amazon S3 (Amazon's cloud storage service).\n",
    "The link for each file has the following form:\n",
    "\n",
    "    https://s3.amazonaws.com/nyc-tlc/trip+data/yellow_tripdata_{year}-{month}.csv\n",
    "\n",
    "There is one CSV file for each NY taxi service (`yellow`, `green`, `fhv`) and each calendar month (replacing `{year}` and `{month}` by the desired ones).\n",
    "Each file is moderately large, a few gigabytes. \n",
    "The full dataset is relatively large if it has to be handled on a laptop (several hundred gigabytes).\n",
    "\n",
    "You will focus on the `yellow` taxi service and a pair of months, from year 2015 and from year 2018. \n",
    "Between those two years, for hire vehicles services have taken off and carved a huge marketshare.\n",
    "\n",
    "Whatever the framework you use, `CSV` files prove hard to handle. \n",
    "After downloading the appropriate files (this takes time, but this is routine), a first step will consist in converting the csv files into a more Spark friendly format such as `parquet`.\n",
    "\n",
    "Saving into one of those formats require decisions about bucketing, partitioning and so on. Such decisions influence performance. It is your call.\n",
    "Many people have been working on this dataset, to cite but a few:\n",
    "\n",
    "\n",
    "- [1 billion trips with a vengeance](https://toddwschneider.com/posts/analyzing-1-1-billion-nyc-taxi-and-uber-trips-with-a-vengeance/)\n",
    "- [1 billion trips with R and SQL ](http://freerangestats.info/blog/2019/12/22/nyc-taxis-sql)\n",
    "- [1 billion trips with redshift](https://tech.marksblogg.com/billion-nyc-taxi-rides-redshift.html)\n",
    "- [nyc-taxi](https://github.com/fmaletski/nyc-taxi-map)"
   ]
  },
  {
   "cell_type": "markdown",
   "metadata": {},
   "source": [
    "Depending on your internet connection, **download the files** corresponding to **\"yellow\" taxis** for the years 2015 and 2018. Download **at least one month** (the same) for 2015 and 2018, if you can download all of them.\n",
    "\n",
    "**Hint.** The 12 csv for 2015 are about 23GB in total, but the corresponding parquet file, if you can create it for all 12 months, is only about 3GB."
   ]
  },
  {
   "cell_type": "markdown",
   "metadata": {},
   "source": [
    "You **might** need the following stuff in order to work with GPS coordinates and to plot things easily."
   ]
  },
  {
   "cell_type": "code",
   "execution_count": null,
   "metadata": {
    "ExecuteTime": {
     "end_time": "2022-03-09T16:39:14.118187Z",
     "start_time": "2022-03-09T16:39:10.766227Z"
    },
    "scrolled": false
   },
   "outputs": [],
   "source": [
    "!pip install geojson geopandas plotly geopy"
   ]
  },
  {
   "cell_type": "code",
   "execution_count": null,
   "metadata": {
    "ExecuteTime": {
     "end_time": "2022-03-09T16:39:15.674396Z",
     "start_time": "2022-03-09T16:39:14.119677Z"
    }
   },
   "outputs": [],
   "source": [
    "!pip install ipyleaflet"
   ]
  },
  {
   "cell_type": "markdown",
   "metadata": {},
   "source": [
    "For this homework **we will let you decide on the tools to use** (expected for Spark) and to **find out information all by yourself** (but don't hesitate to ask questions on the `slack` channel)."
   ]
  },
  {
   "cell_type": "markdown",
   "metadata": {
    "nteract": {
     "transient": {
      "deleting": false
     }
    }
   },
   "source": [
    "## Loading data as parquet files\n",
    "\n",
    "We want to organize the data on a per year and per service basis. \n",
    "We want to end up with one `parquet` file for each year and each taxi service, since parquet is much better than CSV files.\n",
    "\n",
    "**Hint.** Depending on your internet connection and your laptop, you can use only the \"yellow\" service and use one month of 2015 and 2018\n",
    "\n",
    "CSV files can contain corrupted lines. You may have to work in order to perform ETL (Extract-Transform-Load) in order obtain a properly typed data frame.\n",
    "\n",
    "You are invited to proceed as follows:\n",
    "\n",
    "1. Try to read the CSV file without imposing a schema. \n",
    "1. Inspect the inferred schema. Do you agree with Spark's typing decision?\n",
    "1. Eventually correct the schema and read again the data\n",
    "1. Save the data into parquet files\n",
    "1. In the rest of your work, **you will only use the parquet files you created**, not the csv files (don't forget to choose a partitioning column and a number of partitions when creating the parquet files).\n",
    "\n",
    "**Hint.** Don't forget to ask `Spark` to use all the memory and ressources from your computer.\n",
    "\n",
    "**Hint.** Don't foreget that you should specify a partitioning column and a number of partitions when creating the parquet files.\n",
    "\n",
    "**Hint.** Note that the schemas of the 2015 and 2018 data are different...\n",
    "\n",
    "**Hint.** When working on this, ask you and answer to the following questions:\n",
    "\n",
    "1. What is the `StorageLevel` of the dataframe after reading the csv files?\n",
    "1. What is the number of partitions of the dataframe? \n",
    "1. Is it possible to tune this number at loading time? \n",
    "1. Why would we want to modify the number of partitions when creating the parquet files?"
   ]
  },
  {
   "cell_type": "code",
   "execution_count": 2,
   "metadata": {
    "ExecuteTime": {
     "end_time": "2022-03-09T17:06:11.739234Z",
     "start_time": "2022-03-09T17:06:10.894583Z"
    },
    "scrolled": true
   },
   "outputs": [],
   "source": [
    "from pyspark import SparkConf, SparkContext\n",
    "from pyspark.sql import SparkSession\n",
    "from pyspark.sql import Window\n",
    "from pyspark.sql.functions import col\n",
    "import pyspark.sql.functions as fn\n",
    "from pyspark.sql.catalog import Catalog\n",
    "from pyspark.sql.types import StructType, StructField\n",
    "from pyspark.sql.types import IntegerType, StringType, DoubleType, TimestampType\n",
    "\n",
    "import plotly.express as px\n",
    "import matplotlib.pyplot as plt\n",
    "from pyspark_dist_explore import hist"
   ]
  },
  {
   "cell_type": "code",
   "execution_count": 3,
   "metadata": {
    "ExecuteTime": {
     "end_time": "2022-03-09T17:06:16.211851Z",
     "start_time": "2022-03-09T17:06:12.791026Z"
    }
   },
   "outputs": [],
   "source": [
    "conf = SparkConf().setAppName(\"Spark SQL\")\n",
    "sc = SparkContext(conf=conf)\n",
    "\n",
    "spark = (SparkSession\n",
    "    .builder\n",
    "    .appName(\"Spark SQL\")\n",
    "    .getOrCreate()\n",
    ")"
   ]
  },
  {
   "cell_type": "code",
   "execution_count": null,
   "metadata": {
    "ExecuteTime": {
     "end_time": "2022-03-09T16:49:04.978123Z",
     "start_time": "2022-03-09T16:48:20.948501Z"
    }
   },
   "outputs": [],
   "source": [
    "# Lecture du fichier pour le mois d'octobre 2015\n",
    "df_2015 = spark.read.csv('yellow_tripdata_2015-10.csv', header=True)\n",
    "\n",
    "# Modification des types du schéma\n",
    "df_2015 = df_2015.withColumn(\"VendorID\", df_2015[\"VendorID\"].cast(IntegerType()))\n",
    "df_2015 = df_2015.withColumn(\"tpep_pickup_datetime\", df_2015[\"tpep_pickup_datetime\"].cast(TimestampType()))\n",
    "df_2015 = df_2015.withColumn(\"tpep_dropoff_datetime\", df_2015[\"tpep_dropoff_datetime\"].cast(TimestampType()))\n",
    "df_2015 = df_2015.withColumn(\"passenger_count\", df_2015[\"passenger_count\"].cast(IntegerType()))\n",
    "df_2015 = df_2015.withColumn(\"trip_distance\", df_2015[\"trip_distance\"].cast(DoubleType()))\n",
    "df_2015 = df_2015.withColumn(\"pickup_longitude\", df_2015[\"pickup_longitude\"].cast(DoubleType()))\n",
    "df_2015 = df_2015.withColumn(\"pickup_latitude\", df_2015[\"pickup_latitude\"].cast(DoubleType()))\n",
    "df_2015 = df_2015.withColumn(\"RatecodeID\", df_2015[\"RatecodeID\"].cast(IntegerType()))\n",
    "df_2015 = df_2015.withColumn(\"store_and_fwd_flag\", fn.when(df_2015[\"store_and_fwd_flag\"] == \"Y\", True).otherwise(fn.when(df_2015[\"store_and_fwd_flag\"] == \"N\", False).otherwise(None)))\n",
    "df_2015 = df_2015.withColumn(\"dropoff_longitude\", df_2015[\"dropoff_longitude\"].cast(DoubleType()))\n",
    "df_2015 = df_2015.withColumn(\"dropoff_latitude\", df_2015[\"dropoff_latitude\"].cast(DoubleType()))\n",
    "df_2015 = df_2015.withColumn(\"payment_type\", df_2015[\"payment_type\"].cast(IntegerType()))\n",
    "df_2015 = df_2015.withColumn(\"fare_amount\", df_2015[\"fare_amount\"].cast(DoubleType()))\n",
    "df_2015 = df_2015.withColumn(\"extra\", df_2015[\"extra\"].cast(DoubleType()))\n",
    "df_2015 = df_2015.withColumn(\"mta_tax\", df_2015[\"mta_tax\"].cast(DoubleType()))\n",
    "df_2015 = df_2015.withColumn(\"tip_amount\", df_2015[\"tip_amount\"].cast(DoubleType()))\n",
    "df_2015 = df_2015.withColumn(\"tolls_amount\", df_2015[\"tolls_amount\"].cast(DoubleType()))\n",
    "df_2015 = df_2015.withColumn(\"improvement_surcharge\", df_2015[\"improvement_surcharge\"].cast(DoubleType()))\n",
    "df_2015 = df_2015.withColumn(\"total_amount\", df_2015[\"total_amount\"].cast(DoubleType()))\n",
    "\n",
    "# Écriture du dataframe dans un fichier parquet\n",
    "df_2015.repartition(1)\\\n",
    "        .write\\\n",
    "        .mode('overwrite')\\\n",
    "        .format('parquet')\\\n",
    "        .option('path', \"yellow_tripdata_2015.parquet\")\\\n",
    "        .saveAsTable(\"yellow_tripdata_2015\")\n",
    "\n",
    "df_2015.printSchema()"
   ]
  },
  {
   "cell_type": "code",
   "execution_count": null,
   "metadata": {
    "ExecuteTime": {
     "end_time": "2022-03-09T16:49:27.592124Z",
     "start_time": "2022-03-09T16:49:04.980442Z"
    }
   },
   "outputs": [],
   "source": [
    "# Lecture du fichier pour le mois d'octobre 2018\n",
    "df_2018 = spark.read.csv('yellow_tripdata_2018-10.csv', header=True)\n",
    "\n",
    "# Modification des types du schéma\n",
    "df_2018 = df_2018.withColumn(\"VendorID\", df_2018[\"VendorID\"].cast(IntegerType()))\n",
    "df_2018 = df_2018.withColumn(\"tpep_pickup_datetime\", df_2018[\"tpep_pickup_datetime\"].cast(TimestampType()))\n",
    "df_2018 = df_2018.withColumn(\"tpep_dropoff_datetime\", df_2018[\"tpep_dropoff_datetime\"].cast(TimestampType()))\n",
    "df_2018 = df_2018.withColumn(\"passenger_count\", df_2018[\"passenger_count\"].cast(IntegerType()))\n",
    "df_2018 = df_2018.withColumn(\"trip_distance\", df_2018[\"trip_distance\"].cast(DoubleType()))\n",
    "df_2018 = df_2018.withColumn(\"RatecodeID\", df_2018[\"RatecodeID\"].cast(IntegerType()))\n",
    "df_2018 = df_2018.withColumn(\"store_and_fwd_flag\", fn.when(df_2018[\"store_and_fwd_flag\"] == \"Y\", True).otherwise(fn.when(df_2018[\"store_and_fwd_flag\"] == \"N\", False).otherwise(None)))\n",
    "df_2018 = df_2018.withColumn(\"PULocationID\", df_2018[\"PULocationID\"].cast(IntegerType()))\n",
    "df_2018 = df_2018.withColumn(\"DOLocationID\", df_2018[\"DOLocationID\"].cast(IntegerType()))\n",
    "df_2018 = df_2018.withColumn(\"payment_type\", df_2018[\"payment_type\"].cast(IntegerType()))\n",
    "df_2018 = df_2018.withColumn(\"fare_amount\", df_2018[\"fare_amount\"].cast(DoubleType()))\n",
    "df_2018 = df_2018.withColumn(\"extra\", df_2018[\"extra\"].cast(DoubleType()))\n",
    "df_2018 = df_2018.withColumn(\"mta_tax\", df_2018[\"mta_tax\"].cast(DoubleType()))\n",
    "df_2018 = df_2018.withColumn(\"tip_amount\", df_2018[\"tip_amount\"].cast(DoubleType()))\n",
    "df_2018 = df_2018.withColumn(\"tolls_amount\", df_2018[\"tolls_amount\"].cast(DoubleType()))\n",
    "df_2018 = df_2018.withColumn(\"improvement_surcharge\", df_2018[\"improvement_surcharge\"].cast(DoubleType()))\n",
    "df_2018 = df_2018.withColumn(\"total_amount\", df_2018[\"total_amount\"].cast(DoubleType()))\n",
    "\n",
    "# Écriture du dataframe dans un fichier parquet\n",
    "df_2018.repartition(1)\\\n",
    "        .write\\\n",
    "        .mode('overwrite')\\\n",
    "        .format('parquet')\\\n",
    "        .option('path', \"yellow_tripdata_2018.parquet\")\\\n",
    "        .saveAsTable(\"yellow_tripdata_2018\")\n",
    "\n",
    "df_2018.printSchema()"
   ]
  },
  {
   "cell_type": "code",
   "execution_count": 4,
   "metadata": {
    "ExecuteTime": {
     "end_time": "2022-03-09T17:06:20.014778Z",
     "start_time": "2022-03-09T17:06:17.896607Z"
    },
    "scrolled": true
   },
   "outputs": [
    {
     "name": "stdout",
     "output_type": "stream",
     "text": [
      "Schema 2015\n",
      "root\n",
      " |-- VendorID: integer (nullable = true)\n",
      " |-- tpep_pickup_datetime: timestamp (nullable = true)\n",
      " |-- tpep_dropoff_datetime: timestamp (nullable = true)\n",
      " |-- passenger_count: integer (nullable = true)\n",
      " |-- trip_distance: double (nullable = true)\n",
      " |-- pickup_longitude: double (nullable = true)\n",
      " |-- pickup_latitude: double (nullable = true)\n",
      " |-- RatecodeID: integer (nullable = true)\n",
      " |-- store_and_fwd_flag: boolean (nullable = true)\n",
      " |-- dropoff_longitude: double (nullable = true)\n",
      " |-- dropoff_latitude: double (nullable = true)\n",
      " |-- payment_type: integer (nullable = true)\n",
      " |-- fare_amount: double (nullable = true)\n",
      " |-- extra: double (nullable = true)\n",
      " |-- mta_tax: double (nullable = true)\n",
      " |-- tip_amount: double (nullable = true)\n",
      " |-- tolls_amount: double (nullable = true)\n",
      " |-- improvement_surcharge: double (nullable = true)\n",
      " |-- total_amount: double (nullable = true)\n",
      "\n",
      "Schema 2018\n",
      "root\n",
      " |-- VendorID: integer (nullable = true)\n",
      " |-- tpep_pickup_datetime: timestamp (nullable = true)\n",
      " |-- tpep_dropoff_datetime: timestamp (nullable = true)\n",
      " |-- passenger_count: integer (nullable = true)\n",
      " |-- trip_distance: double (nullable = true)\n",
      " |-- RatecodeID: integer (nullable = true)\n",
      " |-- store_and_fwd_flag: boolean (nullable = true)\n",
      " |-- PULocationID: integer (nullable = true)\n",
      " |-- DOLocationID: integer (nullable = true)\n",
      " |-- payment_type: integer (nullable = true)\n",
      " |-- fare_amount: double (nullable = true)\n",
      " |-- extra: double (nullable = true)\n",
      " |-- mta_tax: double (nullable = true)\n",
      " |-- tip_amount: double (nullable = true)\n",
      " |-- tolls_amount: double (nullable = true)\n",
      " |-- improvement_surcharge: double (nullable = true)\n",
      " |-- total_amount: double (nullable = true)\n",
      "\n"
     ]
    }
   ],
   "source": [
    "# Lecture à partir d'un fichier .parquet\n",
    "df_2015 = spark.read.parquet(\"yellow_tripdata_2015.parquet\")\n",
    "print('Schema 2015')\n",
    "df_2015.printSchema()\n",
    "\n",
    "df_2018 = spark.read.parquet(\"yellow_tripdata_2018.parquet\")\n",
    "print('Schema 2018')\n",
    "df_2018.printSchema()"
   ]
  },
  {
   "cell_type": "markdown",
   "metadata": {
    "nteract": {
     "transient": {
      "deleting": false
     }
    }
   },
   "source": [
    "# Investigate (at least) one month of data in 2015\n",
    "\n",
    "From now on, you will be using **the parquet files you created for 2015**.\n",
    "\n",
    "We shall visualize several features of taxi traffic during one calendar month\n",
    "in 2015 and the same calendar month in 2018.\n",
    "\n",
    "**Hint.** In order to build appealing graphics, you may stick to `matplotlib + seaborn`, you can use also\n",
    "`plotly`, which is used a lot to build interactive graphics, but you can use whatever you want."
   ]
  },
  {
   "cell_type": "markdown",
   "metadata": {},
   "source": [
    "The following longitudes and lattitudes encompass Newark and JFK airports, Northern Manhattan and Verazzano bridge."
   ]
  },
  {
   "cell_type": "code",
   "execution_count": 12,
   "metadata": {
    "ExecuteTime": {
     "end_time": "2022-03-09T17:28:24.809835Z",
     "start_time": "2022-03-09T17:28:24.807051Z"
    },
    "jupyter": {
     "outputs_hidden": false,
     "source_hidden": false
    },
    "nteract": {
     "transient": {
      "deleting": false
     }
    }
   },
   "outputs": [],
   "source": [
    "long_min = -74.10\n",
    "long_max = -73.70\n",
    "lat_min = 40.58\n",
    "lat_max = 40.90"
   ]
  },
  {
   "cell_type": "markdown",
   "metadata": {},
   "source": [
    "1. Using these boundaries, **filter the 2015 data** (using pickup and dropoff longitude and latitude) and count the number of trips for each value of `passenger_count` and make a plot of that."
   ]
  },
  {
   "cell_type": "code",
   "execution_count": 13,
   "metadata": {
    "ExecuteTime": {
     "end_time": "2022-03-09T17:28:38.994085Z",
     "start_time": "2022-03-09T17:28:27.432529Z"
    }
   },
   "outputs": [
    {
     "data": {
      "image/png": "[encoded data removed]",
      "text/plain": [
       "<Figure size 432x288 with 1 Axes>"
      ]
     },
     "metadata": {
      "needs_background": "light"
     },
     "output_type": "display_data"
    }
   ],
   "source": [
    "df = df_2015.where(df_2015.pickup_longitude > long_min).where(df_2015.pickup_longitude < long_max)\\\n",
    "            .where(df_2015.pickup_latitude > lat_min).where(df_2015.pickup_latitude < lat_max)\\\n",
    "            .select('passenger_count')\n",
    "\n",
    "fig, ax = plt.subplots()\n",
    "hist(ax, df)\n",
    "fig.show()"
   ]
  },
  {
   "cell_type": "markdown",
   "metadata": {
    "nteract": {
     "transient": {
      "deleting": false
     }
    }
   },
   "source": [
    "Trips with $0$ or larger than $7$ passengers are pretty rare.\n",
    "We suspect these to be outliers. \n",
    "We need to explore these trips further in order order to understand what might be wrong\n",
    "with them\n",
    "\n",
    "1. What's special with trips with zero passengers?\n",
    "1. What's special with trips with more than $6$ passengers?\n",
    "1. What is the largest distance travelled during this month? Is it the first taxi on the moon?\n",
    "1. Plot the distribution of the `trip_distance` (using an histogram for instance) during year 2015. Focus on trips with non-zero trip distance and trip distance less than 30 miles."
   ]
  },
  {
   "cell_type": "code",
   "execution_count": 14,
   "metadata": {
    "ExecuteTime": {
     "end_time": "2022-03-09T17:28:40.021355Z",
     "start_time": "2022-03-09T17:28:38.995648Z"
    }
   },
   "outputs": [
    {
     "name": "stdout",
     "output_type": "stream",
     "text": [
      "+-------+-----------------+------------------+\n",
      "|summary|    trip_distance|      total_amount|\n",
      "+-------+-----------------+------------------+\n",
      "|  count|              502|               502|\n",
      "|   mean|2.326314741035857|25.083725099601647|\n",
      "| stddev| 5.61022663346003| 33.72579064690123|\n",
      "|    min|              0.0|            -58.84|\n",
      "|    max|             51.3|             200.3|\n",
      "+-------+-----------------+------------------+\n",
      "\n"
     ]
    }
   ],
   "source": [
    "# 1.\n",
    "df = df_2015.where(df_2015.passenger_count == 0)\\\n",
    "            .where(df_2015.pickup_longitude > long_min).where(df_2015.pickup_longitude < long_max)\\\n",
    "            .where(df_2015.pickup_latitude > lat_min).where(df_2015.pickup_latitude < lat_max)\n",
    "\n",
    "df.select('trip_distance', 'total_amount').describe().show()"
   ]
  },
  {
   "cell_type": "code",
   "execution_count": 15,
   "metadata": {
    "ExecuteTime": {
     "end_time": "2022-03-09T17:28:40.970612Z",
     "start_time": "2022-03-09T17:28:40.023558Z"
    }
   },
   "outputs": [
    {
     "name": "stdout",
     "output_type": "stream",
     "text": [
      "+-------+-----------------+------------------+\n",
      "|summary|    trip_distance|      total_amount|\n",
      "+-------+-----------------+------------------+\n",
      "|  count|               41|                41|\n",
      "|   mean|6.041707317073171| 54.25560975609754|\n",
      "| stddev|8.189561619048671|44.020384258249074|\n",
      "|    min|              0.0|             -70.8|\n",
      "|    max|             25.0|            124.18|\n",
      "+-------+-----------------+------------------+\n",
      "\n"
     ]
    }
   ],
   "source": [
    "# 2.\n",
    "df = df_2015.where(df_2015.passenger_count > 6)\\\n",
    "            .where(df_2015.pickup_longitude > long_min).where(df_2015.pickup_longitude < long_max)\\\n",
    "            .where(df_2015.pickup_latitude > lat_min).where(df_2015.pickup_latitude < lat_max)\n",
    "\n",
    "df.select('trip_distance', 'total_amount').describe().show()"
   ]
  },
  {
   "cell_type": "code",
   "execution_count": 20,
   "metadata": {
    "ExecuteTime": {
     "end_time": "2022-03-09T17:40:52.134646Z",
     "start_time": "2022-03-09T17:40:50.009819Z"
    }
   },
   "outputs": [
    {
     "name": "stdout",
     "output_type": "stream",
     "text": [
      "+-------+------------------+\n",
      "|summary|     trip_distance|\n",
      "+-------+------------------+\n",
      "|  count|          12315488|\n",
      "|   mean| 4.364796638996444|\n",
      "| stddev|1839.7544317064385|\n",
      "|    min|               0.0|\n",
      "|    max|         3008331.8|\n",
      "+-------+------------------+\n",
      "\n",
      "+----------------+---------------+-----------------+----------------+---------------+-------------+------------+\n",
      "|pickup_longitude|pickup_latitude|dropoff_longitude|dropoff_latitude|passenger_count|trip_distance|total_amount|\n",
      "+----------------+---------------+-----------------+----------------+---------------+-------------+------------+\n",
      "|             0.0|            0.0|              0.0|             0.0|              1|    3008331.8|       58.34|\n",
      "|             0.0|            0.0|              0.0|             0.0|              1|    3008331.8|        9.36|\n",
      "+----------------+---------------+-----------------+----------------+---------------+-------------+------------+\n",
      "\n"
     ]
    }
   ],
   "source": [
    "# 3.\n",
    "df_2015.select('trip_distance').describe().show()\n",
    "\n",
    "df_2015.where(df_2015.trip_distance > 3008331).select('pickup_longitude', 'pickup_latitude', 'dropoff_longitude', 'dropoff_latitude', 'passenger_count', 'trip_distance', 'total_amount').show()"
   ]
  },
  {
   "cell_type": "code",
   "execution_count": 17,
   "metadata": {
    "ExecuteTime": {
     "end_time": "2022-03-09T17:28:53.148463Z",
     "start_time": "2022-03-09T17:28:41.577155Z"
    }
   },
   "outputs": [
    {
     "data": {
      "image/png": "[encoded data removed]",
      "text/plain": [
       "<Figure size 432x288 with 1 Axes>"
      ]
     },
     "metadata": {
      "needs_background": "light"
     },
     "output_type": "display_data"
    }
   ],
   "source": [
    "# 4.\n",
    "df = df_2015.select(df_2015.trip_distance)\\\n",
    "            .where(df_2015.trip_distance != 0).where(df_2015.trip_distance < 30)\n",
    "\n",
    "fig, ax = plt.subplots()\n",
    "hist(ax, df, bins=100)\n",
    "fig.show()"
   ]
  },
  {
   "cell_type": "markdown",
   "metadata": {},
   "source": [
    "Let's look at what Spark does for these computations\n",
    "\n",
    "1. Use the `explain` method or have a look at the [Spark UI](http://localhost:4040/SQL/) to analyze the job. You should be able to assess \n",
    "    - Parsed Logical Plan\n",
    "    - Analyzed Logical Plan\n",
    "    - Optimized Logical Plan\n",
    "    - Physical Plan\n",
    "1. Do the Analyzed Logical Plan and Optimized Logical Plan differ? Spot the differences if any. How would a RDBMS proceed with such a query?\n",
    "1. How does the physical plan differ from the Optimized Logical Plan? What are the keywords you would not expects in a RDBMS? What is their meaning? \n",
    "1. Inspect the stages on [Spark UI](http://localhost:4040/stages/stage). How many *stages* are necessary to complete the Spark job? What are the roles of `HashAggregate` and `Exchange hashpartitioning`?\n",
    "1. Does the physical plan perform `shuffle` operations? If yes how many?\n",
    "1. What are tasks with respect to stages (in Spark language)? How many tasks are your stages made of?"
   ]
  },
  {
   "cell_type": "code",
   "execution_count": null,
   "metadata": {},
   "outputs": [],
   "source": [
    "# TODO..."
   ]
  },
  {
   "cell_type": "markdown",
   "metadata": {
    "nteract": {
     "transient": {
      "deleting": false
     }
    }
   },
   "source": [
    "Now, compute the following and produce relevant plots:\n",
    "\n",
    "1. Break down the trip distance distribution for each day of week\n",
    "1. Count the number of distinct pickup location\n",
    "1. Compute and display tips and profits as a function of the pickup location"
   ]
  },
  {
   "cell_type": "code",
   "execution_count": 8,
   "metadata": {
    "ExecuteTime": {
     "end_time": "2022-03-09T17:14:35.501965Z",
     "start_time": "2022-03-09T17:14:35.424473Z"
    },
    "scrolled": true
   },
   "outputs": [],
   "source": [
    "# 1.\n",
    "df = df_2015.where(df_2015.trip_distance != 0).where(df_2015.trip_distance < 30).select('tpep_pickup_datetime', 'trip_distance')\n",
    "df = df.withColumn('day', fn.when(fn.dayofweek(df.tpep_pickup_datetime) == 1, \"Monday\")\\\n",
    "                          .when(fn.dayofweek(df.tpep_pickup_datetime) == 2, \"Tuesday\")\\\n",
    "                          .when(fn.dayofweek(df.tpep_pickup_datetime) == 3, \"Wenesday\")\\\n",
    "                          .when(fn.dayofweek(df.tpep_pickup_datetime) == 4, \"Thursday\")\\\n",
    "                          .when(fn.dayofweek(df.tpep_pickup_datetime) == 5, \"Friday\")\\\n",
    "                          .when(fn.dayofweek(df.tpep_pickup_datetime) == 6, \"Saturday\")\\\n",
    "                          .when(fn.dayofweek(df.tpep_pickup_datetime) == 7, \"Sunday\")\\\n",
    "                          .otherwise(None))\\\n",
    "                    .drop('tpep_pickup_datetime').\n",
    "\n",
    "fig = px.histogram(df.toPandas(), x=\"trip_distance\", color=\"day\", nbins=100)\n",
    "fig.show()"
   ]
  },
  {
   "cell_type": "code",
   "execution_count": 10,
   "metadata": {
    "ExecuteTime": {
     "end_time": "2022-03-09T17:28:17.176574Z",
     "start_time": "2022-03-09T17:28:06.348758Z"
    }
   },
   "outputs": [
    {
     "name": "stdout",
     "output_type": "stream",
     "text": [
      "There is 9166571 distinct pickup locations.\n"
     ]
    }
   ],
   "source": [
    "# 2.\n",
    "df = df_2015.groupBy('pickup_longitude', 'pickup_latitude').count().count()\n",
    "print(f'There is {df} distinct pickup locations.')"
   ]
  },
  {
   "cell_type": "code",
   "execution_count": 18,
   "metadata": {
    "ExecuteTime": {
     "end_time": "2022-03-09T17:28:53.176960Z",
     "start_time": "2022-03-09T17:28:53.150296Z"
    }
   },
   "outputs": [],
   "source": [
    "# 3.\n",
    "df = df_2015.where(df_2015.pickup_longitude > long_min).where(df_2015.pickup_longitude < long_max)\\\n",
    "            .where(df_2015.pickup_latitude > lat_min).where(df_2015.pickup_latitude < lat_max)\\\n",
    "            .select('pickup_longitude', 'pickup_latitude', 'tip_amount', 'total_amount')"
   ]
  },
  {
   "cell_type": "markdown",
   "metadata": {
    "nteract": {
     "transient": {
      "deleting": false
     }
    }
   },
   "source": [
    "# Investigate one month of trips data in 2015 and 2018\n",
    "\n",
    " Consider one month of trips data from `yellow` taxis for each year\n",
    "\n",
    "1. Filter and cache/persist the result\n",
    "\n",
    "## Assessing seasonalities and looking at time series\n",
    "\n",
    "Compute and plot the following time series indexed by day of the week and hour of day:\n",
    "\n",
    "1. The number of pickups\n",
    "1. The average fare\n",
    "1. The average trip duration\n",
    "1. Plot the average of ongoing trips\n",
    "\n",
    "## Rides to the airports\n",
    "\n",
    "In order to find the longitude and lattitude of JFK and Newark airport as well as the longitude and magnitudes \n",
    "of Manhattan, you can use a service like [geojson.io](http://geojson.io/).\n",
    "Plot the following time series, indexed the day of the week and hour of the day\n",
    "\n",
    "1. Median duration of taxi trip leaving Midtown (Southern Manhattan) headed for JFK Airport\n",
    "1. Median taxi duration of trip leaving from JFK Airport to Midtown (Southern Manhattan)\n",
    "\n",
    "## Geographic information\n",
    "\n",
    "For this, you will need to find tools to display maps and to build choropeth maps.\n",
    "We let you look and find relevant tools to do this.\n",
    "\n",
    "1. Build a heatmap where color is a function of\n",
    "    1. number of `pickups`\n",
    "    2. number of `dropoffs`\n",
    "    3. number of `pickups` with dropoff at some airport (JFK, LaGuardia, Newark)\n",
    "2. Build a choropeth map where color is a function of\n",
    "    1. number of pickups in the area\n",
    "    1. ratio of number of payments by card/number of cash payments for pickups in the area\n",
    "    2. ratio of total fare/trip duration for dropoff in the area\n",
    "3. Build an interactive chorophet with a slider allowing the user to select an `hour of day` and where the color is a function of\n",
    "    1. average number of dropoffs in the area during that hour the day\n",
    "    2. average ratio of tip over total fare amount for pickups in the area at given hour of the day"
   ]
  },
  {
   "cell_type": "code",
   "execution_count": 23,
   "metadata": {
    "ExecuteTime": {
     "end_time": "2022-03-09T17:52:33.253960Z",
     "start_time": "2022-03-09T17:52:33.227362Z"
    }
   },
   "outputs": [
    {
     "data": {
      "text/plain": [
       "DataFrame[VendorID: int, tpep_pickup_datetime: timestamp, tpep_dropoff_datetime: timestamp, passenger_count: int, trip_distance: double, pickup_longitude: double, pickup_latitude: double, RatecodeID: int, store_and_fwd_flag: boolean, dropoff_longitude: double, dropoff_latitude: double, payment_type: int, fare_amount: double, extra: double, mta_tax: double, tip_amount: double, tolls_amount: double, improvement_surcharge: double, total_amount: double]"
      ]
     },
     "execution_count": 23,
     "metadata": {},
     "output_type": "execute_result"
    }
   ],
   "source": [
    "df_2015_ny = df_2015.where(df_2015.pickup_longitude > long_min).where(df_2015.pickup_longitude < long_max)\\\n",
    "            .where(df_2015.pickup_latitude > lat_min).where(df_2015.pickup_latitude < lat_max)\n",
    "df_2015_ny.persist()"
   ]
  },
  {
   "cell_type": "code",
   "execution_count": 42,
   "metadata": {
    "ExecuteTime": {
     "end_time": "2022-03-09T18:22:15.409014Z",
     "start_time": "2022-03-09T18:22:11.617672Z"
    }
   },
   "outputs": [
    {
     "data": {
      "text/plain": [
       "<AxesSubplot:xlabel='day,hour'>"
      ]
     },
     "execution_count": 42,
     "metadata": {},
     "output_type": "execute_result"
    },
    {
     "data": {
      "image/png": "[encoded data removed]",
      "text/plain": [
       "<Figure size 432x288 with 1 Axes>"
      ]
     },
     "metadata": {
      "needs_background": "light"
     },
     "output_type": "display_data"
    }
   ],
   "source": [
    "df = df_2015_ny.select('tpep_pickup_datetime')\\\n",
    "               .withColumn('hour', fn.hour(df_2015_ny.tpep_pickup_datetime))\\\n",
    "               .withColumn('day', fn.dayofweek(df_2015_ny.tpep_pickup_datetime))\\\n",
    "               .groupBy('day', 'hour').count().orderBy('day', 'hour')\n",
    "\n",
    "df_p = df.toPandas().set_index(['day', 'hour'])\n",
    "df_p.plot.bar()"
   ]
  },
  {
   "cell_type": "code",
   "execution_count": null,
   "metadata": {},
   "outputs": [],
   "source": []
  }
 ],
 "metadata": {
  "kernelspec": {
   "display_name": "Python 3",
   "language": "python",
   "name": "python3"
  },
  "language_info": {
   "codemirror_mode": {
    "name": "ipython",
    "version": 3
   },
   "file_extension": ".py",
   "mimetype": "text/x-python",
   "name": "python",
   "nbconvert_exporter": "python",
   "pygments_lexer": "ipython3",
   "version": "3.8.5"
  },
  "toc": {
   "base_numbering": 1,
   "nav_menu": {},
   "number_sections": true,
   "sideBar": true,
   "skip_h1_title": false,
   "title_cell": "Table of Contents",
   "title_sidebar": "Contents",
   "toc_cell": false,
   "toc_position": {
    "height": "calc(100% - 180px)",
    "left": "10px",
    "top": "150px",
    "width": "216.92935180664062px"
   },
   "toc_section_display": true,
   "toc_window_display": true
  }
 },
 "nbformat": 4,
 "nbformat_minor": 1
}
