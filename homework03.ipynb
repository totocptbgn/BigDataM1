{
 "cells": [
  {
   "cell_type": "code",
   "execution_count": null,
   "metadata": {},
   "outputs": [],
   "source": [
    "# DISCLAIMER\n",
    "\n",
    "# Les outputs plotly ne sont pas dans le notebook car ils sont très volumineux, rendant le fichier\n",
    "# plus grand que la limite de taille imposée par GitHub."
   ]
  },
  {
   "cell_type": "markdown",
   "metadata": {
    "nteract": {
     "transient": {
      "deleting": false
     }
    }
   },
   "source": [
    "# New York taxis trips\n",
    "\n",
    "This homework is about New York taxi trips. Here is something from [Todd Schneider](https://toddwschneider.com/posts/analyzing-1-1-billion-nyc-taxi-and-uber-trips-with-a-vengeance/):\n",
    "\n",
    "> The New York City Taxi & Limousine Commission has released a  detailed historical dataset covering over 1 billion individual taxi trips in the city from January 2009 through December 2019. \n",
    "Taken as a whole, the detailed trip-level data is more than just a vast list of taxi pickup and drop off coordinates: it's a story of a City. \n",
    "How bad is the rush hour traffic from Midtown to JFK? \n",
    "Where does the Bridge and Tunnel crowd hang out on Saturday nights?\n",
    "What time do investment bankers get to work? How has Uber changed the landscape for taxis?\n",
    "The dataset addresses all of these questions and many more.\n",
    "\n",
    "The NY taxi trips dataset has been plowed by series of distinguished data scientists.\n",
    "The dataset is available from on Amazon S3 (Amazon's cloud storage service).\n",
    "The link for each file has the following form:\n",
    "\n",
    "    https://s3.amazonaws.com/nyc-tlc/trip+data/yellow_tripdata_{year}-{month}.csv\n",
    "\n",
    "There is one CSV file for each NY taxi service (`yellow`, `green`, `fhv`) and each calendar month (replacing `{year}` and `{month}` by the desired ones).\n",
    "Each file is moderately large, a few gigabytes. \n",
    "The full dataset is relatively large if it has to be handled on a laptop (several hundred gigabytes).\n",
    "\n",
    "You will focus on the `yellow` taxi service and a pair of months, from year 2015 and from year 2018. \n",
    "Between those two years, for hire vehicles services have taken off and carved a huge marketshare.\n",
    "\n",
    "Whatever the framework you use, `CSV` files prove hard to handle. \n",
    "After downloading the appropriate files (this takes time, but this is routine), a first step will consist in converting the csv files into a more Spark friendly format such as `parquet`.\n",
    "\n",
    "Saving into one of those formats require decisions about bucketing, partitioning and so on. Such decisions influence performance. It is your call.\n",
    "Many people have been working on this dataset, to cite but a few:\n",
    "\n",
    "\n",
    "- [1 billion trips with a vengeance](https://toddwschneider.com/posts/analyzing-1-1-billion-nyc-taxi-and-uber-trips-with-a-vengeance/)\n",
    "- [1 billion trips with R and SQL ](http://freerangestats.info/blog/2019/12/22/nyc-taxis-sql)\n",
    "- [1 billion trips with redshift](https://tech.marksblogg.com/billion-nyc-taxi-rides-redshift.html)\n",
    "- [nyc-taxi](https://github.com/fmaletski/nyc-taxi-map)"
   ]
  },
  {
   "cell_type": "markdown",
   "metadata": {},
   "source": [
    "Depending on your internet connection, **download the files** corresponding to **\"yellow\" taxis** for the years 2015 and 2018. Download **at least one month** (the same) for 2015 and 2018, if you can download all of them.\n",
    "\n",
    "**Hint.** The 12 csv for 2015 are about 23GB in total, but the corresponding parquet file, if you can create it for all 12 months, is only about 3GB."
   ]
  },
  {
   "cell_type": "markdown",
   "metadata": {},
   "source": [
    "You **might** need the following stuff in order to work with GPS coordinates and to plot things easily."
   ]
  },
  {
   "cell_type": "code",
   "execution_count": null,
   "metadata": {
    "ExecuteTime": {
     "end_time": "2022-03-09T16:39:14.118187Z",
     "start_time": "2022-03-09T16:39:10.766227Z"
    },
    "scrolled": false
   },
   "outputs": [],
   "source": [
    "!pip install geojson geopandas plotly geopy"
   ]
  },
  {
   "cell_type": "markdown",
   "metadata": {},
   "source": [
    "For this homework **we will let you decide on the tools to use** (expected for Spark) and to **find out information all by yourself** (but don't hesitate to ask questions on the `slack` channel)."
   ]
  },
  {
   "cell_type": "markdown",
   "metadata": {
    "nteract": {
     "transient": {
      "deleting": false
     }
    }
   },
   "source": [
    "## Loading data as parquet files\n",
    "\n",
    "We want to organize the data on a per year and per service basis. \n",
    "We want to end up with one `parquet` file for each year and each taxi service, since parquet is much better than CSV files.\n",
    "\n",
    "**Hint.** Depending on your internet connection and your laptop, you can use only the \"yellow\" service and use one month of 2015 and 2018\n",
    "\n",
    "CSV files can contain corrupted lines. You may have to work in order to perform ETL (Extract-Transform-Load) in order obtain a properly typed data frame.\n",
    "\n",
    "You are invited to proceed as follows:\n",
    "\n",
    "1. Try to read the CSV file without imposing a schema. \n",
    "1. Inspect the inferred schema. Do you agree with Spark's typing decision?\n",
    "1. Eventually correct the schema and read again the data\n",
    "1. Save the data into parquet files\n",
    "1. In the rest of your work, **you will only use the parquet files you created**, not the csv files (don't forget to choose a partitioning column and a number of partitions when creating the parquet files).\n",
    "\n",
    "**Hint.** Don't forget to ask `Spark` to use all the memory and ressources from your computer.\n",
    "\n",
    "**Hint.** Don't foreget that you should specify a partitioning column and a number of partitions when creating the parquet files.\n",
    "\n",
    "**Hint.** Note that the schemas of the 2015 and 2018 data are different...\n",
    "\n",
    "**Hint.** When working on this, ask you and answer to the following questions:\n",
    "\n",
    "1. What is the `StorageLevel` of the dataframe after reading the csv files?\n",
    "1. What is the number of partitions of the dataframe? \n",
    "1. Is it possible to tune this number at loading time? \n",
    "1. Why would we want to modify the number of partitions when creating the parquet files?"
   ]
  },
  {
   "cell_type": "code",
   "execution_count": null,
   "metadata": {
    "ExecuteTime": {
     "end_time": "2022-03-13T17:17:31.007171Z",
     "start_time": "2022-03-13T17:17:30.473164Z"
    },
    "scrolled": true
   },
   "outputs": [],
   "source": [
    "from pyspark import SparkConf, SparkContext\n",
    "from pyspark.sql import SparkSession\n",
    "from pyspark.sql import Window\n",
    "from pyspark.sql.functions import col\n",
    "import pyspark.sql.functions as fn\n",
    "from pyspark.sql.catalog import Catalog\n",
    "from pyspark.sql.types import StructType, StructField\n",
    "from pyspark.sql.types import IntegerType, StringType, DoubleType, TimestampType, LongType\n",
    "\n",
    "import plotly.express as px\n",
    "import matplotlib.pyplot as plt\n",
    "import json"
   ]
  },
  {
   "cell_type": "code",
   "execution_count": null,
   "metadata": {
    "ExecuteTime": {
     "end_time": "2022-03-13T17:17:37.941957Z",
     "start_time": "2022-03-13T17:17:32.216220Z"
    }
   },
   "outputs": [],
   "source": [
    "conf = SparkConf().setAppName(\"Spark SQL\")\n",
    "sc = SparkContext(conf=conf)\n",
    "\n",
    "spark = (SparkSession\n",
    "    .builder\n",
    "    .appName(\"Spark SQL\")\n",
    "    .getOrCreate()\n",
    ")"
   ]
  },
  {
   "cell_type": "code",
   "execution_count": null,
   "metadata": {
    "ExecuteTime": {
     "end_time": "2022-03-12T18:13:02.518103Z",
     "start_time": "2022-03-12T18:12:13.058791Z"
    }
   },
   "outputs": [],
   "source": [
    "# Lecture du fichier pour le mois d'octobre 2015\n",
    "df_2015 = spark.read.csv('yellow_tripdata_2015-10.csv', header=True)\n",
    "\n",
    "# Modification des types du schéma\n",
    "df_2015 = df_2015.withColumn(\"VendorID\", df_2015[\"VendorID\"].cast(IntegerType()))\n",
    "df_2015 = df_2015.withColumn(\"tpep_pickup_datetime\", df_2015[\"tpep_pickup_datetime\"].cast(TimestampType()))\n",
    "df_2015 = df_2015.withColumn(\"tpep_dropoff_datetime\", df_2015[\"tpep_dropoff_datetime\"].cast(TimestampType()))\n",
    "df_2015 = df_2015.withColumn(\"passenger_count\", df_2015[\"passenger_count\"].cast(IntegerType()))\n",
    "df_2015 = df_2015.withColumn(\"trip_distance\", df_2015[\"trip_distance\"].cast(DoubleType()))\n",
    "df_2015 = df_2015.withColumn(\"pickup_longitude\", df_2015[\"pickup_longitude\"].cast(DoubleType()))\n",
    "df_2015 = df_2015.withColumn(\"pickup_latitude\", df_2015[\"pickup_latitude\"].cast(DoubleType()))\n",
    "df_2015 = df_2015.withColumn(\"RatecodeID\", df_2015[\"RatecodeID\"].cast(IntegerType()))\n",
    "df_2015 = df_2015.withColumn(\"store_and_fwd_flag\", fn.when(df_2015[\"store_and_fwd_flag\"] == \"Y\", True).otherwise(fn.when(df_2015[\"store_and_fwd_flag\"] == \"N\", False).otherwise(None)))\n",
    "df_2015 = df_2015.withColumn(\"dropoff_longitude\", df_2015[\"dropoff_longitude\"].cast(DoubleType()))\n",
    "df_2015 = df_2015.withColumn(\"dropoff_latitude\", df_2015[\"dropoff_latitude\"].cast(DoubleType()))\n",
    "df_2015 = df_2015.withColumn(\"payment_type\", df_2015[\"payment_type\"].cast(IntegerType()))\n",
    "df_2015 = df_2015.withColumn(\"fare_amount\", df_2015[\"fare_amount\"].cast(DoubleType()))\n",
    "df_2015 = df_2015.withColumn(\"extra\", df_2015[\"extra\"].cast(DoubleType()))\n",
    "df_2015 = df_2015.withColumn(\"mta_tax\", df_2015[\"mta_tax\"].cast(DoubleType()))\n",
    "df_2015 = df_2015.withColumn(\"tip_amount\", df_2015[\"tip_amount\"].cast(DoubleType()))\n",
    "df_2015 = df_2015.withColumn(\"tolls_amount\", df_2015[\"tolls_amount\"].cast(DoubleType()))\n",
    "df_2015 = df_2015.withColumn(\"improvement_surcharge\", df_2015[\"improvement_surcharge\"].cast(DoubleType()))\n",
    "df_2015 = df_2015.withColumn(\"total_amount\", df_2015[\"total_amount\"].cast(DoubleType()))\n",
    "\n",
    "# Écriture du dataframe dans un fichier parquet\n",
    "df_2015.repartition(1)\\\n",
    "        .write\\\n",
    "        .mode('overwrite')\\\n",
    "        .format('parquet')\\\n",
    "        .option('path', \"yellow_tripdata_2015.parquet\")\\\n",
    "        .saveAsTable(\"yellow_tripdata_2015\")\n",
    "\n",
    "df_2015.printSchema()"
   ]
  },
  {
   "cell_type": "code",
   "execution_count": null,
   "metadata": {
    "ExecuteTime": {
     "end_time": "2022-03-12T18:13:26.823533Z",
     "start_time": "2022-03-12T18:13:02.519975Z"
    }
   },
   "outputs": [],
   "source": [
    "# Lecture du fichier pour le mois d'octobre 2018\n",
    "df_2018 = spark.read.csv('yellow_tripdata_2018-10.csv', header=True)\n",
    "\n",
    "# Modification des types du schéma\n",
    "df_2018 = df_2018.withColumn(\"VendorID\", df_2018[\"VendorID\"].cast(IntegerType()))\n",
    "df_2018 = df_2018.withColumn(\"tpep_pickup_datetime\", df_2018[\"tpep_pickup_datetime\"].cast(TimestampType()))\n",
    "df_2018 = df_2018.withColumn(\"tpep_dropoff_datetime\", df_2018[\"tpep_dropoff_datetime\"].cast(TimestampType()))\n",
    "df_2018 = df_2018.withColumn(\"passenger_count\", df_2018[\"passenger_count\"].cast(IntegerType()))\n",
    "df_2018 = df_2018.withColumn(\"trip_distance\", df_2018[\"trip_distance\"].cast(DoubleType()))\n",
    "df_2018 = df_2018.withColumn(\"RatecodeID\", df_2018[\"RatecodeID\"].cast(IntegerType()))\n",
    "df_2018 = df_2018.withColumn(\"store_and_fwd_flag\", fn.when(df_2018[\"store_and_fwd_flag\"] == \"Y\", True).otherwise(fn.when(df_2018[\"store_and_fwd_flag\"] == \"N\", False).otherwise(None)))\n",
    "df_2018 = df_2018.withColumn(\"PULocationID\", df_2018[\"PULocationID\"].cast(IntegerType()))\n",
    "df_2018 = df_2018.withColumn(\"DOLocationID\", df_2018[\"DOLocationID\"].cast(IntegerType()))\n",
    "df_2018 = df_2018.withColumn(\"payment_type\", df_2018[\"payment_type\"].cast(IntegerType()))\n",
    "df_2018 = df_2018.withColumn(\"fare_amount\", df_2018[\"fare_amount\"].cast(DoubleType()))\n",
    "df_2018 = df_2018.withColumn(\"extra\", df_2018[\"extra\"].cast(DoubleType()))\n",
    "df_2018 = df_2018.withColumn(\"mta_tax\", df_2018[\"mta_tax\"].cast(DoubleType()))\n",
    "df_2018 = df_2018.withColumn(\"tip_amount\", df_2018[\"tip_amount\"].cast(DoubleType()))\n",
    "df_2018 = df_2018.withColumn(\"tolls_amount\", df_2018[\"tolls_amount\"].cast(DoubleType()))\n",
    "df_2018 = df_2018.withColumn(\"improvement_surcharge\", df_2018[\"improvement_surcharge\"].cast(DoubleType()))\n",
    "df_2018 = df_2018.withColumn(\"total_amount\", df_2018[\"total_amount\"].cast(DoubleType()))\n",
    "\n",
    "# Écriture du dataframe dans un fichier parquet\n",
    "df_2018.repartition(1)\\\n",
    "        .write\\\n",
    "        .mode('overwrite')\\\n",
    "        .format('parquet')\\\n",
    "        .option('path', \"yellow_tripdata_2018.parquet\")\\\n",
    "        .saveAsTable(\"yellow_tripdata_2018\")\n",
    "\n",
    "df_2018.printSchema()"
   ]
  },
  {
   "cell_type": "code",
   "execution_count": null,
   "metadata": {
    "ExecuteTime": {
     "end_time": "2022-03-13T17:17:41.164891Z",
     "start_time": "2022-03-13T17:17:37.943621Z"
    },
    "scrolled": false
   },
   "outputs": [],
   "source": [
    "# Lecture à partir d'un fichier .parquet\n",
    "df_2015 = spark.read.parquet(\"yellow_tripdata_2015.parquet\")\n",
    "print('Schema 2015')\n",
    "\n",
    "df_2018 = spark.read.parquet(\"yellow_tripdata_2018.parquet\")\n",
    "print('Schema 2018')"
   ]
  },
  {
   "cell_type": "markdown",
   "metadata": {
    "nteract": {
     "transient": {
      "deleting": false
     }
    }
   },
   "source": [
    "# Investigate (at least) one month of data in 2015\n",
    "\n",
    "From now on, you will be using **the parquet files you created for 2015**.\n",
    "\n",
    "We shall visualize several features of taxi traffic during one calendar month\n",
    "in 2015 and the same calendar month in 2018.\n",
    "\n",
    "**Hint.** In order to build appealing graphics, you may stick to `matplotlib + seaborn`, you can use also\n",
    "`plotly`, which is used a lot to build interactive graphics, but you can use whatever you want."
   ]
  },
  {
   "cell_type": "markdown",
   "metadata": {},
   "source": [
    "The following longitudes and lattitudes encompass Newark and JFK airports, Northern Manhattan and Verazzano bridge."
   ]
  },
  {
   "cell_type": "code",
   "execution_count": null,
   "metadata": {
    "ExecuteTime": {
     "end_time": "2022-03-12T18:13:27.062437Z",
     "start_time": "2022-03-12T18:13:27.059120Z"
    },
    "jupyter": {
     "outputs_hidden": false,
     "source_hidden": false
    },
    "nteract": {
     "transient": {
      "deleting": false
     }
    }
   },
   "outputs": [],
   "source": [
    "long_min = -74.10\n",
    "long_max = -73.70\n",
    "lat_min = 40.58\n",
    "lat_max = 40.90"
   ]
  },
  {
   "cell_type": "markdown",
   "metadata": {},
   "source": [
    "1. Using these boundaries, **filter the 2015 data** (using pickup and dropoff longitude and latitude) and count the number of trips for each value of `passenger_count` and make a plot of that."
   ]
  },
  {
   "cell_type": "code",
   "execution_count": null,
   "metadata": {
    "ExecuteTime": {
     "end_time": "2022-03-11T19:20:59.321063Z",
     "start_time": "2022-03-11T19:20:51.747636Z"
    }
   },
   "outputs": [],
   "source": [
    "df = df_2015.where(df_2015.pickup_longitude > long_min).where(df_2015.pickup_longitude < long_max)\\\n",
    "            .where(df_2015.pickup_latitude > lat_min).where(df_2015.pickup_latitude < lat_max)\\\n",
    "            .select('passenger_count')\n",
    "\n",
    "fig = px.histogram(df.sample(0.1).toPandas(), nbins=10)\n",
    "fig.show()"
   ]
  },
  {
   "cell_type": "markdown",
   "metadata": {
    "nteract": {
     "transient": {
      "deleting": false
     }
    }
   },
   "source": [
    "Trips with $0$ or larger than $7$ passengers are pretty rare.\n",
    "We suspect these to be outliers. \n",
    "We need to explore these trips further in order order to understand what might be wrong\n",
    "with them\n",
    "\n",
    "1. What's special with trips with zero passengers?\n",
    "1. What's special with trips with more than $6$ passengers?\n",
    "1. What is the largest distance travelled during this month? Is it the first taxi on the moon?\n",
    "1. Plot the distribution of the `trip_distance` (using an histogram for instance) during year 2015. Focus on trips with non-zero trip distance and trip distance less than 30 miles."
   ]
  },
  {
   "cell_type": "code",
   "execution_count": null,
   "metadata": {
    "ExecuteTime": {
     "end_time": "2022-03-12T18:13:28.541048Z",
     "start_time": "2022-03-12T18:13:27.064102Z"
    }
   },
   "outputs": [],
   "source": [
    "# 1.\n",
    "df1 = df_2015.where(df_2015.passenger_count == 0)\\\n",
    "            .where(df_2015.pickup_longitude > long_min).where(df_2015.pickup_longitude < long_max)\\\n",
    "            .where(df_2015.pickup_latitude > lat_min).where(df_2015.pickup_latitude < lat_max)\n",
    "\n",
    "df1.select('trip_distance', 'total_amount').describe().show()"
   ]
  },
  {
   "cell_type": "code",
   "execution_count": null,
   "metadata": {
    "ExecuteTime": {
     "end_time": "2022-03-12T18:13:29.366211Z",
     "start_time": "2022-03-12T18:13:28.543085Z"
    }
   },
   "outputs": [],
   "source": [
    "# 2.\n",
    "df2 = df_2015.where(df_2015.passenger_count > 6)\\\n",
    "            .where(df_2015.pickup_longitude > long_min).where(df_2015.pickup_longitude < long_max)\\\n",
    "            .where(df_2015.pickup_latitude > lat_min).where(df_2015.pickup_latitude < lat_max)\n",
    "\n",
    "df2.select('trip_distance', 'total_amount').describe().show()"
   ]
  },
  {
   "cell_type": "code",
   "execution_count": null,
   "metadata": {
    "ExecuteTime": {
     "end_time": "2022-03-12T18:13:31.564388Z",
     "start_time": "2022-03-12T18:13:29.367934Z"
    }
   },
   "outputs": [],
   "source": [
    "# 3.\n",
    "df3 = df_2015.select('trip_distance').describe()\n",
    "df3.show()\n",
    "\n",
    "df31 = df_2015.where(df_2015.trip_distance > 3008331).select('pickup_longitude', 'pickup_latitude', 'dropoff_longitude', 'dropoff_latitude', 'passenger_count', 'trip_distance', 'total_amount')\n",
    "df31.show()"
   ]
  },
  {
   "cell_type": "code",
   "execution_count": null,
   "metadata": {
    "ExecuteTime": {
     "end_time": "2022-03-12T18:13:37.813317Z",
     "start_time": "2022-03-12T18:13:31.566812Z"
    }
   },
   "outputs": [],
   "source": [
    "# 4.\n",
    "df4 = df_2015.select(df_2015.trip_distance)\\\n",
    "            .where(df_2015.trip_distance != 0).where(df_2015.trip_distance < 30)\n",
    "\n",
    "fig = px.histogram(df4.sample(0.1).toPandas(), nbins=100)\n",
    "fig.show()"
   ]
  },
  {
   "cell_type": "markdown",
   "metadata": {},
   "source": [
    "Let's look at what Spark does for these computations\n",
    "\n",
    "1. Use the `explain` method or have a look at the [Spark UI](http://localhost:4040/SQL/) to analyze the job. You should be able to assess \n",
    "    - Parsed Logical Plan\n",
    "    - Analyzed Logical Plan\n",
    "    - Optimized Logical Plan\n",
    "    - Physical Plan\n",
    "1. Do the Analyzed Logical Plan and Optimized Logical Plan differ? Spot the differences if any. How would a RDBMS proceed with such a query?\n",
    "1. How does the physical plan differ from the Optimized Logical Plan? What are the keywords you would not expects in a RDBMS? What is their meaning? \n",
    "1. Inspect the stages on [Spark UI](http://localhost:4040/stages/stage). How many *stages* are necessary to complete the Spark job? What are the roles of `HashAggregate` and `Exchange hashpartitioning`?\n",
    "1. Does the physical plan perform `shuffle` operations? If yes how many?\n",
    "1. What are tasks with respect to stages (in Spark language)? How many tasks are your stages made of?"
   ]
  },
  {
   "cell_type": "code",
   "execution_count": null,
   "metadata": {
    "ExecuteTime": {
     "end_time": "2022-03-12T17:18:54.517417Z",
     "start_time": "2022-03-12T17:18:54.473996Z"
    }
   },
   "outputs": [],
   "source": [
    "# 1\n",
    "df1.explain(extended=True)\n",
    "df2.explain(extended=True)\n",
    "df3.explain(extended=True)\n",
    "df31.explain(extended=True)\n",
    "df4.explain(extended=True)\n",
    "\n",
    "# 2\n",
    "# For the previous query, it differs by using only one filter on the optimized plan,\n",
    "# while on the analyzed and logical plan the RDBMS will use two filters : one after the other,\n",
    "# then a projection as for df2 for instance.\n",
    "\n",
    "# 3 \n",
    "# Spark in the physical plan decides which is the best strategy to use after it generated the logical plan,\n",
    "# the key words are PartitionFilters, PushedFilters (which are list of the filter used in that plan) and ReadSchema.\n",
    "\n",
    "# 4\n",
    "# Only one is necessary to complete the Spark job.\n",
    "\n",
    "# 5\n",
    "# No, because its a narrow transformation, using filter only, and no index as in a join."
   ]
  },
  {
   "cell_type": "markdown",
   "metadata": {
    "nteract": {
     "transient": {
      "deleting": false
     }
    }
   },
   "source": [
    "Now, compute the following and produce relevant plots:\n",
    "\n",
    "1. Break down the trip distance distribution for each day of week\n",
    "1. Count the number of distinct pickup location\n",
    "1. Compute and display tips and profits as a function of the pickup location"
   ]
  },
  {
   "cell_type": "code",
   "execution_count": null,
   "metadata": {
    "ExecuteTime": {
     "end_time": "2022-03-11T19:21:21.337239Z",
     "start_time": "2022-03-11T19:21:12.036055Z"
    },
    "scrolled": false
   },
   "outputs": [],
   "source": [
    "# 1.\n",
    "df = df_2015.select('tpep_pickup_datetime', 'trip_distance')\n",
    "df = df.withColumn('day', fn.when(fn.dayofweek(df.tpep_pickup_datetime) == 1, \"Monday\")\\\n",
    "                          .when(fn.dayofweek(df.tpep_pickup_datetime) == 2, \"Tuesday\")\\\n",
    "                          .when(fn.dayofweek(df.tpep_pickup_datetime) == 3, \"Wenesday\")\\\n",
    "                          .when(fn.dayofweek(df.tpep_pickup_datetime) == 4, \"Thursday\")\\\n",
    "                          .when(fn.dayofweek(df.tpep_pickup_datetime) == 5, \"Friday\")\\\n",
    "                          .when(fn.dayofweek(df.tpep_pickup_datetime) == 6, \"Saturday\")\\\n",
    "                          .when(fn.dayofweek(df.tpep_pickup_datetime) == 7, \"Sunday\")\\\n",
    "                          .otherwise(None))\\\n",
    "                          .drop('tpep_pickup_datetime')\n",
    "\n",
    "fig = px.histogram(df.sample(0.1).toPandas(), x=\"trip_distance\", animation_frame=\"day\", nbins=200)\n",
    "fig.show()"
   ]
  },
  {
   "cell_type": "code",
   "execution_count": null,
   "metadata": {
    "ExecuteTime": {
     "end_time": "2022-03-12T18:13:49.067530Z",
     "start_time": "2022-03-12T18:13:37.815850Z"
    }
   },
   "outputs": [],
   "source": [
    "# 2.\n",
    "df = df_2015.groupBy('pickup_longitude', 'pickup_latitude').count().count()\n",
    "print(f'There is {df} distinct pickup locations.')"
   ]
  },
  {
   "cell_type": "code",
   "execution_count": null,
   "metadata": {
    "ExecuteTime": {
     "end_time": "2022-03-12T17:33:42.827796Z",
     "start_time": "2022-03-12T17:33:08.983809Z"
    }
   },
   "outputs": [],
   "source": [
    "# 3.\n",
    "df = df_2015.where(df_2015.pickup_longitude > long_min).where(df_2015.pickup_longitude < long_max)\\\n",
    "            .where(df_2015.pickup_latitude > lat_min).where(df_2015.pickup_latitude < lat_max)\\\n",
    "            .where(df_2015.total_amount >= 0)\\\n",
    "            .where(df_2015.tip_amount >= 0)\\\n",
    "            .select('pickup_longitude', 'pickup_latitude', 'tip_amount', 'total_amount')\n",
    "\n",
    "fig = px.scatter(df.sample(0.1).toPandas(), x=\"pickup_latitude\", y=\"pickup_longitude\", size='total_amount')\n",
    "fig.show()\n",
    "\n",
    "fig = px.scatter(df.sample(0.1).toPandas(), x=\"pickup_latitude\", y=\"pickup_longitude\", size='tip_amount')\n",
    "fig.show()"
   ]
  },
  {
   "cell_type": "markdown",
   "metadata": {
    "nteract": {
     "transient": {
      "deleting": false
     }
    }
   },
   "source": [
    "# Investigate one month of trips data in 2015 and 2018\n",
    "\n",
    " Consider one month of trips data from `yellow` taxis for each year\n",
    "\n",
    "1. Filter and cache/persist the result\n",
    "\n",
    "## Assessing seasonalities and looking at time series\n",
    "\n",
    "Compute and plot the following time series indexed by day of the week and hour of day:\n",
    "\n",
    "1. The number of pickups\n",
    "1. The average fare\n",
    "1. The average trip duration\n",
    "1. Plot the average of ongoing trips"
   ]
  },
  {
   "cell_type": "code",
   "execution_count": null,
   "metadata": {
    "ExecuteTime": {
     "end_time": "2022-03-11T19:22:17.924832Z",
     "start_time": "2022-03-11T19:22:10.590420Z"
    }
   },
   "outputs": [],
   "source": [
    "# 3.1.1 - 2015\n",
    "\n",
    "df_days_2015 = df_2015.withColumn('hour', fn.hour(df_2015.tpep_pickup_datetime))\\\n",
    "                 .withColumn('day', fn.dayofweek(df_2015.tpep_pickup_datetime))\\\n",
    "                 .withColumn('day_week', fn.when(fn.dayofweek(df_2015.tpep_pickup_datetime) == 1, \"Monday\")\\\n",
    "                          .when(fn.dayofweek(df_2015.tpep_pickup_datetime) == 2, \"Tuesday\")\\\n",
    "                          .when(fn.dayofweek(df_2015.tpep_pickup_datetime) == 3, \"Wenesday\")\\\n",
    "                          .when(fn.dayofweek(df_2015.tpep_pickup_datetime) == 4, \"Thursday\")\\\n",
    "                          .when(fn.dayofweek(df_2015.tpep_pickup_datetime) == 5, \"Friday\")\\\n",
    "                          .when(fn.dayofweek(df_2015.tpep_pickup_datetime) == 6, \"Saturday\")\\\n",
    "                          .when(fn.dayofweek(df_2015.tpep_pickup_datetime) == 7, \"Sunday\")\\\n",
    "                          .otherwise(None))\\\n",
    "\n",
    "df = df_days_2015.groupBy('day', 'hour', 'day_week').count().orderBy('day', 'hour')\n",
    "\n",
    "fig = px.histogram(df.toPandas(), x='hour', y='count', animation_frame='day_week', nbins=24)\n",
    "fig.show()"
   ]
  },
  {
   "cell_type": "code",
   "execution_count": null,
   "metadata": {
    "ExecuteTime": {
     "end_time": "2022-03-11T19:22:24.470796Z",
     "start_time": "2022-03-11T19:22:17.927586Z"
    }
   },
   "outputs": [],
   "source": [
    "# 3.1.1 - 2018\n",
    "\n",
    "df_days_2018 = df_2018.withColumn('hour', fn.hour(df_2018.tpep_pickup_datetime))\\\n",
    "                 .withColumn('day', fn.dayofweek(df_2018.tpep_pickup_datetime))\\\n",
    "                 .withColumn('day_week', fn.when(fn.dayofweek(df_2018.tpep_pickup_datetime) == 1, \"Monday\")\\\n",
    "                          .when(fn.dayofweek(df_2018.tpep_pickup_datetime) == 2, \"Tuesday\")\\\n",
    "                          .when(fn.dayofweek(df_2018.tpep_pickup_datetime) == 3, \"Wenesday\")\\\n",
    "                          .when(fn.dayofweek(df_2018.tpep_pickup_datetime) == 4, \"Thursday\")\\\n",
    "                          .when(fn.dayofweek(df_2018.tpep_pickup_datetime) == 5, \"Friday\")\\\n",
    "                          .when(fn.dayofweek(df_2018.tpep_pickup_datetime) == 6, \"Saturday\")\\\n",
    "                          .when(fn.dayofweek(df_2018.tpep_pickup_datetime) == 7, \"Sunday\")\\\n",
    "                          .otherwise(None))\\\n",
    "\n",
    "df = df_days_2018.groupBy('day', 'hour', 'day_week').count().orderBy('day', 'hour')\n",
    "\n",
    "fig = px.histogram(df.toPandas(), x='hour', y='count', animation_frame='day_week', nbins=24)\n",
    "fig.show()"
   ]
  },
  {
   "cell_type": "code",
   "execution_count": null,
   "metadata": {
    "ExecuteTime": {
     "end_time": "2022-03-11T19:22:30.649316Z",
     "start_time": "2022-03-11T19:22:24.473367Z"
    }
   },
   "outputs": [],
   "source": [
    "# 3.1.2 - 2015\n",
    "\n",
    "df = df_days_2015.groupBy('day', 'hour', 'day_week').avg('fare_amount').orderBy('day', 'hour')\n",
    "\n",
    "fig = px.line(df.toPandas(), x='hour', y='avg(fare_amount)', animation_frame='day_week')\n",
    "fig.show()"
   ]
  },
  {
   "cell_type": "code",
   "execution_count": null,
   "metadata": {
    "ExecuteTime": {
     "end_time": "2022-03-11T19:22:36.857365Z",
     "start_time": "2022-03-11T19:22:30.652384Z"
    }
   },
   "outputs": [],
   "source": [
    "# 3.1.2 - 2018\n",
    "\n",
    "df = df_days_2018.groupBy('day', 'hour', 'day_week').avg('fare_amount').orderBy('day', 'hour')\n",
    "\n",
    "fig = px.line(df.toPandas(), x='hour', y='avg(fare_amount)', animation_frame='day_week')\n",
    "fig.show()"
   ]
  },
  {
   "cell_type": "code",
   "execution_count": null,
   "metadata": {
    "ExecuteTime": {
     "end_time": "2022-03-11T19:22:43.464463Z",
     "start_time": "2022-03-11T19:22:36.859179Z"
    }
   },
   "outputs": [],
   "source": [
    "# 3.1.3 - 2015\n",
    "df = df_days_2015.withColumn('time_duration', (col(\"tpep_dropoff_datetime\").cast(\"long\") - col('tpep_pickup_datetime').cast(\"long\")) / 60)\n",
    "df = df.where(df.time_duration > 0).groupBy('day', 'hour', 'day_week').avg('time_duration').orderBy('day', 'hour')\n",
    "\n",
    "fig = px.line(df.toPandas(), x='hour', y='avg(time_duration)', animation_frame='day_week')\n",
    "fig.show()"
   ]
  },
  {
   "cell_type": "code",
   "execution_count": null,
   "metadata": {
    "ExecuteTime": {
     "end_time": "2022-03-11T19:22:49.287022Z",
     "start_time": "2022-03-11T19:22:43.466241Z"
    }
   },
   "outputs": [],
   "source": [
    "# 3.1.3 - 2018\n",
    "df = df_days_2018.withColumn('time_duration', (col(\"tpep_dropoff_datetime\").cast(\"long\") - col('tpep_pickup_datetime').cast(\"long\")) / 60)\n",
    "df = df.where(df.time_duration > 0).groupBy('day', 'hour', 'day_week').avg('time_duration').orderBy('day', 'hour')\n",
    "\n",
    "fig = px.line(df.toPandas(), x='hour', y='avg(time_duration)', animation_frame='day_week')\n",
    "fig.show()"
   ]
  },
  {
   "cell_type": "markdown",
   "metadata": {},
   "source": [
    "## Rides to the airports\n",
    "\n",
    "In order to find the longitude and lattitude of JFK and Newark airport as well as the longitude and magnitudes \n",
    "of Manhattan, you can use a service like [geojson.io](http://geojson.io/).\n",
    "Plot the following time series, indexed the day of the week and hour of the day\n",
    "\n",
    "1. Median duration of taxi trip leaving Midtown (Southern Manhattan) headed for JFK Airport\n",
    "1. Median taxi duration of trip leaving from JFK Airport to Midtown (Southern Manhattan)"
   ]
  },
  {
   "cell_type": "code",
   "execution_count": null,
   "metadata": {
    "ExecuteTime": {
     "end_time": "2022-03-12T18:14:09.430560Z",
     "start_time": "2022-03-12T18:14:07.312170Z"
    }
   },
   "outputs": [],
   "source": [
    "# 3.2.1 - 2015\n",
    "\n",
    "long_min_JFK = -73.82366180419922\n",
    "long_max_JFK = -73.7431526184082\n",
    "lat_min_JFK = 40.61799193991041\n",
    "lat_max_JFK = 40.66944158747386\n",
    "\n",
    "long_min_MT = -74.01403427124023\n",
    "long_max_MT = -73.9548110961914\n",
    "lat_min_MT = 40.7304783951045\n",
    "lat_max_MT = 40.77430186363723\n",
    "\n",
    "df_jfk_to_midtown = df_2015.where(df_2015.pickup_longitude > long_min_JFK).where(df_2015.pickup_longitude < long_max_JFK)\\\n",
    "                           .where(df_2015.pickup_latitude > lat_min_JFK).where(df_2015.pickup_latitude < lat_max_JFK)\\\n",
    "                           .where(df_2015.dropoff_longitude > long_min_MT).where(df_2015.dropoff_longitude < long_max_MT)\\\n",
    "                           .where(df_2015.dropoff_latitude > lat_min_MT).where(df_2015.dropoff_latitude < lat_max_MT)\n",
    "df_jfk_to_midtown = df_jfk_to_midtown.withColumn('time_duration', (col(\"tpep_dropoff_datetime\").cast(\"long\") - col('tpep_pickup_datetime').cast(\"long\")) / 60)\n",
    "\n",
    "print('Median duration of taxi trip leaving Midtown headed for JFK Airport in 2015 : {:.2f} minutes.'.format(df_jfk_to_midtown.approxQuantile(\"time_duration\", [0.5], 0.1)[0]))"
   ]
  },
  {
   "cell_type": "code",
   "execution_count": null,
   "metadata": {
    "ExecuteTime": {
     "end_time": "2022-03-12T18:14:11.046404Z",
     "start_time": "2022-03-12T18:14:09.432276Z"
    }
   },
   "outputs": [],
   "source": [
    "# 3.2.1 - 2018\n",
    "\n",
    "jfk_code = 132\n",
    "midtown_codes = [48, 50, 68, 90, 100, 107, 137, 161, 162, 163, 164, 170, 186, 224, 229, 230, 233, 234, 246]\n",
    "\n",
    "df_jfk_to_midtown = df_2018.where(df_2018.DOLocationID.isin(midtown_codes))\n",
    "df_jfk_to_midtown = df_jfk_to_midtown.where(df_2018.PULocationID == jfk_code)\n",
    "df_jfk_to_midtown = df_jfk_to_midtown.withColumn('time_duration', (col(\"tpep_dropoff_datetime\").cast(\"long\") - col('tpep_pickup_datetime').cast(\"long\")) / 60)\n",
    "\n",
    "print('Median duration of taxi trip leaving Midtown headed for JFK Airport in 2018 : {:.2f} minutes.'.format(df_jfk_to_midtown.approxQuantile(\"time_duration\", [0.5], 0.1)[0]))\n"
   ]
  },
  {
   "cell_type": "code",
   "execution_count": null,
   "metadata": {
    "ExecuteTime": {
     "end_time": "2022-03-12T18:14:13.147837Z",
     "start_time": "2022-03-12T18:14:11.048391Z"
    }
   },
   "outputs": [],
   "source": [
    "# 3.2.2 - 2015\n",
    "\n",
    "df_midtown_to_jfk = df_2015.where(df_2015.pickup_longitude > long_min_MT).where(df_2015.pickup_longitude < long_max_MT)\\\n",
    "                           .where(df_2015.pickup_latitude > lat_min_MT).where(df_2015.pickup_latitude < lat_max_MT)\\\n",
    "                           .where(df_2015.dropoff_longitude > long_min_JFK).where(df_2015.dropoff_longitude < long_max_JFK)\\\n",
    "                           .where(df_2015.dropoff_latitude > lat_min_JFK).where(df_2015.dropoff_latitude < lat_max_JFK)\n",
    "df_midtown_to_jfk = df_midtown_to_jfk.withColumn('time_duration', (col(\"tpep_dropoff_datetime\").cast(\"long\") - col('tpep_pickup_datetime').cast(\"long\")) / 60)\n",
    "\n",
    "print('Median taxi duration of trip leaving from JFK Airport to Midtown in 2015 : {:.2f} minutes.'.format(df_midtown_to_jfk.approxQuantile(\"time_duration\", [0.5], 0.1)[0]))"
   ]
  },
  {
   "cell_type": "code",
   "execution_count": null,
   "metadata": {
    "ExecuteTime": {
     "end_time": "2022-03-12T18:14:14.642234Z",
     "start_time": "2022-03-12T18:14:13.149784Z"
    }
   },
   "outputs": [],
   "source": [
    "# 3.2.2 - 2018\n",
    "\n",
    "df_midtown_to_jfk = df_2018.where(df_2018.PULocationID.isin(midtown_codes))\n",
    "df_midtown_to_jfk = df_midtown_to_jfk.where(df_2018.DOLocationID == jfk_code)\n",
    "df_midtown_to_jfk = df_midtown_to_jfk.withColumn('time_duration', (col(\"tpep_dropoff_datetime\").cast(\"long\") - col('tpep_pickup_datetime').cast(\"long\")) / 60)\n",
    "\n",
    "print('Median duration of taxi trip leaving Midtown headed for JFK Airport in 2018 : {:.2f} minutes.'.format(df_jfk_to_midtown.approxQuantile(\"time_duration\", [0.5], 0.1)[0]))"
   ]
  },
  {
   "cell_type": "markdown",
   "metadata": {},
   "source": [
    "## Geographic information\n",
    "\n",
    "For this, you will need to find tools to display maps and to build choropeth maps.\n",
    "We let you look and find relevant tools to do this.\n",
    "\n",
    "1. Build a heatmap where color is a function of\n",
    "    1. number of `pickups`\n",
    "    2. number of `dropoffs`\n",
    "    3. number of `pickups` with dropoff at some airport (JFK, LaGuardia, Newark)\n",
    "2. Build a choropeth map where color is a function of\n",
    "    1. number of pickups in the area\n",
    "    1. ratio of number of payments by card/number of cash payments for pickups in the area\n",
    "    2. ratio of total fare/trip duration for dropoff in the area\n",
    "3. Build an interactive chorophet with a slider allowing the user to select an `hour of day` and where the color is a function of\n",
    "    1. average number of dropoffs in the area during that hour the day\n",
    "    2. average ratio of tip over total fare amount for pickups in the area at given hour of the day"
   ]
  },
  {
   "cell_type": "code",
   "execution_count": null,
   "metadata": {},
   "outputs": [],
   "source": [
    "# DISCLAIMER 2\n",
    "\n",
    "# Nous n'avons fait que les questions de la partie 1 avec le dataset de 2015 et seulement les questions\n",
    "# des parties 2 et 3 avec le dataset de 2018.\n",
    "\n",
    "# La raison est que le dataset de 2015 contient seulement les coordonées géographiques et celui de 2018\n",
    "# seulement les ID des taxis zones.\n",
    "\n",
    "# Convertir les coordonées en taxis zones est potentiellement faisable, mais requiert beaucoup de temps et de code\n",
    "# très répétitif.\n",
    "# Convertir les taxis zones en coordonées est plus facile, mais résulterait en une perte d'information conséquente :\n",
    "# les coordonées de chaque zone seraient les mêmes, les locations seraient donc tous assemblées par zones."
   ]
  },
  {
   "cell_type": "code",
   "execution_count": null,
   "metadata": {
    "ExecuteTime": {
     "end_time": "2022-03-13T17:18:04.651929Z",
     "start_time": "2022-03-13T17:17:54.086269Z"
    },
    "scrolled": false
   },
   "outputs": [],
   "source": [
    "# 3.3.1.A - 2015\n",
    "\n",
    "fig = px.density_mapbox(df_2015.sample(0.02).toPandas(), lat='pickup_latitude', lon='pickup_longitude', radius=1,\n",
    "                        center=dict(lat=40.72, lon=-73.87), zoom=10,\n",
    "                        mapbox_style=\"carto-darkmatter\")\n",
    "fig.update_layout(margin={\"r\":0,\"t\":0,\"l\":0,\"b\":0})\n",
    "fig.show()"
   ]
  },
  {
   "cell_type": "code",
   "execution_count": null,
   "metadata": {
    "ExecuteTime": {
     "end_time": "2022-03-11T19:23:11.045898Z",
     "start_time": "2022-03-11T19:23:03.188212Z"
    }
   },
   "outputs": [],
   "source": [
    "# 3.3.1.B - 2015\n",
    "\n",
    "fig = px.density_mapbox(df_2015.sample(0.02).toPandas(), lat='dropoff_latitude', lon='dropoff_longitude', radius=1,\n",
    "                        center=dict(lat=40.72, lon=-73.87), zoom=10,\n",
    "                        mapbox_style=\"carto-darkmatter\")\n",
    "fig.update_layout(margin={\"r\":0,\"t\":0,\"l\":0,\"b\":0})\n",
    "fig.show()"
   ]
  },
  {
   "cell_type": "code",
   "execution_count": null,
   "metadata": {
    "ExecuteTime": {
     "end_time": "2022-03-13T17:18:36.219400Z",
     "start_time": "2022-03-13T17:18:30.616905Z"
    }
   },
   "outputs": [],
   "source": [
    "# 3.3.1.C - 2015\n",
    "\n",
    "long_min_JFK = -73.82366180419922\n",
    "long_max_JFK = -73.7431526184082\n",
    "lat_min_JFK = 40.61799193991041\n",
    "lat_max_JFK = 40.66944158747386\n",
    "\n",
    "long_min_LG = -73.89344215393066\n",
    "long_max_LG = -73.8507843017578\n",
    "lat_min_LG = 40.764746389047964\n",
    "lat_max_LG = 40.787365288545566\n",
    "\n",
    "long_min_NW = -74.19427871704102\n",
    "long_max_NW = -74.15033340454102\n",
    "lat_min_NW = 40.66918118282895\n",
    "lat_max_NW = 40.711483593215306\n",
    " \n",
    "df_FJK = df_2015.where(df_2015.pickup_longitude > long_min_JFK).where(df_2015.pickup_longitude < long_max_JFK)\\\n",
    "                .where(df_2015.pickup_latitude > lat_min_JFK).where(df_2015.pickup_latitude < lat_max_JFK)\n",
    "\n",
    "df_LG = df_2015.where(df_2015.pickup_longitude > long_min_LG).where(df_2015.pickup_longitude < long_max_LG)\\\n",
    "                .where(df_2015.pickup_latitude > lat_min_LG).where(df_2015.pickup_latitude < lat_max_LG)\n",
    "\n",
    "df_NW = df_2015.where(df_2015.pickup_longitude > long_min_NW).where(df_2015.pickup_longitude < long_max_NW)\\\n",
    "                .where(df_2015.pickup_latitude > lat_min_NW).where(df_2015.pickup_latitude < lat_max_NW)\n",
    "\n",
    "\n",
    "df = df_FJK.union(df_LG).union(df_NW)\n",
    "df = df.select('dropoff_latitude', 'dropoff_longitude')\n",
    "\n",
    "fig = px.density_mapbox(df.sample(0.3).toPandas(), lat='dropoff_latitude', lon='dropoff_longitude', radius=1,\n",
    "                        center=dict(lat=40.72, lon=-73.87), zoom=10,\n",
    "                        mapbox_style=\"carto-darkmatter\")\n",
    "fig.update_layout(margin={\"r\":0,\"t\":0,\"l\":0,\"b\":0})\n",
    "fig.show()"
   ]
  },
  {
   "cell_type": "code",
   "execution_count": null,
   "metadata": {
    "ExecuteTime": {
     "end_time": "2022-03-13T17:20:02.540937Z",
     "start_time": "2022-03-13T17:19:56.919369Z"
    },
    "scrolled": false
   },
   "outputs": [],
   "source": [
    "# 3.3.2.A - 2018\n",
    "\n",
    "# On charge les données GéoJSON des zones de New York\n",
    "# Source : https://data.cityofnewyork.us/api/geospatial/d3c5-ddgc?method=export&format=GeoJSON\n",
    "location = json.load(open('nyc_taxi_zones.geojson', 'r'))\n",
    "\n",
    "# On compte le nombre de pickup dans chaque zone et on complete avec des 0 pour les zones vides\n",
    "df = df_2018.groupBy('PULocationID').count()\n",
    "df_zeros = spark.createDataFrame(\n",
    "    [\n",
    "        (103, 0),\n",
    "        (104, 0),\n",
    "        (110, 0)\n",
    "    ],\n",
    "    StructType(\n",
    "        [\n",
    "            StructField(\"PULocationID\", IntegerType(), True),\n",
    "            StructField(\"count\", LongType(), True),\n",
    "        ]\n",
    "    ),\n",
    ")\n",
    "df = df.union(df_zeros).orderBy('PULocationID')\n",
    "\n",
    "fig = px.choropleth_mapbox(df.toPandas(), geojson=location, featureidkey='properties.location_id', locations='PULocationID', color='count',\n",
    "                           mapbox_style=\"carto-positron\",\n",
    "                           zoom=10, center = {\"lat\": 40.72, \"lon\": -73.87},\n",
    "                           opacity=0.5)\n",
    "fig.update_layout(margin={\"r\":0,\"t\":0,\"l\":0,\"b\":0})\n",
    "fig.show()"
   ]
  },
  {
   "cell_type": "code",
   "execution_count": null,
   "metadata": {
    "ExecuteTime": {
     "end_time": "2022-03-13T17:20:58.861832Z",
     "start_time": "2022-03-13T17:20:51.447460Z"
    }
   },
   "outputs": [],
   "source": [
    "# 3.3.2.B - 2018\n",
    "\n",
    "df = df_2018.select('PULocationID', 'payment_type').where(df_2018.payment_type <= 2)\n",
    "df = df.groupBy('PULocationID', 'payment_type').count()\n",
    "\n",
    "dff = spark.range(1, 266).withColumnRenamed('id', 'PULocationID')\n",
    "dfff = spark.range(1,3).withColumnRenamed('id', 'payment_type')\n",
    "dff = dff.crossJoin(dfff)\n",
    "dgg = spark.range(0,1).withColumnRenamed('id', 'cc')\n",
    "dff = dff.crossJoin(dgg)\n",
    "df = dff.join(df, on=['PULocationID', 'payment_type'], how='left')\n",
    "df = df.orderBy('PULocationID', 'payment_type').withColumnRenamed('count', 'tot')\n",
    "df = df.withColumn('total', fn.when(df['tot'].isNull(), df.cc).otherwise(df.tot)).drop('cc', 'tot')\n",
    "df_1 = df.where(df.payment_type == 1).orderBy('PULocationID').withColumnRenamed('total', 'total_1').drop('payment_type')\n",
    "df_2 = df.where(df.payment_type == 2).orderBy('PULocationID').withColumnRenamed('total', 'total_2').drop('payment_type')\n",
    "\n",
    "df = df_1.join(df_2, on=['PULocationID'])\n",
    "df = df.withColumn('ratio', df.total_1 / (df.total_1 + df.total_2)).orderBy('PULocationID').drop('total_1', 'total_2')\n",
    "\n",
    "fig = px.choropleth_mapbox(df.toPandas(), geojson=location, featureidkey='properties.location_id', locations='PULocationID', color='ratio',\n",
    "                           mapbox_style=\"carto-positron\",\n",
    "                           zoom=10, center = {\"lat\": 40.72, \"lon\": -73.87},\n",
    "                           opacity=0.5)\n",
    "fig.update_layout(margin={\"r\":0,\"t\":0,\"l\":0,\"b\":0})\n",
    "fig.show()"
   ]
  },
  {
   "cell_type": "code",
   "execution_count": null,
   "metadata": {
    "ExecuteTime": {
     "end_time": "2022-03-12T16:42:26.374099Z",
     "start_time": "2022-03-12T16:42:22.714154Z"
    }
   },
   "outputs": [],
   "source": [
    "# 3.3.2.C - 2018\n",
    "\n",
    "df = df_2018.select('DOLocationID', 'tpep_pickup_datetime', 'tpep_dropoff_datetime', 'fare_amount')\n",
    "df = df.withColumn('time_duration', (col(\"tpep_dropoff_datetime\").cast(\"long\") - col('tpep_pickup_datetime').cast(\"long\")) / 60)\n",
    "df = df.groupBy('DOLocationID').sum('fare_amount', 'time_duration')\n",
    "\n",
    "df = df.withColumn('ratio', df['sum(fare_amount)'] / df['sum(time_duration)'])\n",
    "df = df.drop('sum(fare_amount)', 'sum(time_duration)')\n",
    "\n",
    "fig = px.choropleth_mapbox(df.toPandas(), geojson=location, featureidkey='properties.location_id', locations='DOLocationID', color='ratio',\n",
    "                           mapbox_style=\"carto-positron\",\n",
    "                           zoom=10, center = {\"lat\": 40.72, \"lon\": -73.87},\n",
    "                           opacity=0.5)\n",
    "fig.update_layout(margin={\"r\":0,\"t\":0,\"l\":0,\"b\":0})\n",
    "fig.show()"
   ]
  },
  {
   "cell_type": "code",
   "execution_count": null,
   "metadata": {
    "ExecuteTime": {
     "end_time": "2022-03-12T17:04:09.815876Z",
     "start_time": "2022-03-12T17:03:20.627829Z"
    }
   },
   "outputs": [],
   "source": [
    "# 3.3.3.A - 2018\n",
    "\n",
    "df = df_2018.select('DOLocationID', 'tpep_dropoff_datetime')\n",
    "df = df.withColumn('hour', fn.hour(df.tpep_dropoff_datetime))\n",
    "df = df.drop('tpep_dropoff_datetime').groupBy('DOLocationID', 'hour').count()\n",
    "df = df.orderBy('DOLocationID', 'hour')\n",
    "\n",
    "fig = px.choropleth_mapbox(df.toPandas(), geojson=location, featureidkey='properties.location_id', locations='DOLocationID', color='count',\n",
    "                           mapbox_style=\"carto-positron\", animation_frame='hour',\n",
    "                           zoom=10, center = {\"lat\": 40.72, \"lon\": -73.87},\n",
    "                           opacity=0.5)\n",
    "fig.update_layout(margin={\"r\":0,\"t\":0,\"l\":0,\"b\":0})\n",
    "fig.show()"
   ]
  },
  {
   "cell_type": "code",
   "execution_count": null,
   "metadata": {
    "ExecuteTime": {
     "start_time": "2022-03-13T17:22:07.616Z"
    }
   },
   "outputs": [],
   "source": [
    "# 3.3.3.B - 2018\n",
    "\n",
    "df = df_2018.select('PULocationID', 'tpep_pickup_datetime', 'fare_amount', 'tip_amount')\n",
    "df = df.withColumn('hour', fn.hour(df.tpep_pickup_datetime)).drop('tpep_pickup_datetime') \n",
    "df = df.withColumn('ratio', df.tip_amount / df.fare_amount).drop('fare_amount', 'tip_amount')\n",
    "df = df.groupBy('PULocationID', 'hour').avg('ratio').withColumnRenamed('avg(ratio)', 'ratio')\n",
    "df = df.orderBy('PULocationID', 'hour')\n",
    "\n",
    "fig = px.choropleth_mapbox(df.toPandas(), geojson=location, featureidkey='properties.location_id', locations='PULocationID', color='ratio',\n",
    "                           mapbox_style=\"carto-positron\", animation_frame='hour',\n",
    "                           zoom=10, center = {\"lat\": 40.72, \"lon\": -73.87},\n",
    "                           opacity=0.5)\n",
    "fig.update_layout(margin={\"r\":0,\"t\":0,\"l\":0,\"b\":0})\n",
    "fig.show()"
   ]
  }
 ],
 "metadata": {
  "kernelspec": {
   "display_name": "Python 3",
   "language": "python",
   "name": "python3"
  },
  "language_info": {
   "codemirror_mode": {
    "name": "ipython",
    "version": 3
   },
   "file_extension": ".py",
   "mimetype": "text/x-python",
   "name": "python",
   "nbconvert_exporter": "python",
   "pygments_lexer": "ipython3",
   "version": "3.8.5"
  },
  "toc": {
   "base_numbering": 1,
   "nav_menu": {},
   "number_sections": true,
   "sideBar": true,
   "skip_h1_title": false,
   "title_cell": "Table of Contents",
   "title_sidebar": "Contents",
   "toc_cell": false,
   "toc_position": {
    "height": "calc(100% - 180px)",
    "left": "10px",
    "top": "150px",
    "width": "165px"
   },
   "toc_section_display": true,
   "toc_window_display": true
  }
 },
 "nbformat": 4,
 "nbformat_minor": 1
}
